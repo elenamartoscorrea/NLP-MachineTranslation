{
 "cells": [
  {
   "cell_type": "markdown",
   "metadata": {},
   "source": [
    "### Import Required Libraries"
   ]
  },
  {
   "cell_type": "code",
   "execution_count": 1,
   "metadata": {},
   "outputs": [
    {
     "name": "stderr",
     "output_type": "stream",
     "text": [
      "Using TensorFlow backend.\n"
     ]
    }
   ],
   "source": [
    "import string\n",
    "import re\n",
    "from numpy import array, argmax, random, take\n",
    "import pandas as pd\n",
    "from keras.models import Sequential\n",
    "from keras.layers import Dense, LSTM, Embedding, Bidirectional, RepeatVector, TimeDistributed, GRU\n",
    "from keras.preprocessing.text import Tokenizer\n",
    "from keras.callbacks import ModelCheckpoint, EarlyStopping\n",
    "from keras.preprocessing.sequence import pad_sequences\n",
    "from keras.models import load_model\n",
    "from keras import optimizers\n",
    "import matplotlib.pyplot as plt\n",
    "pd.set_option('display.max_colwidth', 200)"
   ]
  },
  {
   "cell_type": "markdown",
   "metadata": {},
   "source": [
    "### Read Data"
   ]
  },
  {
   "cell_type": "markdown",
   "metadata": {},
   "source": [
    "Our data is a text file of Spanish-English sentence pairs. First we will read the file using the function defined below."
   ]
  },
  {
   "cell_type": "code",
   "execution_count": 2,
   "metadata": {},
   "outputs": [],
   "source": [
    "# function to read raw text file\n",
    "def read_text(filename):\n",
    "    # open the file\n",
    "    file = open(filename, mode='rt', encoding='utf-8')\n",
    "    # read all text\n",
    "    text = file.read()\n",
    "    file.close()\n",
    "    return text"
   ]
  },
  {
   "cell_type": "markdown",
   "metadata": {},
   "source": [
    "Now let's define a function to split the text into Spanish-English pairs separated by '\\n' and then split these pairs into English sentences and German sentences."
   ]
  },
  {
   "cell_type": "code",
   "execution_count": 3,
   "metadata": {},
   "outputs": [],
   "source": [
    "# split a text into sentences\n",
    "def to_lines(text):\n",
    "    sents = text.strip().split('\\n')\n",
    "    sents = [i.split('\\t') for i in sents]\n",
    "    return sents"
   ]
  },
  {
   "cell_type": "code",
   "execution_count": 4,
   "metadata": {},
   "outputs": [],
   "source": [
    "data = read_text(\"spa-eng/spa.txt\")\n",
    "spa_eng = to_lines(data)\n",
    "spa_eng = array(spa_eng)"
   ]
  },
  {
   "cell_type": "code",
   "execution_count": 5,
   "metadata": {},
   "outputs": [
    {
     "data": {
      "text/plain": [
       "(123770, 3)"
      ]
     },
     "execution_count": 5,
     "metadata": {},
     "output_type": "execute_result"
    }
   ],
   "source": [
    "spa_eng.shape"
   ]
  },
  {
   "cell_type": "markdown",
   "metadata": {},
   "source": [
    "Estos datos tienen un total de 123,770 pares de oraciones.  Sin embargo, utilizaremos los primeros 70,000 pares de oraciones solo para reducir el tiempo de entrenamiento del modelo. Puede cambiar este número según la potencia de cálculo del sistema."
   ]
  },
  {
   "cell_type": "code",
   "execution_count": 7,
   "metadata": {},
   "outputs": [],
   "source": [
    "spa_eng = spa_eng[:70000,:]"
   ]
  },
  {
   "cell_type": "markdown",
   "metadata": {},
   "source": [
    "### Text Pre-Processing"
   ]
  },
  {
   "cell_type": "markdown",
   "metadata": {},
   "source": [
    "#### Text Cleaning\n",
    "\n",
    "Let's take a look at our data, then we will decide which pre-processing steps to adopt."
   ]
  },
  {
   "cell_type": "code",
   "execution_count": 8,
   "metadata": {
    "scrolled": true
   },
   "outputs": [
    {
     "data": {
      "text/plain": [
       "array([\"What's at stake?\", '¿Qué está en peligro?',\n",
       "       'CC-BY 2.0 (France) Attribution: tatoeba.org #2234064 (CK) & #5863997 (albrusgher)'],\n",
       "      dtype='<U278')"
      ]
     },
     "execution_count": 8,
     "metadata": {},
     "output_type": "execute_result"
    }
   ],
   "source": [
    "spa_eng[10000]"
   ]
  },
  {
   "cell_type": "markdown",
   "metadata": {},
   "source": [
    "We will get rid of the punctuation marks, and then convert the text to lower case."
   ]
  },
  {
   "cell_type": "code",
   "execution_count": 9,
   "metadata": {},
   "outputs": [],
   "source": [
    "# Remove punctuation\n",
    "spa_eng[:,0] = [s.translate(str.maketrans('', '', string.punctuation)) for s in spa_eng[:,0]]\n",
    "spa_eng[:,1] = [s.translate(str.maketrans('', '', string.punctuation)) for s in spa_eng[:,1]]"
   ]
  },
  {
   "cell_type": "code",
   "execution_count": 10,
   "metadata": {},
   "outputs": [
    {
     "data": {
      "text/plain": [
       "'!\"#$%&\\'()*+,-./:;<=>?@[\\\\]^_`{|}~'"
      ]
     },
     "execution_count": 10,
     "metadata": {},
     "output_type": "execute_result"
    }
   ],
   "source": [
    "string.punctuation"
   ]
  },
  {
   "cell_type": "markdown",
   "metadata": {},
   "source": [
    "No tiene en cuenta signos típicos españoles, por lo que también vamos a quitar `¡` y `¿`:"
   ]
  },
  {
   "cell_type": "code",
   "execution_count": 11,
   "metadata": {},
   "outputs": [],
   "source": [
    "import re"
   ]
  },
  {
   "cell_type": "code",
   "execution_count": 12,
   "metadata": {},
   "outputs": [],
   "source": [
    "spa_eng[:,0] = [re.sub('¡|¿','',s) for s in spa_eng[:,0]]\n",
    "spa_eng[:,1] = [re.sub('¡|¿','',s) for s in spa_eng[:,1]]"
   ]
  },
  {
   "cell_type": "code",
   "execution_count": 13,
   "metadata": {},
   "outputs": [
    {
     "data": {
      "text/plain": [
       "array(['Whats at stake', 'Qué está en peligro',\n",
       "       'CC-BY 2.0 (France) Attribution: tatoeba.org #2234064 (CK) & #5863997 (albrusgher)'],\n",
       "      dtype='<U278')"
      ]
     },
     "execution_count": 13,
     "metadata": {},
     "output_type": "execute_result"
    }
   ],
   "source": [
    "spa_eng[10000]"
   ]
  },
  {
   "cell_type": "code",
   "execution_count": 14,
   "metadata": {
    "scrolled": true
   },
   "outputs": [],
   "source": [
    "# convert to lowercase\n",
    "for i in range(len(spa_eng)):\n",
    "    spa_eng[i,0] = spa_eng[i,0].lower()\n",
    "    spa_eng[i,1] = spa_eng[i,1].lower()"
   ]
  },
  {
   "cell_type": "code",
   "execution_count": 15,
   "metadata": {},
   "outputs": [
    {
     "data": {
      "text/plain": [
       "array(['whats at stake', 'qué está en peligro',\n",
       "       'CC-BY 2.0 (France) Attribution: tatoeba.org #2234064 (CK) & #5863997 (albrusgher)'],\n",
       "      dtype='<U278')"
      ]
     },
     "execution_count": 15,
     "metadata": {},
     "output_type": "execute_result"
    }
   ],
   "source": [
    "spa_eng[10000]"
   ]
  },
  {
   "cell_type": "markdown",
   "metadata": {},
   "source": [
    "#### Text to Sequence Conversion\n",
    "\n",
    "To feed our data in a Seq2Seq model, we will have to convert both the input and the output sentences into integer sequences of fixed length. Before that, let's visualise the length of the sentences. We will capture the lengths of all the sentences in two separate lists for Spanish and English, respectively."
   ]
  },
  {
   "cell_type": "code",
   "execution_count": 16,
   "metadata": {},
   "outputs": [],
   "source": [
    "# empty lists\n",
    "spa_l = []\n",
    "eng_l = []\n",
    "\n",
    "# populate the lists with sentence lengths\n",
    "for i in spa_eng[:,1]: # Las frases en español están en la segunda columna\n",
    "    spa_l.append(len(i.split()))\n",
    "\n",
    "for i in spa_eng[:,0]:\n",
    "    eng_l.append(len(i.split()))"
   ]
  },
  {
   "cell_type": "code",
   "execution_count": 17,
   "metadata": {},
   "outputs": [
    {
     "name": "stdout",
     "output_type": "stream",
     "text": [
      "       spa  eng\n",
      "0        1    1\n",
      "1        1    1\n",
      "2        1    1\n",
      "3        1    1\n",
      "4        1    1\n",
      "...    ...  ...\n",
      "69995    8    8\n",
      "69996    6    6\n",
      "69997    9    7\n",
      "69998    7    7\n",
      "69999    6    7\n",
      "\n",
      "[70000 rows x 2 columns]\n",
      "15\n",
      "9\n"
     ]
    }
   ],
   "source": [
    "length_df = pd.DataFrame({'spa':spa_l, 'eng':eng_l})\n",
    "print(length_df)\n",
    "print(max(length_df.spa))\n",
    "print(max(length_df.eng))"
   ]
  },
  {
   "cell_type": "code",
   "execution_count": 18,
   "metadata": {},
   "outputs": [
    {
     "data": {
      "image/png": "[encoded data removed]",
      "text/plain": [
       "<Figure size 432x288 with 2 Axes>"
      ]
     },
     "metadata": {
      "needs_background": "light"
     },
     "output_type": "display_data"
    }
   ],
   "source": [
    "length_df.hist(bins = 30)\n",
    "plt.show()"
   ]
  },
  {
   "cell_type": "code",
   "execution_count": 19,
   "metadata": {},
   "outputs": [
    {
     "data": {
      "text/plain": [
       "9"
      ]
     },
     "execution_count": 19,
     "metadata": {},
     "output_type": "execute_result"
    }
   ],
   "source": [
    "max(length_df.eng)"
   ]
  },
  {
   "cell_type": "code",
   "execution_count": 20,
   "metadata": {},
   "outputs": [
    {
     "data": {
      "text/plain": [
       "15"
      ]
     },
     "execution_count": 20,
     "metadata": {},
     "output_type": "execute_result"
    }
   ],
   "source": [
    "max(length_df.spa)"
   ]
  },
  {
   "cell_type": "markdown",
   "metadata": {},
   "source": [
    "The maximum length of the Spanish sentences is 15 and that of the English phrases is 10."
   ]
  },
  {
   "cell_type": "markdown",
   "metadata": {},
   "source": [
    "Let's vectorize our text data by using Keras's Tokenizer() class. It will turn our sentences into sequences of integers. Then we will pad those sequences with zeros to make all the sequences of same length."
   ]
  },
  {
   "cell_type": "markdown",
   "metadata": {},
   "source": [
    "Vamos a rellenar estas secuencias con ceros para hacer todas las secuencias de la misma longitud."
   ]
  },
  {
   "cell_type": "code",
   "execution_count": 21,
   "metadata": {},
   "outputs": [],
   "source": [
    "# function to build a tokenizer\n",
    "def tokenization(lines):\n",
    "    tokenizer = Tokenizer()\n",
    "    tokenizer.fit_on_texts(lines)\n",
    "    return tokenizer"
   ]
  },
  {
   "cell_type": "code",
   "execution_count": 22,
   "metadata": {},
   "outputs": [
    {
     "name": "stdout",
     "output_type": "stream",
     "text": [
      "English Vocabulary Size: 8644\n"
     ]
    }
   ],
   "source": [
    "# prepare english tokenizer\n",
    "eng_tokenizer = tokenization(spa_eng[:, 0])\n",
    "eng_vocab_size = len(eng_tokenizer.word_index) + 1\n",
    "\n",
    "eng_length = 9\n",
    "print('English Vocabulary Size: %d' % eng_vocab_size)"
   ]
  },
  {
   "cell_type": "code",
   "execution_count": 23,
   "metadata": {
    "scrolled": true
   },
   "outputs": [
    {
     "name": "stdout",
     "output_type": "stream",
     "text": [
      "Spanish Vocabulary Size: 16782\n"
     ]
    }
   ],
   "source": [
    "# prepare spanish tokenizer\n",
    "spa_tokenizer = tokenization(spa_eng[:, 1])\n",
    "spa_vocab_size = len(spa_tokenizer.word_index) + 1\n",
    "\n",
    "spa_length = 9\n",
    "print('Spanish Vocabulary Size: %d' % spa_vocab_size)"
   ]
  },
  {
   "cell_type": "code",
   "execution_count": 24,
   "metadata": {},
   "outputs": [
    {
     "data": {
      "text/plain": [
       "collections.OrderedDict"
      ]
     },
     "execution_count": 24,
     "metadata": {},
     "output_type": "execute_result"
    }
   ],
   "source": [
    "type(spa_tokenizer.word_counts)"
   ]
  },
  {
   "cell_type": "code",
   "execution_count": 25,
   "metadata": {
    "scrolled": true
   },
   "outputs": [
    {
     "name": "stdout",
     "output_type": "stream",
     "text": [
      "OrderedDict([('ve', 161), ('vete', 46), ('vaya', 74), ('váyase', 8), ('hola', 22), ('corre', 25), ('corran', 4), ('corra', 3), ('corred', 4), ('quién', 728), ('órale', 10), ('fuego', 60), ('incendio', 13), ('disparad', 3), ('ayuda', 255), ('socorro', 2), ('auxilio', 3), ('salta', 4), ('salte', 2), ('parad', 2), ('para', 1182), ('pare', 7), ('espera', 88), ('esperen', 11), ('continúa', 17), ('continúe', 8), ('me', 4564), ('oculté', 1), ('escondí', 4), ('ocultaba', 1), ('escondía', 1), ('corrí', 15), ('corría', 6), ('lo', 3219), ('intento', 14), ('he', 685), ('ganado', 21), ('oh', 13), ('no', 9549), ('tomátelo', 2), ('con', 1701), ('soda', 3), ('disparen', 1), ('dispara', 1), ('dispará', 1), ('dispare', 3), ('sonríe', 8), ('al', 1105), ('ataque', 13), ('atacad', 1), ('ataquen', 1), ('ataca', 1), ('levanta', 25), ('ahora', 702), ('mismo', 228), ('id', 7), ('vayan', 13), ('ya', 567), ('tengo', 1299), ('pillas', 1), ('entendiste', 6), ('él', 3652), ('corrió', 36), ('métete', 6), ('adentro', 32), ('abrázame', 1), ('preocupo', 8), ('caí', 7), ('huí', 2), ('escapé', 1), ('huía', 1), ('escapaba', 1), ('yo', 1647), ('sé', 650), ('salí', 16), ('mentí', 9), ('perdí', 77), ('dimito', 2), ('renuncié', 8), ('dejo', 19), ('canté', 3), ('lloré', 5), ('lloraba', 2), ('estoy', 1585), ('trabajando', 48), ('diecinueve', 2), ('levantado', 13), ('escucha', 38), ('escuche', 7), ('escuchen', 4), ('puede', 680), ('ser', 504), ('de', 7330), ('ninguna', 67), ('manera', 69), ('imposible', 32), ('ningún', 92), ('modo', 17), ('eso', 1670), ('nada', 632), ('ni', 175), ('cagando', 4), ('mangos', 2), ('minga', 1), ('en', 3887), ('pedo', 3), ('serio', 59), ('la', 6187), ('verdad', 417), ('gracias', 160), ('pruébalo', 2), ('procuramos', 1), ('ganamos', 8), ('por', 3073), ('qué', 2703), ('pregúntale', 20), ('a', 8264), ('tom', 10260), ('mantente', 27), ('calma', 22), ('estate', 10), ('tranquilo', 20), ('justo', 65), ('bueno', 196), ('buena', 216), ('sed', 30), ('buenas', 41), ('buenos', 41), ('sea', 116), ('sean', 11), ('gentiles', 1), ('agradable', 43), ('pírate', 1), ('llamame', 2), ('llamadme', 1), ('llámame', 26), ('llámanos', 1), ('entre', 44), ('pase', 14), ('entren', 4), ('ándale', 2), ('suéltalo', 2), ('agarra', 6), ('bájate', 2), ('sal', 58), ('salid', 7), ('salgan', 5), ('aquí', 1253), ('lárgate', 6), ('salga', 7), ('largo', 59), ('calle', 47), ('lárguese', 1), ('casa', 879), ('despacio', 49), ('hasta', 201), ('luego', 32), ('vista', 43), ('chau', 1), ('un', 4968), ('momento', 124), ('segundo', 38), ('fuertemente', 5), ('vino', 204), ('renunció', 12), ('ayúdame', 23), ('échame', 2), ('una', 2909), ('mano', 135), ('ayudame', 3), ('ayúdanos', 4), ('golpea', 3), ('sostenlo', 2), ('sostenedlo', 1), ('sosténgalo', 1), ('sosténganlo', 1), ('sosténganla', 1), ('sosténgala', 1), ('sostenla', 1), ('sostenedla', 1), ('resista', 1), ('resiste', 2), ('abraza', 2), ('acuerdo', 155), ('incliné', 2), ('disparé', 5), ('congelé', 1), ('helé', 1), ('quedé', 41), ('quieto', 19), ('mudado', 1), ('mudé', 3), ('trasladé', 2), ('trasladado', 1), ('dormí', 25), ('intenté', 23), ('iré', 43), ('soy', 716), ('gordo', 29), ('gorda', 12), ('forma', 34), ('afectado', 1), ('viejo', 92), ('tímido', 28), ('mojada', 4), ('está', 3249), ('bien', 712), ('únete', 1), ('nosotros', 277), ('parte', 82), ('nuestra', 97), ('guárdalo', 1), ('pasa', 95), ('desapercibido', 1), ('también', 196), ('abre', 36), ('perfecto', 50), ('empújala', 1), ('empújalo', 1), ('empújadlo', 1), ('empújadla', 1), ('empújelo', 1), ('empújela', 1), ('empújenlo', 1), ('empújenla', 1), ('nos', 629), ('vemos', 30), ('muéstramelo', 1), ('enséñamelo', 2), ('mostrame', 5), ('cierra', 49), ('boca', 51), ('cerrá', 5), ('el', 5756), ('pico', 4), ('sáltatelo', 1), ('páralo', 2), ('detenlo', 1), ('cógelo', 3), ('decime', 6), ('cuéntame', 17), ('comió', 62), ('ganó', 44), ('espérame', 2), ('despierto', 40), ('despierta', 13), ('despiértate', 2), ('despertate', 1), ('lávate', 9), ('las', 1491), ('manos', 89), ('preocupamos', 1), ('sabemos', 46), ('perdimos', 15), ('bienvenidos', 6), ('bienvenidas', 4), ('ha', 723), ('has', 355), ('preguntales', 1), ('pregúntales', 1), ('aparta', 1), ('apártate', 2), ('hombre', 254), ('fuerte', 105), ('breve', 21), ('breves', 3), ('te', 2247), ('muevas', 10), ('llamalo', 2), ('tomás', 777), ('llámalo', 10), ('llámenlo', 2), ('anímate', 1), ('venga', 59), ('cálmate', 7), ('espósale', 1), ('vayas', 49), ('encontralo', 1), ('encuéntralo', 2), ('encuéntrelo', 1), ('encuéntrenlo', 1), ('encuentre', 5), ('encuentren', 3), ('arregla', 2), ('esto', 1229), ('ponte', 25), ('ello', 66), ('abajo', 41), ('túmbate', 3), ('piérdete', 1), ('esfúmate', 1), ('piénsalo', 7), ('los', 1781), ('ojos', 112), ('adelante', 28), ('entra', 22), ('entrá', 2), ('entrad', 1), ('subes', 1), ('buen', 286), ('trabajo', 539), ('sujeta', 4), ('agárralo', 1), ('diviértanse', 2), ('pásala', 4), ('pásenla', 4), ('habló', 50), ('intenta', 27), ('prueba', 33), ('hay', 592), ('ey', 2), ('chavales', 3), ('troncos', 1), ('tal', 99), ('os', 169), ('va', 403), ('encanto', 1), ('tan', 608), ('profundo', 16), ('cómo', 597), ('hazme', 4), ('favor', 909), ('compláceme', 1), ('date', 8), ('prisa', 37), ('apresúrate', 4), ('apúrese', 1), ('convine', 1), ('acepté', 3), ('accedí', 2), ('comí', 36), ('puedo', 1109), ('ir', 645), ('maldije', 1), ('despotriqué', 1), ('hice', 192), ('fracasé', 2), ('olvidé', 48), ('arreglo', 3), ('entiendo', 64), ('salté', 2), ('llamé', 24), ('teléfono', 140), ('niego', 7), ('renuncio', 2), ('senté', 13), ('vi', 204), ('suspiré', 1), ('sonreí', 2), ('hablé', 19), ('hablaba', 10), ('charlé', 1), ('charlaba', 1), ('uso', 17), ('esperé', 15), ('pagaré', 17), ('vuelto', 40), ('vuelta', 83), ('calvo', 21), ('calmado', 4), ('terminado', 53), ('acabado', 24), ('bastante', 158), ('facilón', 1), ('perfectamente', 19), ('libre', 83), ('lleno', 47), ('llena', 34), ('llené', 2), ('herido', 43), ('llego', 17), ('tarde', 327), ('vago', 15), ('perdida', 4), ('malo', 80), ('toca', 48), ('mí', 395), ('pobre', 30), ('rica', 27), ('rico', 89), ('salvo', 23), ('enferma', 36), ('delgado', 10), ('limpio', 15), ('calentito', 2), ('débil', 20), ('listo', 118), ('gané', 14), ('duele', 80), ('funciona', 70), ('es', 7397), ('divertido', 77), ('suyo', 38), ('nuevo', 282), ('extraño', 78), ('rojo', 54), ('triste', 68), ('prohibido', 13), ('pasar', 57), ('entrar', 81), ('besá', 1), ('besa', 3), ('besen', 1), ('déjalo', 20), ('déjame', 112), ('déjanos', 9), ('vámonos', 10), ('vamos', 184), ('cuidado', 76), ('cásate', 1), ('conmigo', 214), ('salva', 1), ('ella', 2206), ('murió', 141), ('sentate', 11), ('siéntate', 21), ('hable', 22), ('más', 1159), ('habla', 163), ('alto', 111), ('prepárate', 7), ('parate', 1), ('pie', 53), ('detén', 8), ('llévate', 4), ('díselo', 4), ('genial', 27), ('ellos', 778), ('ganaron', 7), ('muerto', 73), ('se', 3344), ('cayó', 76), ('sabía', 235), ('tenía', 271), ('constancia', 1), ('fue', 902), ('mintió', 24), ('miente', 12), ('perdió', 93), ('pagó', 26), ('nadó', 3), ('lloró', 26), ('demasiado', 400), ('confía', 18), ('inténtalo', 11), ('veras', 13), ('poco', 431), ('pruebe', 2), ('prueben', 3), ('probá', 4), ('usa', 39), ('avísale', 1), ('avísele', 1), ('avísenle', 1), ('avisale', 1), ('mírame', 4), ('vigílame', 1), ('obsérvame', 1), ('obsérvalos', 1), ('obsérvanos', 2), ('estamos', 369), ('intentamos', 4), ('iremos', 21), ('calló', 1), ('ido', 92), ('dejado', 39), ('escríbeme', 6), ('perdiste', 11), ('perdido', 101), ('perdisteis', 1), ('habéis', 48), ('usted', 437), ('perdieron', 11), ('ustedes', 211), ('han', 126), ('después', 107), ('ti', 297), ('tú', 512), ('primero', 68), ('vosotras', 31), ('apunta', 4), ('respóndeme', 3), ('respondedme', 1), ('respóndanme', 1), ('pájaros', 29), ('vuelan', 8), ('jesús', 3), ('llama', 87), ('tranquilízate', 1), ('paz', 28), ('bajá', 2), ('cambio', 28), ('podemos', 191), ('irnos', 25), ('marcharnos', 2), ('atrápelo', 1), ('captúralo', 1), ('captúrenlo', 1), ('atrápenlo', 1), ('atrápalo', 1), ('vuelve', 59), ('vení', 7), ('ven', 122), ('venid', 19), ('vente', 6), ('veníos', 3), ('pronto', 181), ('hazlo', 42), ('perros', 91), ('ladran', 1), ('preguntes', 7), ('llores', 11), ('llorés', 4), ('lloren', 1), ('lloréis', 1), ('llore', 1), ('mueras', 9), ('mintáis', 1), ('corras', 2), ('fantástico', 8), ('estupendo', 21), ('tienta', 1), ('tiente', 1), ('tienten', 1), ('tentad', 1), ('tentá', 1), ('sígueme', 2), ('seguidme', 1), ('síguenos', 2), ('olvídame', 1), ('olvídate', 4), ('olvídenme', 1), ('olvídense', 1), ('preparaos', 2), ('cogerlo', 4), ('cama', 166), ('coge', 26), ('alguno', 20), ('toma', 56), ('algo', 689), ('tome', 20), ('anciano', 19), ('afeitó', 5), ('sonrió', 34), ('dj', 3), ('veloz', 10), ('acá', 94), ('sostén', 8), ('horror', 2), ('raro', 36), ('divierte', 3), ('ruego', 6), ('suplico', 2), ('eructé', 1), ('volar', 26), ('correr', 58), ('esquiar', 20), ('sentí', 41), ('vergüenza', 17), ('exhalé', 1), ('consciencia', 3), ('inconsciente', 10), ('dejé', 45), ('rendí', 2), ('tiré', 2), ('toalla', 22), ('cedí', 4), ('pillo', 4), ('dieron', 17), ('alcanzaron', 3), ('odio', 124), ('seca', 14), ('baja', 29), ('golpeo', 1), ('espero', 154), ('arrodillé', 2), ('arrodillaba', 1), ('reí', 5), ('gusta', 974), ('adoro', 20), ('encanta', 129), ('hablo', 56), ('digo', 31), ('echo', 23), ('falta', 64), ('menos', 132), ('añoro', 2), ('necesito', 465), ('le', 1994), ('uno', 166), ('veía', 28), ('visto', 190), ('veo', 122), ('tropecé', 2), ('cocinaré', 2), ('guisaré', 1), ('viviré', 2), ('cantaré', 1), ('pararé', 1), ('dejaré', 25), ('esperaré', 18), ('aguardaré', 1), ('caminaré', 1), ('andaré', 1), ('voy', 518), ('trabajar', 133), ('pro', 1), ('solo', 566), ('sola', 101), ('enojado', 46), ('enojada', 13), ('ciega', 10), ('sin', 168), ('dinero', 425), ('quebrado', 5), ('blanca', 19), ('loco', 85), ('borracho', 50), ('tomada', 2), ('prendida', 2), ('muriendo', 17), ('feliz', 287), ('amado', 4), ('amada', 2), ('obeso', 2), ('siento', 202), ('cansado', 111), ('cansada', 35), ('tuyo', 52), ('tuya', 33), ('ólvidalo', 1), ('hagas', 71), ('caso', 48), ('grave', 14), ('lejos', 73), ('eres', 551), ('quemó', 11), ('consiguió', 24), ('falló', 6), ('fracasó', 8), ('diluviaba', 1), ('llovió', 25), ('nevó', 8), ('apesta', 6), ('funcionó', 12), ('son', 822), ('830', 2), ('televisor', 24), ('hace', 354), ('frío', 117), ('fresco', 17), ('oscuro', 25), ('mío', 99), ('mía', 68), ('tiempo', 475), ('vale', 73), ('nuestro', 164), ('terminó', 50), ('acabó', 37), ('llegado', 33), ('hora', 248), ('mi', 2292), ('guárdalos', 1), ('quédatelos', 1), ('guárdenselos', 1), ('guarda', 11), ('guarde', 3), ('guardá', 1), ('guardad', 1), ('guarden', 4), ('caliente', 38), ('manténgase', 7), ('mantenete', 3), ('abrigado', 3), ('manténganse', 3), ('calientes', 2), ('abrigados', 1), ('dejalo', 2), ('déjelo', 5), ('márchate', 2), ('marchar', 4), ('suéltame', 5), ('déjeme', 9), ('comamos', 11), ('veamos', 18), ('intentémoslo', 3), ('silencio', 36), ('suelo', 41), ('escuchá', 7), ('mirá', 14), ('otro', 126), ('lado', 84), ('mira', 83), ('mire', 12), ('miren', 8), ('hacia', 93), ('atrás', 45), ('mirad', 7), ('aflójalo', 1), ('suéltala', 1), ('aflójala', 1), ('hazte', 5), ('deja', 131), ('sitio', 48), ('mueve', 10), ('culo', 2), ('tiro', 8), ('supuesto', 14), ('discreción', 1), ('perdona', 7), ('póntelo', 1), ('póngaselo', 1), ('ponéoslo', 1), ('pónganselo', 1), ('lee', 29), ('lea', 12), ('lean', 3), ('leed', 2), ('decí', 6), ('que', 6277), ('registren', 1), ('véase', 2), ('arriba', 35), ('cogedlo', 1), ('arrestadlo', 1), ('prendedlo', 1), ('capturadlo', 1), ('intentó', 47), ('probó', 4), ('anda', 33), ('camina', 13), ('candente', 1), ('como', 632), ('tren', 127), ('pan', 53), ('y', 754), ('moja', 1), ('cruje', 1), ('firme', 14), ('firma', 12), ('firmen', 2), ('firmá', 1), ('firmad', 2), ('quédate', 41), ('ahí', 257), ('fuera', 151), ('aléjate', 6), ('mantén', 16), ('mantené', 4), ('quedate', 6), ('da', 89), ('paso', 23), ('párate', 6), ('detente', 6), ('deténgase', 1), ('deténganse', 1), ('paraos', 1), ('detenlos', 1), ('párales', 1), ('cuidate', 1), ('cuidas', 1), ('cuídate', 4), ('cuidaos', 2), ('asume', 1), ('mando', 22), ('control', 17), ('encárgate', 3), ('tomen', 4), ('tomá', 6), ('ese', 437), ('entonces', 50), ('cayeron', 6), ('fueron', 80), ('marcharon', 2), ('iban', 7), ('inclinó', 14), ('preocupó', 2), ('preocupaba', 2), ('importaba', 2), ('preocupa', 13), ('importa', 80), ('dormitó', 1), ('condujo', 14), ('dentro', 62), ('teje', 1), ('sabe', 370), ('mudó', 6), ('movió', 8), ('mece', 1), ('quedó', 76), ('juró', 4), ('votó', 6), ('saludó', 8), ('trabaja', 83), ('irá', 13), ('intentadlo', 1), ('otra', 225), ('vez', 436), ('pruébatelo', 2), ('aguarda', 6), ('esperad', 10), ('vigila', 6), ('abusado', 2), ('fallamos', 1), ('hemos', 122), ('fallado', 4), ('olvidamos', 4), ('vimos', 33), ('veíamos', 3), ('conversamos', 2), ('esperamos', 13), ('veremos', 9), ('intentaremos', 2), ('hecho', 238), ('conducía', 2), ('aabe', 1), ('escribe', 41), ('maneja', 13), ('pedazo', 3), ('idiota', 50), ('empieza', 47), ('intentaste', 2), ('estás', 737), ('apuntad', 1), ('todos', 742), ('bordo', 7), ('razón', 148), ('equivoco', 4), ('equivocada', 16), ('respóndale', 1), ('respondele', 1), ('respóndanle', 1), ('tienes', 576), ('dieciocho', 5), ('cumplido', 13), ('apuntas', 1), ('cualquiera', 31), ('preguntadle', 1), ('pregúntele', 1), ('pregúntenle', 1), ('pregunta', 105), ('alrededores', 4), ('ten', 37), ('cuidadoso', 18), ('contento', 47), ('llega', 40), ('llegue', 11), ('paciente', 47), ('cantan', 3), ('están', 623), ('cantando', 31), ('traed', 3), ('comida', 202), ('trae', 22), ('venir', 105), ('acercarme', 1), ('ayudar', 152), ('quedar', 41), ('lleva', 84), ('comprobad', 1), ('comprueba', 4), ('escoge', 3), ('vénganse', 2), ('temprano', 109), ('vengan', 13), ('pásale', 1), ('pásele', 1), ('pásenle', 1), ('rápido', 183), ('párale', 1), ('hombres', 52), ('lloran', 2), ('vengas', 16), ('saltéis', 1), ('miréis', 2), ('mováis', 1), ('mueva', 2), ('muevan', 1), ('cantes', 6), ('canten', 1), ('pares', 10), ('hables', 29), ('esperes', 7), ('grites', 7), ('chilles', 3), ('chilléis', 1), ('chille', 1), ('chillen', 1), ('come', 69), ('comé', 1), ('enfréntate', 1), ('hechos', 28), ('enfrentaos', 1), ('enfréntese', 1), ('enfréntense', 1), ('quema', 10), ('seguilo', 1), ('síguelo', 3), ('sígalo', 1), ('síganlo', 1), ('síguele', 1), ('olvidate', 2), ('olvídese', 1), ('olvídenlo', 1), ('perdónanos', 1), ('perdónenos', 1), ('consíguete', 2), ('vida', 194), ('ver', 287), ('andá', 10), ('dios', 43), ('existe', 13), ('fe', 14), ('tened', 2), ('tengan', 10), ('confíen', 1), ('salió', 77), ('comer', 262), ('rindió', 5), ('dejó', 141), ('cedió', 13), ('tiró', 11), ('descolgó', 1), ('cogió', 18), ('gentil', 7), ('amable', 49), ('generoso', 7), ('mezquino', 2), ('reía', 2), ('hizo', 428), ('logró', 8), ('arruinado', 5), ('cruel', 18), ('mintiendo', 48), ('inteligente', 67), ('sur', 11), ('helo', 1), ('hey', 9), ('aburrimiento', 4), ('bonito', 24), ('encantador', 7), ('preciosidad', 2), ('trágico', 1), ('van', 60), ('cosas', 150), ('admito', 7), ('persona', 125), ('humano', 4), ('rompí', 8), ('saltar', 9), ('leer', 128), ('cantar', 88), ('nadar', 155), ('solté', 3), ('risita', 5), ('dudo', 22), ('carne', 64), ('envidio', 7), ('mal', 203), ('sentía', 38), ('encontré', 79), ('puse', 22), ('enfermo', 82), ('cogido', 8), ('imagino', 5), ('sí', 133), ('supongo', 50), ('detesto', 30), ('oigo', 9), ('ayudo', 4), ('conocí', 28), ('conozco', 136), ('les', 203), ('agrada', 22), ('arte', 23), ('té', 95), ('agradas', 3), ('gustó', 45), ('permanecí', 1), ('amo', 60), ('enamorada', 11), ('quiero', 1140), ('encantó', 7), ('hielo', 35), ('objeté', 1), ('prometí', 6), ('fui', 148), ('corriendo', 48), ('apresuré', 2), ('recuerdo', 63), ('dije', 165), ('decía', 3), ('sentaba', 2), ('grité', 4), ('sobreviví', 2), ('creo', 469), ('vomité', 3), ('dicho', 90), ('utilizo', 1), ('último', 26), ('era', 599), ('llegué', 28), ('estaba', 929), ('hago', 56), ('ejercicio', 20), ('escribí', 25), ('compraría', 3), ('estaré', 85), ('haré', 89), ('entraré', 1), ('héroe', 21), ('mentiroso', 32), ('gemelo', 10), ('mejor', 347), ('agotado', 18), ('comprando', 8), ('torpe', 6), ('comiendo', 54), ('codicioso', 2), ('escondido', 11), ('hambre', 100), ('pica', 5), ('bagre', 3), ('inmune', 2), ('moviendo', 2), ('mudaré', 1), ('normal', 43), ('asustado', 26), ('soltero', 20), ('soltera', 8), ('flacucho', 1), ('sueño', 113), ('intentando', 47), ('esforzando', 2), ('doce', 10), ('años', 189), ('comido', 37), ('ignora', 4), ('grande', 149), ('tiene', 1292), ('calor', 85), ('gratis', 30), ('real', 20), ('inofensivo', 2), ('seguro', 161), ('todo', 753), ('acaso', 57), ('así', 146), ('este', 978), ('vivo', 88), ('vacío', 12), ('grandioso', 1), ('verde', 33), ('magia', 10), ('cd', 19), ('noche', 299), ('anochecido', 1), ('correcto', 38), ('blanco', 53), ('viento', 28), ('sólo', 168), ('apuntes', 8), ('tomad', 3), ('notas', 12), ('quietos', 1), ('abandona', 4), ('ciudad', 120), ('dejar', 106), ('déjale', 5), ('irse', 48), ('déjenlo', 2), ('dejadlo', 2), ('salir', 109), ('dejadme', 6), ('pague', 7), ('charlemos', 1), ('charlar', 13), ('besémonos', 1), ('juguemos', 15), ('oremos', 1), ('recemos', 2), ('desistamos', 1), ('renunciemos', 1), ('cantemos', 6), ('nademos', 1), ('conversemos', 3), ('votemos', 2), ('caminemos', 3), ('trabajemos', 2), ('levántalo', 1), ('míralo', 5), ('obsérvalo', 1), ('contémplalo', 1), ('míranos', 1), ('búscalo', 3), ('búsquenlo', 1), ('allí', 291), ('amor', 73), ('dura', 21), ('mamá', 46), ('comentarios', 9), ('problema', 219), ('problemas', 74), ('nadie', 512), ('siéntese', 8), ('sentaos', 4), ('voz', 56), ('reemplazadlo', 1), ('di', 81), ('patata', 2), ('decid', 4), ('güisqui', 4), ('sonría', 2), ('vieja', 27), ('ocupada', 58), ('guapa', 42), ('canta', 26), ('huele', 38), ('olé', 1), ('huelan', 1), ('oled', 1), ('huela', 1), ('retrocede', 1), ('alerta', 8), ('consciente', 24), ('duermas', 5), ('cerca', 123), ('alejes', 1), ('vera', 1), ('dejá', 15), ('mentir', 18), ('bolacear', 1), ('estudia', 25), ('harto', 16), ('estudiá', 1), ('bus', 50), ('estos', 127), ('háblame', 7), ('hablad', 4), ('ése', 31), ('chico', 82), ('valdrá', 3), ('sirve', 12), ('ésa', 24), ('pertenece', 40), ('mojado', 7), ('engañaron', 3), ('hicieron', 47), ('trampas', 11), ('quedaron', 10), ('mantuvieron', 3), ('intentaron', 6), ('votaron', 8), ('ellas', 95), ('apuntan', 2), ('fin', 62), ('éste', 51), ('basta', 7), ('vuela', 3), ('convino', 1), ('aquiescente', 1), ('estuvo', 119), ('mordió', 18), ('eructó', 1), ('llamó', 57), ('trampa', 35), ('bailó', 4), ('baila', 5), ('bebe', 36), ('conduce', 21), ('reprobó', 5), ('olvidó', 42), ('peleó', 2), ('luchó', 2), ('soltó', 9), ('grito', 11), ('ahogado', 3), ('aliento', 11), ('dio', 185), ('metió', 14), ('pata', 2), ('levantó', 39), ('ayudó', 42), ('golpeó', 35), ('salido', 18), ('saltó', 22), ('miró', 51), ('gimió', 2), ('asintió', 7), ('obedeció', 2), ('detuvo', 14), ('telefoneó', 2), ('rezó', 1), ('rezaba', 1), ('vio', 106), ('rasuró', 1), ('suspiró', 3), ('ronca', 2), ('charló', 2), ('esperó', 18), ('caminó', 8), ('guiño', 4), ('lanzó', 9), ('guiñó', 3), ('ojo', 38), ('trabajó', 25), ('bostezó', 1), ('gritó', 22), ('llorará', 1), ('morirá', 2), ('pagará', 5), ('ocupado', 160), ('sordo', 12), ('marchado', 3), ('disparado', 4), ('feo', 14), ('mala', 72), ('suerte', 89), ('enciéndelo', 3), ('gira', 11), ('derecha', 15), ('somos', 171), ('compramos', 6), ('cedés', 1), ('pagar', 82), ('intentarlo', 21), ('probarlo', 13), ('probar', 25), ('ganar', 56), ('divertimos', 9), ('pasamos', 15), ('reímos', 5), ('hicimos', 32), ('deberíamos', 81), ('debemos', 60), ('queremos', 101), ('haremos', 14), ('fracasaremos', 1), ('ayudaremos', 4), ('echaremos', 1), ('cantaremos', 1), ('esperaremos', 6), ('nosotras', 40), ('caminar', 50), ('trabajaremos', 3), ('regresado', 3), ('ocupados', 28), ('tenemos', 318), ('terminamos', 5), ('perdidos', 4), ('pobres', 6), ('ricos', 10), ('ricas', 4), ('hartos', 2), ('débiles', 3), ('pero', 65), ('día', 300), ('cuentas', 9), ('dónde', 707), ('madera', 35), ('arde', 3), ('llamaste', 21), ('puedes', 527), ('irte', 36), ('marcharte', 7), ('decides', 3), ('podéis', 58), ('iros', 2), ('pueden', 115), ('marcharos', 1), ('marcharse', 4), ('podés', 57), ('fallaste', 2), ('verás', 7), ('veréis', 1), ('alguien', 262), ('tenéis', 56), ('enfadado', 45), ('loca', 20), ('nueva', 75), ('creativos', 2), ('discreto', 3), ('discretos', 1), ('clemente', 1), ('preparado', 39), ('estad', 1), ('preparados', 5), ('puntual', 18), ('puntuales', 1), ('razonable', 16), ('razonables', 2), ('específico', 2), ('específica', 1), ('especifica', 1), ('exhaustivo', 1), ('tolerante', 2), ('vigilante', 1), ('atento', 8), ('cerveza', 89), ('comenzar', 18), ('esperar', 108), ('hablar', 385), ('conversar', 6), ('compruébalo', 2), ('revísalo', 1), ('sube', 10), ('acercate', 1), ('verme', 38), ('consuela', 1), ('contacto', 20), ('cocíname', 1), ('cocina', 50), ('cuenta', 103), ('cuente', 6), ('ganaste', 5), ('haz', 79), ('hacedlo', 1), ('ahorita', 7), ('ratito', 3), ('juegas', 17), ('boliche', 3), ('discutáis', 3), ('copiéis', 1), ('hagáis', 6), ('hagan', 16), ('haga', 80), ('peleéis', 1), ('entres', 5), ('rías', 5), ('dispares', 3), ('disparéis', 1), ('sonrías', 1), ('sonrían', 1), ('fumes', 6), ('fuméis', 2), ('preocupes', 18), ('preocupéis', 3), ('preocupen', 3), ('termine', 6), ('termina', 19), ('terminá', 1), ('terminen', 1), ('terminad', 1), ('lanza', 6), ('moneda', 11), ('tira', 7), ('aire', 37), ('vístete', 3), ('vestite', 1), ('encontrar', 80), ('buscar', 20), ('descúbrelo', 2), ('pedir', 37), ('delante', 14), ('recto', 5), ('dormir', 124), ('váyanse', 5), ('asiento', 48), ('vistazo', 17), ('encontró', 38), ('escapó', 12), ('envejeció', 1), ('venido', 59), ('agallas', 4), ('ocho', 31), ('odiado', 5), ('guarro', 4), ('asqueroso', 10), ('grima', 1), ('joven', 126), ('gusto', 33), ('quiere', 419), ('pajero', 1), ('fingiendo', 3), ('estúpido', 66), ('agua', 190), ('tanque', 5), ('salame', 2), ('écheme', 1), ('vengo', 16), ('curioso', 4), ('cocinero', 17), ('monje', 1), ('encuentro', 21), ('quedando', 17), ('dormido', 62), ('pido', 15), ('disculpas', 19), ('pregunté', 23), ('culpo', 7), ('comprado', 39), ('compré', 110), ('lugar', 102), ('última', 29), ('hacerlo', 242), ('compartir', 8), ('decir', 198), ('confesé', 1), ('lloro', 5), ('mucho', 593), ('conduzco', 7), ('fruta', 30), ('noto', 2), ('enfadé', 1), ('emborraché', 1), ('tuve', 103), ('gatos', 85), ('leche', 111), ('ratas', 12), ('arena', 15), ('odiaba', 7), ('odié', 1), ('trescientos', 1), ('dólares', 42), ('gota', 3), ('traigo', 11), ('noticias', 47), ('escucho', 12), ('oí', 46), ('oído', 65), ('contraté', 2), ('gustan', 219), ('dos', 450), ('encantan', 42), ('jazz', 11), ('arroz', 26), ('rock', 13), ('nieve', 60), ('amaba', 23), ('pescado', 56), ('golf', 34), ('niños', 132), ('chicos', 38), ('matemáticas', 37), ('música', 106), ('sopa', 51), ('quería', 281), ('quise', 37), ('refiero', 5), ('extrañaba', 1), ('debo', 147), ('esconderme', 5), ('efectivo', 12), ('metálico', 2), ('necesité', 6), ('nunca', 544), ('gano', 5), ('frecuencia', 31), ('pago', 10), ('impuestos', 15), ('leo', 15), ('labios', 10), ('pararas', 2), ('detuvieras', 1), ('ovni', 10), ('perro', 353), ('vendo', 5), ('autos', 11), ('debería', 240), ('huelo', 10), ('gas', 18), ('agradezco', 13), ('confío', 25), ('voté', 4), ('aburrido', 46), ('mareado', 9), ('mareada', 2), ('despedido', 14), ('despidieron', 8), ('ingenuo', 31), ('desnudo', 15), ('equivocado', 78), ('preguntaré', 9), ('preguntaría', 5), ('presente', 13), ('estar', 400), ('cambiaré', 2), ('probaré', 4), ('17', 2), ('panadero', 1), ('perdedor', 5), ('perdedora', 1), ('mujer', 126), ('desconcertado', 6), ('cocinando', 13), ('curiosidad', 12), ('bailando', 14), ('comprometida', 4), ('emocionado', 18), ('emocionada', 8), ('ayunando', 1), ('quisquilloso', 4), ('fraile', 1), ('saludable', 17), ('cárcel', 17), ('nervioso', 32), ('inquieto', 5), ('jodiendo', 4), ('saliendo', 12), ('casado', 60), ('casada', 28), ('neutral', 2), ('tímida', 10), ('mentalizado', 3), ('leyendo', 55), ('descansando', 2), ('egoísta', 12), ('muero', 12), ('atrapado', 25), ('esperando', 96), ('preocupada', 11), ('ignoralos', 1), ('encuentra', 11), ('acertado', 2), ('cierto', 86), ('dice', 116), ('limpia', 19), ('llevar', 33), ('ventoso', 4), ('vuestro', 52), ('simpática', 3), ('costó', 15), ('30', 15), ('pasó', 165), ('sucedió', 17), ('invito', 2), ('llueva', 14), ('podría', 200), ('nevar', 17), ('posible', 52), ('salvó', 11), ('chido', 1), ('chilo', 1), ('padre', 288), ('fácil', 134), ('50', 6), ('yenes', 23), ('lunes', 251), ('muñeca', 26), ('pez', 27), ('arpa', 3), ('harpa', 2), ('broma', 43), ('quilombo', 2), ('normativa', 1), ('canción', 82), ('vicio', 2), ('roto', 33), ('estropeado', 4), ('rota', 21), ('fresquito', 1), ('biruji', 1), ('veas', 7), ('nublado', 10), ('inútil', 11), ('secreto', 82), ('simple', 23), ('sigue', 73), ('moviéndote', 1), ('ayudarte', 62), ('házmelo', 2), ('saber', 124), ('vivir', 100), ('empecemos', 11), ('comencemos', 10), ('bailemos', 3), ('hagámoslo', 11), ('entremos', 3), ('apurémonos', 4), ('vayámonos', 6), ('guateque', 1), ('festejemos', 1), ('relajémonos', 2), ('divertida', 12), ('desde', 56), ('busca', 7), ('lista', 75), ('pide', 6), ('deseo', 39), ('muchas', 106), ('memórizalo', 1), ('memórizala', 1), ('mundo', 166), ('poderoso', 7), ('caballero', 13), ('don', 4), ('llegas', 11), ('significa', 52), ('ninguno', 39), ('acudió', 2), ('prosigue', 4), ('callate', 5), ('azul', 33), ('quédense', 8), ('quédese', 8), ('bájalo', 2), ('póngase', 6), ('libérale', 1), ('recuérdalo', 1), ('responded', 1), ('sus', 318), ('disparos', 5), ('adiós', 15), ('digas', 44), ('mándalo', 2), ('mándelo', 2), ('mándenlo', 2), ('mandalo', 2), ('pegó', 26), ('muerta', 10), ('despertó', 14), ('zorra', 1), ('muéstrame', 17), ('dejad', 3), ('haciéndolo', 5), ('llorar', 76), ('moverte', 1), ('ladrón', 17), ('saque', 4), ('carta', 121), ('saca', 11), ('echa', 12), ('ojeada', 2), ('descansad', 2), ('repósate', 1), ('actúa', 4), ('coche', 295), ('tontería', 10), ('enorme', 21), ('esa', 413), ('pasado', 141), ('ésos', 13), ('televisión', 120), ('encendida', 9), ('allá', 78), ('quemaron', 3), ('llamaron', 11), ('bailaron', 3), ('lograron', 2), ('abrazaron', 4), ('besaron', 5), ('quizá', 36), ('obedecieron', 2), ('vieron', 15), ('veían', 3), ('sonrieron', 8), ('esperaron', 4), ('caminaron', 2), ('pasearon', 1), ('gritaron', 5), ('malos', 11), ('nuevos', 24), ('nuevas', 10), ('viejos', 17), ('mayores', 23), ('ancianos', 5), ('piensa', 47), ('ésta', 36), ('suya', 14), ('ésto', 1), ('mierda', 3), ('llegó', 108), ('sonrojó', 3), ('cambió', 29), ('varió', 1), ('vitoreó', 4), ('aplaudió', 5), ('tuvo', 100), ('accidente', 49), ('estrelló', 4), ('decidió', 41), ('ahogó', 5), ('espiró', 1), ('desmayó', 6), ('regodeó', 1), ('gruñó', 2), ('doc', 1), ('inhaló', 1), ('pelón', 1), ('malvado', 5), ('satisfecho', 20), ('perezoso', 6), ('ordenado', 3), ('arrodilló', 2), ('rio', 10), ('adelantado', 19), ('pagaba', 1), ('negó', 24), ('cerró', 25), ('banda', 14), ('relajó', 1), ('relajaba', 1), ('resbaló', 4), ('estornudó', 2), ('enseña', 16), ('mayor', 79), ('ayudará', 15), ('furioso', 11), ('polvo', 18), ('alegre', 9), ('disgustado', 8), ('pruébate', 6), ('apágalo', 2), ('esperame', 1), ('espéranos', 1), ('despertalo', 1), ('lentamente', 21), ('hacía', 23), ('trabajamos', 13), ('comimos', 13), ('huevos', 47), ('separamos', 2), ('dejamos', 4), ('rompimos', 1), ('encontrarnos', 3), ('vernos', 17), ('ayudamos', 7), ('conocemos', 25), ('porqué', 10), ('gustas', 19), ('amamos', 7), ('extrañamos', 4), ('actuar', 11), ('necesitamos', 109), ('prometimos', 1), ('acordamos', 4), ('recordamos', 1), ('sentamos', 7), ('sentábamos', 2), ('sobrevivimos', 1), ('esos', 57), ('estaremos', 18), ('conduciremos', 1), ('luchar', 6), ('compartiremos', 2), ('despiertos', 3), ('aburridos', 5), ('arruinados', 4), ('duro', 88), ('velas', 6), ('limpios', 6), ('felices', 63), ('listos', 32), ('sentimos', 7), ('cansados', 21), ('gemelos', 7), ('jóvenes', 14), ('burro', 2), ('tipo', 87), ('arrastrado', 2), ('pendejo', 1), ('imbécil', 4), ('pérdida', 10), ('desastre', 8), ('mugre', 2), ('confusión', 1), ('dolor', 80), ('lástima', 10), ('pena', 45), ('equipo', 73), ('ego', 2), ('quiénes', 33), ('sois', 45), ('sos', 140), ('dibujó', 1), ('pegado', 4), ('siguiente', 16), ('dijo', 339), ('viene', 113), ('cocinar', 48), ('vas', 185), ('irás', 10), ('escríbelo', 2), ('ponlo', 8), ('escrito', 22), ('hiciste', 95), ('hicisteis', 13), ('desmayaron', 2), ('desmayaste', 1), ('lastimas', 2), ('quédatelo', 1), ('conoces', 48), ('conseguido', 6), ('logrado', 3), ('necesita', 145), ('necesitáis', 10), ('necesitas', 106), ('exactamente', 56), ('regreso', 9), ('langa', 1), ('hermosa', 46), ('estáis', 91), ('retrasado', 6), ('simpático', 9), ('chiflado', 2), ('enfermos', 5), ('abandonen', 2), ('nave', 7), ('acorde', 1), ('tu', 1217), ('edad', 84), ('invitado', 17), ('herida', 12), ('encuentras', 11), ('segura', 35), ('seguras', 5), ('seguros', 18), ('invita', 4), ('mary', 1538), ('confiado', 8), ('confianza', 20), ('seguridad', 24), ('despiadado', 2), ('objetivo', 19), ('objetivos', 6), ('realista', 7), ('paciencia', 31), ('ternera', 4), ('hierve', 5), ('huevo', 20), ('tropas', 3), ('apoyo', 16), ('hazle', 1), ('sombrero', 81), ('llamá', 6), ('fbi', 3), ('intentar', 20), ('sabes', 206), ('andar', 32), ('revisa', 5), ('alrededor', 33), ('échale', 3), ('cuando', 122), ('quieras', 58), ('alguna', 136), ('enseguida', 22), ('acércate', 4), ('ayudarme', 38), ('echarme', 4), ('regresa', 6), ('baje', 3), ('subid', 2), ('suba', 3), ('suban', 2), ('véngase', 2), ('enfríalo', 1), ('describilo', 1), ('descríbelo', 1), ('descríbalo', 1), ('llamado', 18), ('ayudaste', 4), ('ayudasteis', 1), ('ayudaron', 5), ('ayudabas', 1), ('ayudabais', 1), ('ayudaba', 1), ('ayudaban', 2), ('firmaste', 2), ('firmaron', 2), ('luzco', 2), ('hágalo', 5), ('hacelo', 3), ('saben', 62), ('conocen', 40), ('bebes', 11), ('bebéis', 2), ('fuma', 19), ('fumas', 3), ('roncas', 1), ('nota', 11), ('estés', 38), ('seas', 68), ('tengas', 27), ('sueltes', 8), ('divagues', 1), ('tientes', 2), ('conduzca', 2), ('examina', 1), ('examine', 1), ('examiná', 1), ('examinad', 1), ('examinen', 1), ('temas', 4), ('miedo', 159), ('lucha', 3), ('o', 154), ('muere', 8), ('gato', 159), ('libro', 445), ('consigue', 3), ('recoge', 4), ('traiga', 5), ('recoja', 3), ('fantasmas', 17), ('existen', 14), ('dame', 114), ('mitad', 25), ('deme', 24), ('denme', 5), ('dadme', 4), ('devuélvete', 1), ('escuela', 193), ('días', 207), ('pascua', 5), ('rosquilla', 3), ('cómete', 5), ('trago', 18), ('tómate', 7), ('botana', 2), ('valiente', 22), ('valientes', 7), ('evita', 3), ('enfadó', 11), ('morros', 1), ('motivado', 3), ('pateó', 8), ('fuéramos', 3), ('humillado', 4), ('prestigio', 1), ('esperará', 2), ('fanático', 3), ('ninja', 2), ('dieta', 22), ('sufriendo', 2), ('celoso', 29), ('lindo', 14), ('ayúdale', 3), ('bolígrafo', 44), ('boli', 7), ('oye', 10), ('aguante', 2), ('rollo', 9), ('pesado', 10), ('incordio', 1), ('hincha', 1), ('pelotas', 4), ('arrogante', 17), ('atreves', 3), ('horrible', 27), ('romántico', 7), ('colegio', 78), ('admiro', 15), ('chino', 18), ('confuso', 15), ('saberlo', 32), ('rezando', 4), ('disculpé', 3), ('manzanas', 55), ('caviar', 2), ('mordí', 2), ('labio', 5), ('arreglarlo', 11), ('mover', 9), ('parar', 54), ('corto', 24), ('corté', 9), ('cortado', 9), ('pagué', 11), ('chupa', 1), ('desconozco', 4), ('canto', 7), ('tomé', 30), ('bebido', 9), ('vine', 26), ('conduciendo', 12), ('conduje', 4), ('queso', 21), ('viva', 10), ('atontado', 2), ('aturdido', 3), ('enmarqué', 1), ('pidieron', 6), ('identificación', 4), ('identificarme', 1), ('documentación', 1), ('atracaron', 1), ('dudas', 18), ('habas', 1), ('moscas', 2), ('mentirosos', 5), ('ópera', 6), ('reglas', 48), ('sushi', 13), ('carro', 62), ('llave', 112), ('pluma', 10), ('ayudé', 11), ('abracé', 2), ('acabo', 81), ('mudarme', 5), ('frijoles', 3), ('dulces', 15), ('ajedrez', 20), ('miel', 10), ('pizza', 19), ('mujeres', 39), ('libros', 140), ('juegos', 14), ('viajes', 6), ('gustaba', 30), ('apuesta', 8), ('éstos', 44), ('engañé', 2), ('eché', 4), ('extrañé', 4), ('taxi', 56), ('auto', 224), ('abrazo', 9), ('siesta', 9), ('pintura', 21), ('espacio', 15), ('necesitaba', 40), ('frecuentemente', 11), ('león', 12), ('estrella', 17), ('pistola', 21), ('hoy', 460), ('nadé', 2), ('simpatizo', 1), ('avisado', 2), ('enmarcado', 2), ('encontraba', 3), ('veces', 99), ('perder', 85), ('perderé', 2), ('pregunto', 56), ('volveré', 43), ('seré', 16), ('comprar', 119), ('arriesgaré', 1), ('demandaré', 2), ('ex', 6), ('médico', 67), ('doctor', 63), ('médica', 8), ('granjero', 5), ('sacerdote', 1), ('cura', 10), ('surfista', 1), ('camarero', 5), ('escritor', 18), ('oídos', 7), ('actor', 13), ('adulta', 1), ('adulto', 11), ('agente', 3), ('anoréxico', 2), ('autista', 2), ('descalzo', 4), ('confusa', 3), ('confundido', 20), ('confundida', 8), ('divorciada', 2), ('dubitativo', 1), ('ahogando', 5), ('formación', 1), ('congelado', 4), ('helado', 44), ('helando', 2), ('agradecida', 1), ('luto', 1), ('vacilante', 1), ('gravemente', 5), ('perth', 1), ('inocente', 23), ('vosotros', 76), ('culto', 1), ('ángel', 8), ('rebelde', 5), ('indignado', 8), ('pintando', 8), ('embarazada', 17), ('embarazado', 1), ('preparada', 9), ('racional', 2), ('aliviado', 6), ('desasosegado', 1), ('intranquilo', 1), ('durmiendo', 37), ('tanto', 99), ('lamento', 52), ('muy', 1345), ('todavía', 345), ('terco', 3), ('estudiando', 46), ('pensando', 47), ('meditando', 6), ('trece', 9), ('concienzudo', 1), ('entusiasmado', 4), ('contentísimo', 1), ('cachondo', 1), ('exhausto', 11), ('reventado', 2), ('decisión', 57), ('sólido', 2), ('hierro', 14), ('curado', 3), ('lúcido', 1), ('ciervo', 12), ('lobo', 9), ('alce', 1), ('suficiente', 100), ('falso', 12), ('auténtico', 11), ('empezado', 12), ('empezó', 64), ('comenzó', 23), ('romper', 5), ('rompa', 1), ('negro', 48), ('repugnante', 13), ('mágico', 2), ('quemará', 1), ('será', 111), ('maldición', 3), ('increíble', 18), ('mañana', 363), ('turno', 32), ('llamas', 23), ('nevando', 21), ('funcionando', 3), ('nomás', 5), ('seguí', 16), ('cavando', 10), ('mirando', 46), ('siga', 11), ('sigan', 5), ('seguid', 4), ('continuad', 2), ('continúen', 2), ('sonriendo', 15), ('continuá', 1), ('hablando', 94), ('caminando', 22), ('escribiendo', 31), ('quede', 6), ('irme', 69), ('dejame', 8), ('pensar', 44), ('salgamos', 11), ('escuchemos', 3), ('vayamos', 39), ('corta', 24), ('fíjate', 6), ('atentamente', 8), ('detenidamente', 1), ('adivina', 7), ('detenga', 2), ('entró', 38), ('mona', 5), ('maría', 183), ('alta', 41), ('cerdos', 3), ('muévete', 1), ('hacer', 683), ('ruido', 69), ('césped', 9), ('cortad', 1), ('corte', 10), ('corten', 1), ('brazo', 54), ('duelen', 8), ('orejas', 12), ('pies', 23), ('cadera', 1), ('mandíbula', 3), ('pierna', 24), ('preguntó', 60), ('cacho', 3), ('ah', 4), ('obtuve', 6), ('abrí', 11), ('caja', 79), ('abra', 18), ('apurate', 2), ('márchese', 1), ('sonreíd', 1), ('señalalo', 1), ('ábrela', 2), ('del', 458), ('ponedlo', 2), ('pónganlo', 2), ('descanso', 27), ('recreo', 1), ('escóndete', 2), ('repítelo', 2), ('terminaron', 6), ('clases', 49), ('veré', 48), ('avergüénzate', 1), ('tranquila', 12), ('disparó', 28), ('demandó', 2), ('quedaos', 7), ('concéntrate', 2), ('desconcentres', 1), ('permanece', 2), ('céntrate', 1), ('frente', 18), ('discutas', 2), ('discutir', 18), ('mirar', 18), ('empujar', 1), ('deje', 16), ('fumar', 92), ('mirarme', 5), ('cállate', 11), ('pará', 3), ('quejarte', 9), ('gritar', 17), ('estudiad', 1), ('sueños', 30), ('descansa', 4), ('descanse', 2), ('relajate', 1), ('relájate', 4), ('llévatelo', 2), ('tomate', 5), ('bondi', 1), ('llévanos', 2), ('dime', 58), ('dígame', 13), ('cuénteme', 2), ('dinos', 7), ('díganos', 2), ('dígannos', 2), ('cuéntanos', 4), ('cuéntenos', 1), ('cuéntennos', 1), ('agradecido', 13), ('nuevamente', 19), ('colmo', 2), ('bastará', 2), ('durará', 4), ('funcionará', 11), ('mentira', 20), ('montón', 57), ('locura', 9), ('ambos', 54), ('sentaron', 4), ('aprueban', 2), ('grandes', 42), ('entraron', 11), ('llegaron', 14), ('entraban', 1), ('vitorearon', 2), ('tuvieron', 19), ('chocaron', 3), ('estrellaron', 1), ('escaparon', 4), ('abandonaron', 8), ('rindieron', 1), ('desistieron', 1), ('tiraron', 1), ('odian', 25), ('ayudan', 4), ('conocían', 4), ('rieron', 19), ('adoran', 4), ('aman', 14), ('necesitan', 32), ('negaron', 3), ('dijeron', 29), ('pararon', 7), ('sudaron', 1), ('quieren', 86), ('llamarán', 2), ('vendrán', 6), ('sabrán', 2), ('esperarán', 1), ('aguardarán', 1), ('muchachos', 10), ('tienen', 169), ('rápidos', 2), ('estupendamente', 6), ('encuentran', 2), ('míos', 30), ('mías', 19), ('simpáticos', 4), ('bonitos', 6), ('feos', 1), ('rompen', 2), ('sencillo', 11), ('oro', 28), ('respondió', 25), ('aprueba', 2), ('pastel', 26), ('torta', 38), ('aburre', 5), ('canceló', 5), ('cancelación', 2), ('enroló', 1), ('sintió', 40), ('encogió', 9), ('dispararon', 6), ('enfermó', 2), ('odia', 46), ('insistió', 7), ('poli', 1), ('veterano', 2), ('veterinario', 3), ('fiel', 3), ('canicas', 1), ('bichi', 1), ('jiruta', 1), ('encuerado', 1), ('encueroles', 1), ('mañoso', 2), ('bajo', 59), ('tonto', 28), ('chispa', 1), ('escuchó', 30), ('ama', 49), ('conoció', 15), ('pánico', 13), ('prometió', 18), ('huyó', 13), ('aplacó', 1), ('apiadó', 3), ('hombros', 8), ('tartamudea', 1), ('balbucea', 1), ('sobrevivió', 8), ('desapareció', 13), ('ruin', 1), ('pálido', 14), ('hablará', 6), ('viniendo', 7), ('llorando', 40), ('grogui', 1), ('bromeando', 40), ('drogado', 2), ('estricto', 4), ('confiá', 1), ('tarta', 36), ('centrarte', 1), ('espere', 31), ('despertalos', 1), ('quieres', 302), ('bebida', 13), ('lava', 7), ('pedimos', 3), ('aplaudimos', 2), ('demandar', 5), ('preparamos', 2), ('estábamos', 58), ('teníamos', 26), ('almorzamos', 8), ('algunos', 63), ('unos', 77), ('cuantos', 7), ('sabíamos', 8), ('conocíamos', 3), ('vivimos', 17), ('hogar', 19), ('queríamos', 9), ('encontramos', 17), ('echar', 18), ('quedamos', 21), ('dormidos', 7), ('dormimos', 5), ('conseguimos', 2), ('logramos', 2), ('rendimos', 4), ('heridos', 4), ('lastimados', 1), ('saldremos', 1), ('adultos', 6), ('asustados', 2), ('mejores', 22), ('cerrados', 5), ('desahuciados', 1), ('escondidos', 2), ('hambrientos', 9), ('perdiendo', 15), ('mudando', 3), ('mudamos', 2), ('mudar', 4), ('cambiamos', 2), ('reventados', 1), ('consegido', 1), ('bienvenido', 19), ('bienvenida', 8), ('festín', 1), ('farsante', 1), ('susto', 3), ('desperdicio', 2), ('idea', 174), ('picó', 6), ('aquello', 19), ('construyó', 12), ('paga', 28), ('envió', 20), ('contó', 26), ('ambas', 22), ('agradeces', 1), ('das', 19), ('morir', 51), ('vivirá', 2), ('tinta', 9), ('escriba', 13), ('escriban', 2), ('escribid', 3), ('pasaron', 5), ('diviertes', 1), ('maleducado', 4), ('descansar', 25), ('quedarte', 32), ('primera', 23), ('vos', 99), ('heriste', 2), ('conoce', 66), ('sabés', 14), ('ves', 64), ('acalorado', 2), ('pareces', 88), ('acalorada', 2), ('tenés', 83), ('prometiste', 5), ('prometisteis', 3), ('prometieron', 3), ('asustas', 2), ('sobreviviste', 3), ('sobrevivisteis', 2), ('sobrevivieron', 5), ('estarás', 20), ('cerdo', 18), ('borracha', 2), ('despedida', 3), ('despedidos', 3), ('despedidas', 3), ('gracioso', 25), ('espabilado', 3), ('listas', 4), ('pequeño', 58), ('pequeños', 7), ('pequeñas', 2), ('inteligentes', 15), ('dulce', 30), ('ingenioso', 3), ('ocurrente', 1), ('intentado', 13), ('atropelló', 5), ('aprobé', 2), ('aprobado', 6), ('soñando', 14), ('incluido', 1), ('talentoso', 11), ('polis', 1), ('altos', 10), ('altas', 5), ('«poli»', 1), ('pasma', 1), ('ciego', 22), ('aburres', 3), ('aburriendo', 6), ('ebrio', 4), ('embriagado', 1), ('molesto', 21), ('experto', 15), ('pórtate', 2), ('respetuoso', 4), ('respetuosos', 2), ('apóyame', 1), ('apóyanos', 1), ('bate', 1), ('corren', 2), ('rómpelo', 1), ('estropéalo', 1), ('rompedlo', 1), ('descomponlo', 1), ('desglósalo', 1), ('tíralo', 2), ('derrúmbalo', 1), ('échalo', 1), ('derríbalo', 2), ('tráelo', 1), ('traedlo', 1), ('quemen', 1), ('cuerpo', 20), ('quemá', 1), ('queme', 1), ('quemad', 1), ('caín', 1), ('llame', 23), ('pida', 5), ('pidan', 1), ('pedid', 1), ('llamen', 7), ('llamad', 4), ('policía', 76), ('tenerlo', 2), ('abrazarte', 2), ('participar', 1), ('quedármelo', 1), ('visitar', 31), ('tomarlo', 2), ('bailar', 70), ('conducir', 74), ('patinar', 10), ('sobre', 207), ('observad', 1), ('cuece', 1), ('desfalleció', 1), ('hablaste', 10), ('sueñan', 1), ('vuelvas', 19), ('serás', 9), ('peces', 18), ('duermen', 6), ('rápidamente', 26), ('platos', 23), ('sigues', 8), ('esta', 918), ('seáis', 3), ('malas', 19), ('llegues', 4), ('tacaño', 8), ('grosero', 10), ('llames', 10), ('llamés', 2), ('llaméis', 1), ('niegues', 1), ('desesperes', 1), ('engordes', 2), ('subas', 4), ('peso', 41), ('engordés', 1), ('rindas', 6), ('tires', 8), ('lastimes', 5), ('mates', 6), ('mires', 11), ('prestes', 3), ('atención', 47), ('burles', 6), ('abras', 5), ('empujes', 2), ('presiones', 2), ('apresures', 1), ('irrespetuoso', 1), ('vacia', 1), ('aceite', 9), ('traza', 2), ('círculo', 9), ('dibuja', 4), ('coman', 4), ('beban', 3), ('coma', 15), ('beba', 2), ('sano', 15), ('comed', 1), ('ganan', 1), ('alimenta', 3), ('pájaro', 42), ('rellena', 3), ('fríeme', 1), ('preparame', 3), ('estrellado', 2), ('pon', 20), ('ponga', 14), ('vuelva', 15), ('consígueme', 7), ('dale', 20), ('dámelo', 6), ('dádmelo', 1), ('démelo', 1), ('dénmelo', 1), ('traer', 11), ('café', 173), ('bendiga', 2), ('aguanta', 3), ('agárrate', 7), ('aférrate', 3), ('conserva', 2), ('jamón', 3), ('engañó', 13), ('bebió', 17), ('cavó', 2), ('agujero', 18), ('cogieron', 7), ('cultiva', 2), ('blog', 2), ('constipado', 2), ('mucama', 1), ('abrazó', 9), ('inglés', 142), ('jefe', 42), ('andando', 13), ('patineta', 2), ('besó', 33), ('luce', 21), ('aspecto', 16), ('pellizcó', 3), ('parece', 359), ('vende', 17), ('carros', 3), ('palabra', 79), ('expresa', 2), ('apedreado', 1), ('sabrá', 11), ('abogado', 66), ('machista', 2), ('gran', 139), ('negocios', 22), ('adorable', 10), ('demente', 6), ('santo', 2), ('hijo', 125), ('sírvase', 5), ('sírvete', 3), ('servíos', 1), ('mismos', 5), ('sírvanse', 3), ('paquí', 1), ('pa', 1), ('vayáis', 4), ('oiga', 5), ('su', 1693), ('nariz', 32), ('sangraba', 2), ('abrazame', 1), ('retenga', 1), ('mis', 376), ('llamadas', 7), ('sujétalo', 3), ('puerta', 238), ('cuerda', 32), ('bocina', 3), ('claxon', 2), ('cuántos', 82), ('murieron', 20), ('emocionante', 17), ('apúrate', 2), ('acepto', 12), ('adquirí', 1), ('añadí', 2), ('admiraba', 5), ('casi', 207), ('morí', 2), ('siempre', 345), ('camino', 96), ('americano', 7), ('estadounidense', 8), ('japonés', 47), ('japonesa', 19), ('dedico', 3), ('trote', 1), ('tosiendo', 2), ('indigna', 2), ('estornudando', 2), ('culpa', 76), ('volví', 14), ('pertenezco', 5), ('prestado', 21), ('soborné', 2), ('quemé', 6), ('autobús', 74), ('explicar', 23), ('sentirlo', 4), ('verte', 101), ('manejar', 26), ('soportar', 26), ('resistir', 2), ('cancelé', 1), ('causé', 1), ('contribuí', 1), ('merecía', 6), ('diseñé', 1), ('desprecio', 6), ('menosprecio', 2), ('pude', 48), ('importó', 1), ('supe', 9), ('moví', 2), ('paré', 5), ('detuve', 1), ('caminé', 5), ('claro', 29), ('pienso', 87), ('bebo', 23), ('tomo', 19), ('ronco', 3), ('robo', 15), ('estudio', 25), ('bebí', 11), ('llevo', 33), ('bmw', 2), ('disfruto', 7), ('jugar', 131), ('escuchar', 39), ('póker', 1), ('exageré', 2), ('temo', 33), ('alimenté', 2), ('adormitado', 1), ('causa', 15), ('culpable', 36), ('renacido', 1), ('finalmente', 47), ('terminé', 12), ('perdono', 1), ('defendí', 1), ('bono', 2), ('resulté', 1), ('engañado', 9), ('casé', 7), ('sediento', 6), ('esconder', 22), ('boston', 292), ('francés', 383), ('fútbol', 47), ('invierno', 19), ('bomba', 9), ('resfriado', 28), ('acatarrado', 2), ('cita', 25), ('plan', 96), ('aro', 1), ('anillo', 11), ('hermana', 111), ('gemela', 4), ('hermano', 147), ('visa', 9), ('visado', 4), ('rodilleras', 1), ('cáncer', 23), ('tenido', 41), ('órdenes', 16), ('derechos', 6), ('pecado', 1), ('tenencia', 1), ('sirenas', 1), ('voces', 1), ('ignoré', 2), ('recién', 12), ('levanto', 17), ('levanté', 21), ('levantar', 12), ('gente', 148), ('personas', 64), ('caer', 12), ('camellos', 3), ('relojes', 4), ('caballos', 22), ('películas', 23), ('coser', 10), ('cucharas', 1), ('deporte', 22), ('prefiero', 59), ('tenis', 108), ('trenes', 8), ('tulipanes', 2), ('miré', 18), ('aparté', 2), ('clave', 7), ('hornear', 2), ('ajo', 1), ('excursionismo', 1), ('papá', 49), ('empleo', 41), ('naturaleza', 11), ('primavera', 27), ('negocio', 12), ('trato', 28), ('cena', 62), ('preparé', 4), ('repararlo', 2), ('objetar', 1), ('rechazar', 1), ('verlo', 54), ('estuve', 61), ('baño', 61), ('tripulación', 4), ('lámpara', 6), ('préstamo', 5), ('lleven', 2), ('cuarto', 84), ('habitación', 207), ('semana', 162), ('consejos', 13), ('bolsa', 44), ('bolso', 28), ('supero', 1), ('rango', 1), ('dueño', 4), ('yate', 1), ('juego', 99), ('squash', 1), ('toco', 16), ('violín', 9), ('declaré', 1), ('afuera', 42), ('leí', 20), ('cambié', 9), ('fecha', 11), ('rescaté', 4), ('ofendo', 2), ('respeto', 25), ('administro', 1), ('motel', 2), ('manejo', 3), ('levántate', 6), ('ratón', 16), ('avión', 53), ('corona', 9), ('viendo', 37), ('luz', 64), ('reina', 8), ('barco', 46), ('niño', 147), ('oso', 10), ('renunciar', 13), ('tocino', 1), ('humo', 7), ('olí', 1), ('vendí', 5), ('chiste', 16), ('conté', 14), ('bañé', 1), ('paseo', 23), ('confiaba', 5), ('firefox', 1), ('ofrecí', 2), ('voluntario', 7), ('ganas', 62), ('precavido', 3), ('desarmado', 1), ('observé', 1), ('vigilé', 1), ('observaba', 1), ('subí', 7), ('marcha', 7), ('senderismo', 1), ('excursión', 2), ('despertado', 8), ('cederé', 1), ('saldré', 4), ('escribo', 4), ('versos', 1), ('gustaría', 157), ('permitiré', 4), ('permitirlo', 4), ('compraré', 5), ('llamar', 54), ('llamaré', 25), ('alcanzaré', 2), ('comeré', 4), ('encontraré', 12), ('mataré', 4), ('matar', 45), ('encontrarme', 7), ('echaré', 10), ('extrañar', 11), ('demostraré', 2), ('mostraré', 14), ('detener', 12), ('encargaré', 7), ('llevaré', 15), ('cogeré', 7), ('diré', 25), ('avisar', 4), ('advertiré', 1), ('alertaré', 1), ('miraré', 3), ('madre', 158), ('estudiante', 70), ('profesor', 104), ('maestro', 21), ('turista', 7), ('testigo', 11), ('adicta', 1), ('artista', 18), ('huérfano', 6), ('desesperado', 5), ('desesperada', 3), ('olvidadizo', 11), ('horrorizado', 3), ('horrorizada', 1), ('imparcial', 2), ('impaciente', 15), ('importante', 75), ('impresionada', 2), ('impresionado', 8), ('cargo', 20), ('peligro', 62), ('intrigada', 1), ('escuchando', 39), ('escucharé', 1), ('mudo', 8), ('superaré', 2), ('seguiré', 3), ('espía', 4), ('mandón', 1), ('mandona', 1), ('huelga', 3), ('sensible', 14), ('hambriento', 18), ('tanta', 12), ('estúpida', 20), ('asegurado', 3), ('asegurada', 1), ('jefa', 1), ('encontrado', 39), ('mejorado', 5), ('famoso', 27), ('siente', 32), ('doloroso', 7), ('popular', 10), ('privado', 6), ('lloviendo', 41), ('murciélago', 3), ('peluca', 4), ('legal', 7), ('aquél', 5), ('quebró', 7), ('pone', 20), ('peor', 40), ('empeora', 2), ('había', 157), ('nevado', 3), ('pinta', 16), ('regalo', 61), ('engaño', 9), ('examen', 39), ('irónico', 3), ('dolerá', 2), ('servirá', 6), ('media', 123), ('sábado', 20), ('enigma', 4), ('secuela', 1), ('arma', 35), ('desierto', 7), ('caballo', 38), ('obsoleto', 4), ('oficial', 4), ('deber', 17), ('rata', 3), ('depende', 25), ('corresponde', 3), ('seco', 5), ('minuto', 61), ('coja', 5), ('coged', 2), ('cojan', 2), ('remando', 4), ('llaves', 66), ('terminar', 40), ('preguntémosle', 4), ('pidámosle', 1), ('preguntarle', 14), ('hagamos', 30), ('volvamos', 11), ('mantengámoslo', 2), ('prosigamos', 4), ('avancemos', 2), ('abrámoslo', 1), ('sigamos', 9), ('demandemos', 1), ('injusta', 5), ('traba', 1), ('ponle', 4), ('entrada', 17), ('cancela', 1), ('aquéllos', 3), ('oferta', 32), ('resume', 2), ('mortal', 2), ('chula', 1), ('rara', 30), ('chilló', 4), ('preguntar', 17), ('escasa', 1), ('memoriza', 1), ('memorízate', 1), ('espalda', 30), ('cabeza', 92), ('pulmones', 1), ('nombre', 202), ('llamo', 16), ('cuello', 18), ('sonreía', 2), ('escuchad', 2), ('atended', 2), ('atendedme', 1), ('quítate', 11), ('capucha', 2), ('bote', 21), ('hundió', 8), ('búhos', 5), ('monos', 8), ('cambia', 13), ('tócalo', 2), ('arreglalo', 1), ('súbase', 2), ('bata', 3), ('apostar', 6), ('apuestas', 2), ('léelo', 7), ('rusia', 5), ('acabaron', 3), ('manda', 3), ('mándamelo', 3), ('empiezo', 7), ('continuar', 9), ('agachó', 4), ('enojó', 8), ('cabreó', 2), ('contrató', 6), ('francesa', 10), ('acaba', 70), ('obedece', 5), ('desea', 15), ('ingenua', 4), ('modelo', 11), ('esposa', 79), ('junto', 24), ('claramente', 19), ('hablen', 7), ('quedito', 3), ('calladito', 1), ('párense', 1), ('línea', 21), ('comienza', 21), ('empiece', 4), ('empezad', 1), ('empiecen', 2), ('comience', 4), ('comenzad', 1), ('comiencen', 1), ('escribir', 60), ('positivo', 3), ('positiva', 1), ('manteneos', 1), ('juntos', 90), ('separéis', 1), ('mezclá', 1), ('remueve', 2), ('balbucear', 2), ('chismorrear', 3), ('soñar', 6), ('pelear', 22), ('entrometas', 2), ('disparar', 8), ('preocuparte', 6), ('pasan', 7), ('gustes', 5), ('barre', 4), ('respiro', 4), ('número', 56), ('llévame', 4), ('gustos', 2), ('disputas', 2), ('todas', 120), ('formas', 11), ('saturno', 2), ('copia', 15), ('aquella', 33), ('mito', 2), ('absurdo', 11), ('chaval', 3), ('irreal', 1), ('vulgar', 1), ('copa', 6), ('chicas', 18), ('sabían', 7), ('supieron', 1), ('partieron', 2), ('levantaron', 2), ('alzaron', 2), ('pusieron', 10), ('gritan', 1), ('construyeron', 4), ('cancelaron', 1), ('mutuamente', 7), ('encontraron', 15), ('encantaba', 2), ('deben', 25), ('pagan', 9), ('sentaban', 1), ('salvaron', 2), ('estarán', 5), ('bailarán', 1), ('harán', 5), ('asiáticos', 3), ('vivos', 12), ('solos', 29), ('enojados', 3), ('armadas', 1), ('arruinadas', 2), ('limpias', 9), ('embriagados', 1), ('ebrios', 1), ('borrachos', 9), ('enormes', 1), ('inmensas', 1), ('verdes', 12), ('espías', 2), ('vuestros', 15), ('suyos', 4), ('cambian', 1), ('japón', 50), ('ley', 38), ('palabras', 51), ('incorrecto', 7), ('recibió', 19), ('graduó', 7), ('vaca', 8), ('mapa', 29), ('oyó', 22), ('dudó', 3), ('pelele', 1), ('ausente', 8), ('bravío', 1), ('descansado', 1), ('fuerzas', 7), ('delgaducho', 3), ('injusto', 11), ('malévolo', 1), ('unió', 4), ('pueblo', 15), ('gustaste', 2), ('gustabas', 1), ('recuperó', 5), ('acuerda', 8), ('recuerda', 28), ('asusta', 8), ('vaciló', 2), ('tambaleó', 1), ('cumplió', 10), ('13', 5), ('siguió', 48), ('distante', 1), ('banca', 6), ('sucio', 7), ('moría', 3), ('severo', 5), ('contratado', 4), ('leal', 3), ('afortunado', 18), ('mentía', 2), ('palideció', 3), ('cocinará', 1), ('obedecerá', 1), ('adoptado', 3), ('ayudando', 15), ('inservible', 3), ('cero', 10), ('izquierda', 29), ('violento', 8), ('bancame', 1), ('seis', 69), ('roncando', 2), ('cubre', 3), ('encera', 1), ('piso', 34), ('encerá', 1), ('condenados', 1), ('podríamos', 10), ('preguntamos', 2), ('comemos', 9), ('fuimos', 35), ('robados', 3), ('robaron', 23), ('planes', 23), ('disparamos', 1), ('callados', 5), ('intención', 16), ('hablamos', 14), ('entendemos', 7), ('aburríamos', 1), ('tuvimos', 31), ('preguntaremos', 2), ('esconderemos', 1), ('sobreviviremos', 1), ('desorientados', 2), ('primos', 11), ('intrigados', 2), ('comprometidos', 2), ('prometidos', 3), ('amigos', 190), ('amigas', 20), ('enamorados', 5), ('abogados', 3), ('casados', 13), ('pacientes', 6), ('mentalizados', 1), ('egoístas', 1), ('serios', 1), ('hundiendo', 2), ('especiales', 3), ('concluido', 4), ('atrapados', 5), ('inútiles', 3), ('unas', 49), ('ganando', 12), ('estabas', 88), ('fiasco', 1), ('jaleo', 3), ('lío', 10), ('menudo', 94), ('alivio', 4), ('aflige', 1), ('güey', 1), ('ocurrió', 38), ('ocurrido', 7), ('sido', 105), ('cuándo', 231), ('cuál', 259), ('mandó', 14), ('queda', 111), ('gana', 27), ('vendrá', 59), ('llegaste', 21), ('equivocan', 2), ('hipócrita', 4), ('sabéis', 15), ('quedaros', 3), ('debes', 99), ('necesitás', 12), ('preguntas', 34), ('deberías', 185), ('hueles', 4), ('eras', 38), ('fuisteis', 5), ('eran', 50), ('fracasarás', 1), ('trabajas', 17), ('llegaréis', 1), ('llegará', 14), ('llegarás', 7), ('bebé', 98), ('parcial', 9), ('bromeas', 1), ('tratando', 18), ('cocacola', 3), ('actuá', 1), ('linda', 30), ('calificado', 2), ('rojas', 9), ('vendréis', 3), ('vendrás', 9), ('vienes', 23), ('famosa', 14), ('sientes', 41), ('racista', 7), ('otoño', 8), ('chica', 78), ('aves', 8), ('ponen', 3), ('respira', 12), ('hondo', 6), ('traé', 1), ('pala', 6), ('tráemelo', 2), ('tráigamelo', 1), ('comerme', 9), ('ayudarle', 14), ('besarte', 6), ('verlos', 12), ('verles', 3), ('dejas', 12), ('sentarme', 22), ('podremos', 3), ('conseguirlo', 3), ('conseguiremos', 3), ('proseguir', 1), ('levantarte', 8), ('atrapa', 1), ('pelota', 29), ('revísalos', 1), ('pieza', 41), ('háganlo', 1), ('pacá', 1), ('contacte', 1), ('archivo', 11), ('vacas', 12), ('comen', 23), ('pasto', 15), ('dan', 40), ('pártelo', 1), ('daño', 52), ('lastimé', 6), ('compró', 93), ('olvidaste', 2), ('olvidado', 32), ('entendió', 11), ('dijiste', 54), ('treinta', 34), ('viste', 62), ('háztelo', 1), ('odias', 6), ('oyes', 5), ('escuchás', 1), ('conocés', 10), ('amas', 16), ('echas', 9), ('prometes', 1), ('promete', 1), ('reciclas', 1), ('queréis', 25), ('des', 14), ('lata', 8), ('enfades', 2), ('enfade', 2), ('apresurado', 6), ('boludo', 2), ('culpes', 3), ('quejes', 2), ('pierdas', 9), ('ayudes', 12), ('dejes', 50), ('levantes', 5), ('forcejees', 1), ('cuentes', 4), ('toques', 21), ('suelta', 3), ('cuchillo', 50), ('agacha', 1), ('cómanse', 2), ('disfrute', 4), ('espectáculo', 15), ('disfruta', 6), ('disfruten', 1), ('disfrutad', 1), ('mienten', 6), ('pagaron', 9), ('llora', 9), ('peleen', 2), ('pelead', 1), ('pescar', 28), ('filas', 2), ('súbete', 7), ('caravana', 2), ('tráeme', 26), ('subíos', 1), ('duerme', 21), ('dáselo', 7), ('pista', 3), ('beso', 20), ('cartera', 14), ('cambiarte', 2), ('tardes', 2), ('pásaselo', 1), ('taza', 59), ('año', 82), ('vacaciones', 36), ('comiste', 12), ('aceleró', 4), ('contar', 38), ('antipatía', 1), ('moreno', 1), ('elevó', 3), ('volantín', 3), ('12', 2), ('hijos', 104), ('barba', 8), ('cambiado', 36), ('regresó', 10), ('golpe', 18), ('devolvió', 8), ('genio', 16), ('golfista', 3), ('techo', 17), ('tío', 65), ('extrovertido', 2), ('tirado', 3), ('espaldas', 2), ('aprende', 12), ('gelatina', 2), ('vive', 134), ('adora', 21), ('juega', 39), ('respeta', 9), ('retó', 2), ('increpó', 1), ('riñó', 1), ('enfadada', 14), ('frutas', 4), ('abofeteó', 5), ('confió', 3), ('extranjero', 45), ('acostar', 9), ('acostó', 3), ('florista', 1), ('animal', 18), ('deprimido', 14), ('prisión', 21), ('estudiar', 85), ('llegando', 7), ('vienen', 16), ('tarjeta', 19), ('esconde', 1), ('escondé', 1), ('plata', 16), ('dolía', 2), ('cuán', 6), ('asco', 8), ('hacen', 36), ('cuánto', 163), ('cuesta', 51), ('mide', 7), ('apúrensen', 2), ('húngara', 1), ('manzana', 60), ('creí', 16), ('apuesto', 20), ('presto', 2), ('uña', 1), ('traje', 46), ('arreglar', 24), ('demostrarlo', 2), ('levantarme', 16), ('cuento', 12), ('merezco', 8), ('avisé', 1), ('conducido', 4), ('doy', 11), ('sigo', 15), ('cojo', 4), ('honrado', 5), ('empeñé', 1), ('arrestaron', 3), ('divorcié', 1), ('nostálgico', 1), ('nostalgia', 1), ('garantizo', 2), ('divertí', 5), ('domingos', 32), ('insectos', 8), ('planchar', 6), ('karaoke', 2), ('fiestas', 8), ('acertijos', 2), ('arañas', 7), ('espinacas', 7), ('tos', 9), ('corazonada', 4), ('rancho', 3), ('camión', 29), ('escuincle', 1), ('hermanas', 27), ('hipo', 2), ('ojalá', 80), ('ganes', 2), ('sencillamente', 17), ('venderlo', 4), ('simplemente', 42), ('mantuve', 5), ('castillos', 1), ('pollo', 15), ('galletas', 24), ('pesca', 13), ('historia', 120), ('trotar', 2), ('mahjongg', 2), ('fideos', 2), ('tallarines', 1), ('picnic', 7), ('rompecabezas', 7), ('sashimi', 1), ('mariscos', 6), ('historias', 10), ('tortugas', 3), ('escritura', 1), ('norte', 11), ('harvard', 15), ('flores', 50), ('lasaña', 1), ('puestas', 3), ('sol', 68), ('galletitas', 4), ('equivoque', 1), ('amiga', 45), ('regresar', 23), ('volver', 102), ('gauchada', 4), ('aumento', 8), ('regla', 12), ('cigarrillo', 9), ('bocadillo', 2), ('sello', 4), ('respuestas', 11), ('tener', 88), ('cirugía', 6), ('dejarlo', 8), ('viajo', 2), ('cien', 14), ('declaro', 1), ('castigué', 1), ('crío', 2), ('largues', 1), ('calles', 7), ('amigo', 168), ('cinco', 93), ('estornudo', 2), ('coreano', 6), ('enseño', 6), ('giré', 2), ('normalmente', 20), ('quisiera', 79), ('vaso', 41), ('perrito', 9), ('cachorrito', 7), ('palomitas', 3), ('maíz', 4), ('ventilador', 1), ('secuestraron', 2), ('raptaron', 2), ('arrestado', 12), ('arrestada', 2), ('capturado', 2), ('ofendido', 4), ('riendo', 19), ('dejaron', 14), ('sudando', 13), ('excitado', 1), ('gafas', 35), ('prosperaré', 1), ('desearía', 39), ('poder', 30), ('pudiera', 17), ('sería', 48), ('honor', 5), ('preferiría', 16), ('directo', 13), ('tomar', 81), ('ocuparé', 6), ('extra', 8), ('regañaré', 1), ('reñiré', 1), ('pego', 2), ('quedaré', 20), ('enseñar', 11), ('daré', 22), ('invitaré', 2), ('principiante', 12), ('diabética', 1), ('músico', 16), ('sujeto', 11), ('prisionero', 8), ('ateo', 1), ('asombrada', 1), ('detrás', 47), ('cansancio', 2), ('confiable', 2), ('devastada', 1), ('diplomática', 2), ('fascinada', 1), ('sintiendo', 5), ('divirtiendo', 11), ('apurado', 5), ('interesado', 17), ('interesada', 6), ('contigo', 172), ('preparando', 20), ('escondiendo', 29), ('suficientemente', 28), ('optimista', 10), ('bencina', 2), ('reforma', 3), ('desafortunado', 5), ('desvistiendo', 4), ('desnudando', 2), ('sacando', 4), ('ropa', 70), ('paro', 2), ('desempleado', 5), ('parado', 18), ('desempleada', 1), ('acostumbrado', 25), ('acostumbrada', 8), ('rudo', 6), ('demandaron', 2), ('guiso', 5), ('supiera', 11), ('lastimado', 6), ('lastimó', 9), ('timbre', 9), ('probable', 18), ('negra', 10), ('hacerse', 12), ('mejora', 3), ('ameno', 1), ('venta', 17), ('planeado', 6), ('nevaba', 1), ('difícil', 126), ('cederá', 3), ('estará', 56), ('navidad', 22), ('tarea', 48), ('miércoles', 8), ('clásico', 3), ('reclamo', 1), ('error', 97), ('excusa', 12), ('insulto', 1), ('superior', 2), ('supera', 3), ('delicioso', 18), ('diferente', 27), ('haciendo', 159), ('idéntico', 3), ('barato', 25), ('redundante', 1), ('demasiada', 16), ('arriesgado', 5), ('lento', 5), ('vibrando', 2), ('maravilloso', 20), ('movida', 1), ('olvídalo', 2), ('limítate', 18), ('punto', 55), ('llévalo', 3), ('consérvalo', 1), ('permanezca', 1), ('buscando', 74), ('crueles', 1), ('inclínate', 1), ('déjamelo', 4), ('sala', 22), ('idos', 2), ('solas', 28), ('préstame', 4), ('responda', 5), ('sienta', 7), ('oírlo', 10), ('déjalos', 2), ('seamos', 17), ('continuemos', 2), ('averigüémoslo', 2), ('cada', 86), ('esperemos', 12), ('tiña', 1), ('practiquemos', 1), ('sentémonos', 9), ('levantémonos', 1), ('viví', 6), ('aprendé', 4), ('cosa', 109), ('almuerzo', 51), ('suceda', 8), ('simplifica', 1), ('mueves', 1), ('muchos', 118), ('muchacha', 16), ('acompañarle', 1), ('acompañarles', 1), ('unírmeles', 1), ('sentar', 13), ('usar', 70), ('avariciosos', 1), ('caminas', 3), ('muévase', 1), ('escritorio', 52), ('corazón', 50), ('articulaciones', 1), ('comezón', 2), ('estómago', 23), ('rió', 9), ('ábreme', 2), ('trampilla', 1), ('tus', 180), ('maletas', 6), ('caigo', 5), ('ayúdeme', 4), ('ábrelo', 1), ('diga', 27), ('digan', 6), ('díganme', 7), ('despiértese', 1), ('precios', 22), ('subieron', 3), ('demuéstramelo', 1), ('contador', 5), ('resérvame', 1), ('guárdame', 3), ('dilo', 5), ('envíame', 3), ('empezamos', 16), ('comenzamos', 3), ('bailamos', 3), ('ahorcó', 2), ('estranguló', 1), ('cultivó', 1), ('rosas', 12), ('bicicleta', 95), ('enfermera', 21), ('quieta', 2), ('parecía', 62), ('extraña', 23), ('adinerada', 1), ('provocaba', 2), ('teclea', 1), ('canadiense', 86), ('belleza', 11), ('cabezota', 3), ('testaruda', 3), ('cerrar', 22), ('paramos', 1), ('siéntense', 4), ('apareció', 22), ('dejen', 13), ('copuchar', 1), ('refunfuñar', 1), ('resistirte', 1), ('chillar', 2), ('azúcar', 47), ('verano', 33), ('llévaselo', 1), ('devuélvelo', 1), ('llevátelo', 1), ('contanos', 1), ('aspero', 1), ('cambiará', 8), ('farsa', 2), ('gallina', 9), ('cianuro', 1), ('evidente', 4), ('obvio', 8), ('idiotez', 1), ('ilegal', 11), ('inmoral', 4), ('frase', 11), ('obsceno', 2), ('plástico', 6), ('patético', 8), ('suicidio', 3), ('cantaban', 1), ('ladraba', 2), ('bandera', 6), ('alzada', 1), ('derritió', 4), ('gotea', 3), ('sirena', 1), ('sonó', 10), ('cantaron', 1), ('miradas', 1), ('cruzaron', 2), ('éstas', 22), ('estas', 85), ('nuestras', 19), ('auténticas', 2), ('verdaderas', 2), ('auténticos', 1), ('reales', 1), ('aplaudieron', 4), ('preguntaron', 2), ('molestan', 4), ('compraron', 13), ('volvieron', 1), ('regresaron', 1), ('descubrieron', 1), ('odiaban', 4), ('parecen', 26), ('amaban', 1), ('encantaste', 1), ('encantabas', 1), ('querían', 19), ('quisieron', 1), ('bienintencionados', 1), ('discutieron', 1), ('arruinaron', 2), ('huelen', 5), ('esforzaron', 1), ('confían', 4), ('estaban', 121), ('muertos', 20), ('enfermas', 2), ('ayudarán', 2), ('trabajan', 8), ('atacarán', 2), ('rotos', 3), ('estropeados', 1), ('familia', 118), ('vacíos', 2), ('idiotas', 11), ('fatal', 5), ('olla', 7), ('cacao', 2), ('mental', 3), ('azotea', 2), ('pinza', 2), ('cabras', 9), ('cabra', 12), ('molidos', 1), ('taradura', 1), ('cambiaron', 4), ('piénsatelo', 2), ('respecto', 30), ('piénselo', 1), ('muerde', 8), ('perra', 5), ('mesa', 111), ('embrollo', 1), ('norma', 7), ('estafa', 1), ('descompuesto', 4), ('espeluznante', 1), ('locos', 17), ('gata', 4), ('pagando', 4), ('debe', 130), ('ésas', 9), ('esas', 55), ('bonitas', 7), ('cucos', 1), ('dados', 2), ('arroja', 2), ('dado', 21), ('billete', 11), ('átate', 2), ('cordones', 6), ('disculpó', 4), ('acercó', 17), ('paliza', 10), ('responder', 27), ('paralizado', 2), ('quedarse', 30), ('65', 3), ('despidió', 3), ('donó', 1), ('sangre', 30), ('aproximó', 3), ('robado', 20), ('asma', 3), ('improvisó', 1), ('improvisación', 1), ('intervino', 5), ('rubio', 4), ('lacroso', 1), ('cerdomarrano', 1), ('friki', 1), ('enano', 1), ('piloto', 5), ('avergonzado', 20), ('taimado', 1), ('concentrado', 1), ('temeroso', 2), ('servicial', 1), ('preso', 5), ('enamorado', 26), ('ídolo', 1), ('travieso', 5), ('servicio', 14), ('relajado', 9), ('temblando', 4), ('frívolo', 2), ('fumando', 5), ('malcriado', 3), ('quejando', 9), ('aviso', 1), ('pellizco', 1), ('leyó', 12), ('acordó', 2), ('recordó', 4), ('copado', 1), ('puso', 115), ('retratado', 1), ('humilde', 2), ('aterrado', 2), ('luchará', 1), ('cantará', 1), ('llevaba', 55), ('colgado', 2), ('nadando', 11), ('ilusionado', 2), ('salsa', 2), ('trata', 42), ('encontrarlo', 8), ('pararme', 12), ('enciende', 16), ('tele', 29), ('volumen', 17), ('enfrente', 2), ('si', 289), ('cara', 81), ('lavaos', 3), ('lávese', 2), ('lávense', 2), ('adoptamos', 2), ('médicos', 4), ('pagarte', 2), ('bebimos', 2), ('perdonamos', 2), ('casamos', 5), ('necesitábamos', 3), ('estudiamos', 7), ('presentamos', 1), ('voluntarios', 2), ('apuntamos', 2), ('voluntariamente', 2), ('enmarcados', 1), ('culpados', 1), ('llamaremos', 2), ('averiguaremos', 1), ('pintaremos', 1), ('salvaremos', 1), ('hermanos', 49), ('ocupadas', 5), ('confiables', 1), ('divorciados', 1), ('famélicos', 1), ('ingenuos', 4), ('esperanza', 30), ('inquietos', 2), ('morimos', 4), ('colgados', 1), ('minuciosos', 1), ('levantamos', 4), ('observando', 9), ('observamos', 1), ('miramos', 3), ('golpeado', 2), ('concepto', 1), ('país', 39), ('caluroso', 12), ('chasco', 1), ('decepción', 2), ('pensamiento', 2), ('tragedia', 3), ('podrá', 4), ('causó', 5), ('dedicas', 2), ('haces', 44), ('ocurrirá', 8), ('fallo', 5), ('adónde', 51), ('parís', 34), ('estabais', 10), ('rompió', 45), ('guardia', 9), ('mató', 25), ('pintó', 15), ('hará', 23), ('importaría', 8), ('escribió', 44), ('aquel', 49), ('mientes', 3), ('harás', 10), ('reloj', 107), ('sonate', 1), ('límpiate', 1), ('adoraban', 3), ('adoraron', 1), ('ciertamente', 7), ('cambiaste', 1), ('pagaste', 7), ('ignorabas', 1), ('ignoraste', 1), ('mentiste', 9), ('negarte', 1), ('vuelvan', 5), ('volváis', 2), ('fuiste', 31), ('tuviste', 8), ('sacaste', 1), ('barata', 7), ('tenías', 20), ('fraude', 4), ('caprichoso', 1), ('mojigato', 1), ('chorro', 1), ('increíbles', 2), ('entretenido', 5), ('andas', 4), ('afortunados', 6), ('superficial', 3), ('flaco', 4), ('servís', 1), ('inservibles', 2), ('lograste', 1), ('vuestra', 36), ('zozobró', 3), ('presentes', 13), ('quien', 42), ('tuyos', 9), ('tuyas', 2), ('fantasma', 8), ('coña', 2), ('pregúntame', 4), ('cualquier', 70), ('bolas', 2), ('redondas', 1), ('preciso', 3), ('abejas', 5), ('tripas', 1), ('estúpidos', 4), ('acércalo', 1), ('traeme', 4), ('esposo', 18), ('marido', 46), ('pedirlo', 1), ('comprarme', 7), ('quedarme', 43), ('apuntarme', 1), ('probármelo', 1), ('ayudarnos', 17), ('arreglarse', 1), ('reparar', 14), ('repararse', 2), ('respirar', 9), ('contribuir', 2), ('gastos', 7), ('oírme', 4), ('oírnos', 2), ('abrirlo', 2), ('mostrarme', 4), ('callar', 4), ('silbar', 5), ('atrapan', 2), ('ratones', 5), ('cajas', 5), ('escotilla', 1), ('cerrad', 3), ('volvé', 1), ('felicidades', 1), ('defiéndete', 1), ('botaste', 1), ('oíste', 7), ('querías', 28), ('amabas', 4), ('echado', 12), ('extrañaste', 2), ('demandaste', 1), ('sabías', 12), ('cava', 1), ('corbata', 41), ('ahoritita', 1), ('hacé', 5), ('puedas', 24), ('dudás', 2), ('comes', 20), ('comés', 3), ('coméis', 4), ('conocéis', 8), ('rap', 1), ('recuerdas', 14), ('crees', 80), ('cree', 53), ('confiás', 2), ('confías', 5), ('confiáis', 2), ('absurda', 4), ('canuto', 3), ('molestes', 9), ('moleste', 6), ('jodas', 2), ('rompas', 4), ('engañes', 7), ('enoje', 3), ('enojes', 1), ('emborraches', 1), ('interfieras', 1), ('interrumpas', 2), ('mientas', 10), ('exageres', 1), ('ridículo', 20), ('juegues', 9), ('recuerdes', 3), ('mentiras', 10), ('confíes', 8), ('confíe', 1), ('confiéis', 1), ('fíes', 4), ('bebed', 1), ('provecho', 5), ('aproveche', 1), ('viaje', 43), ('incluso', 18), ('estuvieron', 8), ('sueña', 2), ('miraron', 5), ('oraron', 1), ('produjo', 4), ('sonrisa', 27), ('colectiva', 2), ('búscame', 2), ('píldoras', 1), ('localiza', 1), ('recoged', 1), ('vuestras', 7), ('locas', 3), ('ponme', 5), ('sonríeme', 1), ('bastón', 5), ('entrégame', 3), ('dales', 2), ('dámelas', 1), ('dámelos', 1), ('pochoclo', 4), ('andate', 1), ('tienda', 57), ('señal', 9), ('alcanzame', 2), ('traicionó', 15), ('amanecer', 7), ('pudo', 66), ('volvió', 80), ('esperanzas', 7), ('7', 5), ('balón', 4), ('derrame', 2), ('cerebral', 2), ('vaqueros', 4), ('jeans', 3), ('puestos', 4), ('toyota', 4), ('cámara', 84), ('puesto', 52), ('raqueta', 5), ('boleto', 20), ('diez', 95), ('coches', 11), ('etíope', 2), ('soñador', 3), ('pintor', 14), ('llegar', 66), ('seguía', 6), ('disney', 1), ('tigres', 6), ('robot', 3), ('mencionó', 7), ('ríe', 9), ('jamás', 45), ('presionó', 2), ('cantó', 20), ('desafinado', 1), ('niña', 70), ('honesto', 28), ('whisky', 3), ('tendencia', 3), ('nara', 5), ('sobrevivirá', 5), ('comediante', 3), ('primer', 38), ('universidad', 18), ('jardinero', 3), ('realmente', 232), ('rostro', 9), ('iluminó', 1), ('cabello', 15), ('álbum', 8), ('eh', 8), ('falsa', 9), ('1245', 1), ('hacemos', 19), ('sentís', 7), ('sienten', 8), ('fascinante', 8), ('humillante', 3), ('interesante', 51), ('terminará', 4), ('muchachas', 3), ('españa', 10), ('tokio', 38), ('quitando', 4), ('lengua', 33), ('reservé', 1), ('quebré', 3), ('permitir', 21), ('permitírmelo', 1), ('apañármelas', 1), ('aguanto', 10), ('soportarlo', 5), ('sentir', 10), ('rendirme', 3), ('oír', 36), ('evitarlo', 6), ('veros', 7), ('verle', 9), ('deshacerlo', 1), ('resfrié', 3), ('pillé', 2), ('capturé', 1), ('anguila', 2), ('cogí', 10), ('acobardé', 1), ('cociné', 2), ('podía', 78), ('dedo', 29), ('escuché', 20), ('comprendo', 16), ('pillado', 1), ('sequé', 1), ('muerte', 53), ('traicionada', 1), ('febril', 1), ('impotente', 2), ('desamparado', 3), ('indefenso', 6), ('excluido', 1), ('rechazado', 7), ('daban', 1), ('tosté', 1), ('adiviné', 1), ('correctamente', 3), ('acerté', 2), ('opción', 35), ('política', 7), ('mapaches', 1), ('reptiles', 2), ('tomates', 4), ('barbita', 1), ('chivo', 2), ('caspa', 1), ('fiebre', 28), ('centimo', 4), ('chavo', 5), ('mango', 5), ('lapiceras', 1), ('bolígrafos', 8), ('apurarme', 1), ('automóviles', 1), ('trabajos', 5), ('tambores', 1), ('sirva', 2), ('tobillo', 6), ('codo', 4), ('imaginé', 3), ('ganaríamos', 1), ('aprendí', 32), ('dibujos', 3), ('animados', 1), ('caricaturas', 1), ('escalada', 2), ('automóvil', 11), ('partida', 7), ('comedias', 2), ('berenjenas', 2), ('aprender', 74), ('festejar', 2), ('casamientos', 1), ('bodas', 4), ('herir', 6), ('conocido', 17), ('ayudarla', 9), ('ayudarlo', 4), ('obedecer', 9), ('decírselo', 7), ('advertirle', 2), ('internet', 5), ('escalera', 15), ('lápiz', 31), ('ducha', 22), ('pañuelo', 11), ('pastillas', 6), ('tijeras', 7), ('afeitarme', 1), ('rindo', 3), ('pedí', 67), ('burlé', 2), ('béisbol', 49), ('campo', 26), ('jugaba', 6), ('jugué', 6), ('cubierto', 9), ('refugiarme', 1), ('competí', 1), ('alcalde', 18), ('soné', 2), ('campana', 13), ('campanilla', 1), ('leído', 23), ('reconozco', 6), ('corro', 6), ('sacudí', 1), ('arriesgué', 1), ('llevé', 6), ('totalmente', 44), ('traté', 12), ('dólar', 4), ('devolución', 1), ('evidencias', 2), ('pruebas', 11), ('profesora', 23), ('nací', 19), ('preocupado', 36), ('extenuado', 3), ('petrificado', 2), ('escéptico', 4), ('sorprendió', 19), ('compras', 29), ('10', 13), ('ayudaré', 12), ('detendré', 3), ('negaré', 1), ('negar', 7), ('leerlo', 8), ('estaría', 15), ('volvería', 4), ('haría', 43), ('tenedor', 6), ('arreglaré', 2), ('placer', 12), ('traeré', 5), ('ford', 3), ('vendré', 15), ('buscaré', 2), ('doble', 13), ('premiaré', 1), ('recompensaré', 1), ('entenderé', 1), ('comprenderé', 1), ('cristiano', 5), ('adicto', 9), ('tv', 6), ('carpintero', 4), ('maderero', 1), ('detective', 3), ('salvavidas', 3), ('masoquista', 1), ('ave', 4), ('nocturna', 5), ('atrasado', 13), ('ingeniero', 7), ('banco', 65), ('enterado', 5), ('suplicando', 1), ('implorando', 1), ('llamando', 17), ('comprendiendo', 1), ('daltónico', 1), ('cómodo', 8), ('cómoda', 5), ('vuelvo', 11), ('carcajeo', 1), ('extrovertida', 2), ('friendo', 3), ('apuros', 2), ('aprieto', 1), ('bañadera', 1), ('bromeo', 1), ('zurdo', 2), ('propio', 33), ('miope', 1), ('celosa', 8), ('perfecta', 15), ('especial', 22), ('gritando', 9), ('armado', 2), ('mente', 21), ('abierta', 46), ('desbordado', 1), ('abrumado', 1), ('dolorido', 1), ('responsable', 7), ('desmañado', 1), ('modesto', 3), ('podrido', 6), ('farfullando', 4), ('respirando', 4), ('peligroso', 34), ('noticia', 30), ('venenoso', 1), ('pequeña', 35), ('doctora', 5), ('radio', 61), ('río', 48), ('viernes', 19), ('molesta', 14), ('parecer', 5), ('suceder', 8), ('verdaderamente', 27), ('suena', 51), ('siglos', 2), ('fabuloso', 5), ('hecha', 24), ('suave', 8), ('importará', 4), ('empeorará', 1), ('lloverá', 16), ('callejón', 5), ('salida', 12), ('seta', 1), ('atajo', 8), ('sorpresa', 30), ('engendro', 1), ('artificial', 1), ('botado', 2), ('inevitable', 6), ('irrelevante', 5), ('engañoso', 2), ('refrescante', 2), ('sofocante', 1), ('agobio', 1), ('solamente', 5), ('pruébatela', 1), ('envuélvalo', 2), ('tenlo', 1), ('tenedlo', 3), ('practicando', 5), ('koalas', 1), ('plomo', 1), ('metal', 6), ('mensaje', 55), ('dejadle', 1), ('limones', 2), ('ácidos', 1), ('amargos', 1), ('llevarlo', 3), ('averiguarlo', 4), ('arregle', 3), ('celebremos', 1), ('terminemos', 6), ('remontemos', 4), ('barriletes', 1), ('cometas', 4), ('volemos', 4), ('cometa', 6), ('olvidémoslo', 1), ('tomemos', 7), ('llevémonos', 1), ('emborrachémonos', 1), ('embriaguémonos', 1), ('curémonos', 1), ('alistémonos', 1), ('colectivo', 15), ('descansemos', 3), ('quedémonos', 1), ('paremos', 3), ('intentemos', 6), ('visitemos', 1), ('equitativa', 1), ('oficina', 56), ('cielo', 40), ('aflojate', 1), ('servida', 4), ('achícalo', 1), ('haced', 4), ('armad', 1), ('mete', 1), ('boche', 3), ('viuda', 3), ('resplandeciente', 1), ('radiante', 2), ('sobrina', 3), ('esté', 55), ('veámonos', 3), ('reúnete', 1), ('pelo', 117), ('voló', 10), ('camisa', 74), ('húmeda', 2), ('zapatos', 113), ('chirrían', 2), ('olvides', 29), ('botella', 24), ('abran', 6), ('abrid', 2), ('divertidas', 2), ('aburren', 1), ('prosiga', 1), ('arreglad', 1), ('arreglá', 1), ('arreglen', 1), ('dímelo', 4), ('leé', 1), ('recuérdamelo', 1), ('repite', 4), ('repítemelo', 1), ('ensilla', 1), ('cuida', 9), ('dile', 27), ('drogas', 10), ('envíelo', 2), ('correo', 24), ('aéreo', 5), ('envíalo', 1), ('mándemelos', 1), ('durmió', 22), ('perdonó', 4), ('cantante', 23), ('despreocupada', 2), ('grácil', 1), ('casó', 38), ('apuñaló', 7), ('ató', 6), ('quitó', 33), ('jadeando', 4), ('brasileña', 1), ('asertiva', 1), ('preciosa', 10), ('piedad', 3), ('tenga', 28), ('muestra', 6), ('cartas', 33), ('mostraos', 1), ('derecho', 27), ('tosió', 2), ('ayude', 24), ('perdón', 28), ('alarma', 8), ('sonar', 10), ('piensas', 42), ('ortografía', 1), ('cenar', 34), ('roba', 1), ('cotilla', 2), ('marujees', 1), ('párese', 2), ('reñiros', 1), ('señora', 4), ('aspirina', 5), ('durar', 8), ('brincó', 4), ('funcionar', 16), ('iglesia', 33), ('pagoda', 1), ('niñada', 1), ('dudoso', 2), ('vestido', 58), ('personal', 11), ('terrible', 35), ('cordero', 1), ('húmedo', 5), ('echada', 4), ('abrió', 39), ('motor', 12), ('extinguió', 4), ('lago', 35), ('hojas', 10), ('luna', 30), ('red', 2), ('cortó', 24), ('radar', 1), ('calurosa', 1), ('mar', 25), ('color', 24), ('gris', 4), ('soldado', 11), ('fría', 24), ('pozo', 10), ('riesgo', 20), ('geniales', 4), ('estupendos', 4), ('hablaron', 3), ('charlaron', 1), ('actores', 1), ('melones', 1), ('pilotos', 2), ('lindos', 3), ('lindas', 3), ('amarillos', 2), ('amarillas', 2), ('cenaron', 4), ('cambiar', 41), ('liebre', 2), ('beben', 6), ('temían', 1), ('saludaron', 2), ('tomaron', 12), ('ignoraron', 2), ('viven', 52), ('separados', 4), ('contentos', 8), ('contentas', 1), ('vinieron', 11), ('ataron', 2), ('entendieron', 2), ('equivocados', 11), ('equivocadas', 6), ('quedarán', 3), ('matarán', 1), ('gustará', 11), ('responderán', 1), ('rusos', 2), ('rusas', 2), ('discutiendo', 7), ('correctos', 1), ('becarios', 1), ('prácticas', 1), ('celosos', 2), ('nerviosos', 4), ('charlando', 7), ('aguardando', 1), ('preocupados', 10), ('hotel', 50), ('basura', 15), ('mahjong', 2), ('destino', 27), ('chévere', 3), ('muchacho', 20), ('final', 39), ('aquellos', 14), ('regalos', 10), ('tíraselo', 1), ('tírasela', 1), ('limitado', 2), ('tiempos', 14), ('duros', 4), ('cual', 7), ('merece', 29), ('errar', 1), ('horneó', 4), ('responsabilizó', 1), ('pilló', 4), ('persiguió', 3), ('asfixió', 1), ('contribuyó', 2), ('aprobó', 12), ('abandonó', 24), ('exageró', 1), ('exagera', 1), ('obtuvo', 12), ('emocionó', 1), ('disparo', 4), ('piano', 52), ('musulmán', 1), ('banquero', 6), ('cyborg', 1), ('leyenda', 2), ('maníaco', 2), ('sangrando', 6), ('creativo', 1), ('divorciado', 1), ('desconfiado', 1), ('amistoso', 2), ('guapo', 24), ('entrado', 5), ('shock', 3), ('inseguro', 4), ('insolente', 2), ('inspirado', 1), ('implicado', 3), ('aprendiendo', 25), ('socio', 5), ('enemigo', 34), ('perverso', 2), ('atarantado', 1), ('meticuloso', 3), ('ruidoso', 4), ('entrenando', 4), ('patada', 4), ('defraudó', 2), ('mentido', 9), ('vivía', 21), ('tenso', 4), ('fatigado', 1), ('haber', 177), ('quizás', 31), ('desfallecer', 1), ('desmayarse', 1), ('confundió', 4), ('echó', 27), ('bromea', 3), ('achuchó', 1), ('leía', 3), ('novelas', 15), ('suavemente', 4), ('sentado', 26), ('abatió', 1), ('robó', 28), ('entiende', 37), ('advirtió', 9), ('enfermero', 5), ('desorientado', 6), ('artero', 1), ('impactado', 3), ('pasmado', 3), ('averiguará', 2), ('recordará', 3), ('primo', 13), ('bostezar', 2), ('apaga', 12), ('apagad', 1), ('encienda', 5), ('destraba', 1), ('lavá', 2), ('cuidadosamente', 8), ('dedos', 21), ('odiamos', 3), ('profesores', 15), ('maestros', 3), ('arrestamos', 1), ('ayudarlos', 6), ('cerramos', 2), ('contamos', 3), ('crudo', 7), ('visita', 10), ('salimos', 9), ('zona', 5), ('picnics', 1), ('waffles', 1), ('gofres', 1), ('conocimos', 9), ('pagamos', 1), ('cantamos', 1), ('compartimos', 4), ('ideas', 21), ('andamos', 2), ('justicia', 3), ('votar', 19), ('éramos', 13), ('seremos', 6), ('asesinados', 4), ('detendremos', 1), ('visitaremos', 4), ('canadienses', 17), ('disponibles', 1), ('cordiales', 1), ('fundidos', 1), ('imparciales', 1), ('organizados', 1), ('prisioneros', 4), ('satisfechos', 6), ('bebidos', 1), ('estado', 201), ('bravo', 2), ('catástrofe', 3), ('continuación', 7), ('pasando', 48), ('sucede', 14), ('premio', 21), ('correrás', 1), ('peine', 4), ('zoológico', 11), ('cuáles', 18), ('individuo', 2), ('enfadados', 5), ('enfadadas', 5), ('tristes', 10), ('preguntaste', 5), ('llorabas', 1), ('lloraste', 1), ('corriste', 1), ('soñamos', 1), ('harías', 7), ('respuesta', 93), ('anota', 7), ('anote', 4), ('anoten', 2), ('anotad', 4), ('traicionaste', 5), ('engañaste', 3), ('escondas', 6), ('decírnoslo', 1), ('merecías', 2), ('bobo', 1), ('suertudo', 5), ('alegrado', 1), ('deberían', 28), ('dormías', 1), ('dormían', 3), ('alcanzarás', 1), ('descubrirás', 2), ('perderás', 3), ('agradecerás', 1), ('agradecer', 1), ('donnadie', 1), ('murmurando', 8), ('chismorreando', 4), ('decidido', 24), ('decidida', 1), ('remedio', 4), ('inocentes', 1), ('perteneces', 3), ('enemiga', 6), ('enemigos', 18), ('enemigas', 5), ('fiar', 11), ('estancado', 1), ('atascado', 6), ('alas', 7), ('ladrando', 6), ('zorro', 10), ('accidentes', 6), ('ocurren', 4), ('invisible', 1), ('toda', 147), ('lastimando', 2), ('aplica', 6), ('aplique', 1), ('apliquen', 1), ('japoneses', 6), ('mago', 5), ('sonrojando', 1), ('bebiendo', 15), ('flexible', 4), ('congelando', 1), ('estudiantes', 44), ('estudias', 15), ('pregúntate', 1), ('atlántida', 3), ('franco', 2), ('osos', 6), ('muerdete', 1), ('cepíllese', 1), ('dientes', 38), ('cepíllense', 1), ('cepíllate', 3), ('lentos', 2), ('permiten', 2), ('tocar', 56), ('conejos', 11), ('quedarnos', 6), ('apuntarnos', 1), ('confiar', 56), ('llamarlo', 3), ('encontrarla', 1), ('descubrirlo', 4), ('levantaros', 1), ('enseñarme', 8), ('verifique', 3), ('datos', 5), ('carpeta', 3), ('buzón', 5), ('orden', 21), ('cerezas', 1), ('elige', 8), ('sabiamente', 4), ('espejo', 9), ('persianas', 1), ('cajón', 8), ('ventana', 85), ('cierre', 13), ('cierren', 2), ('únetenos', 2), ('sentarte', 8), ('consulte', 2), ('contrólate', 3), ('modérese', 1), ('controlate', 1), ('cookie', 5), ('cruza', 2), ('puente', 21), ('papas', 19), ('tenían', 22), ('encontraste', 23), ('divertiste', 4), ('pasaste', 7), ('mataste', 5), ('conocías', 6), ('conocíais', 1), ('votado', 4), ('advertiste', 3), ('dar', 86), ('inyección', 5), ('quiera', 29), ('lloras', 5), ('seguido', 13), ('niegas', 1), ('descansas', 1), ('bichos', 1), ('lluvia', 37), ('vives', 22), ('vivís', 4), ('juegan', 5), ('querés', 93), ('deberes', 25), ('preguntéis', 1), ('bruto', 1), ('desanimado', 3), ('desanimada', 1), ('bebáis', 2), ('exageréis', 1), ('atrapen', 3), ('ligero', 8), ('comas', 10), ('cable', 2), ('riñas', 1), ('eches', 2), ('reprimenda', 1), ('sermonees', 1), ('desanimes', 2), ('muecas', 2), ('menciones', 2), ('opongas', 1), ('estafes', 1), ('fume', 4), ('habléis', 2), ('acuses', 1), ('delates', 1), ('toquéis', 3), ('uses', 8), ('dragones', 4), ('molan', 1), ('guays', 2), ('guay', 3), ('trace', 1), ('bailaba', 3), ('saltaron', 1), ('ríen', 1), ('alegraron', 1), ('hubo', 22), ('vitoreo', 1), ('general', 4), ('aclamación', 1), ('triunfa', 1), ('explícamelo', 3), ('acláramelo', 1), ('explíquese', 1), ('pelea', 13), ('depósito', 2), ('consejo', 64), ('seguir', 42), ('propósito', 15), ('súbanse', 1), ('grano', 7), ('chance', 1), ('martillo', 11), ('espada', 5), ('dáselos', 2), ('danos', 7), ('diviértete', 3), ('garaje', 3), ('escaleras', 32), ('paraguas', 34), ('pásame', 13), ('cruasán', 4), ('tengáis', 3), ('ponche', 2), ('decidiste', 7), ('portó', 6), ('arruinó', 8), ('infringió', 1), ('cuernos', 2), ('alegría', 10), ('recientemente', 6), ('repente', 22), ('cumple', 8), ('fascinaba', 1), ('reparó', 6), ('pocos', 15), ('melena', 1), ('picasso', 3), ('piernas', 26), ('largas', 13), ('zanahorias', 10), ('colgó', 7), ('italiano', 5), ('distraído', 5), ('universitario', 8), ('pijamas', 3), ('sobrepeso', 3), ('diario', 22), ('acerca', 80), ('animales', 44), ('cazar', 7), ('naranjas', 19), ('sonreír', 11), ('lentes', 33), ('jugó', 8), ('izó', 1), ('endeudó', 1), ('permaneció', 6), ('fácilmente', 26), ('grita', 4), ('comparte', 3), ('aterroriza', 4), ('volteó', 3), ('giró', 5), ('ipad', 6), ('nació', 29), ('francia', 19), ('persistente', 4), ('pegar', 1), ('árabe', 5), ('bárbaro', 1), ('historiador', 1), ('astuto', 12), ('lisboa', 1), ('envejeciendo', 3), ('senil', 1), ('solitario', 6), ('salud', 25), ('riqueza', 5), ('eche', 2), ('ponerme', 8), ('bici', 11), ('bébete', 2), ('bebeos', 1), ('rojos', 8), ('furiosa', 2), ('aguantá', 1), ('contén', 1), ('respiración', 7), ('momentito', 2), ('hierba', 8), ('declara', 1), ('melodramático', 2), ('mides', 3), ('gafe', 1), ('iba', 54), ('crecido', 1), ('llevas', 15), ('aborrezco', 2), ('violencia', 12), ('ahogué', 1), ('cedo', 1), ('pasteles', 5), ('poquito', 9), ('contra', 60), ('guerra', 75), ('estupefacto', 1), ('brasil', 6), ('noruega', 2), ('bruja', 1), ('relativamente', 1), ('cariño', 3), ('convertido', 3), ('empecé', 12), ('sudar', 3), ('comienzo', 17), ('inclinación', 1), ('educadamente', 1), ('golpeé', 1), ('rodilla', 14), ('antes', 159), ('apenas', 46), ('mentes', 1), ('moverlo', 2), ('ápice', 2), ('quejarme', 1), ('quejar', 1), ('odiarte', 4), ('oírte', 10), ('oíros', 2), ('oírles', 1), ('oírle', 1), ('ayudaros', 10), ('alcanzar', 6), ('mostrarte', 7), ('soporto', 13), ('pararla', 3), ('detenerla', 1), ('pararle', 2), ('agarré', 6), ('gripe', 10), ('engripé', 1), ('matarte', 11), ('matarlo', 2), ('matarla', 2), ('mataros', 2), ('matarlos', 2), ('matarlas', 2), ('ligera', 3), ('preguntado', 10), ('aposta', 4), ('adrede', 3), ('aún', 140), ('simpatiza', 1), ('caes', 3), ('relajarme', 6), ('soledad', 2), ('detalles', 18), ('halagado', 1), ('refrescado', 1), ('comparto', 10), ('gorra', 8), ('700', 3), ('parque', 50), ('química', 7), ('hipocresía', 2), ('sorpresas', 5), ('viajar', 44), ('granada', 1), ('scooter', 1), ('ardor', 1), ('elección', 25), ('duda', 10), ('futuro', 17), ('vídeo', 8), ('anular', 1), ('suspenderlo', 1), ('cancelar', 4), ('cumplí', 2), ('veinte', 21), ('conseguir', 27), ('pateé', 1), ('normas', 17), ('australia', 66), ('chocolate', 21), ('idiomas', 14), ('pop', 4), ('playa', 34), ('gustás', 1), ('gustaban', 6), ('estima', 2), ('astronomía', 2), ('yemas', 1), ('fortuna', 13), ('cometí', 4), ('desayuno', 30), ('enfadar', 6), ('agradecérselo', 2), ('masaje', 2), ('milagro', 3), ('primeros', 3), ('auxilios', 3), ('jabón', 11), ('deuda', 10), ('computadora', 17), ('pinté', 5), ('plantado', 3), ('árbol', 49), ('violoncelo', 1), ('flauta', 5), ('apunté', 8), ('milla', 3), ('etiqueta', 5), ('rehusé', 1), ('arrepiento', 12), ('aconsejen', 1), ('dirijo', 2), ('contuve', 2), ('burlona', 2), ('nado', 4), ('entendido', 13), ('solía', 68), ('visité', 5), ('despidan', 2), ('divorciarme', 1), ('divorcio', 5), ('pancho', 2), ('martini', 1), ('comérmelo', 1), ('jubilarme', 2), ('2003', 1), ('asombrado', 1), ('piedra', 24), ('infeliz', 6), ('intentaré', 8), ('callado', 11), ('quejaría', 1), ('pondría', 3), ('queja', 6), ('ensalada', 12), ('investigaría', 1), ('echaría', 1), ('apoyaré', 1), ('castigarán', 2), ('batirte', 1), ('agarrar', 2), ('madrazos', 2), ('comprobaré', 1), ('tí', 2), ('recogeré', 4), ('protegeré', 2), ('consultaré', 1), ('almohada', 7), ('pueda', 36), ('lavar', 21), ('prima', 4), ('ciudadano', 14), ('estados', 29), ('unidos', 30), ('ciudadana', 1), ('traductor', 3), ('ando', 10), ('chilla', 1), ('hule', 3), ('humor', 37), ('anciana', 9), ('registrando', 1), ('decepcionado', 16), ('almorzando', 12), ('enloqueciendo', 2), ('disponible', 9), ('dispuesto', 9), ('colaborar', 1), ('educan', 1), ('enseñan', 1), ('guardés', 2), ('cuido', 5), ('invitando', 1), ('clase', 89), ('católica', 1), ('mendigo', 2), ('delator', 1), ('embaucando', 1), ('drogo', 1), ('suicida', 5), ('aliado', 2), ('cegato', 1), ('orgulloso', 50), ('orgullosa', 19), ('retraso', 15), ('hastiada', 1), ('quedo', 12), ('nerviosa', 6), ('relajada', 1), ('mucha', 83), ('ahorrando', 3), ('dibujado', 2), ('sentido', 46), ('sospechoso', 15), ('contactar', 3), ('contagioso', 3), ('adecuado', 4), ('roja', 24), ('abierto', 15), ('flor', 25), ('puzzle', 4), ('dvd', 1), ('llover', 50), ('2', 5), ('euros', 2), ('enchinada', 1), ('emboscada', 4), ('lloviznaba', 2), ('excesivo', 3), ('medio', 24), ('ayer', 225), ('aterrador', 4), ('llevará', 4), ('horas', 70), ('grupo', 19), ('lluvioso', 2), ('soleado', 7), ('mediodía', 24), ('complicado', 11), ('temporada', 8), ('venados', 1), ('oscurecido', 2), ('droga', 2), ('mono', 10), ('truco', 9), ('lógico', 4), ('natural', 6), ('inusual', 2), ('sofá', 20), ('segunda', 11), ('improbable', 5), ('amargo', 12), ('asia', 5), ('manténgame', 1), ('informado', 14), ('manteneme', 1), ('fuerza', 20), ('abandónalo', 1), ('dejádmelo', 1), ('cargue', 1), ('suelte', 1), ('soltadme', 1), ('permíteme', 8), ('tratar', 6), ('barrilete', 1), ('papalote', 1), ('probemos', 7), ('almorcemos', 2), ('olvidemos', 2), ('baraja', 2), ('pesquemos', 1), ('candela', 1), ('vela', 9), ('libertad', 11), ('inmortal', 1), ('bajen', 7), ('permiso', 8), ('marimacho', 2), ('chicazo', 2), ('encantadora', 7), ('abrir', 38), ('funcione', 6), ('azules', 13), ('adoloridos', 2), ('fríos', 2), ('pequeñita', 1), ('minúscula', 1), ('pulso', 8), ('elevado', 2), ('quemadura', 1), ('garganta', 10), ('juguete', 9), ('dañado', 4), ('pega', 5), ('conocerte', 11), ('prestó', 6), ('previno', 4), ('importar', 4), ('ilesos', 2), ('esfuerzo', 13), ('enseñado', 5), ('enseñó', 35), ('erróneo', 3), ('intentad', 2), ('intente', 2), ('intenten', 2), ('ventanas', 27), ('gane', 8), ('ketchup', 4), ('ridícula', 5), ('mascotas', 2), ('contestame', 1), ('educado', 14), ('calmaos', 1), ('tranquilícese', 1), ('pásate', 3), ('copiad', 1), ('copie', 1), ('copiá', 1), ('copien', 1), ('sígame', 1), ('retroceda', 2), ('inténtelo', 2), ('dese', 1), ('dense', 3), ('hala', 2), ('gatillo', 11), ('envía', 2), ('quejarse', 7), ('quejaros', 1), ('precipitación', 1), ('levantá', 2), ('levanten', 2), ('levante', 3), ('artículo', 15), ('tinto', 5), ('respétate', 1), ('venganza', 10), ('roma', 16), ('italia', 11), ('ahórrate', 4), ('saliva', 2), ('palabrería', 1), ('oraciones', 2), ('véalo', 1), ('compártelo', 1), ('compartilo', 2), ('derrotó', 2), ('despreció', 1), ('desprecia', 6), ('1960', 3), ('divorció', 3), ('idolatraba', 1), ('insultó', 9), ('pianista', 5), ('calcetines', 21), ('rechazó', 20), ('rechaza', 1), ('montó', 6), ('camello', 3), ('chao', 1), ('cantaba', 3), ('alegremente', 1), ('melancólicamente', 1), ('carretero', 2), ('fijó', 2), ('mirada', 13), ('arduamente', 1), ('promovida', 1), ('venderla', 2), ('mostranos', 1), ('tamaño', 12), ('disculpe', 14), ('tardanza', 4), ('disculparte', 2), ('disculpes', 2), ('evitarme', 1), ('metiche', 1), ('interferir', 3), ('pellizcarme', 1), ('asustar', 2), ('presumir', 2), ('sobarme', 1), ('tocarme', 3), ('saquen', 2), ('precaución', 2), ('cordialmente', 1), ('mochila', 15), ('ayudado', 7), ('asombroso', 7), ('mejorable', 1), ('mejorarse', 1), ('hermoso', 36), ('discutible', 2), ('deshonesto', 6), ('asunto', 43), ('ofensivo', 3), ('problemático', 1), ('reventó', 4), ('globo', 5), ('pesada', 8), ('jaula', 6), ('vacía', 27), ('marrón', 3), ('tictac', 4), ('cortina', 4), ('telón', 2), ('muriéndose', 1), ('chirrió', 2), ('jurado', 4), ('desacuerdo', 2), ('resultó', 17), ('clara', 11), ('bombilla', 1), ('fundida', 2), ('apagada', 1), ('micrófono', 1), ('lechero', 2), ('fiesta', 79), ('piscina', 8), ('carrera', 24), ('paró', 25), ('carretera', 12), ('congelada', 2), ('oscura', 10), ('show', 6), ('función', 6), ('despejado', 2), ('tormenta', 20), ('amainó', 1), ('aflojó', 3), ('gemelas', 3), ('secó', 11), ('curó', 1), ('cabe', 3), ('apuro', 3), ('límite', 8), ('lastiman', 2), ('observaron', 1), ('comtemplaron', 1), ('cantantes', 2), ('degradaron', 1), ('descendieron', 1), ('merecían', 1), ('desprecian', 3), ('desaparecieron', 2), ('cavaron', 1), ('tumba', 10), ('casaron', 2), ('sensatos', 1), ('mintieron', 2), ('confiaron', 1), ('confiaban', 3), ('comían', 1), ('cederán', 1), ('encontrarán', 6), ('acordarán', 1), ('escapando', 5), ('escapan', 1), ('peleando', 6), ('inmaduros', 1), ('involucrados', 1), ('traidores', 2), ('raras', 4), ('medítalo', 1), ('medita', 1), ('antiguo', 9), ('encaja', 4), ('839', 1), ('lujo', 7), ('entrenador', 4), ('entrenadora', 1), ('relajante', 3), ('sabotaje', 1), ('faltaba', 1), ('cds', 2), ('admira', 2), ('pierde', 12), ('saciarse', 1), ('evitaba', 1), ('cuidó', 7), ('trajo', 21), ('venía', 5), ('decidir', 8), ('rehusarse', 1), ('convenció', 4), ('detesta', 5), ('divirtió', 5), ('tuberculosis', 2), ('2009', 1), ('darse', 10), ('perilla', 2), ('coartada', 4), ('pecas', 3), ('insomnio', 1), ('aceitunas', 2), ('ignoró', 9), ('fascista', 1), ('luchador', 1), ('guerrero', 1), ('patriota', 1), ('plomero', 1), ('recluso', 1), ('campesino', 1), ('refugiado', 1), ('manipulador', 3), ('maquinador', 1), ('cirujano', 4), ('traidor', 8), ('camionero', 3), ('viudo', 1), ('ambicioso', 4), ('brillante', 14), ('volviendo', 16), ('embustero', 3), ('excéntrico', 2), ('emocional', 3), ('enérgico', 1), ('despistado', 7), ('honorable', 1), ('mejorando', 9), ('ocultando', 15), ('sincero', 3), ('sobrino', 4), ('obsesivo', 1), ('perplejo', 3), ('indeciso', 4), ('debilitando', 1), ('debilita', 1), ('silbando', 2), ('hockey', 5), ('ponis', 1), ('reggae', 3), ('encendió', 17), ('prendió', 15), ('horno', 6), ('lucía', 6), ('fiero', 1), ('deportes', 18), ('puñetazo', 6), ('rescató', 1), ('sentó', 55), ('tronco', 1), ('regañó', 2), ('agradeció', 7), ('zancadilleó', 1), ('visitó', 15), ('alejó', 2), ('pony', 1), ('raptado', 3), ('ejecutado', 2), ('dudando', 1), ('torturado', 4), ('observó', 5), ('observa', 3), ('encontrará', 6), ('amará', 6), ('alegrará', 1), ('aparecerá', 1), ('tendrá', 16), ('éxito', 45), ('entrará', 1), ('trabajaba', 13), ('preocuparos', 2), ('preocuparse', 10), ('tratad', 1), ('trate', 2), ('llevarte', 2), ('procura', 1), ('congeniar', 1), ('tuerce', 1), ('gire', 2), ('girad', 2), ('involucrado', 5), ('riega', 1), ('plantas', 8), ('aceptamos', 6), ('cheques', 7), ('odiábamos', 1), ('amábamos', 1), ('confiamos', 3), ('llegamos', 15), ('competimos', 1), ('vinimos', 4), ('230', 33), ('dependemos', 2), ('molestamos', 1), ('dimos', 9), ('crisis', 2), ('teoría', 11), ('visitas', 5), ('oímos', 13), ('tiros', 2), ('escuchamos', 4), ('topamos', 2), ('acabamos', 9), ('referimos', 1), ('pasada', 37), ('evacuar', 3), ('sentarnos', 8), ('avisarle', 2), ('retirarnos', 1), ('líder', 10), ('regreses', 1), ('apegados', 1), ('encallados', 1), ('estudiábamos', 1), ('entusiasmados', 2), ('partido', 24), ('rescatados', 1), ('encontraremos', 8), ('sabremos', 2), ('notificaremos', 1), ('pagaremos', 2), ('hablaremos', 9), ('compañeros', 7), ('llevamos', 7), ('historiadores', 1), ('apurados', 3), ('socorristas', 1), ('rodeados', 2), ('completamente', 51), ('película', 83), ('bonita', 38), ('larga', 32), ('dijisteis', 4), ('desgracia', 1), ('pachuca', 1), ('toluca', 1), ('mudarnos', 1), ('cúando', 1), ('aparcar', 11), ('estacionar', 11), ('aduana', 2), ('cuchilla', 1), ('resto', 10), ('correcta', 25), ('estropeó', 3), ('asesinado', 9), ('hamlet', 2), ('invitarían', 1), ('viniste', 15), ('vinisteis', 2), ('renunciaste', 1), ('paraste', 2), ('quedaste', 4), ('gritaste', 1), ('ayudarás', 3), ('acompañáis', 1), ('unirás', 2), ('unirán', 1), ('abandonaste', 3), ('perturbado', 1), ('guapísima', 2), ('espléndida', 2), ('escapar', 28), ('lidias', 1), ('mereces', 12), ('golpearon', 5), ('pulsera', 4), ('mami', 2), ('lastimaste', 1), ('diriges', 1), ('defraudaste', 1), ('sorprendido', 25), ('sorprendida', 7), ('atrasaste', 1), ('lleves', 6), ('equivoques', 1), ('decírmelo', 2), ('pasatiempo', 18), ('lees', 6), ('salvado', 6), ('deberíais', 14), ('empezar', 55), ('estuviste', 23), ('moriréis', 1), ('morirán', 2), ('ajustarás', 1), ('establecidas', 1), ('necesitarás', 3), ('impacientes', 2), ('motivados', 2), ('necesario', 20), ('autoridad', 7), ('práctico', 4), ('propietario', 2), ('sabio', 7), ('sabia', 9), ('engordado', 5), ('enrojecida', 1), ('mutiló', 1), ('torrencial', 2), ('agrega', 3), ('añada', 4), ('ajusta', 2), ('frenos', 6), ('ajustad', 1), ('gratuita', 3), ('iguales', 15), ('molestando', 10), ('único', 34), ('arresto', 4), ('detenido', 8), ('américa', 20), ('cometió', 11), ('respóndame', 1), ('papel', 46), ('americanos', 5), ('estadounidenses', 6), ('olvidadiza', 2), ('desmemoriado', 1), ('salís', 1), ('libres', 12), ('tocas', 5), ('escuchas', 3), ('creyente', 4), ('chef', 5), ('preguntale', 1), ('sincera', 5), ('sinceras', 1), ('demás', 27), ('compórtate', 1), ('construyen', 1), ('nidos', 1), ('profundamente', 30), ('inspira', 1), ('ambulancia', 12), ('hospital', 41), ('mordida', 2), ('probarme', 3), ('rentar', 2), ('firmar', 8), ('ocuparte', 2), ('coger', 15), ('lazo', 2), ('despedir', 5), ('champaña', 2), ('elija', 3), ('click', 1), ('enlace', 4), ('pincha', 1), ('codificar', 1), ('codificación', 1), ('insisto', 1), ('admítelo', 1), ('aprisa', 1), ('apura', 1), ('tócala', 1), ('podrías', 76), ('callarte', 2), ('crimen', 14), ('compensa', 3), ('delincuencia', 1), ('repártenos', 1), ('naipes', 2), ('inminente', 2), ('defendeos', 1), ('pases', 3), ('vueltas', 8), ('desperté', 15), ('hirió', 8), ('conocía', 23), ('compraste', 39), ('comprasteis', 3), ('zumo', 9), ('besado', 4), ('besaste', 2), ('viviste', 2), ('vivido', 12), ('habías', 11), ('saliste', 5), ('hormigas', 3), ('ríes', 5), ('mascota', 6), ('latín', 5), ('jugo', 15), ('rosa', 17), ('comprende', 6), ('entendéis', 2), ('comprendes', 1), ('comprendéis', 1), ('dé', 7), ('desean', 2), ('abrace', 2), ('cobarde', 9), ('engañéis', 2), ('cambies', 8), ('decepciones', 5), ('defraudes', 2), ('desilusiones', 2), ('busques', 2), ('repitas', 1), ('amenaces', 1), ('despiertes', 1), ('armas', 14), ('arrojen', 1), ('tiren', 1), ('terror', 7), ('chillido', 3), ('llene', 2), ('formulario', 10), ('llená', 2), ('completá', 1), ('completa', 4), ('complete', 3), ('consígame', 1), ('cuelga', 7), ('arrodíllate', 1), ('rodillas', 7), ('poneos', 4), ('arrodillaos', 1), ('cuchara', 7), ('seguida', 15), ('señores', 4), ('noches', 17), ('señoritas', 1), ('consejera', 1), ('heno', 2), ('fiera', 1), ('chantajeó', 3), ('bloqueó', 2), ('palmó', 1), ('mejoró', 6), ('tres', 218), ('marrones', 4), ('castaño', 7), ('remordimiento', 1), ('casas', 12), ('mantuvo', 13), ('biólogo', 2), ('poeta', 6), ('nato', 2), ('temerario', 1), ('verdadero', 32), ('científico', 7), ('40', 6), ('influyente', 2), ('introvertido', 2), ('misma', 63), ('fumador', 1), ('enviar', 4), ('texto', 15), ('guardó', 7), ('suicidó', 4), ('encima', 27), ('osaka', 5), ('reputación', 8), ('trasladó', 2), ('pidió', 77), ('posee', 6), ('tierra', 17), ('empujó', 6), ('rehuso', 1), ('marinero', 3), ('sacudió', 4), ('ruso', 9), ('fósforo', 2), ('estudió', 10), ('exterior', 4), ('vitaminas', 5), ('tomó', 55), ('sacó', 26), ('foto', 63), ('convirtió', 16), ('torció', 3), ('violó', 1), ('sonrisas', 1), ('encarcelado', 1), ('encolerizado', 1), ('volverá', 35), ('usaba', 3), ('pantalones', 23), ('guiones', 2), ('recuperará', 3), ('pasará', 13), ('conductor', 17), ('chofer', 4), ('periodista', 12), ('ideal', 6), ('sobreactuando', 1), ('atiende', 1), ('advertencias', 5), ('atienda', 1), ('atiendan', 1), ('pollera', 7), ('cierta', 17), ('dirección', 47), ('recibo', 7), ('ordenada', 6), ('agárraos', 2), ('agárrese', 2), ('agárrense', 2), ('sujétate', 2), ('sujétaos', 1), ('sujétese', 1), ('sujétense', 1), ('ascensor', 9), ('barandilla', 1), ('complejidad', 1), ('19', 2), ('vegetariano', 3), ('horneando', 4), ('deudas', 9), ('ecuador', 1), ('curiosa', 2), ('destrozado', 2), ('cebé', 1), ('anzuelo', 4), ('cactus', 1), ('nopal', 1), ('híbrido', 1), ('pasaje', 6), ('pedido', 9), ('consolarla', 1), ('chopin', 4), ('proteger', 7), ('culpar', 7), ('culparos', 1), ('culparte', 4), ('rezar', 2), ('decidí', 14), ('dimitir', 6), ('obtenerlo', 1), ('rehusar', 2), ('exigo', 1), ('reembolso', 3), ('limpié', 4), ('besé', 3), ('robé', 5), ('reprocho', 2), ('voto', 3), ('vacuno', 3), ('pool', 1), ('billar', 2), ('pinto', 1), ('fisurado', 1), ('abandoné', 1), ('bofetón', 1), ('consigo', 16), ('acuesto', 6), ('abeja', 8), ('conseguí', 10), ('saqué', 10), ('siete', 37), ('recibido', 9), ('pasé', 24), ('pesadilla', 10), ('sufrí', 1), ('decirle', 13), ('hipócritas', 1), ('mosquitos', 2), ('padres', 96), ('ordenador', 19), ('computador', 19), ('resaca', 5), ('jaqueca', 1), ('otitis', 1), ('negros', 4), ('discos', 1), ('puntas', 3), ('abiertas', 7), ('sobrinas', 2), ('distinta', 8), ('ignoro', 2), ('inventarlo', 1), ('inventar', 4), ('vendrías', 6), ('ganarás', 1), ('cantos', 1), ('populares', 5), ('sándwiches', 3), ('chucrut', 1), ('sandía', 4), ('bufanda', 6), ('estilo', 6), ('bloqueado', 1), ('trancado', 1), ('arete', 4), ('silla', 55), ('algunas', 62), ('minutos', 59), ('teclado', 3), ('compro', 4), ('emborracho', 1), ('amé', 2), ('ordené', 8), ('100', 7), ('guitarra', 49), ('choqué', 1), ('rehúso', 2), ('salvé', 1), ('bordillo', 3), ('envié', 3), ('concuerdo', 2), ('largarme', 1), ('beber', 75), ('firmé', 1), ('jugando', 50), ('tabaco', 9), ('opinión', 53), ('pensaba', 32), ('vengué', 1), ('usé', 5), ('plato', 12), ('acostumbraba', 1), ('comúnmente', 11), ('descuento', 6), ('disculpa', 15), ('creer', 56), ('competir', 3), ('confesar', 1), ('chaqueta', 28), ('frustrado', 5), ('área', 10), ('zoo', 12), ('lotería', 8), ('juzgar', 3), ('hubiera', 19), ('esperado', 13), ('agradecería', 2), ('devastado', 3), ('devolveré', 3), ('ire', 1), ('esconderé', 2), ('oraré', 1), ('rezaré', 1), ('mandar', 8), ('liberaré', 1), ('acompañaré', 3), ('trabajaré', 2), ('escribiré', 5), ('dependiente', 1), ('astrónomo', 1), ('siendo', 39), ('observado', 3), ('concentrando', 1), ('tomando', 20), ('pera', 2), ('ayuno', 1), ('poniendo', 25), ('empeorando', 7), ('alegra', 38), ('rayado', 1), ('toilette', 1), ('llevando', 3), ('adelgazando', 2), ('convencida', 1), ('abandono', 1), ('miento', 4), ('convencido', 11), ('convence', 1), ('persuade', 1), ('18', 3), ('echando', 5), ('bofes', 1), ('hígado', 5), ('sale', 25), ('muchísima', 2), ('autónomo', 4), ('bañando', 5), ('twitter', 4), ('cliente', 7), ('vecino', 17), ('perdonado', 4), ('diarrea', 1), ('cagalera', 1), ('evidencia', 12), ('rumores', 5), ('identifíquese', 2), ('puro', 4), ('toque', 10), ('impresionante', 8), ('caro', 31), ('pedazos', 8), ('sentidos', 3), ('piadosa', 1), ('egipcio', 2), ('resulta', 7), ('familiar', 10), ('resultar', 6), ('desagradable', 6), ('llovido', 2), ('daba', 9), ('sorprendente', 4), ('imprevisto', 1), ('crecer', 5), ('grasoso', 1), ('carga', 6), ('conspiración', 1), ('diccionario', 36), ('emergencia', 13), ('urgencias', 1), ('confidencial', 4), ('vivificante', 1), ('turistas', 2), ('humana', 2), ('bolsillo', 9), ('probablemente', 36), ('llueve', 30), ('bello', 8), ('bella', 15), ('cerrado', 12), ('subiendo', 9), ('molde', 1), ('escucharme', 3), ('escúchame', 5), ('acerques', 6), ('alejado', 6), ('alejada', 1), ('abrigo', 50), ('lleve', 7), ('permítame', 6), ('menú', 20), ('casémonos', 2), ('centro', 12), ('echemos', 3), ('cenemos', 3), ('démonos', 3), ('investiguemos', 1), ('escondamos', 1), ('pasemos', 2), ('cojamos', 1), ('maravillosa', 18), ('precio', 25), ('vence', 2), ('predicción', 4), ('decídete', 3), ('vivaracha', 1), ('vivaz', 1), ('bañar', 2), ('ponerlo', 5), ('podamos', 9), ('modales', 7), ('brazos', 9), ('entumecieron', 1), ('blancos', 9), ('pican', 3), ('atadas', 3), ('afición', 6), ('aburrida', 12), ('desaparecido', 6), ('hombro', 9), ('panza', 3), ('infalible', 2), ('ofrece', 1), ('movido', 1), ('barca', 4), ('volcó', 5), ('tené', 1), ('explícate', 1), ('explicarte', 1), ('perdóname', 3), ('perdóneme', 3), ('perdonarme', 5), ('reconsidera', 1), ('postura', 5), ('tapa', 5), ('gotera', 4), ('tapad', 1), ('tape', 1), ('tapen', 1), ('poetas', 3), ('escriben', 1), ('poemas', 11), ('ponelo', 2), ('póngalo', 4), ('apague', 5), ('molestarme', 3), ('léalo', 1), ('alfombras', 1), ('absorben', 1), ('sonido', 11), ('dígalo', 2), ('decidlo', 1), ('díganlo', 1), ('atorníllalo', 1), ('firmemente', 5), ('próxima', 26), ('envíamelo', 1), ('debutó', 1), ('manejarlo', 3), ('facilidad', 25), ('emborrachó', 3), ('fotografía', 10), ('figura', 6), ('planta', 7), ('agresiva', 2), ('atractiva', 9), ('31', 2), ('secretos', 5), ('desgraciada', 1), ('apresuró', 1), ('apurar', 2), ('alemán', 12), ('polaco', 2), ('aterrorizaba', 1), ('trató', 14), ('deprimida', 2), ('subió', 22), ('amargamente', 2), ('conseguirá', 2), ('hiperactiva', 1), ('desnuda', 2), ('sonroja', 1), ('muéstreme', 6), ('muéstrenme', 1), ('enséñame', 18), ('cerrada', 23), ('entran', 2), ('tesoro', 1), ('resuelva', 1), ('resuelve', 2), ('surgió', 2), ('tejen', 2), ('redes', 1), ('robar', 11), ('dejate', 1), ('joder', 1), ('exagerar', 2), ('fome', 1), ('gorro', 2), ('medicina', 14), ('decidme', 4), ('termitas', 1), ('preguntarme', 2), ('antemano', 3), ('avance', 2), ('indispensable', 4), ('esencial', 2), ('fundamental', 2), ('nudo', 12), ('flojo', 4), ('bastar', 2), ('acontecerá', 1), ('abeto', 1), ('faisán', 1), ('entristecedor', 1), ('terrorífico', 2), ('espíritu', 1), ('bar', 4), ('sabroso', 5), ('sabrosa', 1), ('asustó', 4), ('espantó', 1), ('buenísima', 1), ('local', 1), ('desafilado', 1), ('amellado', 1), ('romo', 1), ('amantes', 1), ('agonizando', 1), ('mercado', 9), ('amplio', 2), ('alquiler', 6), ('templada', 1), ('cálida', 7), ('zarpó', 1), ('espesa', 3), ('táctica', 1), ('test', 2), ('continuaba', 1), ('pura', 7), ('dioses', 2), ('obstáculo', 2), ('juicio', 11), ('carnicería', 2), ('margaritas', 2), ('verdaderos', 5), ('nuestros', 45), ('viejas', 8), ('traicionaron', 1), ('movieron', 1), ('cedieron', 1), ('escuchan', 2), ('siguieron', 11), ('cazaban', 1), ('zorros', 4), ('continuaron', 2), ('saludables', 3), ('asesinaron', 2), ('adelantaron', 1), ('hablaban', 3), ('torturaron', 3), ('maravillosos', 4), ('muertas', 1), ('idénticos', 1), ('agradables', 1), ('sorprendidos', 4), ('cubeta', 2), ('fuga', 3), ('balde', 10), ('cojonudo', 2), ('buenísimo', 2), ('riquísimo', 1), ('extorsión', 1), ('galimatías', 1), ('incoherente', 1), ('graciosísimo', 2), ('desordenado', 3), ('espagueti', 4), ('insípido', 1), ('parada', 18), ('servir', 8), ('tírame', 4), ('bola', 6), ('jueves', 2), ('contestó', 8), ('atacó', 9), ('creía', 26), ('molestia', 2), ('burdo', 1), ('cocinó', 5), ('preparó', 17), ('menospreció', 1), ('menosprecia', 2), ('tiñó', 6), ('alimentó', 2), ('traicionado', 2), ('bug', 2), ('bicho', 4), ('discurso', 21), ('insoló', 1), ('debilitó', 1), ('adivinó', 3), ('alergias', 1), ('iphone', 3), ('artritis', 1), ('piel', 13), ('ingresos', 5), ('finos', 2), ('ondulado', 2), ('imitó', 1), ('civil', 4), ('demócrata', 1), ('diseñador', 1), ('diabético', 2), ('lobista', 1), ('mecánico', 3), ('asesino', 6), ('homicida', 2), ('pacifista', 1), ('reportero', 1), ('vendedor', 3), ('hechicero', 1), ('adolescente', 1), ('debilucho', 1), ('agresivo', 3), ('diplomático', 1), ('bajando', 8), ('fascinado', 2), ('creciendo', 8), ('histérico', 1), ('indiscreto', 2), ('intolerante', 2), ('hipnotizado', 3), ('novio', 31), ('padrastro', 4), ('alumno', 5), ('empacando', 2), ('apasionado', 2), ('tartamudeando', 1), ('ganador', 4), ('infiel', 2), ('fiable', 6), ('tajante', 1), ('vulnerable', 2), ('cediendo', 2), ('empatía', 1), ('rubias', 4), ('langosta', 1), ('tejer', 1), ('cigarro', 8), ('estufa', 7), ('malinterpretó', 1), ('pausa', 4), ('ofendió', 2), ('poseía', 3), ('renta', 5), ('intoxicó', 1), ('postuló', 4), ('ante', 15), ('reconoció', 5), ('jubiló', 1), ('asaltó', 1), ('pacientemente', 5), ('video', 5), ('firmó', 7), ('confidencialidad', 1), ('adc', 1), ('estafó', 2), ('amenazó', 5), ('usó', 4), ('vomitó', 1), ('resultados', 12), ('absuelto', 2), ('secuestrado', 3), ('estrangulado', 1), ('aterrorizado', 4), ('saludaba', 1), ('descubrirá', 3), ('diría', 14), ('sabría', 1), ('poesía', 3), ('incompetente', 6), ('imparable', 2), ('calmarte', 2), ('tranquilizarte', 2), ('voltéate', 1), ('prendé', 1), ('giren', 1), ('cervezas', 2), ('úsalo', 1), ('piérdelo', 1), ('visítenos', 2), ('abandonado', 10), ('líquido', 1), ('aborrecemos', 1), ('defectos', 6), ('creemos', 4), ('cultivamos', 2), ('juntas', 7), ('tomamos', 7), ('metimos', 2), ('aprendimos', 3), ('anhelamos', 1), ('admiramos', 1), ('misterios', 3), ('facultad', 2), ('echamos', 5), ('apurarnos', 3), ('mantener', 20), ('empleos', 2), ('reconocimos', 1), ('alquilamos', 3), ('canoa', 2), ('partir', 17), ('aspiramos', 2), ('felicidad', 18), ('comprendemos', 3), ('estuvimos', 7), ('vecinos', 15), ('batalla', 11), ('jugaremos', 1), ('cruz', 3), ('aventureros', 1), ('invitados', 15), ('indefensos', 1), ('desvalidos', 2), ('extrovertidos', 1), ('conejillos', 1), ('indias', 1), ('periodistas', 1), ('perfectos', 1), ('adictos', 1), ('probando', 2), ('escondernos', 4), ('abrigada', 1), ('colección', 2), ('novedosa', 1), ('original', 1), ('sentiste', 1), ('sintieron', 4), ('escondiste', 5), ('ocurre', 8), ('pretendía', 7), ('dirás', 2), ('pasaría', 2), ('olor', 15), ('escribes', 4), ('vuelo', 26), ('estacionarnos', 1), ('vodka', 4), ('quienes', 7), ('inventó', 14), ('fabricado', 4), ('estuvisteis', 5), ('andabas', 1), ('levantada', 1), ('tumbado', 6), ('marchó', 8), ('llorás', 1), ('sufrir', 3), ('arriesgarnos', 2), ('casarte', 6), ('contado', 6), ('inflamable', 1), ('pegas', 2), ('maestra', 11), ('actrices', 2), ('importantes', 3), ('responderlo', 2), ('estacionarse', 2), ('vencerme', 2), ('negarlo', 2), ('rendirte', 2), ('perdértelo', 2), ('perdéroslo', 3), ('vender', 5), ('diste', 14), ('escuchaste', 8), ('engañas', 4), ('sabrás', 3), ('adivinaste', 1), ('tomaste', 8), ('darte', 13), ('acaban', 5), ('agradan', 4), ('luces', 21), ('europeo', 2), ('europea', 1), ('fabulosa', 1), ('cometido', 15), ('hiciera', 24), ('reír', 28), ('necesites', 9), ('apurarte', 3), ('detenerlo', 5), ('relajarte', 5), ('corres', 3), ('salvaste', 1), ('estresado', 1), ('hablas', 30), ('habláis', 2), ('cómicos', 1), ('entiendes', 11), ('graciosos', 2), ('vencerás', 3), ('encontrarás', 9), ('hacéis', 3), ('embromando', 1), ('rodeado', 4), ('experta', 1), ('pálida', 3), ('repleta', 2), ('macuto', 1), ('arañado', 1), ('contesta', 2), ('logra', 2), ('incluye', 3), ('comidas', 9), ('budista', 2), ('culpando', 9), ('tontos', 3), ('productivo', 1), ('ansioso', 7), ('pídele', 12), ('pedidle', 1), ('apártense', 1), ('plátanos', 8), ('marque', 2), ('cambiando', 12), ('tranquilicen', 1), ('llevármelo', 1), ('recoger', 6), ('recogerlo', 1), ('olerlo', 2), ('humanos', 6), ('revisen', 1), ('bolsillos', 4), ('revise', 3), ('sígannos', 1), ('síganos', 1), ('considerá', 1), ('controlaos', 1), ('cruzá', 1), ('creyó', 12), ('sobornó', 1), ('cenó', 5), ('vivían', 2), ('vivieron', 4), ('invitaste', 4), ('invitasteis', 1), ('divide', 2), ('acepta', 6), ('aceptas', 2), ('creéis', 7), ('pulpo', 1), ('hablás', 4), ('mozart', 1), ('robots', 4), ('añoras', 1), ('aventón', 3), ('acuerdas', 15), ('recorte', 1), ('sangran', 1), ('encías', 2), ('salvan', 2), ('vidas', 6), ('ofende', 1), ('avaricioso', 2), ('resfríes', 1), ('exceso', 3), ('vencido', 11), ('malentienda', 3), ('malinterprete', 1), ('paranoico', 8), ('deis', 2), ('den', 2), ('riais', 1), ('escena', 4), ('pongas', 7), ('excusas', 9), ('pongáis', 1), ('pongan', 1), ('causes', 1), ('metas', 10), ('pienses', 7), ('trates', 7), ('condescendencia', 1), ('pronuncies', 1), ('paren', 2), ('arriesgues', 3), ('piedras', 5), ('camines', 3), ('trabajes', 8), ('muera', 4), ('rey', 30), ('relaja', 1), ('vaciá', 1), ('dudaron', 1), ('vacilaron', 1), ('agradabas', 2), ('piensan', 11), ('creen', 10), ('afirmativamente', 1), ('molestos', 1), ('molestas', 1), ('estupefactos', 2), ('explicaos', 1), ('rellene', 3), ('huecos', 1), ('llénalo', 1), ('ejemplo', 19), ('olvida', 5), ('olvide', 9), ('olviden', 2), ('aléjese', 2), ('sácame', 2), ('levántame', 1), ('desaparece', 1), ('deshazte', 2), ('deshágase', 1), ('sácanos', 2), ('despertar', 14), ('escoba', 8), ('entrégueme', 1), ('distancia', 11), ('acción', 8), ('abusó', 3), ('comportó', 2), ('estúpidamente', 1), ('comprarse', 8), ('compás', 2), ('gustamos', 3), ('disfrutaba', 2), ('obligó', 6), ('regaló', 8), ('bajó', 31), ('apretó', 9), ('retirarse', 2), ('graso', 1), ('pasos', 1), ('contuvo', 6), ('compañero', 15), ('colega', 2), ('desalmado', 3), ('aventuras', 3), ('aventura', 2), ('memoria', 22), ('chismes', 1), ('haló', 1), ('alzó', 9), ('rinde', 1), ('impunemente', 2), ('precedente', 1), ('rapó', 1), ('mostró', 17), ('tocó', 14), ('apelar', 1), ('4', 1), ('envejecía', 1), ('habían', 6), ('invitaron', 9), ('gustar', 8), ('culturista', 1), ('creacionista', 1), ('portero', 1), ('verdadera', 17), ('aristócrata', 3), ('madrugador', 3), ('pisando', 1), ('cincuenta', 10), ('trabajador', 11), ('aplicado', 1), ('talento', 16), ('erizos', 1), ('adorables', 2), ('imprimir', 2), ('rasgado', 1), ('gramática', 2), ('deficiente', 1), ('lisa', 1), ('armario', 7), ('posición', 8), ('mantenga', 2), ('mantengan', 1), ('rellenas', 1), ('olvidarlo', 3), ('resistirme', 1), ('decidieron', 2), ('decidisteis', 1), ('entraste', 4), ('granizo', 4), ('utiliza', 4), ('cuánta', 12), ('recorriste', 1), ('probabilidad', 3), ('hirviendo', 7), ('jardín', 34), ('metro', 14), ('ochenta', 4), ('centímetros', 3), ('altura', 6), ('mido', 4), ('respondí', 3), ('remera', 3), ('confirmar', 1), ('conseguirte', 3), ('conseguirles', 1), ('cabalgar', 1), ('montar', 14), ('esperarte', 2), ('creerlo', 8), ('culparlos', 4), ('controlarlo', 3), ('excluirlo', 1), ('perdonarle', 3), ('perdonarla', 3), ('explicarlo', 9), ('seguirte', 4), ('olvidar', 9), ('mentirte', 4), ('mentiros', 1), ('irresistible', 4), ('logro', 11), ('entender', 13), ('astillé', 1), ('diente', 4), ('aplaudí', 1), ('colecciono', 3), ('antigüedades', 8), ('tosí', 1), ('serles', 1), ('útil', 25), ('exijo', 1), ('recuento', 2), ('esperaba', 46), ('dicen', 25), ('deprisa', 4), ('almorzar', 22), ('soñado', 5), ('soñé', 5), ('disfruté', 7), ('entré', 7), ('cueva', 4), ('suspendí', 1), ('temía', 6), ('entrando', 2), ('hoyo', 3), ('intenso', 2), ('lancé', 1), ('campera', 6), ('fracturé', 1), ('enfado', 4), ('enojo', 2), ('canso', 3), ('metí', 5), ('crecí', 20), ('horroroso', 2), ('aceptarlo', 1), ('aburrirme', 1), ('chistes', 14), ('funerala', 1), ('morado', 3), ('acuario', 1), ('pecera', 1), ('pinchó', 2), ('llanta', 1), ('ponchó', 1), ('goma', 4), ('cristal', 3), ('vidrio', 5), ('sangra', 8), ('lugares', 3), ('información', 10), ('pasaporte', 23), ('apetito', 7), ('juntarme', 1), ('encontrame', 1), ('pintarlo', 1), ('advertir', 1), ('cámaras', 4), ('sobrinos', 1), ('guste', 19), ('troto', 1), ('casar', 13), ('maté', 5), ('empaqué', 2), ('metido', 10), ('dolido', 1), ('aquellas', 3), ('coreana', 6), ('ángeles', 4), ('favoritas', 3), ('carreras', 4), ('cortos', 4), ('costumbre', 13), ('refrán', 1), ('divertirme', 4), ('conjunto', 7), ('mirado', 3), ('identidad', 7), ('mariposas', 1), ('lentejas', 1), ('hija', 52), ('asada', 1), ('otros', 25), ('gradúe', 1), ('graduarme', 1), ('ofender', 3), ('mes', 44), ('destruirte', 2), ('nombres', 13), ('dudé', 5), ('pillaron', 5), ('obedecí', 2), ('puertas', 7), ('videojuegos', 4), ('arado', 1), ('adonde', 12), ('repetí', 2), ('pegarle', 2), ('arrancar', 4), ('huir', 6), ('duermo', 6), ('nueve', 22), ('fumo', 12), ('cigarrillos', 4), ('derramé', 1), ('psicología', 2), ('sugiero', 6), ('sorprendí', 2), ('estando', 2), ('mientras', 19), ('viniera', 9), ('entregué', 4), ('torcí', 2), ('desafío', 9), ('tigre', 5), ('devuelvan', 1), ('propia', 28), ('sábana', 2), ('manta', 2), ('disfrutar', 3), ('contratar', 10), ('besar', 13), ('conocer', 11), ('verlas', 3), ('advertirte', 3), ('quedes', 14), ('1972', 1), ('1979', 1), ('1982', 1), ('1988', 2), ('forzado', 4), ('encantado', 7), ('proseguiré', 1), ('leeré', 3), ('tuviera', 12), ('sabido', 9), ('fuese', 6), ('coaccionado', 1), ('traicionaré', 3), ('molestarte', 7), ('trabajé', 10), ('granja', 5), ('pasaré', 2), ('lavaré', 1), ('averiguaré', 4), ('extrañaré', 2), ('abandonaré', 4), ('jugaré', 4), ('guardaré', 2), ('recordaré', 5), ('aprovecharé', 1), ('oportunidad', 59), ('nadador', 6), ('tocado', 6), ('tocada', 1), ('ida', 2), ('fiestero', 1), ('fotógrafo', 4), ('biblioteca', 20), ('desangrando', 1), ('extremadamente', 28), ('domingo', 29), ('singapur', 4), ('engordando', 2), ('devolviendo', 1), ('alegro', 44), ('hayamos', 2), ('hablado', 13), ('marcho', 1), ('esquiando', 7), ('esquí', 11), ('gozo', 1), ('comenzando', 7), ('clientes', 7), ('calcetín', 5), ('fotogénico', 2), ('avergonzada', 1), ('ocupando', 2), ('atacada', 1), ('agredido', 1), ('ascendieron', 1), ('convocado', 1), ('cubierta', 6), ('cubro', 1), ('equivoqué', 6), ('juzgué', 2), ('ignorancia', 3), ('bendición', 2), ('realidad', 47), ('encadenado', 2), ('serpiente', 7), ('cargada', 3), ('pertenecía', 4), ('evitar', 14), ('empeorar', 3), ('cae', 5), ('durante', 58), ('valor', 15), ('cuestión', 15), ('extraordinario', 5), ('chulo', 4), ('valía', 4), ('costará', 11), ('tomará', 5), ('tardará', 2), ('sucederá', 1), ('pegadiza', 3), ('común', 20), ('diseño', 5), ('defectuoso', 3), ('imperfecto', 1), ('distracción', 4), ('sistema', 13), ('demostrado', 2), ('arenque', 1), ('tipeo', 1), ('esquina', 6), ('abarrotado', 2), ('medianoche', 26), ('cálido', 7), ('apestoso', 1), ('comenzado', 11), ('europa', 24), ('grecia', 3), ('mermelada', 3), ('jarra', 6), ('júzgalo', 1), ('juzga', 1), ('rellenarlo', 1), ('rellénalo', 1), ('bajar', 14), ('subir', 7), ('dí', 3), ('perfil', 2), ('vigilá', 1), ('pisar', 1), ('pise', 2), ('tensa', 1), ('alzadas', 1), ('quites', 4), ('calzoncillos', 1), ('promesas', 12), ('calzado', 1), ('leyes', 6), ('necesarias', 1), ('aprenda', 1), ('marcar', 1), ('inmediato', 22), ('cayendo', 3), ('lección', 9), ('préstamelo', 1), ('explique', 1), ('compremos', 1), ('divorciémonos', 1), ('preparémonos', 2), ('emborracharnos', 1), ('tomémonos', 3), ('quedemos', 3), ('imprudentes', 2), ('miremos', 1), ('hablemos', 15), ('estudiemos', 2), ('tomémoslo', 1), ('usemos', 3), ('ilusión', 3), ('lilas', 1), ('afortunadamente', 6), ('marte', 4), ('lunas', 2), ('tía', 19), ('actriz', 9), ('histérica', 2), ('risa', 6), ('prestar', 18), ('llamarte', 6), ('cheque', 8), ('sacar', 10), ('moveos', 1), ('detengáis', 1), ('definitiva', 5), ('botas', 14), ('arranca', 2), ('uvas', 11), ('pesadas', 2), ('sellados', 2), ('naranja', 15), ('salvarme', 3), ('resultado', 15), ('equivoca', 6), ('valija', 3), ('proyecto', 21), ('lechuzas', 2), ('cazan', 1), ('recógeme', 1), ('discuta', 2), ('discutan', 2), ('vístase', 1), ('hágame', 2), ('contribución', 2), ('tranquilos', 4), ('recuérdame', 1), ('bañate', 1), ('esperarme', 2), ('esperadme', 2), ('volaron', 2), ('pistolas', 1), ('bajad', 3), ('vendaje', 2), ('inmediatamente', 27), ('guardalo', 1), ('reserva', 4), ('resérvate', 1), ('rato', 41), ('empiezan', 9), ('9', 2), ('colegios', 1), ('escuelas', 1), ('muchachada', 1), ('mándale', 2), ('mándele', 2), ('mándenle', 1), ('enviadlo', 1), ('postal', 3), ('agitar', 2), ('agite', 1), ('varones', 1), ('invitó', 25), ('besando', 7), ('astuta', 5), ('moza', 1), ('explicó', 10), ('recogió', 10), ('señaló', 4), ('apuntó', 8), ('deseando', 12), ('franqueza', 4), ('veinticuatro', 2), ('sonriente', 1), ('suertuda', 1), ('apresurada', 2), ('alcohólica', 2), ('reunión', 54), ('somalia', 1), ('madrina', 1), ('repetirlo', 3), ('difamación', 1), ('delito', 4), ('pónganse', 4), ('liado', 5), ('fastidiado', 4), ('golpeando', 3), ('donde', 75), ('molestar', 4), ('déjate', 3), ('bromear', 2), ('bromas', 10), ('armar', 3), ('escándalo', 2), ('detengan', 1), ('gritarme', 3), ('cosquillas', 2), ('quita', 5), ('saluda', 4), ('cuéntamelo', 1), ('llamáis', 1), ('háblanos', 2), ('triciclo', 2), ('intrigante', 3), ('pino', 4), ('maleta', 18), ('permitido', 5), ('notable', 3), ('innecesario', 1), ('despertador', 2), ('eje', 1), ('partió', 9), ('ronroneando', 3), ('cuervo', 4), ('volando', 9), ('discoteca', 1), ('ladra', 5), ('corriente', 7), ('cerradas', 5), ('niebla', 6), ('amañado', 1), ('derretido', 1), ('costa', 7), ('apagadas', 1), ('repuntó', 1), ('alza', 3), ('agria', 4), ('venció', 2), ('fresca', 7), ('loro', 2), ('perico', 1), ('despegó', 5), ('electricidad', 8), ('arreglada', 1), ('cohete', 2), ('silenciosa', 1), ('falda', 12), ('aclaró', 2), ('despejó', 2), ('soldados', 13), ('abrieron', 2), ('araña', 2), ('estampilla', 2), ('estrellas', 11), ('salieron', 10), ('difundió', 3), ('brilla', 10), ('brillando', 2), ('neumáticos', 3), ('chillaron', 2), ('helada', 4), ('olas', 2), ('soplaba', 3), ('violentamente', 2), ('escapatoria', 2), ('comenzaron', 2), ('besarse', 3), ('venden', 13), ('recibieron', 3), ('familias', 3), ('escucharon', 3), ('oyeron', 5), ('meta', 12), ('rinden', 2), ('pagarme', 1), ('comprenden', 2), ('entienden', 4), ('estudiaban', 1), ('nadaban', 1), ('emocionados', 7), ('conseguirán', 1), ('entenderán', 4), ('cristianos', 3), ('cristianas', 2), ('extranjeros', 7), ('esposados', 1), ('poca', 8), ('ácida', 2), ('grasosa', 1), ('greñudo', 1), ('hoja', 11), ('ruta', 5), ('carreteras', 2), ('triángulo', 1), ('clasificado', 1), ('misión', 5), ('plagio', 1), ('destacable', 1), ('incómodo', 7), ('embarazoso', 3), ('estrafalario', 1), ('típico', 7), ('ultra', 1), ('altamente', 1), ('soso', 1), ('riesgoso', 1), ('salado', 2), ('profunda', 7), ('resultaron', 2), ('amárrate', 1), ('apriete', 1), ('tornillo', 4), ('marzo', 5), ('conocernos', 2), ('comía', 6), ('toser', 6), ('cortésmente', 4), ('levantarse', 14), ('consoló', 1), ('contactó', 1), ('describió', 1), ('diversión', 4), ('combate', 2), ('tifoidea', 1), ('falleció', 8), ('limonada', 4), ('evitó', 2), ('males', 2), ('rasguñó', 3), ('canadá', 20), ('liberó', 4), ('miraba', 5), ('desagrado', 1), ('aplicar', 3), ('gripa', 1), ('rizado', 1), ('enloquecido', 2), ('aguantado', 1), ('arrepentimientos', 1), ('desmayado', 4), ('aferró', 1), ('sirvió', 7), ('pitó', 1), ('camarógrafo', 1), ('celebridad', 2), ('comunista', 2), ('nerd', 1), ('socialista', 1), ('terrorista', 3), ('aventurero', 1), ('empleado', 8), ('anonadado', 5), ('hiperactivo', 1), ('delantera', 4), ('independiente', 8), ('insensible', 4), ('malicioso', 3), ('enfocado', 1), ('desocupado', 5), ('condescendiente', 2), ('pesimista', 3), ('descoordinado', 1), ('cariñoso', 1), ('amenaza', 4), ('obediente', 1), ('secuestró', 1), ('riesgos', 8), ('lacrosse', 1), ('pelirrojas', 1), ('cargó', 4), ('conmocionado', 1), ('espantosa', 1), ('comerlo', 1), ('perderse', 1), ('enfermarse', 2), ('juzgó', 1), ('erróneamente', 1), ('relajarse', 5), ('entrenamiento', 1), ('estacionó', 5), ('propuso', 1), ('matrimonio', 8), ('tras', 16), ('tranquilizó', 2), ('dependía', 1), ('respetó', 1), ('respetaba', 2), ('sonreir', 2), ('maletero', 6), ('loncheó', 1), ('vendió', 9), ('fijamente', 9), ('reprimió', 3), ('moverse', 4), ('aterrorizó', 1), ('llevó', 34), ('desfigurado', 1), ('riña', 1), ('condenado', 4), ('ostracismo', 1), ('quedado', 12), ('lavó', 9), ('agitó', 1), ('disculpará', 1), ('matará', 3), ('necesitar', 14), ('morder', 3), ('nasa', 1), ('ráfaga', 1), ('permanecer', 9), ('detestamos', 1), ('papa', 5), ('patinaje', 4), ('frustrados', 1), ('obtuvimos', 1), ('trigo', 6), ('razones', 6), ('motivos', 1), ('charla', 14), ('compra', 11), ('estrategia', 3), ('guardián', 1), ('herramientas', 4), ('usamos', 5), ('jugábamos', 2), ('corrimos', 4), ('agotó', 1), ('permanecimos', 2), ('sacrificamos', 1), ('carpa', 7), ('2013', 8), ('lodo', 2), ('tipos', 5), ('concurso', 8), ('rendiremos', 2), ('estaríamos', 3), ('diplomáticamente', 2), ('miraremos', 1), ('refugio', 2), ('oraremos', 1), ('rezaremos', 1), ('nacemos', 2), ('quebrados', 1), ('ambidextros', 1), ('ambidiestros', 1), ('evitando', 5), ('culturistas', 1), ('atamos', 1), ('alambre', 2), ('guardeses', 2), ('cuidando', 1), ('cuidamos', 1), ('ignorando', 4), ('pareja', 10), ('avistado', 1), ('sorprendiste', 2), ('calabaza', 1), ('coincidencia', 8), ('doncella', 2), ('experiencia', 19), ('pésimo', 14), ('clima', 18), ('referirse', 1), ('aprendiste', 13), ('derramaste', 2), ('robaste', 3), ('ballenas', 5), ('motiva', 3), ('estrechas', 1), ('llevarás', 1), ('cobrar', 1), ('naciste', 4), ('empezará', 6), ('boda', 13), ('policías', 8), ('comprarla', 1), ('buscaste', 1), ('trabajabas', 2), ('trabajaban', 5), ('oculta', 1), ('vais', 7), ('sujetos', 1), ('engañar', 3), ('jarrón', 2), ('impedir', 1), ('sospechas', 2), ('terreno', 1), ('pegaste', 1), ('comisteis', 2), ('comistes', 1), ('comieron', 12), ('flota', 3), ('entramos', 1), ('cicatriz', 7), ('doler', 3), ('hablan', 20), ('harían', 1), ('ponerle', 5), ('enseñarías', 1), ('saturado', 2), ('durísimo', 1), ('juramento', 6), ('rompiste', 5), ('dejarme', 2), ('tentarme', 1), ('usarlo', 5), ('avisaste', 2), ('asustás', 1), ('conduces', 2), ('manejás', 3), ('conducís', 3), ('asustaste', 1), ('acostumbras', 1), ('desahuciaron', 1), ('uds', 1), ('cuatro', 47), ('acabas', 9), ('fallar', 3), ('elefantes', 4), ('viviendo', 17), ('recibir', 7), ('encuentres', 6), ('debés', 2), ('arruinaste', 3), ('disparaste', 2), ('unirte', 2), ('enseñaste', 3), ('recuperarás', 4), ('sentirte', 1), ('sentirás', 1), ('tendrás', 12), ('lamentarás', 4), ('cocinera', 11), ('maja', 3), ('cobardes', 4), ('invitadas', 1), ('racistas', 1), ('fastidiando', 3), ('carismático', 1), ('cooperando', 1), ('desamparada', 1), ('interfiriendo', 8), ('favorito', 45), ('princesa', 2), ('condescendiendo', 1), ('inmaduro', 4), ('negativo', 2), ('engreído', 2), ('engreída', 1), ('engreídos', 2), ('engreídas', 2), ('empapada', 1), ('empapado', 4), ('poniéndote', 1), ('astutos', 1), ('aburridísimo', 2), ('advertido', 3), ('temperatura', 9), ('esconderte', 3), ('decepcionas', 2), ('trabajado', 10), ('extenuación', 1), ('sucia', 4), ('patas', 5), ('mamíferos', 1), ('ballena', 7), ('mamífero', 2), ('parranda', 1), ('aluminio', 1), ('responde', 9), ('asientos', 10), ('algún', 66), ('esquíes', 3), ('gimnasio', 7), ('siguiendo', 9), ('facebook', 8), ('perdidas', 1), ('seguís', 1), ('profeta', 1), ('atenas', 1), ('entristece', 2), ('cueza', 1), ('sobrevalorado', 1), ('servido', 1), ('tráigame', 2), ('burda', 1), ('cuchis', 3), ('crédito', 15), ('móvil', 16), ('creérnoslo', 1), ('cambiémonos', 1), ('intercambiamos', 2), ('intercambiarnos', 1), ('creerle', 5), ('preparar', 11), ('verificar', 2), ('principio', 22), ('darme', 26), ('cumpla', 1), ('atrápame', 1), ('cámbiate', 1), ('aceptan', 3), ('mastica', 1), ('caballerosidad', 2), ('gentileza', 2), ('despeja', 2), ('conocerlos', 2), ('consulta', 1), ('contáctame', 1), ('partes', 9), ('virus', 1), ('amanecerá', 1), ('borra', 2), ('elimina', 2), ('borrá', 1), ('habré', 1), ('soñaste', 2), ('dejaste', 10), ('propina', 3), ('dejasteis', 1), ('notaste', 2), ('leíste', 5), ('bañaste', 1), ('desconecta', 1), ('enchufe', 1), ('parta', 1), ('maldigo', 1), ('b', 2), ('hobby', 7), ('lema', 1), ('mascar', 1), ('chicle', 3), ('bolos', 1), ('ostras', 6), ('surfear', 2), ('estudiás', 1), ('viajáis', 1), ('abandonar', 14), ('deseas', 3), ('usás', 1), ('anteojos', 9), ('actúes', 1), ('pidas', 5), ('caiga', 2), ('dudes', 1), ('pelees', 1), ('ilusiones', 3), ('escuchés', 1), ('escuches', 5), ('enojar', 4), ('telefonees', 1), ('leas', 4), ('azote', 1), ('tomes', 7), ('tonterías', 3), ('boludeces', 1), ('digáis', 3), ('malgastes', 3), ('desperdicies', 3), ('echáis', 1), ('añora', 4), ('verduras', 9), ('aplaudiendo', 1), ('riéndose', 1), ('oigan', 2), ('perdone', 9), ('pocas', 18), ('olvidá', 1), ('dolores', 4), ('tiquete', 1), ('sácala', 1), ('aléjenlo', 1), ('púdrete', 1), ('mamón', 1), ('tráiganme', 1), ('propiedad', 5), ('acostúmbrate', 1), ('mandale', 3), ('saludos', 9), ('salúdalo', 1), ('déle', 1), ('recuerdos', 2), ('palillo', 1), ('devuélveme', 6), ('rompe', 8), ('lavarte', 4), ('cepillarte', 2), ('cepillarse', 1), ('tírate', 1), ('gárgaras', 1), ('entrega', 3), ('papeles', 8), ('entreguen', 2), ('cená', 1), ('aceptó', 19), ('dedal', 1), ('pararlos', 2), ('escaló', 1), ('monte', 12), ('fuji', 11), ('gales', 1), ('diseñó', 3), ('contrario', 12), ('pesar', 6), ('cólera', 3), ('enriqueció', 1), ('agarró', 15), ('dama', 7), ('acababa', 2), ('redonda', 1), ('actuado', 2), ('picassos', 1), ('sostuvo', 3), ('pescadero', 1), ('grosera', 2), ('efectivamente', 1), ('penitencia', 1), ('80', 4), ('kilos', 11), ('soberbio', 2), ('dando', 19), ('lavando', 9), ('promesa', 19), ('sobria', 1), ('melón', 4), ('cardiff', 1), ('marruecos', 1), ('insecto', 2), ('haya', 30), ('masculló', 1), ('suele', 14), ('jaulas', 1), ('alcanzó', 10), ('administra', 4), ('zapatería', 2), ('lustró', 1), ('agradecerle', 5), ('cristianismo', 1), ('amarla', 1), ('amó', 2), ('ohio', 1), ('enterraron', 3), ('nombraron', 1), ('capitán', 9), ('terriblemente', 3), ('castigado', 5), ('derrotará', 1), ('aprobará', 1), ('dirá', 7), ('arrepentirá', 2), ('creerá', 6), ('laboratorio', 4), ('empeño', 3), ('rendir', 3), ('letra', 14), ('mejorará', 3), ('cazafantasmas', 1), ('guionista', 1), ('teme', 21), ('actuando', 7), ('tantos', 5), ('centinela', 1), ('tetris', 2), ('posiblemente', 4), ('mejillas', 5), ('novela', 20), ('che', 8), ('recordar', 20), ('conmovió', 10), ('sostenete', 1), ('agarre', 1), ('honestidad', 7), ('virtud', 5), ('sinceridad', 3), ('nhk', 1), ('funcionan', 4), ('imanes', 1), ('concierto', 20), ('casamiento', 2), ('arreglarás', 1), ('aligera', 1), ('porque', 14), ('condiciones', 13), ('mato', 1), ('prometido', 2), ('resfriando', 1), ('india', 7), ('pelando', 2), ('tocando', 15), ('obra', 12), ('escucharlo', 9), ('tristeza', 3), ('escaso', 6), ('fondos', 2), ('kanji', 3), ('sms', 1), ('londres', 23), ('viniese', 2), ('ayudara', 13), ('pedía', 3), ('cantara', 2), ('cantase', 1), ('quedara', 12), ('quedase', 4), ('parase', 4), ('parara', 4), ('almorcé', 4), ('apresuradamente', 3), ('liviano', 3), ('24', 2), ('lápices', 13), ('construido', 8), ('construí', 2), ('disculparme', 7), ('verla', 11), ('defender', 1), ('guardar', 9), ('pelar', 5), ('aceptar', 15), ('controlar', 10), ('superarlo', 2), ('acordar', 5), ('decirlo', 13), ('exactitud', 3), ('valla', 13), ('fantaseo', 1), ('decoré', 1), ('invité', 10), ('entendí', 10), ('salgo', 11), ('tampoco', 37), ('aprecio', 16), ('apetece', 5), ('reparo', 1), ('radios', 1), ('rotas', 2), ('preguntárselo', 1), ('c', 3), ('recibí', 14), ('electrónico', 5), ('bajé', 7), ('estupenda', 8), ('frenética', 1), ('quedaba', 7), ('mentirle', 2), ('alquilar', 9), ('empleados', 8), ('novia', 58), ('mocos', 1), ('sugerencia', 8), ('apendicitis', 2), ('facturas', 1), ('partidos', 2), ('retortijones', 1), ('solución', 35), ('cambiarlo', 2), ('dejarte', 8), ('darle', 10), ('portazo', 2), ('serias', 2), ('saliera', 3), ('diviertas', 2), ('enterarme', 2), ('enterar', 2), ('visión', 1), ('guardé', 2), ('guardado', 4), ('parda', 1), ('trataba', 9), ('entenderías', 5), ('cuantas', 6), ('tema', 11), ('china', 38), ('exótica', 1), ('actitud', 6), ('patatas', 6), ('perfume', 5), ('jersey', 3), ('página', 23), ('web', 10), ('kioto', 16), ('sector', 2), ('encerré', 2), ('lados', 7), ('italiana', 2), ('€', 4), ('logré', 4), ('arreglé', 4), ('decírtelo', 4), ('in', 1), ('casualidad', 17), ('club', 23), ('topé', 3), ('asesiné', 1), ('haberlo', 33), ('haberme', 19), ('asistente', 7), ('perchas', 1), ('resfrío', 3), ('3000', 2), ('conecté', 1), ('fingí', 2), ('pijama', 5), ('pongo', 8), ('actos', 3), ('revisé', 3), ('revisado', 2), ('informe', 9), ('reescribí', 1), ('reescrito', 1), ('moto', 6), ('podías', 7), ('anoche', 92), ('pidiendo', 10), ('proposición', 2), ('moción', 2), ('mandé', 6), ('email', 4), ('resolví', 2), ('tartamudeo', 1), ('sospecho', 2), ('factible', 2), ('pensado', 8), ('pararan', 1), ('quité', 2), ('integrar', 1), ('salvar', 8), ('salvarle', 2), ('salvarlo', 1), ('salvarte', 4), ('recorté', 1), ('seto', 2), ('podé', 1), ('apagué', 7), ('desaté', 1), ('cinta', 4), ('filete', 5), ('emborrachar', 1), ('acostarme', 6), ('casarme', 7), ('negociar', 2), ('acuático', 1), ('relajes', 2), ('matan', 1), ('desilusionado', 2), ('disfrutando', 4), ('atónito', 1), ('relajándome', 1), ('alterado', 1), ('vanidoso', 5), ('asustada', 6), ('tercero', 2), ('cola', 13), ('lavé', 4), ('sábanas', 5), ('preguntando', 3), ('siquiera', 63), ('regresaré', 4), ('enfadaré', 1), ('encantaría', 9), ('capaz', 38), ('estuviera', 24), ('tuviéramos', 1), ('olvidaré', 4), ('moriría', 4), ('habría', 11), ('daiquiri', 1), ('querría', 19), ('revisaré', 3), ('tomaré', 10), ('desnatada', 1), ('reuniré', 2), ('patearé', 1), ('trasero', 3), ('mandaré', 6), ('pensaré', 4), ('actualizaré', 1), ('perfeccionista', 1), ('tenista', 6), ('absolutamente', 13), ('disposición', 1), ('vientos', 2), ('rápida', 6), ('cuarenta', 12), ('recuperado', 1), ('cachorro', 3), ('casando', 1), ('comprarlo', 9), ('apartamento', 10), ('increíblemente', 11), ('esclavo', 5), ('absoluto', 23), ('aventuroso', 1), ('quejo', 1), ('especulando', 2), ('practico', 2), ('judo', 1), ('fila', 9), ('preparándome', 1), ('suspendieron', 3), ('preocupaciones', 5), ('escuchado', 9), ('monedero', 2), ('billetera', 20), ('estudiado', 4), ('identificaos', 1), ('parto', 4), ('submarino', 1), ('billetero', 1), ('tremendo', 3), ('impactante', 4), ('tomas', 13), ('jodió', 1), ('duró', 21), ('costoso', 3), ('profecía', 6), ('exquisita', 1), ('merecido', 1), ('maravilla', 5), ('energía', 10), ('solar', 5), ('equivocamos', 1), ('metieron', 4), ('justa', 3), ('descuido', 2), ('estimulante', 1), ('oscureciendo', 6), ('presentimiento', 2), ('estuviese', 4), ('rumor', 6), ('siniestro', 1), ('imperdonable', 3), ('petición', 5), ('nevará', 5), ('cumpleaños', 30), ('comedia', 2), ('cantidad', 6), ('considerable', 1), ('acreditada', 1), ('elegir', 9), ('juerga', 1), ('once', 10), ('privada', 5), ('facilísimo', 2), ('aumentando', 7), ('nublando', 3), ('placebo', 1), ('única', 25), ('insólito', 1), ('rasguño', 1), ('insoportable', 7), ('jesus', 1), ('segundos', 5), ('mantenme', 5), ('abiertos', 5), ('omite', 1), ('libérate', 1), ('permitime', 1), ('optimistas', 3), ('revisemos', 1), ('busquemos', 1), ('metámoslo', 1), ('llevémoslo', 1), ('divirtámonos', 2), ('limpiemos', 2), ('exageremos', 2), ('arruinemos', 1), ('leamos', 1), ('3', 11), ('compartamos', 2), ('tratemos', 2), ('imagen', 5), ('oxígeno', 3), ('acuerde', 1), ('solicite', 1), ('prometida', 1), ('camarera', 3), ('acompañas', 2), ('acompañar', 3), ('permite', 6), ('interrumpa', 4), ('suben', 2), ('árboles', 21), ('mima', 1), ('lectura', 8), ('equipaje', 13), ('extravió', 1), ('5', 11), ('húmedos', 1), ('atoró', 2), ('detendrá', 1), ('importo', 1), ('torturó', 1), ('detenerme', 4), ('detenernos', 2), ('enseñarte', 7), ('dará', 9), ('avestruces', 1), ('prestanos', 1), ('duraznos', 1), ('tócame', 1), ('ventila', 1), ('corrija', 2), ('murmures', 1), ('tómese', 3), ('escúcheme', 1), ('deséame', 1), ('conocerlo', 3), ('veneno', 4), ('tire', 3), ('suéter', 12), ('ponete', 2), ('poné', 4), ('rambo', 1), ('acordate', 1), ('respetad', 1), ('antigua', 6), ('ciencia', 9), ('salúdela', 1), ('coció', 1), ('respiró', 1), ('llamaba', 8), ('costearlo', 1), ('2000', 3), ('narizota', 1), ('convulsiones', 1), ('adelgazado', 3), ('tortas', 2), ('corredor', 3), ('conocida', 2), ('ancho', 7), ('prosiguió', 2), ('saña', 1), ('helados', 6), ('interpretó', 2), ('sonata', 2), ('jaló', 2), ('shinjuku', 1), ('reservó', 2), ('impunidad', 1), ('frotó', 3), ('talló', 1), ('viajó', 9), ('rubia', 4), ('besadora', 1), ('moderna', 6), ('chusma', 1), ('hermosura', 1), ('bocota', 2), ('bocaza', 1), ('quemando', 6), ('apretá', 1), ('condescender', 1), ('quítese', 5), ('quítense', 3), ('sacate', 3), ('sáquense', 1), ('medias', 8), ('quitaos', 3), ('decile', 5), ('indícame', 1), ('deciles', 2), ('tailandia', 3), ('aclara', 1), ('explica', 3), ('irrita', 1), ('alucinante', 1), ('previsto', 8), ('inesperado', 5), ('excelente', 31), ('poema', 11), ('órgano', 3), ('limonero', 3), ('imitación', 1), ('museo', 15), ('relevante', 2), ('buscamos', 3), ('magnífico', 2), ('inaceptable', 3), ('funeral', 9), ('calentó', 4), ('blusa', 11), ('regañado', 2), ('arbusto', 2), ('empresa', 8), ('malogró', 1), ('botón', 20), ('complejo', 6), ('carbón', 8), ('ardiendo', 5), ('cultivos', 4), ('multitud', 22), ('dispersó', 2), ('zapato', 8), ('babeando', 1), ('alegres', 2), ('cerrando', 4), ('economía', 6), ('corrupto', 1), ('bosque', 22), ('heladera', 6), ('ácidas', 3), ('pasaban', 1), ('alterada', 1), ('modificada', 2), ('apagaron', 1), ('rugiendo', 1), ('horrorosa', 2), ('continuó', 8), ('despensa', 1), ('salario', 12), ('exquisito', 2), ('estanque', 8), ('congeló', 2), ('elevados', 2), ('motivo', 17), ('tejado', 10), ('claras', 3), ('sanando', 2), ('hunde', 5), ('derrite', 2), ('apestan', 2), ('victoria', 3), ('asombrosa', 2), ('caída', 1), ('cremallera', 3), ('atascada', 2), ('habrá', 18), ('escritorios', 1), ('maravillosas', 3), ('suceden', 1), ('nerviosas', 1), ('despediros', 1), ('despedirle', 1), ('despedirles', 1), ('pararnos', 1), ('burlaron', 3), ('fracasado', 2), ('alquilaron', 1), ('coro', 8), ('demandarte', 1), ('rodearon', 1), ('desertores', 1), ('forman', 1), ('regresando', 1), ('indefensas', 1), ('burlando', 1), ('favoritos', 1), ('chuleta', 1), ('tierna', 4), ('amarga', 5), ('significar', 2), ('periódico', 23), ('menuda', 1), ('cubo', 2), ('fastidioso', 3), ('fórmula', 2), ('sagrado', 1), ('intolerable', 1), ('favorita', 31), ('cuaderno', 8), ('sándwich', 9), ('taladro', 1), ('sobresaliente', 5), ('dilema', 2), ('lamentable', 1), ('escalofriante', 2), ('ponerse', 7), ('áspero', 1), ('suelto', 7), ('caballeros', 1), ('matarás', 1), ('transcurrieron', 1), ('semanas', 20), ('agotando', 3), ('detenerse', 2), ('fastidió', 1), ('webcam', 1), ('costear', 3), ('atrapó', 6), ('desafió', 1), ('animó', 2), ('colecciona', 2), ('estampillas', 7), ('peinó', 1), ('enfrentó', 1), ('repartió', 2), ('voltereta', 1), ('culpó', 2), ('traído', 7), ('quejó', 3), ('vejez', 2), ('desilusionó', 1), ('agrado', 5), ('motivó', 1), ('enfrenta', 3), ('horriblemente', 1), ('fingió', 12), ('perseguido', 1), ('sufrió', 4), ('rifle', 6), ('promovido', 3), ('avergonzó', 1), ('irritó', 2), ('arduo', 2), ('calva', 1), ('leporino', 2), ('sufre', 3), ('simpatía', 6), ('otras', 12), ('delgadas', 1), ('amigdalitis', 1), ('opciones', 16), ('brujas', 3), ('silbido', 2), ('sujetó', 1), ('bioquímico', 1), ('decente', 7), ('tragafuegos', 1), ('deportista', 1), ('político', 2), ('psicópata', 1), ('trabajólico', 1), ('ambidiestro', 1), ('arquitecto', 2), ('conservador', 3), ('antipático', 2), ('incorregible', 2), ('intelectual', 1), ('igual', 32), ('pabellón', 1), ('lamenta', 3), ('diestro', 1), ('mandando', 2), ('inescrupuloso', 1), ('insensato', 2), ('religioso', 2), ('garabateando', 1), ('erupto', 1), ('morenas', 1), ('curry', 4), ('picante', 9), ('ton', 3), ('emplear', 1), ('aporte', 2), ('supo', 12), ('ordenó', 11), ('debía', 8), ('adeuda', 1), ('empacó', 3), ('bolsos', 2), ('desgarró', 1), ('músculo', 1), ('sotana', 1), ('cuestionó', 1), ('niega', 4), ('rehúsa', 1), ('reanudó', 1), ('encarando', 1), ('frunció', 1), ('alineó', 1), ('compromiso', 8), ('gemido', 1), ('cavar', 1), ('estofado', 4), ('comprendió', 2), ('vendados', 1), ('liberado', 3), ('mintiéndonos', 1), ('estabá', 1), ('irritado', 1), ('extraordinariio', 1), ('espantado', 1), ('alertará', 1), ('cogerá', 1), ('perdonar', 6), ('trapeó', 2), ('ganadas', 1), ('despedirá', 1), ('interferirá', 1), ('odiaría', 2), ('desordenada', 1), ('traduce', 1), ('traduzca', 2), ('traduzcan', 1), ('traducid', 1), ('traducí', 1), ('inténtenlo', 1), ('probate', 1), ('pullover', 1), ('bájale', 2), ('ponla', 1), ('cafés', 2), ('esperá', 3), ('concierne', 4), ('pelma', 1), ('palabrotas', 1), ('tacos', 1), ('similares', 1), ('parecemos', 1), ('exageramos', 1), ('cogimos', 1), ('agarramos', 2), ('jugamos', 13), ('disgusta', 2), ('bebemos', 3), ('anomalía', 1), ('abandonamos', 1), ('subimos', 3), ('crecimos', 4), ('oral', 1), ('prevenir', 4), ('casarnos', 1), ('barra', 7), ('obedecimos', 1), ('alcanzamos', 1), ('lamentamos', 5), ('deceso', 1), ('fallecimiento', 1), ('sazonamos', 1), ('nadamos', 3), ('viajamos', 5), ('superaban', 1), ('peleándonos', 1), ('peleábamos', 2), ('derrotaremos', 1), ('dejaremos', 1), ('empezaremos', 3), ('enteraremos', 1), ('descubriremos', 1), ('informados', 2), ('volvimos', 3), ('observados', 1), ('cardiólogos', 1), ('cercanos', 4), ('atónitos', 1), ('cenando', 6), ('abrimos', 1), ('encantados', 3), ('tendido', 1), ('derrotado', 2), ('estábais', 2), ('elecciones', 4), ('persiguen', 4), ('diciendo', 22), ('respondido', 3), ('respondiste', 3), ('respondisteis', 1), ('esperabas', 3), ('creés', 16), ('sugieres', 2), ('postre', 6), ('pupitre', 4), ('cocinamos', 2), ('hacías', 3), ('leéis', 4), ('deshacer', 7), ('tarifa', 1), ('opina', 1), ('levantaste', 1), ('volviste', 5), ('terminan', 1), ('llegaremos', 3), ('empezarás', 2), ('guantes', 12), ('tenedores', 1), ('niñas', 13), ('estudiaste', 2), ('estudiaron', 3), ('birome', 2), ('letrina', 1), ('aeropuerto', 19), ('frazada', 2), ('hablabas', 4), ('quén', 1), ('informar', 1), ('biblia', 3), ('peleamos', 3), ('bostezando', 1), ('apresurar', 1), ('contrataste', 1), ('vendiste', 1), ('dices', 14), ('preocuparía', 1), ('cenarás', 1), ('firmaría', 1), ('ensayo', 2), ('decís', 5), ('pediste', 4), ('retirar', 2), ('señor', 10), ('disponer', 1), ('culparle', 4), ('ayudarles', 4), ('fiarte', 1), ('medalla', 10), ('merecen', 3), ('merecéis', 4), ('confiaste', 1), ('decepcionaste', 1), ('parecían', 6), ('paliducho', 1), ('sexy', 3), ('seguramente', 4), ('apareciste', 1), ('pagas', 5), ('calidad', 4), ('semáforo', 4), ('pues', 8), ('majara', 2), ('apestas', 1), ('alcohol', 12), ('formal', 4), ('agradecerme', 1), ('echaste', 3), ('bronca', 3), ('rajaste', 1), ('elegido', 8), ('ignorado', 1), ('advierto', 1), ('estaréis', 7), ('pagarás', 2), ('afortunada', 2), ('aciertas', 1), ('detestable', 1), ('confundiendo', 1), ('desorganizado', 2), ('bolacero', 2), ('quedas', 6), ('quedan', 16), ('detenidos', 4), ('elegante', 3), ('sucios', 6), ('frías', 3), ('despelote', 1), ('dolar', 2), ('calamar', 1), ('tentáculos', 1), ('añádele', 1), ('cálculos', 1), ('sospecha', 6), ('crecen', 2), ('imitando', 2), ('arremedando', 1), ('espiando', 2), ('subjetiva', 1), ('imitaciones', 2), ('bob', 1), ('mataron', 7), ('traigan', 2), ('tráete', 3), ('versión', 4), ('exterminador', 1), ('prestada', 3), ('tomarme', 4), ('prender', 5), ('encender', 8), ('aclararlo', 2), ('aclarar', 2), ('despacharlo', 2), ('repartir', 1), ('adivinar', 3), ('imaginarlo', 1), ('juntar', 1), ('programar', 2), ('territoriales', 1), ('mojarse', 4), ('entumece', 1), ('miembros', 3), ('resfriados', 1), ('contagiosos', 1), ('considera', 2), ('algodón', 5), ('absorbe', 4), ('traernos', 1), ('diamantes', 1), ('eternos', 2), ('ganasteis', 1), ('agujeros', 4), ('perturban', 1), ('serpientes', 13), ('levantas', 1), ('presupuesto', 3), ('fotos', 42), ('tatuaje', 5), ('beisbol', 1), ('brócoli', 2), ('pensáis', 5), ('usas', 7), ('desodorante', 2), ('utilizáis', 1), ('galletita', 3), ('galleta', 4), ('delfines', 4), ('curiosos', 1), ('admitas', 1), ('admitás', 1), ('descuidado', 4), ('infantil', 4), ('reservado', 3), ('frenes', 2), ('compres', 3), ('compre', 3), ('cierres', 4), ('bebas', 6), ('duras', 2), ('esfuerces', 1), ('emociones', 5), ('extremos', 2), ('errores', 29), ('cometan', 1), ('hurgues', 1), ('cerréis', 1), ('derrames', 1), ('toqués', 1), ('intentes', 8), ('engañarme', 2), ('ocultarlo', 1), ('perdés', 2), ('pierdes', 2), ('temen', 6), ('esperaban', 2), ('durmieron', 4), ('calmados', 2), ('sonreían', 1), ('torpeza', 1), ('formen', 1), ('recta', 1), ('aleja', 1), ('comuníquese', 1), ('divertíos', 1), ('almorzado', 6), ('fumado', 1), ('mediste', 1), ('conociste', 7), ('lapicera', 3), ('probado', 5), ('usaste', 2), ('bailara', 1), ('catolicismo', 1), ('sentirse', 4), ('suplicó', 2), ('imploró', 1), ('rogó', 8), ('eligió', 5), ('esquiló', 1), ('oveja', 3), ('ginebra', 1), ('garbo', 1), ('acto', 3), ('pío', 1), ('chistó', 1), ('enfada', 4), ('vació', 2), ('envidia', 4), ('realizó', 2), ('cansa', 5), ('lograba', 1), ('doctorado', 1), ('veintidós', 2), ('hambrienta', 2), ('importado', 3), ('acento', 7), ('pecho', 5), ('peludo', 2), ('personalidad', 5), ('dócil', 2), ('ingreso', 2), ('marco', 1), ('voluntad', 10), ('poderosos', 2), ('hijas', 6), ('extendió', 3), ('crítico', 4), ('holgazán', 1), ('hueso', 4), ('roer', 1), ('hábil', 7), ('reconocido', 3), ('sesenta', 7), ('satisfacerlo', 1), ('complacer', 5), ('prepara', 4), ('querido', 11), ('depresivo', 1), ('vivió', 18), ('nagasaki', 2), ('yokohama', 7), ('tosca', 1), ('velocidad', 8), ('repitió', 3), ('ridiculizó', 1), ('enfadarse', 5), ('portugués', 2), ('súbito', 1), ('estudiara', 3), ('dobló', 2), ('triunfar', 9), ('vasos', 5), ('obligaron', 4), ('ciervos', 4), ('influencia', 3), ('jugador', 19), ('pulmón', 3), ('avaro', 2), ('aficionado', 7), ('ofreció', 15), ('entradas', 9), ('amarilla', 5), ('vinos', 1), ('trabajáis', 2), ('inspiró', 2), ('ásperas', 1), ('vacías', 5), ('aguantarlo', 2), ('profundidad', 4), ('averiguó', 1), ('conocisteis', 1), ('abro', 1), ('cuántas', 23), ('cuestan', 9), ('pagado', 10), ('detendrás', 2), ('aspiro', 1), ('disculpado', 1), ('pintar', 10), ('construyendo', 4), ('pared', 22), ('obligan', 1), ('vistiendo', 1), ('ordeñando', 2), ('trapeando', 2), ('dejando', 4), ('revolviendo', 2), ('malgastando', 1), ('disculpo', 1), ('condujera', 4), ('condujese', 1), ('diese', 1), ('marchase', 1), ('panchos', 1), ('malicia', 2), ('rogué', 2), ('cenicero', 2), ('yema', 1), ('recado', 1), ('permitirme', 4), ('pipa', 2), ('involucrarme', 2), ('ocultarme', 2), ('apagarlo', 1), ('infinito', 2), ('provoqué', 1), ('elijo', 1), ('cerré', 5), ('monedas', 14), ('comino', 1), ('mínimo', 1), ('rábano', 1), ('crucé', 1), ('subido', 6), ('sueldo', 10), ('deseaba', 6), ('ciudades', 2), ('interesa', 20), ('caridad', 8), ('canilla', 11), ('tomado', 23), ('grifo', 9), ('echarle', 1), ('vigilarlo', 1), ('serví', 1), ('sacaron', 3), ('alternativa', 9), ('ganara', 3), ('dobladas', 1), ('celosas', 2), ('cine', 27), ('afilado', 5), ('tripa', 1), ('sangrantes', 1), ('pesqué', 3), ('juzgado', 2), ('fotográficas', 1), ('localizar', 2), ('crujir', 1), ('rama', 3), ('ayudante', 2), ('cambien', 3), ('mañanas', 10), ('saltaba', 1), ('costilla', 1), ('cortarme', 3), ('cortar', 9), ('pantera', 1), ('pato', 3), ('ibas', 6), ('encontrarías', 2), ('canciones', 19), ('mentisteis', 1), ('moderé', 1), ('discusión', 9), ('presté', 5), ('decepcioné', 1), ('fallé', 1), ('colores', 13), ('claros', 3), ('brillantes', 3), ('bistec', 2), ('cocido', 3), ('póquer', 3), ('zuecos', 1), ('premios', 1), ('optimismo', 3), ('sencilla', 5), ('dique', 1), ('busqué', 6), ('buscaba', 6), ('linterna', 10), ('noción', 2), ('francesas', 5), ('pimientos', 3), ('apasiona', 2), ('gradué', 1), ('faltarle', 2), ('cobijas', 1), ('mantas', 3), ('práctica', 7), ('ahorrar', 6), ('mirarlo', 3), ('200', 3), ('rayo', 6), ('diablo', 1), ('rechacé', 2), ('propuesta', 18), ('parezco', 3), ('lloviera', 1), ('seriamente', 3), ('habértelo', 3), ('mostré', 7), ('dormitorio', 14), ('indiqué', 1), ('deslicé', 1), ('resuelto', 10), ('misterio', 6), ('introduje', 1), ('comprendí', 5), ('llevan', 8), ('equivocas', 4), ('pensé', 159), ('viajé', 3), ('reírme', 5), ('escribirle', 3), ('adinerado', 1), ('colina', 15), ('ventanilla', 1), ('mp3', 2), ('pasillo', 4), ('olvidarla', 1), ('complacerte', 1), ('comportes', 2), ('ganaran', 2), ('amar', 7), ('vinieras', 7), ('supieras', 4), ('solitaria', 2), ('teatro', 13), ('marcharme', 2), ('58', 1), ('kilogramos', 1), ('uní', 2), ('ejército', 5), ('marina', 3), ('pachanga', 1), ('panadería', 4), ('acompaño', 4), ('tendré', 17), ('empezaré', 2), ('trataré', 5), ('estuvieses', 1), ('venderé', 2), ('alma', 10), ('farmacia', 2), ('culparía', 4), ('recostarme', 1), ('traicionaría', 4), ('admitiré', 1), ('amaré', 7), ('disculparé', 1), ('pediré', 1), ('cuidadosa', 3), ('vigilando', 4), ('pides', 2), ('soñaré', 1), ('conduciré', 1), ('termino', 3), ('pintaré', 1), ('sacaré', 1), ('molido', 2), ('alérgico', 15), ('alérgica', 9), ('arqueólogo', 3), ('arqueóloga', 2), ('atrae', 3), ('dependo', 1), ('llamada', 18), ('arreglando', 4), ('doblando', 2), ('divorciando', 1), ('planchando', 4), ('asegurando', 2), ('guacamole', 1), ('cabo', 10), ('ignorándote', 1), ('prestando', 5), ('resistente', 2), ('resolviendo', 2), ('acertijo', 3), ('haberte', 24), ('sorprendes', 1), ('vendido', 5), ('quemado', 2), ('tostada', 1), ('marcapasos', 1), ('dignidad', 2), ('gustado', 10), ('imperio', 1), ('sonando', 13), ('diamante', 5), ('nervios', 7), ('oscuridad', 23), ('oscurecer', 1), ('alfombra', 2), ('indicativo', 2), ('revés', 10), ('militares', 1), ('menor', 14), ('chupado', 1), ('trozo', 12), ('enfermedad', 18), ('cuero', 8), ('cabelludo', 1), ('ingrato', 1), ('medida', 7), ('extremo', 1), ('justificar', 1), ('plaza', 2), ('nutritivo', 2), ('merecemos', 1), ('península', 1), ('prevalecerá', 1), ('corderos', 1), ('bebés', 5), ('prestame', 3), ('acompañe', 1), ('ocupo', 1), ('comprobarlo', 1), ('enfrentemos', 1), ('movamos', 1), ('invitemos', 1), ('dividámonos', 1), ('formalidad', 1), ('graciosa', 5), ('ampolletas', 1), ('emiten', 1), ('lincoln', 7), ('1865', 1), ('leones', 3), ('daltónicos', 1), ('nubes', 12), ('límites', 3), ('diseña', 1), ('vestidos', 5), ('limó', 1), ('uñas', 14), ('fiestera', 1), ('fea', 6), ('cardo', 1), ('pendiente', 5), ('tendría', 4), ('programa', 3), ('logres', 2), ('fortalece', 3), ('ajetreado', 2), ('nikon', 1), ('gasolina', 11), ('lavarse', 5), ('grietas', 1), ('castillo', 14), ('motocicleta', 3), ('palmas', 1), ('sudaban', 1), ('púrpura', 2), ('nicotina', 1), ('pesadillas', 7), ('lastimarte', 8), ('reconoce', 1), ('apoyó', 12), ('entendía', 1), ('sabios', 2), ('detenerle', 3), ('detenerte', 4), ('perturba', 1), ('relajarnos', 2), ('frigorífico', 4), ('refri', 1), ('empácalas', 1), ('escoja', 2), ('odies', 1), ('permanezcan', 1), ('sentados', 5), ('guárdeme', 1), ('ponerte', 7), ('resistirse', 2), ('mangas', 1), ('duplicado', 2), ('mandame', 1), ('mándame', 3), ('guía', 6), ('limpió', 4), ('presentó', 5), ('aperitivo', 2), ('numerosa', 3), ('planchó', 6), ('corredora', 1), ('lenta', 1), ('taxista', 4), ('usando', 9), ('lamió', 2), ('minifaldas', 2), ('echaba', 3), ('compañía', 18), ('azotó', 2), ('cachetada', 1), ('odiarlo', 1), ('detestaba', 1), ('amarle', 1), ('abrazarlo', 1), ('abrazarle', 1), ('chocó', 6), ('vestida', 9), ('nadaba', 1), ('pantis', 1), ('incluir', 1), ('pasión', 3), ('malignas', 1), ('mecanográfico', 1), ('encargado', 2), ('concrétese', 1), ('cíñete', 1), ('valores', 1), ('sumatra', 1), ('isla', 9), ('tómalo', 1), ('dígale', 4), ('recibirme', 1), ('desconcierta', 2), ('circulado', 1), ('aparte', 7), ('decepcionante', 3), ('especialidad', 6), ('grosería', 1), ('pseudociencia', 1), ('portón', 5), ('principal', 9), ('gateando', 2), ('tina', 1), ('batería', 7), ('frontera', 3), ('derrumbó', 4), ('dimitió', 4), ('ministerio', 1), ('maullando', 1), ('tictoc', 1), ('tic', 1), ('tac', 1), ('carbonera', 1), ('amaneciendo', 1), ('moverá', 2), ('bebidas', 3), ('manguera', 1), ('funcionaba', 2), ('encantada', 2), ('embrujada', 2), ('incendiando', 2), ('ampolleta', 4), ('encendidas', 3), ('comercial', 5), ('desierta', 5), ('sabor', 7), ('agrio', 1), ('cuanto', 20), ('clasificada', 1), ('x', 1), ('jode', 2), ('monjas', 1), ('trucada', 1), ('desbordó', 1), ('cauce', 1), ('simples', 2), ('marineros', 2), ('guion', 3), ('húmedas', 2), ('escopeta', 3), ('inundada', 3), ('destiñe', 1), ('votación', 2), ('calmó', 3), ('curando', 1), ('espadas', 1), ('diferencia', 22), ('fuertes', 5), ('ciruelas', 1), ('maduras', 5), ('respetan', 1), ('quejan', 3), ('inseparables', 2), ('rompieron', 1), ('llaman', 6), ('tintinearon', 1), ('copas', 4), ('batidos', 2), ('bebieron', 2), ('intercambiaron', 4), ('cacería', 3), ('divirtieron', 1), ('entretuvieron', 1), ('requieren', 2), ('aparecieron', 2), ('separado', 3), ('empezaron', 9), ('atraparon', 2), ('lastimarme', 1), ('tottori', 1), ('desnudos', 2), ('divertían', 2), ('victoriosos', 1), ('capaces', 9), ('lágrimas', 20), ('coetáneos', 1), ('reflexiona', 1), ('piense', 5), ('pensá', 5), ('podrida', 1), ('cerrará', 1), ('seda', 12), ('aprobación', 4), ('canario', 3), ('chollo', 2), ('auténtica', 4), ('ganga', 3), ('carcinógeno', 1), ('carnet', 3), ('departamento', 6), ('chistoso', 2), ('folleto', 3), ('limón', 6), ('maduro', 1), ('cambie', 4), ('cambiarse', 2), ('abarrotada', 2), ('costar', 1), ('20', 11), ('octubre', 16), ('gigante', 1), ('disculpar', 2), ('emparedado', 3), ('sandwich', 1), ('deprimió', 1), ('desesperó', 1), ('abordó', 2), ('marcó', 3), ('ternero', 1), ('tropezó', 1), ('llamarla', 1), ('tolera', 1), ('coleccionaba', 4), ('sellos', 7), ('ansias', 1), ('cruzó', 9), ('chapucero', 2), ('resistió', 1), ('volvía', 1), ('regresaba', 1), ('realiza', 1), ('consume', 6), ('arregló', 5), ('ardua', 2), ('heredero', 1), ('varón', 3), ('2020', 1), ('carácter', 2), ('gramófono', 1), ('reñido', 2), ('remordimientos', 1), ('rasgados', 1), ('tíos', 2), ('cebollas', 4), ('crudas', 3), ('escondió', 14), ('ático', 3), ('sentimientos', 15), ('mentor', 1), ('milmillonario', 1), ('ligeramente', 2), ('bombero', 2), ('bailarín', 5), ('neurólogo', 1), ('repostería', 1), ('pastelero', 2), ('repostero', 1), ('maleducada', 1), ('conectado', 1), ('evangelista', 1), ('evangelizador', 1), ('asando', 1), ('anticuado', 1), ('regañando', 1), ('fax', 3), ('dándose', 1), ('acusado', 6), ('demandada', 1), ('detallista', 2), ('derribó', 3), ('consecuencias', 4), ('disciplina', 2), ('carece', 5), ('motivación', 1), ('carcajada', 2), ('aritmética', 3), ('basquetbol', 2), ('audición', 1), ('burló', 8), ('lastimarnos', 1), ('fregó', 1), ('impuso', 1), ('multa', 2), ('300', 7), ('cajera', 1), ('cajero', 4), ('peló', 4), ('envenenó', 2), ('declaró', 4), ('apagó', 21), ('recomendó', 1), ('rehusó', 15), ('ceder', 2), ('recargó', 1), ('rebobinó', 1), ('enjuagó', 2), ('soriendo', 1), ('exposiciones', 1), ('imágenes', 2), ('fertilizante', 1), ('sacudiéndola', 1), ('meter', 3), ('partiendo', 1), ('debió', 15), ('derramó', 5), ('murmurar', 2), ('roncar', 1), ('revolvió', 1), ('limpiar', 26), ('desató', 3), ('cuerdas', 1), ('ansiosamente', 2), ('quiso', 22), ('mintiera', 2), ('matarnos', 3), ('encontrarse', 3), ('contable', 2), ('minero', 1), ('leñador', 2), ('mil', 21), ('cacharon', 2), ('agarraron', 2), ('redondito', 2), ('electrocutó', 1), ('declarado', 1), ('rehén', 1), ('hospitalizado', 1), ('cabaña', 3), ('vigiló', 1), ('silenciosamente', 3), ('clandestinidad', 1), ('pondrá', 4), ('aprobaría', 1), ('aceptaría', 2), ('reporte', 5), ('averió', 2), ('entumecido', 1), ('desvaneció', 2), ('feriado', 6), ('intuición', 1), ('pruébese', 3), ('desempleo', 3), ('usá', 1), ('imaginación', 8), ('visitantes', 2), ('autopsia', 3), ('refleja', 2), ('cometemos', 5), ('trajimos', 2), ('veníamos', 2), ('vencidos', 1), ('discutimos', 2), ('propinas', 2), ('elegimos', 3), ('ventaja', 8), ('estrictas', 1), ('rendirnos', 1), ('contárselo', 1), ('abrazamos', 1), ('besamos', 2), ('partiremos', 1), ('ganemos', 2), ('movernos', 3), ('reducir', 3), ('festejamos', 3), ('vendemos', 1), ('compartíamos', 1), ('preocuparnos', 1), ('sospechamos', 1), ('envenenamiento', 1), ('aguardamos', 1), ('asegurarnos', 2), ('apretados', 2), ('atacados', 1), ('perdonaremos', 2), ('fábrica', 10), ('comeremos', 2), ('superaremos', 5), ('tocaremos', 1), ('aproximadamente', 4), ('cuidadosos', 6), ('atacan', 1), ('llamamos', 3), ('venimos', 2), ('acercando', 3), ('desordenados', 1), ('interesados', 1), ('terroristas', 2), ('balas', 3), ('bala', 7), ('plantando', 1), ('semillas', 3), ('escasos', 2), ('dueños', 1), ('vulnerables', 2), ('rumbo', 4), ('abandonados', 1), ('saboteado', 1), ('discutido', 2), ('digno', 1), ('grata', 1), ('ocultan', 1), ('funciones', 1), ('bell', 2), ('implica', 2), ('equivocáis', 1), ('corrida', 1), ('toros', 2), ('toreo', 1), ('corridas', 1), ('edificio', 19), ('sobrenombre', 1), ('ubicación', 3), ('visitarlos', 2), ('volveréis', 1), ('volverás', 8), ('guardias', 5), ('sacado', 2), ('estación', 41), ('deberiamos', 1), ('director', 3), ('uniforme', 3), ('elegiste', 2), ('borró', 2), ('eliminado', 1), ('quedarás', 6), ('creó', 4), ('demonios', 3), ('plantó', 2), ('dirige', 5), ('burlará', 1), ('despediste', 1), ('huiste', 1), ('arrancaste', 1), ('ignoras', 1), ('consiente', 1), ('consientes', 1), ('respondes', 1), ('intentas', 7), ('esconderse', 4), ('probarás', 1), ('esperarás', 1), ('mentiría', 3), ('perdonarías', 1), ('mentirías', 1), ('preferirías', 5), ('apellidos', 1), ('diligentes', 1), ('poner', 37), ('ignorar', 5), ('captás', 1), ('advertidos', 1), ('sentimiento', 3), ('alegrar', 1), ('significas', 1), ('significáis', 1), ('tocarlo', 5), ('reposar', 1), ('sobrestimas', 1), ('recursos', 2), ('indiferente', 2), ('despreocupado', 1), ('somnoliento', 1), ('debiste', 6), ('dormís', 1), ('camarón', 2), ('creerme', 6), ('entras', 4), ('averiguarás', 1), ('encontraréis', 1), ('pararás', 1), ('mentirosa', 7), ('evasivo', 1), ('bajoneando', 1), ('yendo', 10), ('oportunista', 1), ('hipersensible', 1), ('tacto', 1), ('misterioso', 3), ('tentando', 1), ('expiatorio', 1), ('turco', 1), ('casco', 3), ('errónea', 5), ('delfín', 2), ('pajarito', 1), ('buscarle', 1), ('buscarlo', 3), ('pasarán', 1), ('áfrica', 6), ('continente', 3), ('esforcé', 1), ('máximo', 1), ('pantuflas', 1), ('cansando', 3), ('contenta', 4), ('ud', 2), ('nana', 1), ('viajan', 2), ('deliciosos', 2), ('exquisitos', 1), ('bananas', 2), ('deliciosas', 3), ('trepar', 3), ('bayas', 1), ('congelar', 1), ('carteristas', 1), ('lanzas', 2), ('afirmaciones', 1), ('falsas', 5), ('ciertas', 2), ('abróchense', 3), ('cinturones', 3), ('cómpralo', 1), ('pedirte', 14), ('prestas', 11), ('comprarte', 3), ('patines', 2), ('apagar', 6), ('contestar', 9), ('atender', 2), ('remos', 1), ('describirles', 1), ('describirlos', 1), ('morirse', 1), ('identificarlo', 1), ('identificar', 1), ('reconocer', 1), ('prestarías', 3), ('meterme', 4), ('mantiene', 11), ('brújulas', 1), ('hablarte', 3), ('repetir', 4), ('cúbralo', 1), ('córtalo', 1), ('cortaste', 2), ('descubriste', 3), ('descubristeis', 1), ('recibiste', 8), ('pusiste', 6), ('usado', 9), ('quisiste', 1), ('mencioné', 2), ('existencia', 1), ('disfrutas', 3), ('vuelas', 1), ('encendedor', 2), ('boleta', 2), ('auriculares', 3), ('audífonos', 4), ('atún', 4), ('oís', 1), ('lomo', 1), ('pilas', 2), ('amás', 1), ('ruegue', 1), ('entierran', 1), ('huesos', 3), ('irracional', 3), ('muerdas', 1), ('cortes', 2), ('cortés', 3), ('ostiones', 1), ('hilo', 3), ('dental', 3), ('involucres', 2), ('aleje', 1), ('bromees', 1), ('apoyes', 5), ('menee', 1), ('descubras', 1), ('maldigas', 1), ('público', 28), ('hablés', 1), ('toquen', 1), ('extraños', 10), ('pruebes', 1), ('malgasten', 1), ('clic', 2), ('ícono', 2), ('ruina', 1), ('lléveme', 2), ('estrógeno', 1), ('hormona', 1), ('artistas', 2), ('bajaron', 4), ('bajito', 1), ('oscureció', 2), ('acudieron', 3), ('consíganme', 1), ('quítalo', 2), ('quítame', 2), ('entrégale', 1), ('universo', 6), ('adiviná', 1), ('adivinen', 4), ('cenaste', 1), ('admiró', 1), ('admitió', 11), ('adoptó', 1), ('gastó', 4), ('izquierdo', 7), ('varias', 8), ('inglaterra', 4), ('distribuye', 1), ('muebles', 10), ('lágrima', 3), ('grúa', 1), ('10000', 3), ('cobra', 2), ('recibe', 3), ('medicamentos', 3), ('afilada', 2), ('rueda', 5), ('nacimiento', 5), ('heroína', 2), ('heroinómano', 1), ('tirador', 3), ('agudo', 2), ('futbolista', 2), ('entusiasta', 1), ('ordinario', 3), ('faltan', 5), ('jugadores', 7), ('enseñando', 5), ('incapaz', 9), ('gacho', 1), ('chupó', 3), ('buscó', 5), ('tierras', 5), ('descansó', 2), ('vendría', 13), ('rascó', 3), ('indicó', 2), ('unirá', 1), ('fracase', 1), ('presentará', 1), ('bronce', 2), ('maravillosamente', 1), ('arrancará', 1), ('remate', 1), ('llanto', 2), ('levantando', 2), ('sonrojaron', 1), ('mofletes', 1), ('contados', 2), ('ruedas', 5), ('suenan', 1), ('alocadas', 1), ('cuelgue', 2), ('firmeza', 2), ('ocurrir', 8), ('profundos', 2), ('brincar', 1), ('tarda', 3), ('pesas', 3), ('mantengo', 4), ('cepillando', 5), ('cosechando', 1), ('calentando', 4), ('vendiendo', 2), ('vendrían', 1), ('asumí', 8), ('deditos', 1), ('milagros', 4), ('florero', 3), ('oler', 1), ('océano', 5), ('atestiguar', 1), ('prometer', 1), ('tolero', 1), ('estornudar', 1), ('cargué', 1), ('alcancé', 2), ('considero', 5), ('hacerla', 1), ('definitivamente', 10), ('ascenso', 3), ('sobrevivir', 3), ('atreví', 1), ('atrevía', 1), ('doné', 2), ('caché', 1), ('talla', 14), ('estudié', 4), ('correspondencia', 1), ('brécol', 1), ('licores', 1), ('oboe', 1), ('afeito', 2), ('sueco', 1), ('expliqué', 4), ('prohíbo', 3), ('salgas', 6), ('descubrí', 3), ('hallé', 1), ('sedante', 3), ('obtengo', 2), ('11', 1), ('perforé', 1), ('ocultar', 11), ('precocida', 1), ('recados', 2), ('habilidades', 5), ('destreza', 1), ('propias', 7), ('secar', 1), ('alimentar', 7), ('recuperarlo', 1), ('debajo', 29), ('pegué', 2), ('mentón', 1), ('barbilla', 1), ('importe', 1), ('entiendas', 2), ('comprendas', 1), ('platicar', 2), ('esmerado', 1), ('teñirme', 2), ('futbol', 2), ('inspiración', 2), ('interpretar', 1), ('músicos', 2), ('romance', 1), ('clavos', 2), ('intérprete', 1), ('cápsulas', 1), ('impresionar', 2), ('arrendar', 1), ('olvido', 2), ('biología', 7), ('exámenes', 7), ('pospuse', 1), ('evento', 4), ('arruiné', 1), ('haberla', 6), ('lavarme', 3), ('cometo', 5), ('recomiendo', 3), ('oeste', 7), ('afané', 1), ('conversé', 2), ('frenillos', 2), ('bulo', 1), ('apañaremos', 1), ('apañamos', 1), ('deshice', 4), ('encendí', 2), ('pomo', 3), ('disgustaba', 1), ('tercera', 5), ('explicación', 15), ('adelgazar', 3), ('corea', 2), ('madures', 1), ('beses', 1), ('leerlos', 1), ('acusaron', 5), ('injustamente', 1), ('montaña', 15), ('asistiré', 4), ('aceptaré', 3), ('volaré', 1), ('alemania', 5), ('necesitaré', 3), ('denunciare', 1), ('denunciar', 1), ('dormiré', 3), ('embajada', 2), ('mcdonalds', 2), ('agradado', 1), ('conduzcas', 3), ('golpearía', 2), ('aconsejas', 1), ('apetezca', 1), ('obtendré', 1), ('prepararé', 3), ('firmaré', 1), ('enseñaré', 9), ('contaré', 10), ('contarte', 6), ('regar', 3), ('abuelo', 22), ('fan', 1), ('concejal', 1), ('alturas', 4), ('agotaron', 1), ('trucos', 3), ('avergüenzo', 6), ('restaurante', 13), ('atraído', 2), ('gustara', 1), ('acuerdes', 3), ('besaré', 1), ('extraoficialmente', 1), ('septimo', 1), ('matando', 7), ('pizca', 1), ('materialista', 2), ('cansé', 3), ('agobiado', 1), ('ritmo', 2), ('habituado', 1), ('negado', 4), ('decepcionada', 2), ('hambrita', 1), ('descubrimiento', 3), ('fijado', 2), ('organizado', 2), ('sangrar', 2), ('ocupé', 1), ('maneras', 2), ('martes', 3), ('instalar', 1), ('instalaciones', 1), ('ciertos', 1), ('tela', 6), ('heló', 1), ('pelos', 5), ('punta', 6), ('confirmado', 2), ('confirmada', 1), ('crucero', 1), ('pelean', 3), ('desgarra', 1), ('interiormente', 1), ('forzada', 2), ('imponente', 4), ('sofocantemente', 1), ('dificilísimo', 1), ('valió', 3), ('intencional', 1), ('dejará', 3), ('inversión', 2), ('descolorido', 1), ('cultural', 1), ('estallar', 3), ('aunque', 4), ('pela', 4), ('verá', 1), ('recompensado', 2), ('sucediendo', 2), ('completo', 14), ('olimpíadas', 1), ('obligación', 4), ('notorio', 1), ('estresante', 4), ('autoexplicativo', 1), ('empezando', 11), ('frustrante', 1), ('esperábamos', 4), ('júpiter', 1), ('cadena', 4), ('buitreé', 1), ('apréndete', 2), ('frases', 2), ('sácalo', 1), ('entorna', 1), ('déjenme', 2), ('cargar', 13), ('jueguen', 1), ('dejemos', 4), ('decida', 1), ('construyamos', 1), ('llamémosle', 1), ('snoopy', 1), ('llamemos', 3), ('bajémonos', 1), ('ayudémonos', 1), ('dejémosla', 1), ('juntémonos', 3), ('emocionemos', 1), ('abramos', 1), ('quemadas', 1), ('voleibol', 11), ('repasar', 3), ('ajustar', 1), ('viajemos', 1), ('apaguemos', 2), ('palo', 6), ('astilla', 1), ('sentite', 1), ('siéntete', 1), ('siéntase', 3), ('disgustada', 2), ('rechazados', 1), ('exesposa', 2), ('abuela', 14), ('peluquera', 1), ('trofeo', 3), ('oncóloga', 1), ('hilando', 1), ('lana', 1), ('besara', 7), ('concedes', 1), ('baile', 7), ('mike', 1), ('tyson', 1), ('boxeador', 1), ('agitado', 2), ('rige', 2), ('gobierna', 1), ('reparado', 4), ('encantará', 2), ('celular', 13), ('apagado', 1), ('instinto', 3), ('abogada', 3), ('agenda', 3), ('desgastados', 2), ('comprometió', 3), ('aprecia', 2), ('controlarnos', 1), ('incumbencia', 7), ('escuchaba', 2), ('obviamente', 10), ('tuberías', 2), ('reventaron', 1), ('encontremos', 4), ('adopta', 6), ('adopte', 3), ('adoptá', 2), ('adoptad', 1), ('adopten', 4), ('micho', 1), ('michín', 1), ('misho', 1), ('reparte', 2), ('plancha', 4), ('planchá', 1), ('mantenlo', 1), ('medidor', 1), ('repare', 1), ('prenda', 2), ('prendan', 2), ('despiértame', 3), ('grasa', 5), ('contiene', 4), ('presenta', 1), ('argumentos', 1), ('intimidad', 1), ('persigue', 4), ('intereses', 2), ('deseche', 1), ('temores', 1), ('queráis', 9), ('quieran', 2), ('reproducen', 1), ('rapidamente', 1), ('origen', 1), ('plaga', 1), ('portadoras', 1), ('transmiten', 3), ('epidemia', 1), ('vuélvelo', 1), ('sentadas', 1), ('sentada', 3), ('recuérdate', 1), ('acuérdate', 2), ('reformule', 1), ('lenguaje', 2), ('llano', 1), ('840', 1), ('mándanos', 1), ('impresión', 5), ('apártame', 1), ('actuó', 13), ('suicidarse', 9), ('apaleó', 1), ('tarado', 1), ('español', 26), ('obsequio', 7), ('entregó', 9), ('ceceo', 1), ('cintura', 6), ('almuerza', 2), ('muchísimo', 11), ('nadadora', 3), ('diecisiete', 6), ('víctima', 2), ('emparentada', 1), ('pariente', 1), ('cosiendo', 4), ('visitando', 2), ('baloncesto', 12), ('agonía', 1), ('desafina', 1), ('estudiase', 1), ('analgésico', 1), ('besarlo', 1), ('besarle', 2), ('bautizada', 1), ('depresión', 1), ('despistada', 1), ('enséñeme', 6), ('abandonas', 1), ('ganaré', 3), ('renacuajos', 1), ('convierten', 1), ('ranas', 3), ('aliste', 1), ('contame', 2), ('unírtenos', 1), ('avisarme', 2), ('maca', 1), ('tardó', 2), ('miserable', 2), ('faltado', 2), ('detalle', 3), ('desalentador', 1), ('suposición', 1), ('pensábamos', 1), ('cañería', 2), ('comprensible', 4), ('sinsentido', 1), ('jackson', 13), ('vía', 3), ('láctea', 1), ('inmensa', 2), ('impidió', 1), ('estrepitosamente', 1), ('dixie', 1), ('funcionaban', 2), ('cumplirá', 2), ('limpieza', 1), ('comparación', 1), ('apropiada', 3), ('dato', 2), ('alentador', 1), ('mordiendo', 1), ('alcantarilla', 3), ('obstruida', 1), ('precipitó', 3), ('goteando', 2), ('mutuo', 1), ('archivos', 3), ('inundación', 2), ('tremenda', 2), ('dorado', 3), ('halcón', 1), ('cazador', 3), ('espeso', 2), ('tetera', 2), ('pava', 1), ('extensa', 2), ('ilimitada', 1), ('reuniones', 6), ('malísimo', 1), ('entristeció', 2), ('rechazada', 2), ('agravó', 1), ('secado', 2), ('laguna', 5), ('bendijo', 1), ('proceso', 3), ('régimen', 1), ('caído', 5), ('falsos', 1), ('situación', 25), ('salada', 5), ('creíble', 2), ('amena', 1), ('confesó', 7), ('ilegible', 1), ('marea', 1), ('tratado', 5), ('firmado', 2), ('quitaron', 1), ('tumor', 5), ('removieron', 2), ('tifón', 2), ('arrasó', 1), ('unánime', 1), ('1945', 3), ('1954', 1), ('ejemplos', 2), ('mancha', 5), ('dificultad', 4), ('sustituto', 1), ('alumnas', 1), ('difíciles', 7), ('lucían', 1), ('armaron', 2), ('bombones', 4), ('comparten', 1), ('confabularon', 1), ('toman', 1), ('cargaron', 2), ('castigados', 2), ('castigar', 1), ('evitaron', 1), ('despreciaron', 1), ('repartieron', 1), ('llevaron', 4), ('lavan', 1), ('carcajadas', 1), ('faltos', 1), ('estrictos', 1), ('criminales', 3), ('peligrosos', 7), ('peligrosas', 2), ('arreglado', 4), ('calentador', 2), ('abanico', 3), ('manchado', 1), ('inapropiado', 3), ('preciada', 1), ('creación', 1), ('deprimente', 1), ('impactantes', 1), ('imponentes', 1), ('suyas', 1), ('sana', 1), ('heridas', 4), ('almorzó', 5), ('restos', 2), ('completos', 1), ('católico', 2), ('hervir', 5), ('cepilló', 1), ('permitirse', 1), ('maní', 2), ('casualmente', 2), ('compuso', 1), ('soneto', 1), ('autocorrigió', 1), ('faltó', 3), ('recompensa', 1), ('abdominales', 1), ('dormía', 2), ('compasión', 6), ('accedió', 1), ('barro', 3), ('coqueteó', 2), ('camisas', 6), ('casillas', 1), ('taburete', 2), ('diplomó', 1), ('creció', 8), ('ajetreada', 2), ('leyeron', 1), ('palma', 1), ('jet', 1), ('lacio', 1), ('primas', 2), ('ocultó', 4), ('hijastro', 2), ('altivo', 1), ('cardiólogo', 1), ('atleta', 2), ('cuadripléjico', 1), ('humorista', 1), ('conflictivo', 1), ('cociendo', 2), ('claustrofobia', 1), ('consolando', 1), ('divorciándose', 1), ('donando', 1), ('calificando', 1), ('bastantes', 3), ('aporreado', 1), ('entonado', 1), ('sumo', 1), ('sarcástico', 1), ('salto', 4), ('divertirse', 4), ('quiché', 1), ('laptop', 4), ('conectó', 3), ('enchufó', 2), ('pulsó', 2), ('apestaba', 1), ('intentaría', 2), ('restregó', 1), ('últimamente', 14), ('ánimo', 3), ('empacar', 3), ('recriminado', 1), ('pagarlo', 2), ('mostraba', 2), ('arrepentimiento', 1), ('raspó', 2), ('resolvió', 4), ('acarició', 2), ('pensó', 15), ('abrazar', 2), ('tergiversó', 1), ('descorchó', 1), ('subestimó', 2), ('listón', 2), ('culparnos', 1), ('casarse', 15), ('sentarse', 7), ('enterrado', 4), ('desconsiderado', 1), ('mirándome', 3), ('indudablemente', 1), ('parche', 1), ('triatlón', 1), ('prefiere', 6), ('premonición', 1), ('secando', 2), ('presta', 6), ('sitios', 1), ('desocupados', 2), ('explotó', 2), ('1939', 4), ('estalló', 6), ('aceptado', 1), ('angustiábamos', 2), ('instancia', 1), ('moriremos', 2), ('deseamos', 5), ('molestándole', 1), ('futbolistas', 1), ('capturamos', 1), ('cima', 2), ('continuamos', 1), ('seguimos', 4), ('derrotamos', 1), ('exigimos', 1), ('condujimos', 2), ('emborrachamos', 1), ('pusimos', 4), ('navegación', 1), ('arrodillamos', 1), ('adoramos', 1), ('descansamos', 2), ('solíamos', 5), ('caminamos', 6), ('rescate', 2), ('decepcionaremos', 1), ('preparemos', 3), ('volveremos', 4), ('viviremos', 1), ('reyes', 1), ('perderemos', 2), ('trataremos', 1), ('progresando', 2), ('descubiertos', 1), ('levantadas', 2), ('desilusión', 1), ('espantoso', 5), ('atrocidad', 1), ('síntomas', 1), ('hechas', 4), ('ruidos', 1), ('insinuando', 2), ('tejiendo', 3), ('pasatiempos', 3), ('trajiste', 4), ('contaste', 4), ('recomendarías', 2), ('refiere', 2), ('serviría', 2), ('grado', 4), ('aprendido', 8), ('disparate', 1), ('idioma', 13), ('abres', 1), ('demoró', 1), ('llevado', 2), ('averiguaste', 1), ('llegarán', 3), ('muletas', 1), ('duchas', 3), ('servicios', 3), ('creciste', 2), ('diablos', 4), ('presidente', 13), ('bronceador', 2), ('testigos', 2), ('muñeco', 4), ('descubrió', 12), ('comerás', 1), ('susurrando', 1), ('melancólico', 1), ('estacionaste', 1), ('preguntastes', 1), ('pensás', 8), ('entrás', 1), ('pasas', 6), ('creces', 1), ('unes', 2), ('acompañarnos', 1), ('callas', 2), ('sucedería', 1), ('lastimarías', 1), ('querer', 8), ('acompañarás', 1), ('recibís', 1), ('caramba', 1), ('guau', 1), ('anótalo', 1), ('iniciado', 1), ('sesión', 4), ('500', 2), ('hacerte', 12), ('gobernar', 1), ('sentaros', 2), ('domesticar', 1), ('pudiste', 2), ('suenas', 2), ('genios', 2), ('aguantarse', 1), ('agotada', 1), ('cumplir', 13), ('haberlos', 4), ('seguirme', 1), ('creiste', 1), ('siembra', 1), ('tempestades', 2), ('recoges', 2), ('siembras', 7), ('cosechas', 1), ('recuperaste', 1), ('habérmelo', 4), ('nadas', 2), ('nadan', 2), ('parecéis', 2), ('debéis', 4), ('castigada', 1), ('acostumbraréis', 1), ('cantas', 3), ('invencible', 4), ('predecible', 1), ('monda', 1), ('idealista', 1), ('inflexible', 3), ('hermosísima', 3), ('observador', 1), ('escéptica', 2), ('reclama', 1), ('retrasan', 1), ('napia', 1), ('manchada', 1), ('desatados', 3), ('adelanta', 1), ('2539', 1), ('cierva', 1), ('hembra', 2), ('salvaje', 1), ('imán', 2), ('mosquito', 2), ('picar', 2), ('zancudo', 1), ('requiere', 3), ('contraseña', 8), ('conejo', 7), ('esponja', 4), ('hablarme', 2), ('bastarán', 1), ('domesticado', 1), ('bebía', 2), ('reservados', 1), ('buses', 5), ('llenos', 10), ('bondis', 2), ('maduros', 1), ('asustan', 2), ('apuntando', 1), ('grabando', 1), ('ingleses', 1), ('destruida', 1), ('caen', 3), ('tejones', 1), ('cavan', 2), ('caerte', 1), ('revistas', 4), ('comprá', 1), ('leelo', 1), ('podré', 4), ('burlar', 1), ('traerte', 2), ('almohadón', 1), ('entregan', 1), ('pasármelo', 1), ('entregármelo', 1), ('fracaso', 11), ('planeta', 3), ('omelet', 2), ('contabilidad', 1), ('habrás', 2), ('acercar', 1), ('garantizar', 3), ('cuidar', 11), ('solucionar', 5), ('mojados', 4), ('plátano', 4), ('análisis', 1), ('cocine', 1), ('gramos', 1), ('podar', 2), ('pasear', 7), ('terminaste', 5), ('metiste', 2), ('necesitabas', 4), ('revisaste', 1), ('nadaste', 1), ('queríais', 1), ('trabajaste', 3), ('operación', 3), ('ovnis', 2), ('venís', 6), ('soñás', 1), ('sueñas', 1), ('entregas', 1), ('traes', 2), ('cicatrices', 2), ('manual', 2), ('arca', 1), ('noé', 1), ('cappelletis', 1), ('practicas', 2), ('tocáis', 1), ('reconoces', 2), ('mapache', 1), ('esperanto', 3), ('diariamente', 2), ('caramelo', 3), ('matarme', 7), ('besarme', 2), ('escribís', 1), ('pusilánime', 2), ('nieva', 5), ('estupidez', 2), ('leales', 1), ('maltrates', 1), ('halagues', 1), ('dejéis', 1), ('escape', 1), ('asuste', 2), ('permitas', 1), ('desanime', 1), ('consientas', 1), ('atemorice', 1), ('estribos', 3), ('prometas', 1), ('pulsar', 2), ('mandes', 1), ('falten', 2), ('ok', 1), ('malcríes', 1), ('relaje', 4), ('arrojes', 2), ('traten', 1), ('subestimes', 5), ('subestiméis', 1), ('malgaste', 1), ('callás', 2), ('sobrante', 1), ('lucen', 2), ('títeres', 1), ('permanecieron', 1), ('relativo', 1), ('encontrarte', 9), ('descubre', 3), ('plega', 1), ('salvajes', 3), ('consigan', 1), ('agarren', 1), ('palas', 1), ('ropas', 4), ('123', 1), ('sucedido', 2), ('alimentaste', 1), ('lunático', 3), ('derrota', 4), ('entera', 9), ('nivel', 2), ('mundial', 8), ('sopló', 2), ('docena', 7), ('desistió', 1), ('marcharas', 1), ('espíritus', 1), ('hangzhou', 1), ('periódicos', 3), ('exigió', 2), ('paraba', 1), ('vestía', 5), ('derrochó', 1), ('vaga', 1), ('anchos', 1), ('bretaña', 1), ('pesos', 4), ('dispositivo', 1), ('violinista', 1), ('destinado', 4), ('fluido', 5), ('asesinato', 15), ('recostó', 1), ('country', 3), ('aparece', 3), ('milton', 1), ('tocaba', 3), ('finge', 2), ('demostró', 1), ('arrepiente', 1), ('repara', 1), ('retira', 1), ('jubila', 1), ('ahorra', 1), ('apartado', 2), ('tragó', 3), ('orgullo', 3), ('física', 6), ('asignaron', 2), ('felizmente', 1), ('acariciaba', 1), ('visiblemente', 1), ('dentista', 6), ('acabará', 2), ('creería', 1), ('lastimaría', 4), ('mosca', 5), ('presión', 7), ('perdonará', 3), ('beisbolista', 1), ('devoto', 1), ('cadete', 1), ('topo', 1), ('espiarnos', 1), ('apoya', 1), ('entreteniendo', 1), ('paredes', 6), ('porta', 3), ('ruidosa', 4), ('descartado', 1), ('negativa', 1), ('paraíso', 1), ('sorprendieron', 1), ('sereno', 3), ('apago', 1), ('torre', 12), ('pronuncia', 2), ('costaron', 2), ('6', 4), ('melancólica', 2), ('descargando', 1), ('pepino', 1), ('prendiendo', 1), ('memorizando', 2), ('dieciséis', 3), ('empantanado', 1), ('ordenando', 3), ('apruebo', 3), ('llamaras', 2), ('llamarais', 1), ('llamara', 5), ('llamaran', 1), ('armo', 1), ('motores', 2), ('solito', 1), ('asistí', 2), ('cuidarte', 2), ('aguantar', 5), ('ganáramos', 1), ('tono', 1), ('agarrado', 1), ('catarro', 3), ('atroz', 3), ('elegí', 5), ('contacté', 1), ('incorrectamente', 2), ('critiqué', 1), ('chapoteo', 1), ('gasté', 7), ('céntimo', 2), ('centavo', 1), ('desagrada', 1), ('cocino', 4), ('apariencia', 1), ('donación', 1), ('conozca', 4), ('acabé', 2), ('disfrutado', 1), ('temblar', 3), ('sacudirse', 2), ('cobré', 1), ('alhajas', 1), ('arreglara', 2), ('muelas', 5), ('par', 26), ('inflamado', 1), ('terribles', 2), ('e', 15), ('5000', 2), ('cepillar', 1), ('peinarme', 2), ('chaveta', 1), ('llamaban', 2), ('cerrarse', 1), ('estén', 4), ('conformes', 1), ('consigamos', 2), ('logremos', 1), ('resulte', 1), ('heredé', 1), ('ascender', 1), ('guardo', 2), ('reaccionar', 4), ('serías', 3), ('tendrías', 1), ('volverías', 1), ('personalmente', 11), ('diferentes', 4), ('lesionó', 1), ('lograr', 1), ('sombrilla', 1), ('obama', 2), ('clásica', 2), ('medianamente', 1), ('sorprenderme', 2), ('masticar', 2), ('observar', 4), ('rural', 1), ('americanas', 3), ('navideñas', 1), ('pudín', 1), ('tapioca', 1), ('emití', 2), ('conciencia', 5), ('precipitado', 3), ('aseguré', 1), ('acueste', 1), ('enfadara', 1), ('cursé', 1), ('énfasis', 1), ('major', 1), ('reaccionado', 1), ('exagerada', 1), ('norteamericana', 1), ('necesite', 8), ('vea', 11), ('botiquín', 1), ('asesoramiento', 1), ('usb', 2), ('cubiertos', 1), ('documentos', 6), ('prepararme', 2), ('hacerle', 5), ('arriendo', 2), ('pasta', 6), ('acordeón', 3), ('toqué', 4), ('prometo', 11), ('carnada', 1), ('cebo', 1), ('esposé', 1), ('recorrido', 1), ('cancha', 1), ('entero', 12), ('deprimí', 1), ('reconocí', 2), ('arrepentí', 1), ('actualicé', 1), ('acordé', 1), ('regresé', 2), ('chamba', 1), ('millas', 11), ('liz', 1), ('subirse', 2), ('golpear', 4), ('rebaño', 1), ('ovejas', 2), ('lejana', 1), ('escaparse', 2), ('revista', 12), ('puesta', 9), ('apreté', 2), ('estudiéis', 2), ('terapia', 1), ('competente', 4), ('habíamos', 5), ('movieran', 1), ('movieras', 1), ('quedaras', 4), ('anduve', 3), ('pretendido', 1), ('protegerte', 6), ('plenamente', 3), ('mantenerme', 2), ('informada', 1), ('frescos', 3), ('cocinarte', 1), ('recepción', 1), ('alegré', 1), ('preguntaras', 1), ('recordando', 1), ('contendiente', 1), ('regañaba', 1), ('criaron', 1), ('requeteafortunada', 1), ('60', 2), ('distinto', 5), ('conociera', 2), ('hawái', 3), ('hubieras', 7), ('fueras', 8), ('chantajeen', 1), ('fallaré', 1), ('fracasaré', 1), ('invitar', 6), ('preguntaba', 3), ('asesor', 4), ('consultor', 1), ('probaría', 1), ('ofrecido', 1), ('aconsejaría', 1), ('apostaría', 2), ('entraría', 1), ('repetiría', 1), ('pensaría', 3), ('despierte', 1), ('mediana', 2), ('reemplazarlo', 1), ('guardaespaldas', 1), ('mantendré', 4), ('horario', 9), ('decidiré', 1), ('explicaré', 5), ('contactaré', 1), ('compondré', 1), ('pondré', 4), ('perdonaré', 3), ('enviaré', 2), ('estudiaré', 3), ('próximo', 27), ('hablaré', 6), ('gluten', 1), ('autorizo', 1), ('solicitando', 1), ('avergüenza', 4), ('fascinan', 2), ('estuvieras', 6), ('cooperar', 1), ('sedienta', 1), ('lactosa', 1), ('terapeuta', 1), ('desorden', 4), ('meditar', 2), ('acordarme', 4), ('analizado', 2), ('jugado', 2), ('desgasté', 1), ('incentivo', 1), ('logrará', 1), ('reciente', 2), ('objeción', 3), ('vergonzoso', 5), ('ocurrirte', 1), ('ocurriros', 2), ('ocurrirle', 2), ('sorprende', 4), ('olía', 3), ('jerusalén', 1), ('roca', 3), ('narices', 2), ('llovía', 3), ('dulcemente', 2), ('excitante', 1), ('premeditado', 1), ('monumental', 1), ('estereotipo', 1), ('despejarse', 1), ('moda', 12), ('ocurriendo', 3), ('opuesto', 3), ('biodegradable', 1), ('procedimiento', 2), ('rutina', 3), ('vital', 1), ('importancia', 6), ('john', 66), ('alégrate', 1), ('contagiosa', 3), ('preguntemos', 1), ('crucemos', 1), ('meollo', 1), ('cambiemos', 1), ('corramos', 2), ('azar', 5), ('escuchame', 2), ('pizarra', 1), ('telefónica', 3), ('apariencias', 4), ('engañosas', 1), ('definir', 2), ('mojó', 3), ('lubricó', 1), ('animadora', 2), ('regordete', 1), ('maryam', 1), ('presentarme', 3), ('bañarme', 3), ('quitar', 2), ('asuntos', 8), ('meteos', 2), ('metete', 2), ('zapatero', 1), ('mayoría', 21), ('gps', 1), ('cochera', 6), ('encantar', 4), ('asombrosos', 1), ('latir', 3), ('aceleradamente', 2), ('cortas', 4), ('incondicionales', 1), ('párvulos', 1), ('gruñendo', 2), ('york', 15), ('concordó', 1), ('sustituirte', 1), ('llorones', 1), ('lloricas', 1), ('matado', 6), ('honestos', 1), ('placentera', 1), ('averiado', 2), ('incendió', 2), ('complicada', 6), ('repita', 2), ('barred', 1), ('barran', 1), ('barrer', 6), ('alacena', 1), ('ordena', 4), ('limitada', 1), ('líneas', 2), ('modere', 1), ('ímpetus', 1), ('meza', 1), ('remar', 1), ('corré', 1), ('comienzan', 2), ('abril', 6), ('330', 1), ('cierro', 1), ('magra', 1), ('marcadamente', 1), ('resfriaba', 1), ('pareció', 11), ('calzaba', 1), ('blando', 2), ('hermosos', 6), ('talentosa', 4), ('tejió', 1), ('sweater', 2), ('divulgó', 1), ('faldas', 3), ('interruptor', 2), ('semejanza', 1), ('depiló', 1), ('axilas', 1), ('costado', 3), ('carrilla', 2), ('bélgica', 1), ('tembló', 1), ('deteriorando', 1), ('toneladas', 1), ('maquillaje', 7), ('aliviará', 1), ('marketing', 1), ('precioso', 6), ('glamorosa', 1), ('individualista', 1), ('asear', 1), ('yéndote', 1), ('gusanos', 1), ('capullos', 2), ('cántanos', 2), ('perjudica', 1), ('interrumpirte', 2), ('prohíbe', 3), ('escupir', 1), ('fronteras', 1), ('extienda', 1), ('ardillas', 3), ('mueven', 2), ('velozmente', 2), ('comerte', 2), ('morderte', 2), ('engañarte', 2), ('hurgarte', 1), ('produce', 3), ('engendra', 3), ('suministros', 4), ('llévenme', 2), ('bolsas', 5), ('llevale', 1), ('diles', 4), ('muchísimas', 4), ('invitarme', 1), ('rescatarme', 1), ('comentario', 6), ('entretenida', 1), ('cocinado', 2), ('tonta', 9), ('preocupación', 4), ('interés', 9), ('halagador', 1), ('proseguía', 1), ('reventar', 1), ('coñac', 1), ('abrirse', 4), ('descolorida', 1), ('desaparecerán', 1), ('cubrieron', 1), ('taparon', 1), ('plazo', 3), ('filoso', 2), ('nación', 1), ('negociación', 2), ('terminada', 1), ('acusó', 6), ('héroes', 1), ('topó', 2), ('usados', 2), ('empeoró', 3), ('atardecer', 1), ('estatua', 2), ('mercados', 1), ('financieros', 1), ('brillaba', 3), ('descarriló', 2), ('ferozmente', 1), ('supone', 9), ('ganancia', 1), ('factores', 1), ('sobrevivientes', 2), ('explosión', 2), ('puentes', 3), ('patrón', 2), ('faro', 1), ('echaron', 3), ('perlas', 3), ('corbatas', 3), ('teniendo', 8), ('paseando', 6), ('entenderme', 1), ('podían', 4), ('pudieron', 2), ('huido', 1), ('detestan', 1), ('cobertizo', 2), ('fallaron', 2), ('dirigieron', 1), ('escondieron', 1), ('sótano', 3), ('lanzaron', 4), ('rememorar', 2), ('cambios', 4), ('cargos', 3), ('acusaciones', 4), ('instrucciones', 3), ('poseen', 1), ('elevaron', 1), ('afincaron', 1), ('viajaron', 1), ('protección', 3), ('tomados', 2), ('alegrarán', 1), ('comerán', 1), ('cuidadosas', 1), ('atrasados', 1), ('llegan', 3), ('mejorar', 6), ('cerebro', 2), ('eléctrico', 4), ('impermeable', 1), ('incorrecta', 7), ('deliciosa', 9), ('sentará', 1), ('discriminación', 1), ('eternidad', 4), ('rematadamente', 1), ('pésima', 8), ('gratuito', 3), ('musical', 2), ('bellísima', 2), ('hedor', 1), ('reservada', 2), ('abrirá', 4), ('balazos', 1), ('agotador', 1), ('regañadientes', 2), ('retiró', 5), ('abotonó', 3), ('calefactor', 2), ('dejarnos', 1), ('felicitó', 1), ('disfrazado', 1), ('protestar', 1), ('lagartijas', 1), ('vano', 8), ('recordaba', 1), ('rugby', 1), ('zambulló', 2), ('soñó', 2), ('forzó', 2), ('rehenes', 1), ('aburrió', 2), ('pobreza', 2), ('cardíaco', 3), ('agregar', 1), ('cejas', 2), ('peludas', 1), ('foco', 2), ('concentración', 1), ('planea', 4), ('esposas', 4), ('nieto', 3), ('ballet', 2), ('hipocondríaco', 1), ('karate', 2), ('manojo', 4), ('mimado', 1), ('muro', 3), ('tiñendo', 1), ('abanicando', 1), ('amateur', 1), ('atómico', 1), ('progresos', 2), ('analgésicos', 1), ('estacionando', 1), ('recogiendo', 2), ('planificando', 1), ('obstinado', 2), ('contando', 6), ('recula', 1), ('retroceder', 1), ('jogging', 1), ('precipicio', 2), ('chupaba', 1), ('mexicana', 2), ('ojeó', 4), ('arquitectura', 2), ('captura', 1), ('marca', 3), ('trasplante', 1), ('descuidó', 1), ('lastima', 1), ('inocencia', 7), ('infló', 1), ('neumático', 3), ('zarandea', 1), ('rendirse', 5), ('rentó', 1), ('tabla', 2), ('alquiló', 1), ('snowboard', 1), ('dimitido', 1), ('reescribió', 2), ('urgente', 10), ('haberse', 7), ('compartía', 1), ('desconchó', 1), ('vertió', 2), ('exprimió', 2), ('pisó', 2), ('víbora', 1), ('pastilla', 2), ('sorbo', 3), ('desenchufó', 2), ('ileso', 1), ('conoceros', 2), ('conocerle', 5), ('conocerles', 2), ('sepas', 10), ('microscopio', 2), ('abrazado', 1), ('desaparecer', 1), ('mudarse', 3), ('decirte', 23), ('apasionaba', 1), ('feria', 2), ('proporcionará', 1), ('ganará', 2), ('pedirá', 1), ('defraudará', 1), ('visitará', 2), ('deshace', 1), ('colilla', 1), ('postales', 1), ('voceó', 1), ('trasplantes', 1), ('espéreme', 1), ('congela', 1), ('0°c', 1), ('obramos', 1), ('regresamos', 2), ('consolamos', 1), ('pudimos', 6), ('debatimos', 1), ('perdemos', 1), ('disfrutábamos', 1), ('diferencias', 1), ('disgustó', 2), ('relación', 2), ('cerrándose', 3), ('reíamos', 2), ('cometimos', 2), ('sake', 1), ('marchamos', 1), ('levantarnos', 2), ('acatar', 3), ('respetar', 7), ('miembro', 8), ('platicamos', 1), ('pospusimos', 1), ('preferimos', 1), ('torno', 3), ('platillo', 1), ('volador', 1), ('repartimos', 1), ('tareas', 6), ('callarnos', 1), ('valoramos', 1), ('malgastamos', 1), ('escribimos', 1), ('discutiremos', 2), ('actuaremos', 1), ('mostraremos', 1), ('orgullosos', 9), ('desayunando', 2), ('divertirnos', 1), ('investigando', 4), ('alcanzando', 1), ('alegramos', 3), ('desanimados', 1), ('caras', 9), ('hicieras', 4), ('despilfarro', 1), ('gasto', 1), ('derroche', 1), ('iniciales', 1), ('recomendaste', 1), ('trataste', 3), ('onu', 1), ('exacta', 3), ('infringido', 1), ('cierran', 2), ('sales', 3), ('modos', 1), ('apellido', 8), ('calza', 1), ('asfalto', 2), ('costo', 2), ('actual', 2), ('sanguíneo', 8), ('filosofía', 1), ('pavo', 4), ('papás', 2), ('equivocó', 1), ('obtuviste', 2), ('subo', 2), ('cafetería', 3), ('bibliotecaria', 1), ('sentabas', 1), ('encajar', 1), ('vagón', 1), ('fundó', 2), ('disneyland', 2), ('tostadas', 1), ('haceros', 1), ('preocupadas', 1), ('tartamudeas', 1), ('sonríes', 5), ('atacaste', 1), ('delataste', 1), ('preguntáis', 1), ('preguntan', 2), ('sientas', 4), ('nadarás', 1), ('querrías', 7), ('jugarías', 1), ('congresista', 2), ('escríbele', 1), ('levadura', 3), ('masa', 2), ('eleve', 1), ('sorprendés', 1), ('oyendo', 2), ('elegida', 1), ('reemplazable', 1), ('tomarte', 5), ('ocupar', 3), ('odiar', 2), ('hipnotizarme', 1), ('podríais', 2), ('rindes', 2), ('daros', 2), ('sobra', 4), ('aguadas', 1), ('trapo', 1), ('alternativas', 4), ('creernos', 1), ('parecés', 5), ('papión', 6), ('babuino', 1), ('mandril', 1), ('odiás', 2), ('comparar', 1), ('alzado', 2), ('consumir', 1), ('agarraste', 2), ('ridículos', 1), ('escondidas', 4), ('arrogantes', 1), ('lastimar', 3), ('creerás', 1), ('estarías', 12), ('empiezas', 2), ('comenzaras', 1), ('empieces', 1), ('arruinar', 2), ('entenderás', 4), ('avergonzando', 1), ('interrumpiendo', 2), ('sonrojar', 2), ('veloces', 2), ('arruinando', 1), ('atractivo', 4), ('perspicaz', 1), ('posesivo', 1), ('callada', 5), ('salados', 1), ('oes', 1), ('aes', 1), ('denegada', 2), ('arrugada', 2), ('interjección', 1), ('susurró', 4), ('reunió', 1), ('hexágono', 1), ('usan', 5), ('cuadrado', 3), ('alcoholismo', 1), ('incurable', 3), ('sinceros', 1), ('demostrar', 2), ('actúan', 1), ('parientes', 3), ('colando', 1), ('enamorando', 2), ('cocinas', 4), ('refieres', 6), ('refiriendo', 1), ('siguen', 4), ('enojadas', 1), ('temes', 2), ('asistencia', 2), ('obligatoria', 1), ('austria', 1), ('aliados', 2), ('traen', 1), ('comprarle', 2), ('tractor', 1), ('comprarnos', 1), ('resolver', 23), ('podrás', 3), ('alcanzas', 2), ('cuadro', 5), ('desatar', 5), ('collares', 1), ('cárgalo', 1), ('juguetes', 5), ('concisión', 1), ('considérame', 1), ('considéreme', 1), ('considérenme', 1), ('considérate', 1), ('corrígeme', 2), ('prestás', 3), ('llamarme', 21), ('hacerme', 13), ('pasarme', 4), ('reduce', 1), ('grasientas', 1), ('largos', 5), ('herí', 3), ('apoyaba', 2), ('llamasteis', 1), ('limpiado', 1), ('limpiaste', 3), ('conseguiste', 7), ('mencionaste', 1), ('tocaste', 1), ('lavaste', 2), ('lavado', 5), ('predicho', 1), ('predijo', 3), ('papi', 1), ('mandarinas', 1), ('harina', 7), ('cuenco', 3), ('boletos', 2), ('sr', 1), ('macedonia', 1), ('requieres', 1), ('baña', 6), ('traduces', 1), ('letras', 1), ('divertir', 3), ('compartirlo', 6), ('esquives', 1), ('molestéis', 2), ('molesten', 3), ('cruces', 2), ('desobedezca', 1), ('incumplas', 1), ('oscurezca', 1), ('engañen', 1), ('movimientos', 3), ('bruscos', 1), ('fósforos', 2), ('nades', 1), ('desquites', 1), ('silbes', 1), ('preocupe', 1), ('baseball', 3), ('cometer', 9), ('negociable', 3), ('contactarme', 1), ('averigua', 3), ('alimentos', 1), ('prevenido', 2), ('sáquelo', 1), ('escogiste', 1), ('abusa', 2), ('ayudáramos', 3), ('anocheciera', 1), ('resfría', 3), ('ascendido', 3), ('demuestra', 2), ('disfrutó', 4), ('mayo', 6), ('hobbys', 1), ('hokkaido', 2), ('vigoroso', 2), ('dibujo', 8), ('detestado', 1), ('toro', 4), ('codos', 2), ('lujos', 1), ('bromeó', 1), ('repisa', 4), ('azafata', 1), ('popeye', 1), ('descuida', 1), ('estudios', 4), ('alentadoramente', 1), ('opuso', 3), ('saltarse', 1), ('únicamente', 2), ('hoteles', 3), ('ahorró', 3), ('entrecortado', 1), ('lenguas', 12), ('unidad', 1), ('creído', 3), ('retorció', 2), ('bigote', 4), ('desabotonó', 4), ('destruirlo', 1), ('sordos', 1), ('ruegos', 1), ('súplicas', 3), ('instantánea', 2), ('reelegido', 1), ('poseyó', 1), ('enviaron', 2), ('combatir', 3), ('esmoquin', 3), ('melodía', 4), ('chifló', 1), ('sinoamericano', 1), ('fluidamente', 4), ('perdidamente', 1), ('médula', 1), ('comprensivo', 1), ('amabilidad', 4), ('elogió', 3), ('niñez', 4), ('latía', 2), ('alumnos', 7), ('sostenelo', 1), ('disparando', 1), ('prevenirlo', 1), ('denuncio', 1), ('longitud', 2), ('tardar', 2), ('pesa', 7), ('reto', 2), ('lombriz', 1), ('viruela', 1), ('andarme', 1), ('rodeos', 6), ('perdones', 2), ('perdonéis', 1), ('amistad', 7), ('nintendo', 1), ('3ds', 1), ('cielorraso', 1), ('cuota', 2), ('honorarios', 2), ('acostumbrarme', 2), ('quererla', 1), ('hospitales', 2), ('diferenciarlos', 1), ('confieso', 1), ('bailé', 1), ('similar', 4), ('colgué', 3), ('centros', 1), ('fijo', 3), ('ram', 1), ('frita', 1), ('moratón', 1), ('ningunos', 1), ('moretones', 1), ('variedad', 2), ('presionarte', 2), ('entrometerme', 2), ('vomitar', 2), ('enamoré', 1), ('crié', 3), ('infancia', 7), ('sangrado', 2), ('racha', 4), ('desayuné', 5), ('730', 2), ('recurrir', 2), ('dispararle', 1), ('notado', 3), ('suegra', 2), ('cronograma', 1), ('ajustado', 1), ('revuelto', 1), ('escalado', 4), ('habilidad', 5), ('as', 3), ('tréboles', 1), ('preocuparme', 2), ('duchar', 2), ('medicamento', 3), ('medicinas', 1), ('remedios', 1), ('adolescentes', 3), ('amigables', 2), ('valga', 1), ('estéis', 2), ('diviertan', 1), ('resultaría', 1), ('distinguir', 3), ('dibujar', 4), ('ordeñar', 1), ('barbaridad', 3), ('npr', 1), ('construir', 2), ('desabroché', 1), ('villancicos', 1), ('secretaria', 4), ('correcciones', 1), ('compensé', 1), ('nade', 1), ('reuní', 1), ('escolar', 4), ('acercándome', 2), ('recuperarlos', 2), ('mantenerte', 3), ('cooperación', 1), ('visito', 3), ('oídas', 1), ('encargué', 2), ('1000', 4), ('parcialmente', 1), ('tailandesa', 3), ('enfáticamente', 1), ('abstengo', 1), ('negué', 1), ('monociclo', 4), ('andé', 1), ('contaría', 2), ('serruchando', 1), ('serrando', 1), ('haberle', 6), ('riéndome', 1), ('trizas', 1), ('documento', 7), ('estiré', 1), ('mareé', 1), ('retiro', 2), ('odiabas', 1), ('sabíais', 2), ('preocuparas', 2), ('preocupaseis', 1), ('inquietase', 1), ('intentaba', 5), ('disuadir', 1), ('acostumbro', 2), ('hermanito', 3), ('golosina', 1), ('gominola', 1), ('honesta', 6), ('spaghetti', 1), ('deshacerme', 2), ('unirme', 1), ('guardarlo', 1), ('parecerme', 2), ('confesara', 2), ('gustarte', 1), ('tráfico', 10), ('youtube', 1), ('kobe', 1), ('secaré', 1), ('camiseta', 2), ('hablaras', 2), ('ocurra', 9), ('sorprendería', 4), ('recomendaría', 3), ('ayudaras', 2), ('sugerencias', 2), ('llegaré', 8), ('meteré', 1), ('conseguiré', 4), ('internen', 2), ('prestaré', 2), ('decepcionaré', 2), ('mostrar', 4), ('comenzaré', 1), ('memorizarlo', 1), ('visitaré', 5), ('cacahuates', 4), ('cacahuetes', 4), ('estrés', 1), ('cruzando', 7), ('emocionalmente', 1), ('harta', 3), ('pudieras', 1), ('hayas', 12), ('disfrutaras', 1), ('devuelvo', 1), ('dificultades', 7), ('protegeros', 1), ('octavo', 2), ('reparando', 1), ('tantísimo', 1), ('perdieses', 1), ('perdieras', 1), ('intenciones', 5), ('admirado', 3), ('licencia', 4), ('estúpidas', 5), ('prioridades', 3), ('demasiadas', 6), ('llorá', 1), ('recuperando', 2), ('detuviste', 3), ('630', 1), ('interrumpía', 1), ('manuscrito', 1), ('sensación', 7), ('hiele', 2), ('accidental', 1), ('informático', 1), ('macizo', 1), ('oscuras', 3), ('distaba', 1), ('alcance', 2), ('enfermizo', 1), ('aberración', 1), ('ocasión', 6), ('delicado', 4), ('fastidio', 3), ('quince', 3), ('consta', 1), ('visible', 1), ('expresión', 1), ('contrato', 7), ('petróleo', 2), ('conservar', 1), ('kennedy', 1), ('patea', 1), ('decidle', 1), ('díganle', 1), ('conduzcamos', 1), ('pidamos', 2), ('discutamos', 2), ('botellas', 7), ('supongamos', 2), ('esclavitud', 3), ('lichis', 1), ('uva', 1), ('producción', 1), ('quesos', 1), ('decoró', 2), ('pestañas', 1), ('novios', 2), ('jubilada', 1), ('preguntarte', 11), ('navaja', 4), ('dejáis', 1), ('dejan', 2), ('telefonearle', 1), ('cortinas', 8), ('colgar', 2), ('permites', 2), ('ofrezca', 1), ('sacarte', 3), ('tomarle', 2), ('puedan', 1), ('tengamos', 5), ('engañada', 1), ('agricultura', 3), ('divorciaron', 1), ('furiosos', 4), ('calcetas', 1), ('dañó', 2), ('vegetariana', 1), ('apretes', 1), ('excepto', 21), ('escapa', 4), ('mezcla', 1), ('fines', 4), ('cancelado', 3), ('poseer', 1), ('chuchito', 1), ('pregúntaselo', 2), ('cómprame', 3), ('extender', 1), ('inserte', 1), ('mantenelo', 1), ('suélteme', 1), ('salúdame', 2), ('envíeme', 4), ('polonia', 2), ('baratas', 3), ('súbitamente', 3), ('presione', 1), ('pulsa', 1), ('apaguen', 2), ('repetid', 1), ('repitan', 1), ('enrolle', 1), ('aplican', 2), ('aumentado', 2), ('sueldos', 2), ('disuelve', 3), ('8', 6), ('envíe', 2), ('brasileños', 1), ('brasileñas', 1), ('inclinando', 1), ('irrumpió', 1), ('centró', 1), ('tímidamente', 3), ('seria', 5), ('educada', 4), ('chantajeándole', 1), ('mandado', 3), ('broche', 1), ('proverbios', 2), ('reveló', 9), ('resfriada', 3), ('ahuyentó', 1), ('mostro', 1), ('apartó', 1), ('presenció', 3), ('intentará', 1), ('inadecuada', 2), ('miedito', 1), ('cuadra', 2), ('ortográficos', 1), ('intrusión', 1), ('disculpame', 1), ('llamás', 1), ('deletree', 1), ('avellanas', 2), ('acero', 1), ('ilegales', 1), ('torturarte', 1), ('desmayé', 1), ('conocimiento', 5), ('calentar', 1), ('sidney', 1), ('cuídense', 1), ('sácate', 1), ('temor', 2), ('evitarse', 1), ('comestible', 1), ('distrae', 2), ('insensatez', 2), ('rebalsó', 1), ('memorable', 1), ('conveniente', 5), ('césar', 1), ('derrocado', 2), ('españoles', 1), ('viciado', 1), ('embajador', 2), ('subasta', 1), ('autor', 4), ('brasileño', 1), ('gatear', 2), ('globos', 1), ('nido', 1), ('agujereada', 1), ('capturó', 1), ('templado', 2), ('criminal', 3), ('delincuente', 2), ('mandaron', 2), ('ladrar', 3), ('sacudía', 2), ('meneaba', 1), ('caminaba', 6), ('collar', 5), ('abriendo', 3), ('propagó', 1), ('marchitaron', 1), ('polvorientos', 1), ('mobiliario', 2), ('acercan', 1), ('impostor', 2), ('retroiluminado', 1), ('aterrizaje', 1), ('incesante', 1), ('chances', 2), ('organización', 1), ('empanadilla', 1), ('curda', 1), ('impresora', 2), ('proverbio', 1), ('encargo', 3), ('rebajas', 2), ('anclas', 1), ('despejará', 1), ('amainaba', 1), ('hablada', 1), ('inundadas', 1), ('suma', 4), ('título', 3), ('ruinas', 5), ('congestionado', 1), ('rastro', 3), ('enfriado', 1), ('innegable', 1), ('saldrá', 2), ('agujetas', 2), ('ventas', 4), ('habido', 7), ('vías', 1), ('férreas', 1), ('supervivientes', 2), ('higiénico', 2), ('originales', 3), ('cortan', 2), ('calzan', 1), ('renunciaron', 1), ('aceptaron', 7), ('adoptaron', 6), ('acordaban', 1), ('acordaron', 4), ('recordaban', 1), ('recordaron', 1), ('tendieron', 1), ('nueces', 1), ('preparan', 1), ('sensatas', 2), ('paces', 2), ('ahuyentaron', 1), ('actuaron', 2), ('rapidez', 1), ('maltrataron', 1), ('subrepticia', 1), ('cautelosamente', 2), ('aplastaron', 2), ('pelearon', 2), ('lucharon', 4), ('liberaron', 2), ('almohadas', 2), ('conocieron', 8), ('secundaria', 5), ('avanzaron', 1), ('fatigados', 1), ('balearon', 1), ('corrieron', 2), ('pasaportes', 1), ('confundidos', 1), ('persiguiendo', 4), ('amigable', 1), ('tuerca', 1), ('policíaca', 1), ('presagio', 1), ('abandonada', 2), ('tremendamente', 2), ('perfección', 3), ('billetes', 4), ('despedí', 1), ('interesarte', 1), ('desconcertante', 1), ('mantendrá', 2), ('estornino', 1), ('cebras', 2), ('vendó', 1), ('hirvió', 2), ('patoso', 1), ('rebanó', 1), ('antiguas', 5), ('creérselo', 1), ('admiración', 1), ('impensable', 1), ('importarle', 1), ('97', 2), ('teñido', 3), ('bañó', 2), ('raite', 1), ('escalofríos', 2), ('vistió', 3), ('bañera', 2), ('quedaban', 4), ('maria', 1), ('mensajeando', 1), ('novias', 2), ('desempacado', 1), ('pololo', 2), ('paracaidista', 2), ('cocainómano', 2), ('guitarrista', 5), ('bebedor', 1), ('social', 2), ('fiscal', 2), ('tosco', 1), ('alimentando', 1), ('balonmano', 1), ('hiperventilando', 1), ('sede', 2), ('cantina', 1), ('almacén', 2), ('manipulando', 1), ('escudriñando', 1), ('intensidad', 1), ('manager', 1), ('reflexionando', 1), ('sociable', 1), ('maru', 1), ('experimentar', 1), ('lente', 1), ('eventos', 1), ('deportivos', 1), ('hamburguesas', 7), ('tiende', 6), ('chela', 2), ('desplumó', 1), ('marisco', 1), ('duchó', 1), ('lonchas', 1), ('chasqueó', 1), ('escupió', 1), ('estrujó', 2), ('alocado', 3), ('arrojó', 3), ('desatascó', 1), ('desenfundó', 1), ('desabrochó', 1), ('voluntarió', 1), ('escenario', 5), ('agradecerte', 5), ('viésemos', 1), ('viéramos', 2), ('celda', 2), ('hundido', 1), ('pensamientos', 5), ('sumido', 2), ('enfrascado', 1), ('2010', 1), ('bromeaba', 1), ('reacio', 1), ('regó', 1), ('ostra', 1), ('quedará', 3), ('competencia', 3), ('arqueología', 1), ('plataforma', 2), ('petrolífera', 1), ('confiscado', 2), ('fachero', 1), ('surtió', 1), ('efecto', 2), ('procure', 1), ('controlarte', 2), ('faros', 1), ('contadas', 1), ('capa', 1), ('apreciamos', 3), ('equilibrio', 4), ('pensamos', 2), ('cenamos', 3), ('conferencia', 7), ('secreta', 2), ('traemos', 1), ('estupendas', 1), ('analizar', 1), ('proactivos', 1), ('mantenernos', 1), ('esperarle', 1), ('vigilantes', 2), ('aumentar', 2), ('chanza', 1), ('reportamos', 2), ('agradecimos', 1), ('tranquilamente', 1), ('perfeccionistas', 1), ('únicos', 3), ('fuésemos', 1), ('ocaso', 3), ('anochecer', 2), ('pasarla', 1), ('tendremos', 9), ('entrante', 1), ('sintiéndonos', 2), ('campeones', 2), ('navegamos', 2), ('íntimos', 2), ('orgullosas', 3), ('establo', 1), ('sentando', 2), ('propones', 2), ('hablabais', 1), ('letrero', 2), ('compone', 2), ('nacionalidad', 3), ('ocupación', 1), ('equipos', 1), ('jugaban', 3), ('reacción', 4), ('nacisteis', 1), ('hacés', 3), ('causando', 1), ('zumbido', 1), ('aparador', 1), ('tasa', 1), ('vuelves', 3), ('botes', 3), ('fotografías', 9), ('cepillo', 3), ('comedor', 2), ('prefieres', 5), ('buscáis', 1), ('esperas', 7), ('provocó', 2), ('políticas', 3), ('mueble', 4), ('tango', 3), ('insegura', 4), ('inseguros', 1), ('inseguras', 1), ('qués', 1), ('paranoicos', 2), ('esperás', 4), ('castigando', 1), ('diantres', 2), ('mataría', 2), ('triunfará', 5), ('fracasará', 2), ('ayudarías', 2), ('ganadores', 1), ('consumen', 1), ('cables', 4), ('trabajadores', 4), ('trazarías', 1), ('banano', 1), ('banana', 2), ('ordenar', 4), ('dejarás', 1), ('teclear', 2), ('progreso', 5), ('cobrado', 1), ('merecés', 1), ('apresurarte', 3), ('сierto', 1), ('manejaste', 1), ('hábilmente', 1), ('mensajes', 5), ('educados', 1), ('afrontar', 2), ('leerte', 2), ('aprendes', 2), ('elegirán', 2), ('conveniencia', 1), ('dolería', 1), ('enfrentarte', 1), ('enfrentar', 2), ('espiar', 1), ('fisgonear', 1), ('escapará', 1), ('creelo', 2), ('meterás', 1), ('superarás', 1), ('pasarás', 2), ('aprenderás', 2), ('comprenderás', 2), ('rompiendo', 2), ('manejando', 3), ('terminasteis', 1), ('asustando', 1), ('desperdiciando', 2), ('podido', 1), ('ingles', 1), ('esfuerzos', 5), ('fantástica', 2), ('graciosas', 1), ('corrido', 1), ('mencionaron', 1), ('bajada', 1), ('deseos', 5), ('«protesto»', 1), ('«se', 1), ('admite»', 1), ('86400', 1), ('floja', 2), ('ángulos', 1), ('meses', 9), ('inevitables', 1), ('pimienta', 5), ('consumieron', 1), ('provisiones', 1), ('ira', 2), ('equivocarse', 3), ('secos', 1), ('tazas', 4), ('porcelana', 1), ('resolverla', 1), ('coqueteando', 2), ('zorreando', 1), ('pitorreando', 1), ('cachondeando', 1), ('bancos', 2), ('cerraron', 1), ('ladrador', 1), ('mordedor', 1), ('mecánicas', 2), ('distancias', 1), ('suelen', 1), ('oponían', 1), ('búfalos', 1), ('bush', 1), ('mantequilla', 9), ('obtiene', 1), ('repollo', 1), ('bomberos', 5), ('mandolina', 1), ('usuario', 2), ('posponer', 2), ('copiarlo', 1), ('explicármelo', 3), ('darnos', 1), ('mantenerlo', 1), ('prestarme', 3), ('alcanza', 2), ('ukelele', 1), ('lanzar', 1), ('cancelen', 1), ('reservas', 1), ('nocturnos', 1), ('fabrica', 1), ('visitarme', 7), ('congreso', 2), ('posibilidad', 6), ('custer', 1), ('darwin', 1), ('transformó', 1), ('gatito', 5), ('cepillaste', 1), ('alcanzaste', 1), ('divertisteis', 1), ('pasasteis', 1), ('cosiste', 1), ('dioxina', 2), ('peligrosa', 7), ('responsabilidad', 2), ('violenta', 2), ('lúcidos', 1), ('pegáis', 1), ('celta', 1), ('frutillas', 2), ('similitud', 2), ('ciegos', 1), ('calculadora', 2), ('conteste', 2), ('salvarlos', 1), ('venderlos', 4), ('lleguéis', 1), ('canal', 2), ('regreséis', 1), ('quejándote', 2), ('escribirme', 3), ('asusten', 1), ('mirés', 1), ('burléis', 1), ('jueges', 1), ('recurras', 1), ('asustes', 2), ('apagues', 3), ('cansás', 1), ('cansas', 1), ('folio', 1), ('trazá', 2), ('educación', 10), ('entusiasmo', 2), ('asistir', 6), ('elogian', 1), ('anduvo', 2), ('montañas', 5), ('fidelidad', 1), ('indica', 1), ('pliego', 1), ('solicitud', 6), ('cubra', 1), ('jarros', 1), ('transforma', 2), ('desperdiciar', 2), ('microbios', 1), ('provocar', 1), ('enfermedades', 1), ('aula', 10), ('tiza', 6), ('convencerlo', 3), ('estudian', 5), ('distribuido', 1), ('explicado', 1), ('claridad', 4), ('reunido', 3), ('ocultaste', 1), ('aconsejó', 15), ('agosto', 2), ('critica', 2), ('colgaran', 1), ('decepcionó', 2), ('modestia', 1), ('enamoró', 3), ('cortante', 1), ('ferocidad', 1), ('rechazaran', 1), ('empeñar', 1), ('respiratorios', 1), ('batió', 2), ('record', 1), ('titubeó', 1), ('instante', 2), ('hablador', 3), ('alardeando', 1), ('décimo', 1), ('quinto', 6), ('inmediata', 2), ('testamento', 2), ('pooch', 1), ('raramente', 3), ('señas', 3), ('detuvieran', 1), ('gasta', 2), ('través', 8), ('aprendió', 5), ('participó', 2), ('1998', 1), ('influenciado', 1), ('muertito', 2), ('achacaron', 1), ('culpado', 2), ('ahorcado', 1), ('judío', 1), ('mantenido', 1), ('cautiverio', 1), ('humilló', 3), ('pasivo', 2), ('silbaba', 1), ('seguirá', 2), ('regresará', 3), ('siguientes', 1), ('categoría', 1), ('acciones', 2), ('argumento', 3), ('gastada', 1), ('acumulándose', 1), ('desgastado', 1), ('gabardina', 1), ('desgastada', 1), ('granjeros', 3), ('andan', 2), ('deshago', 1), ('reírte', 1), ('subiste', 1), ('detenemos', 1), ('gorras', 1), ('sombreros', 2), ('kilo', 1), ('libra', 2), ('obtener', 1), ('antigüedad', 1), ('afectará', 1), ('prohibida', 1), ('caza', 4), ('actué', 1), ('capturo', 1), ('afilando', 2), ('exprimiendo', 1), ('limpiando', 4), ('ayudase', 2), ('sarampión', 1), ('persuasivo', 1), ('cantarlo', 1), ('cantarla', 1), ('comprármelo', 2), ('olvidara', 1), ('mirarte', 1), ('maletín', 5), ('atino', 1), ('cerradura', 5), ('lógica', 5), ('quitarme', 2), ('revelar', 3), ('fuentes', 2), ('escogí', 1), ('escalé', 1), ('queriendo', 1), ('apetecía', 1), ('existía', 1), ('descortés', 3), ('golpearlo', 1), ('muriera', 3), ('dislocado', 1), ('atrevo', 1), ('hablarle', 5), ('afecte', 1), ('autostop', 1), ('afecta', 3), ('fío', 2), ('herirla', 1), ('perderos', 1), ('perderte', 4), ('recordarlo', 1), ('contároslo', 1), ('contártelo', 2), ('reparto', 1), ('prius', 1), ('alimento', 3), ('peleo', 1), ('aniversario', 1), ('averigüé', 2), ('demandas', 5), ('autoescuela', 1), ('portátil', 5), ('interior', 4), ('chorreando', 1), ('infarto', 5), ('considerado', 6), ('contradecirte', 1), ('contradecirle', 1), ('contradecirles', 1), ('paquete', 3), ('tapada', 1), ('panda', 2), ('corazones', 1), ('picas', 1), ('cepillarme', 2), ('lustrarme', 1), ('sacarle', 1), ('brillo', 1), ('bolear', 1), ('pensármelo', 3), ('varios', 10), ('pisadas', 1), ('explosiones', 1), ('diversas', 1), ('opiniones', 1), ('vajilla', 1), ('mejore', 1), ('juzgarte', 1), ('organizar', 1), ('ilusionaría', 1), ('defraudado', 1), ('barcos', 3), ('pintores', 1), ('aprendo', 3), ('extranjeras', 2), ('policíacas', 1), ('barrio', 4), ('espontáneo', 1), ('amarillo', 3), ('conversaciones', 2), ('vestís', 1), ('coleccionar', 7), ('vainilla', 2), ('demasiados', 3), ('mismísimo', 1), ('príncipe', 1), ('acortar', 1), ('protegerme', 2), ('dejaras', 2), ('usualmente', 4), ('murmuro', 1), ('eléctrica', 4), ('telas', 1), ('lisas', 1), ('crema', 6), ('invitación', 11), ('montando', 1), ('cruzar', 7), ('compartí', 1), ('comencé', 2), ('juro', 4), ('enseñé', 6), ('presuntuoso', 2), ('despejando', 1), ('cuco', 1), ('relajar', 1), ('topado', 4), ('confiabas', 1), ('tuvieras', 2), ('participé', 2), ('metan', 2), ('carcel', 1), ('respete', 1), ('escalar', 11), ('sentirme', 1), ('sirviente', 2), ('lucir', 2), ('formar', 2), ('reservar', 3), ('pensarlo', 4), ('estemos', 5), ('caves', 1), ('sigas', 2), ('sorprenderla', 1), ('sorprenderte', 2), ('esperase', 1), ('supermercado', 4), ('atracado', 2), ('poseído', 1), ('avaricia', 1), ('arañó', 1), ('lavo', 4), ('reunirme', 1), ('regalaré', 1), ('tolerarlo', 2), ('acabe', 4), ('mencionaré', 1), ('soportaré', 1), ('inventado', 2), ('iría', 5), ('rutas', 1), ('devolver', 5), ('hojear', 1), ('ojear', 1), ('estrangular', 1), ('fueses', 1), ('acordaré', 4), ('responderé', 1), ('confeccionaré', 1), ('estropearé', 1), ('indicaré', 1), ('usaré', 1), ('habilitado', 1), ('dándole', 1), ('recordaste', 2), ('recordado', 4), ('consultar', 2), ('contraria', 1), ('chupatintas', 3), ('despido', 1), ('busco', 8), ('hablante', 2), ('nativo', 3), ('ayudarlas', 1), ('inspirada', 1), ('molestado', 4), ('haberos', 3), ('importunado', 2), ('molestarle', 2), ('disfrutarlo', 1), ('gustarme', 1), ('curso', 5), ('danza', 2), ('traducir', 1), ('valgo', 1), ('probé', 1), ('despedirme', 1), ('faena', 1), ('alquilé', 2), ('merced', 1), ('inspire', 1), ('suficientes', 3), ('aplicación', 2), ('impuesto', 1), ('capciosa', 1), ('aceptable', 1), ('spaguetti', 1), ('máquina', 14), ('perteneció', 1), ('riñón', 4), ('costaba', 3), ('anochece', 1), ('maravillas', 2), ('embargo', 2), ('mansión', 1), ('necesariamente', 1), ('desafortunadamente', 7), ('pasadas', 1), ('windows', 1), ('principios', 3), ('rayos', 4), ('certero', 1), ('equivocación', 1), ('empezaba', 1), ('metros', 8), ('publicado', 1), ('1969', 1), ('oscurecerá', 1), ('acomodada', 1), ('evidentemente', 1), ('arrójala', 1), ('descabellado', 2), ('asiático', 1), ('koko', 1), ('gorila', 1), ('presentarte', 3), ('aclare', 1), ('avísame', 1), ('déjelos', 1), ('juntarnos', 1), ('démosle', 3), ('campito', 1), ('démosles', 1), ('mantengamos', 2), ('desanimemos', 2), ('juntemos', 1), ('republicano', 1), ('langostas', 1), ('crustáceos', 1), ('científicos', 1), ('senadores', 1), ('opusieron', 1), ('mesero', 3), ('madrastra', 1), ('hermanastra', 1), ('hurgando', 2), ('pediros', 3), ('borrador', 1), ('borrar', 3), ('debiéramos', 1), ('michael', 1), ('monroe', 1), ('votos', 1), ('vocación', 1), ('novato', 1), ('reparación', 6), ('conviven', 1), ('ardilla', 4), ('remuerde', 1), ('construye', 1), ('permitirá', 1), ('fregar', 2), ('sobreprotectora', 1), ('multi', 1), ('desataron', 1), ('trota', 2), ('apretado', 2), ('lavarropa', 3), ('lavarropas', 3), ('lavadora', 4), ('exacto', 3), ('darles', 1), ('retrasarte', 1), ('descubrir', 3), ('retendrá', 1), ('distraerá', 1), ('pasarlo', 2), ('divertirte', 1), ('levantan', 4), ('aprobada', 1), ('activos', 1), ('registradora', 1), ('persistencia', 1), ('frutos', 1), ('mueren', 1), ('revele', 1), ('fumen', 1), ('desperdicie', 1), ('diván', 2), ('envíen', 1), ('lústrese', 1), ('lústrate', 1), ('visitame', 1), ('visítame', 1), ('visíteme', 1), ('praga', 1), ('seguían', 1), ('sacerdotes', 1), ('curas', 1), ('comportarte', 1), ('secas', 1), ('leída', 2), ('republicanos', 1), ('roosevelt', 1), ('samsung', 1), ('tiburones', 1), ('nadadores', 2), ('supuestamente', 3), ('engordar', 1), ('asiste', 3), ('bolearon', 1), ('inesperadamente', 1), ('universitaria', 1), ('obstinada', 2), ('dibujando', 2), ('poetisa', 2), ('apurada', 1), ('especializó', 1), ('bancario', 1), ('mendiga', 1), ('empujón', 1), ('recitó', 1), ('declinó', 3), ('desayunar', 8), ('avanzó', 2), ('daños', 8), ('desvió', 1), ('adularme', 1), ('acusada', 1), ('deseosa', 1), ('soltura', 1), ('dolorosamente', 1), ('delgada', 1), ('criada', 5), ('enjugó', 1), ('tacón', 1), ('museos', 3), ('aturde', 1), ('implicas', 1), ('fuman', 1), ('atrapadas', 1), ('sudáfrica', 1), ('controlaba', 1), ('florida', 1), ('retrasando', 1), ('golpearte', 1), ('suzhou', 2), ('avisame', 1), ('termines', 3), ('tensiones', 1), ('aumentaban', 1), ('recogerme', 2), ('entenderlo', 2), ('comprenderlo', 2), ('agradecemos', 1), ('áspera', 1), ('enloquece', 1), ('intrigó', 1), ('descompuso', 1), ('solemne', 1), ('difícilmente', 2), ('preferida', 7), ('hilton', 3), ('airbag', 1), ('flecha', 6), ('aun', 2), ('hemorragia', 1), ('ajustó', 1), ('repleto', 2), ('canasto', 3), ('resucitó', 1), ('aplazada', 1), ('caseta', 2), ('enfriando', 2), ('reírse', 1), ('gobernador', 1), ('derritiendo', 3), ('cancelada', 2), ('monjes', 1), ('destrozada', 1), ('enfermeras', 1), ('simpáticas', 1), ('orquesta', 1), ('estacionamiento', 1), ('decayendo', 1), ('triunfó', 2), ('descartados', 1), ('pm', 3), ('enchufada', 1), ('sorprendentes', 1), ('servidor', 1), ('estructura', 1), ('hundirse', 1), ('váter', 2), ('cisterna', 5), ('garantizado', 1), ('enlodaron', 1), ('salvada', 2), ('temer', 3), ('necesidad', 4), ('pertenecen', 3), ('consiguieron', 1), ('amables', 5), ('sanas', 1), ('enchiladas', 1), ('convirtieron', 2), ('capturaron', 1), ('robando', 3), ('consideran', 1), ('tales', 1), ('distintas', 1), ('invadieron', 1), ('afueras', 2), ('pisos', 4), ('ciegas', 2), ('odiarme', 1), ('artículos', 1), ('echarlos', 1), ('tradujeron', 1), ('zelanda', 1), ('gastaban', 1), ('pedirían', 1), ('rendirían', 1), ('creyeron', 3), ('promedio', 4), ('marchando', 2), ('monto', 1), ('contraría', 2), ('parecido', 7), ('gruesa', 1), ('habitaciones', 6), ('ejemplar', 1), ('sentencia', 1), ('interno', 1), ('hierva', 3), ('estrecha', 1), ('planchada', 2), ('queroseno', 1), ('material', 3), ('sillas', 9), ('rapidísimo', 1), ('búsqueda', 4), ('direcciones', 3), ('asistió', 5), ('vengó', 2), ('gracia', 4), ('apostó', 3), ('abrochó', 1), ('razonar', 2), ('aseguró', 3), ('agachaba', 1), ('sugeriste', 2), ('investigó', 1), ('destacado', 1), ('necesitó', 1), ('treintas', 1), ('sucesor', 1), ('aparenta', 3), ('ocupa', 4), ('esteroides', 3), ('alistó', 2), ('llenó', 9), ('espacios', 1), ('concedió', 2), ('desvío', 1), ('británico', 1), ('admirador', 2), ('temperamento', 2), ('rendido', 1), ('regañina', 1), ('acceso', 3), ('maritales', 1), ('cantado', 6), ('heredó', 2), ('exesposo', 2), ('yerno', 1), ('compulsivo', 4), ('convicto', 1), ('amistosa', 1), ('imprudente', 2), ('desconocido', 3), ('parpadeando', 1), ('masticando', 3), ('cortando', 1), ('lamentarlo', 1), ('recostado', 1), ('rival', 1), ('porche', 3), ('podando', 1), ('firmando', 1), ('cabro', 1), ('encenagado', 1), ('conversando', 1), ('patadas', 1), ('tacho', 1), ('decoroso', 1), ('necesitado', 2), ('movimiento', 3), ('batuta', 1), ('chatarra', 6), ('deambulaba', 1), ('remoto', 1), ('planeó', 1), ('fingía', 3), ('disfraz', 2), ('refregó', 1), ('lechuga', 3), ('desplomó', 1), ('enojarse', 1), ('freno', 3), ('disminuya', 1), ('esperara', 6), ('sorbito', 2), ('brandi', 1), ('rescatar', 2), ('pedigüeño', 1), ('exigente', 1), ('dirigió', 3), ('podio', 1), ('probarse', 1), ('comandante', 1), ('tanques', 1), ('enviado', 1), ('irak', 1), ('mero', 1), ('apuñalado', 1), ('campeonato', 1), ('dejaba', 2), ('erróneas', 1), ('compañías', 1), ('máquinas', 2), ('caminá', 1), ('lavate', 1), ('mudaremos', 1), ('escalamos', 1), ('empinada', 2), ('conducimos', 1), ('leve', 4), ('disneylandia', 2), ('problemilla', 1), ('stock', 1), ('existencias', 1), ('gastado', 3), ('solucionarlo', 1), ('positivos', 1), ('importamos', 3), ('reunimos', 4), ('recomenzar', 1), ('ordenamos', 1), ('reposamos', 1), ('propensos', 1), ('creíamos', 1), ('sacamos', 1), ('convencerle', 1), ('tratamos', 2), ('atrapar', 4), ('cases', 3), ('peli', 1), ('descansaremos', 1), ('vendremos', 1), ('visitarte', 2), ('tomaremos', 1), ('emplearemos', 1), ('prácticamente', 4), ('añoramos', 1), ('mas', 1), ('arcoíris', 2), ('declaración', 2), ('celebras', 1), ('celebrando', 5), ('celebráis', 1), ('celebra', 1), ('celebran', 1), ('buscás', 1), ('esperan', 2), ('miras', 2), ('planeas', 2), ('opinas', 5), ('buscas', 3), ('urss', 1), ('aparato', 1), ('cartel', 1), ('anterior', 1), ('objeto', 3), ('sospechar', 1), ('despiertas', 1), ('usarás', 1), ('escampó', 1), ('intermedio', 1), ('dirigen', 1), ('venían', 1), ('solicitar', 1), ('correos', 6), ('patito', 2), ('elegirá', 1), ('escogerá', 1), ('vecinas', 1), ('dividió', 1), ('átomo', 1), ('combustible', 6), ('postor', 1), ('interrumpió', 1), ('enfadaste', 1), ('abriste', 3), ('informaste', 1), ('veinticinco', 3), ('centavos', 1), ('cogemos', 1), ('creerte', 1), ('saldrás', 2), ('enseñarás', 2), ('moriríamos', 1), ('dejarías', 1), ('250', 1), ('fermente', 1), ('pedirle', 6), ('cogerte', 1), ('utilizar', 2), ('contarme', 1), ('sobornar', 2), ('juez', 5), ('escaparte', 1), ('respondas', 1), ('revelaste', 1), ('recibes', 2), ('consigues', 1), ('regular', 1), ('decisiones', 5), ('alegraste', 1), ('habérsete', 1), ('perdérselo', 2), ('perderla', 1), ('ejercitarte', 1), ('derrotarás', 1), ('venceréis', 1), ('arrepentirás', 3), ('oponente', 2), ('engañando', 2), ('especialito', 1), ('tiquismiquis', 2), ('arruinas', 2), ('atmósfera', 4), ('recia', 1), ('comprará', 2), ('espléndido', 2), ('—vamos', 1), ('—me', 1), ('iluminaba', 1), ('cocodrilo', 3), ('indicación', 1), ('añade', 1), ('daña', 1), ('autobuses', 1), ('engañan', 1), ('excepción', 5), ('asegúrate', 2), ('gallinas', 2), ('negras', 2), ('peleas', 4), ('limítrofes', 1), ('comunes', 1), ('bourbon', 1), ('búlgaro', 1), ('nata', 1), ('manteca', 1), ('llámenme', 1), ('llámeme', 2), ('párpados', 1), ('permitírnoslo', 1), ('sumar', 1), ('números', 6), ('disculpan', 1), ('grapadora', 1), ('tope', 1), ('pedirlos', 1), ('alojar', 1), ('recomendar', 4), ('enseñarnos', 1), ('vigilar', 1), ('gominolas', 1), ('ositos', 1), ('considérense', 1), ('mandarme', 2), ('sagradas', 1), ('hindúes', 1), ('proveen', 1), ('bailad', 1), ('darcy', 1), ('detroit', 1), ('interrumpí', 1), ('arrestó', 2), ('compusieron', 1), ('repararon', 1), ('decoración', 2), ('criaste', 1), ('crió', 2), ('dormiste', 3), ('percibiste', 1), ('alquilado', 1), ('devolviste', 1), ('dinosaurios', 2), ('actualmente', 4), ('extintos', 1), ('dicte', 1), ('caminás', 1), ('imitarla', 1), ('imitarle', 2), ('hadas', 2), ('respaldo', 1), ('tazón', 3), ('alergia', 2), ('vacantes', 1), ('vacante', 1), ('san', 3), ('francisco', 3), ('tatuajes', 1), ('pensas', 2), ('langostinos', 2), ('camarones', 1), ('ejercitas', 1), ('regularmente', 3), ('derramada', 1), ('fritas', 3), ('fracasas', 1), ('cuelgues', 1), ('sujetes', 1), ('bajes', 1), ('desprecies', 2), ('castigue', 1), ('quite', 1), ('manilla', 1), ('atrevas', 4), ('burros', 1), ('bravos', 1), ('dibujad', 1), ('taquilla', 1), ('casillero', 1), ('frescas', 3), ('espinas', 2), ('embuste', 1), ('pizzas', 1), ('confirma', 2), ('halcones', 1), ('presa', 1), ('felicja', 1), ('granjas', 1), ('sinceramente', 2), ('alcanzo', 2), ('utilizada', 1), ('lavaros', 1), ('asearse', 1), ('adivine', 2), ('adivinad', 1), ('gancho', 3), ('cenado', 4), ('asaltado', 1), ('meditado', 1), ('justamente', 4), ('asumió', 2), ('garantizó', 1), ('nacional', 2), ('naturalidad', 1), ('alarde', 1), ('récord', 5), ('mudaba', 1), ('culpas', 2), ('taló', 3), ('cerezo', 1), ('causas', 2), ('naturales', 4), ('cadillac', 2), ('rosado', 3), ('malversó', 1), ('enoja', 1), ('chiripa', 2), ('graduado', 3), ('magnífica', 3), ('acumulado', 1), ('celulares', 1), ('móviles', 1), ('criado', 2), ('guapos', 2), ('sociedad', 1), ('novelista', 4), ('prometedor', 2), ('cocaína', 1), ('apasionadamente', 2), ('bailes', 1), ('folclóricos', 1), ('encendido', 1), ('burla', 1), ('voley', 1), ('adversario', 2), ('esforzó', 2), ('dominar', 5), ('furia', 2), ('amoratado', 1), ('condenaron', 1), ('sudor', 3), ('orador', 1), ('castigaron', 1), ('1970', 1), ('alegrarse', 1), ('call', 1), ('center', 1), ('reelecciones', 1), ('elevando', 1), ('volantines', 1), ('buscado', 2), ('coraje', 7), ('respaldaba', 1), ('cenizas', 2), ('enterradas', 1), ('condición', 4), ('crítica', 2), ('conducta', 3), ('admirable', 1), ('físico', 1), ('reconfortó', 1), ('entretuvo', 1), ('significado', 4), ('abuelos', 2), ('desquitarme', 1), ('cínico', 2), ('quererme', 1), ('permití', 2), ('pasara', 2), ('convenciste', 2), ('resuelvo', 2), ('chinatown', 2), ('edades', 1), ('acusé', 1), ('sapporo', 1), ('explicando', 1), ('holanda', 2), ('catorce', 2), ('colgando', 1), ('interesan', 3), ('involucrando', 1), ('sirviendo', 2), ('llegaran', 1), ('eterna', 1), ('capacidades', 2), ('facultades', 1), ('deportivo', 3), ('rescatarte', 1), ('cuidarme', 2), ('imaginármelo', 1), ('dártelos', 1), ('mintiéndole', 1), ('leáis', 1), ('confisqué', 1), ('ordenarte', 1), ('arrastré', 1), ('atravesé', 2), ('guardaste', 1), ('herirlo', 1), ('ofenderte', 1), ('contarle', 2), ('despertarte', 1), ('extraterrestres', 1), ('políticos', 3), ('asustarte', 6), ('entrés', 1), ('litro', 1), ('hallo', 1), ('reparé', 2), ('reparen', 2), ('tientas', 2), ('fotografíen', 1), ('sensibilidad', 1), ('acidez', 1), ('planearlo', 1), ('páginas', 5), ('ajustarme', 1), ('cinturón', 7), ('trastes', 1), ('enteré', 1), ('planché', 1), ('avisarte', 2), ('experimento', 7), ('técnica', 3), ('duerma', 1), ('instrumental', 1), ('mejicana', 2), ('modificaciones', 1), ('decirles', 3), ('estirar', 1), ('aconsejaras', 1), ('pretendí', 1), ('herirte', 4), ('tumbo', 1), ('deshojé', 1), ('margarita', 1), ('modernos', 2), ('new', 3), ('times', 3), ('diciéndotelo', 1), ('propios', 6), ('familiares', 1), ('besándoos', 1), ('interrumpo', 1), ('quemándose', 1), ('fumaba', 2), ('sospechaba', 3), ('vencer', 2), ('analfabeto', 1), ('paperas', 2), ('formamos', 2), ('dormida', 5), ('dormidas', 1), ('generalmente', 3), ('astronauta', 1), ('paguen', 1), ('ananá', 1), ('piña', 1), ('rascarme', 1), ('telegrama', 2), ('levemente', 1), ('atropella', 2), ('consternado', 1), ('interesaba', 1), ('kawagoe', 1), ('actuaré', 1), ('según', 6), ('pelearé', 1), ('cuidaré', 3), ('hubieses', 1), ('ayudaría', 4), ('petrolera', 1), ('contestaré', 1), ('incidente', 2), ('prenderé', 1), ('anestesia', 2), ('inyectaré', 1), ('cambiarme', 4), ('distraerlos', 1), ('transformaré', 1), ('instituto', 6), ('terremotos', 1), ('adjuntando', 1), ('acosado', 1), ('acosada', 1), ('opongo', 3), ('rotundamente', 2), ('terminando', 4), ('terminara', 1), ('sociología', 1), ('revueltos', 1), ('alivia', 1), ('gritado', 2), ('confundí', 4), ('comparando', 2), ('enojará', 1), ('lamentos', 1), ('concentrarme', 2), ('endeudado', 3), ('pescuezo', 1), ('jirafa', 2), ('arco', 5), ('iris', 1), ('repentinamente', 4), ('ay', 1), ('mueres', 3), ('calientas', 1), ('119', 2), ('mezclilla', 1), ('mercurio', 1), ('oxford', 1), ('contexto', 3), ('cagar', 1), ('valido', 1), ('okinawa', 1), ('sonaba', 2), ('inalcanzable', 1), ('septiembre', 1), ('serán', 2), ('acusación', 3), ('sorprender', 4), ('piramidal', 1), ('mencionarlo', 1), ('momentos', 4), ('temporal', 2), ('enérgicamente', 1), ('cántaros', 4), ('intuitivo', 1), ('virtualmente', 1), ('barajar', 1), ('tardan', 2), ('secarse', 1), ('juan', 4), ('cruzados', 2), ('tendámosle', 1), ('echémosle', 1), ('ayudemos', 2), ('aplauso', 1), ('sombra', 6), ('malgastemos', 1), ('trasnochemos', 1), ('asar', 1), ('castañas', 1), ('410', 1), ('polar', 1), ('llevaban', 1), ('aguardaban', 1), ('piercing', 1), ('36', 1), ('ciernes', 1), ('cepillándose', 1), ('maquillando', 1), ('pendientes', 5), ('maternidad', 1), ('floreada', 1), ('maltrataba', 1), ('preguntaros', 2), ('preguntarles', 1), ('veme', 1), ('menores', 3), ('generalidad', 1), ('juguetones', 2), ('disfrutan', 3), ('prematuramente', 1), ('dormitorios', 1), ('fracasaron', 2), ('miserablemente', 1), ('escuchará', 1), ('temblaba', 5), ('rendirá', 2), ('entenderle', 3), ('deshonestos', 1), ('pasarte', 1), ('comprender', 3), ('actualidad', 1), ('escasea', 3), ('59', 1), ('reja', 1), ('huéspedes', 1), ('prende', 3), ('relato', 3), ('pelícanos', 1), ('picos', 1), ('duran', 1), ('contácteme', 1), ('malentiendas', 1), ('malentiendan', 1), ('endóseme', 1), ('endósame', 1), ('apagá', 1), ('prométeme', 2), ('deposita', 1), ('abandonan', 2), ('desarrolla', 2), ('absténgase', 1), ('manga', 2), ('mándeme', 2), ('factura', 4), ('discusiones', 2), ('majo', 1), ('docenas', 4), ('54', 2), ('alegró', 1), ('moral', 2), ('mecanógrafo', 1), ('honores', 2), ('tendió', 2), ('desertor', 1), ('inteligencia', 2), ('ágil', 2), ('cientos', 1), ('visitado', 3), ('psíquicas', 2), ('conductora', 1), ('contigua', 2), ('propietaria', 1), ('renunciara', 1), ('testificó', 3), ('preocupara', 2), ('década', 1), ('hablaría', 2), ('refunfuñando', 1), ('mostrales', 1), ('prestá', 1), ('empape', 1), ('afeitan', 1), ('volante', 2), ('tráguelo', 1), ('mastique', 1), ('aguántalo', 1), ('cazuela', 1), ('colocar', 1), ('pellejo', 1), ('corrección', 2), ('chimenea', 3), ('rabo', 1), ('fruto', 3), ('malhablado', 1), ('traía', 2), ('frito', 2), ('fracasar', 1), ('tentador', 1), ('desaparecerá', 3), ('interpuso', 1), ('inadecuado', 1), ('ofrecemos', 1), ('precisamente', 3), ('chihuahua', 1), ('absoluta', 3), ('desconsideración', 1), ('1812', 1), ('correctas', 3), ('madura', 1), ('sonado', 1), ('desplegó', 1), ('contenía', 2), ('dirigía', 2), ('avanzaba', 1), ('lamiendo', 2), ('aplausos', 1), ('ensordecedores', 1), ('pintaba', 1), ('chile', 1), ('bancarrota', 1), ('competición', 2), ('feroz', 4), ('asó', 1), ('parrilla', 1), ('predeterminado', 1), ('olfateó', 1), ('tirada', 1), ('alcantarillas', 1), ('obstruidas', 1), ('bailaban', 2), ('neblina', 1), ('envolvía', 1), ('investigación', 4), ('deshabitada', 1), ('abusaba', 1), ('refrigerador', 5), ('afectó', 2), ('aumentó', 1), ('población', 4), ('aumenta', 1), ('respondida', 1), ('extendieron', 1), ('admitían', 1), ('incómodos', 2), ('oscurecerse', 1), ('seguidos', 3), ('valientemente', 1), ('encendieron', 1), ('faroles', 1), ('trueno', 2), ('obstruyó', 1), ('océanos', 1), ('infectó', 1), ('destinos', 1), ('entrelazados', 1), ('fáciles', 1), ('pudrieron', 2), ('podridas', 3), ('preciosos', 3), ('corrigieron', 1), ('1997', 1), ('vetaron', 1), ('malograron', 1), ('rocky', 1), ('crearon', 1), ('gobierno', 5), ('sentían', 1), ('olvidaron', 2), ('despertarme', 1), ('avenida', 1), ('asintieron', 1), ('hundieron', 1), ('naves', 1), ('cultura', 4), ('boquiabiertos', 1), ('misa', 1), ('asustadas', 1), ('porte', 2), ('ishikawa', 1), ('interrogando', 1), ('sorprendentemente', 2), ('entusiastas', 1), ('descatalogado', 1), ('restringido', 1), ('automática', 1), ('hipótesis', 1), ('sartén', 3), ('usos', 2), ('excepcional', 5), ('rescatadas', 1), ('devuelta', 2), ('salen', 2), ('abstuvo', 1), ('marchara', 1), ('damas', 3), ('temerle', 1), ('traidora', 1), ('vencernos', 1), ('compite', 1), ('completó', 1), ('condena', 1), ('notó', 2), ('setentas', 1), ('desagradan', 1), ('ruidosas', 1), ('desayuna', 4), ('apresurarse', 1), ('falsificó', 1), ('reportes', 2), ('bruces', 1), ('tratamiento', 2), ('padece', 1), ('espiándome', 1), ('montones', 1), ('freelance', 1), ('esquiador', 1), ('comprador', 1), ('litera', 7), ('desplumando', 1), ('esquilando', 1), ('atendiendo', 2), ('capacitado', 1), ('mejicano', 1), ('tirantes', 1), ('chismoseando', 1), ('cotorreando', 1), ('balbuceando', 1), ('zanja', 1), ('burlándose', 1), ('mostrador', 2), ('pañal', 1), ('domigos', 1), ('feneció', 1), ('pantalla', 1), ('practica', 1), ('caset', 1), ('casetera', 1), ('bloqueador', 2), ('cría', 2), ('árabes', 1), ('mojadas', 2), ('denunció', 1), ('desaparición', 2), ('párrafo', 1), ('dueto', 1), ('durmiera', 2), ('guiñarle', 1), ('apretón', 2), ('espió', 1), ('liberarse', 1), ('forcejeo', 1), ('soltar', 2), ('ataduras', 1), ('forcejeó', 1), ('liberación', 1), ('debatió', 1), ('dirigiera', 1), ('estaríais', 1), ('estarían', 3), ('consolar', 1), ('matarse', 1), ('ocupó', 1), ('económico', 2), ('exitoso', 5), ('respetado', 2), ('donar', 3), ('teñirse', 2), ('bautizo', 1), ('pegaron', 1), ('eligieron', 4), ('cercano', 7), ('sentenciado', 3), ('inanición', 1), ('sobreviviente', 1), ('toallas', 2), ('tangente', 1), ('ómnibus', 1), ('deseó', 1), ('abandonaría', 2), ('entrenado', 2), ('excéntrica', 1), ('salía', 2), ('pelado', 3), ('tratá', 1), ('montamos', 1), ('calentadores', 3), ('ensamblamos', 1), ('armamos', 1), ('desayunamos', 3), ('abandonarlos', 1), ('agradecerles', 1), ('podíamos', 3), ('brecha', 1), ('campanas', 2), ('aprendemos', 5), ('lleguemos', 2), ('ofrecimos', 2), ('pintado', 3), ('zambullimos', 1), ('despertamos', 1), ('abandonaremos', 1), ('separadas', 1), ('protegerles', 1), ('primeras', 1), ('dispuestos', 2), ('esperable', 1), ('alimentan', 2), ('cómica', 1), ('mascando', 1), ('tratas', 2), ('conclusiones', 1), ('atisbar', 1), ('pretende', 2), ('depara', 2), ('consiste', 3), ('recórcholis', 1), ('sostienes', 1), ('marchas', 1), ('marcháis', 1), ('últimas', 2), ('tardas', 1), ('preferido', 11), ('aterrizar', 2), ('visitaste', 2), ('desayunáis', 1), ('pretendes', 2), ('sobres', 1), ('aprendieron', 2), ('terminal', 2), ('cercana', 8), ('quedaréis', 2), ('escogerás', 1), ('central', 2), ('park', 2), ('alentando', 1), ('homicidio', 4), ('porción', 2), ('enviaría', 1), ('quienquiera', 6), ('cabreado', 1), ('cabreada', 1), ('cabreados', 1), ('cabreadas', 1), ('rompisteis', 1), ('creíste', 1), ('despertaste', 2), ('adelantas', 1), ('calmar', 1), ('frotarías', 1), ('despertarás', 1), ('envejecen', 1), ('apetecería', 1), ('levantarías', 2), ('dirías', 1), ('anotá', 1), ('yoga', 2), ('distraes', 1), ('subestimando', 1), ('ganarle', 1), ('ayuntamiento', 2), ('agradar', 1), ('desprecias', 2), ('almorzaste', 3), ('escribiste', 1), ('ticket', 2), ('telefonearme', 1), ('envolverlo', 2), ('total', 3), ('llevarnos', 2), ('regularidad', 3), ('arriesgarte', 1), ('kimono', 1), ('tomasteis', 1), ('adecuada', 2), ('cometiste', 3), ('apretar', 2), ('entrenar', 1), ('ceremonia', 2), ('distraída', 1), ('vegetales', 2), ('vestir', 2), ('vestirte', 2), ('tomarse', 4), ('guardaespalda', 1), ('descanses', 1), ('entenderéis', 1), ('vean', 2), ('atentos', 2), ('contagiado', 2), ('vehículos', 3), ('vota', 1), ('intentos', 4), ('pobladores', 1), ('1864', 1), ('excavó', 1), ('vasija', 1), ('pasándola', 1), ('acostados', 1), ('duradera', 1), ('astronautas', 1), ('trajes', 1), ('espaciales', 1), ('libramos', 1), ('impedimento', 1), ('abren', 2), ('edificios', 1), ('boxeadores', 1), ('reflejos', 1), ('raros', 1), ('mama', 1), ('tijera', 1), ('gerente', 7), ('pequeñito', 1), ('enmarcar', 2), ('receta', 2), ('medir', 1), ('arrojar', 3), ('tomarnos', 2), ('cartón', 3), ('rajan', 1), ('caros', 2), ('emparentados', 1), ('aprenden', 3), ('25', 3), ('diciembre', 4), ('circunstancias', 1), ('retomarán', 1), ('volved', 2), ('ea', 1), ('considere', 1), ('autógrafo', 1), ('destornillador', 1), ('enviarlo', 1), ('deletrearlo', 1), ('destruye', 1), ('secador', 4), ('trajeron', 1), ('telefoneaste', 2), ('solicitaste', 1), ('apagaste', 2), ('pronunciar', 1), ('aceptáis', 1), ('tarjetas', 3), ('créditos', 1), ('económica', 1), ('incendios', 3), ('ikea', 1), ('artístico', 1), ('practicar', 1), ('colegas', 1), ('marches', 1), ('depilas', 1), ('acordás', 1), ('continue', 1), ('odie', 1), ('matemos', 1), ('doctores', 3), ('extrajeron', 1), ('masticas', 1), ('masticás', 1), ('indicaciones', 1), ('andes', 2), ('ramas', 6), ('andéis', 2), ('ande', 2), ('anden', 2), ('directos', 2), ('creas', 6), ('mezcle', 1), ('juzgues', 2), ('severidad', 4), ('juzguéis', 1), ('juzgue', 2), ('juzguen', 1), ('distraiga', 1), ('fieis', 1), ('manipularme', 1), ('sécate', 1), ('eterno', 1), ('ancla', 2), ('admiraban', 1), ('ejercitarse', 1), ('beneficios', 1), ('exportaciones', 1), ('ralentizando', 1), ('adictiva', 1), ('fatiga', 1), ('cuestionario', 1), ('gay', 1), ('sobras', 4), ('griegos', 2), ('retrasó', 2), ('enamoradas', 1), ('sirvienta', 2), ('ordeñado', 1), ('koala', 4), ('granizar', 1), ('nominación', 2), ('apropió', 1), ('fumara', 3), ('furiosamente', 1), ('chocolates', 1), ('difunto', 1), ('noel', 2), ('noreste', 1), ('loncha', 1), ('castigo', 3), ('despilfarró', 1), ('amago', 1), ('cruda', 2), ('quilos', 2), ('insinuó', 1), ('nobleza', 1), ('pescando', 1), ('mejilla', 5), ('limpiara', 1), ('visitaba', 2), ('ocasiones', 5), ('paisajes', 2), ('jugará', 3), ('ganaría', 1), ('pedal', 1), ('arrepintió', 1), ('recortaría', 1), ('compartió', 6), ('fluidez', 2), ('hablarles', 1), ('lavara', 2), ('alertó', 1), ('atacado', 3), ('tiburón', 2), ('bautizado', 1), ('suiza', 2), ('atado', 2), ('notaba', 1), ('agotadísimo', 1), ('electores', 1), ('atropellaron', 1), ('reelección', 1), ('libras', 2), ('esperándote', 2), ('escrupuloso', 1), ('cómics', 2), ('visitaría', 1), ('llenaron', 3), ('expresaba', 2), ('deletreado', 1), ('deletrearon', 1), ('rebosaba', 1), ('ingenio', 2), ('vanidad', 1), ('halla', 1), ('dificultosa', 1), ('discursos', 1), ('conferencias', 2), ('antoja', 1), ('filtró', 1), ('supiste', 3), ('deletrea', 1), ('distinguirlos', 1), ('distinguirlas', 1), ('nilo', 1), ('muñecas', 6), ('horneaste', 1), ('cuartos', 1), ('suponía', 3), ('aconsejé', 4), ('calculando', 2), ('cuentos', 4), ('cubano', 1), ('argüí', 1), ('usual', 1), ('arreglaran', 2), ('tapujos', 1), ('vencí', 1), ('artimañas', 1), ('hallarlo', 1), ('imaginarme', 1), ('contaros', 1), ('prestarle', 4), ('fallarle', 1), ('predecir', 2), ('tragaluz', 1), ('describirlo', 2), ('desafié', 1), ('reté', 1), ('comparé', 1), ('oía', 2), ('afeitaba', 1), ('alarmarte', 1), ('interrumpir', 3), ('preocupar', 1), ('celebrar', 3), ('freud', 1), ('comportamiento', 9), ('insultar', 3), ('tentar', 1), ('acordarías', 1), ('regalé', 3), ('clavé', 1), ('espina', 2), ('picado', 2), ('lesioné', 1), ('curé', 1), ('minera', 1), ('supremamente', 1), ('conversación', 1), ('varicela', 1), ('llevara', 3), ('piedrita', 1), ('suspicaz', 1), ('úlcera', 1), ('ampollas', 1), ('labor', 1), ('medicación', 1), ('abotonarme', 1), ('mezquita', 1), ('ayuden', 3), ('fugaz', 3), ('llegaría', 3), ('linux', 1), ('akasaka', 1), ('pintara', 1), ('denante', 1), ('refrescar', 1), ('encargar', 2), ('renovarme', 1), ('carné', 1), ('sospeché', 1), ('conjuntivitis', 1), ('barrita', 1), ('granola', 1), ('poseo', 1), ('antiguos', 1), ('convencí', 1), ('planeo', 9), ('apoyarlo', 1), ('capacidad', 5), ('rasgué', 1), ('kilómetros', 6), ('ensillé', 1), ('niñito', 4), ('debí', 9), ('faltas', 1), ('desmayarme', 1), ('intencionado', 1), ('preocupas', 4), ('lesionado', 1), ('tocaras', 1), ('tocases', 1), ('rajó', 1), ('clavo', 3), ('criar', 2), ('posavasos', 1), ('lave', 1), ('soltarme', 1), ('celos', 3), ('analices', 1), ('conozcas', 4), ('queden', 1), ('laves', 1), ('cortaran', 1), ('dejaran', 2), ('enseñártelo', 1), ('mostrártelo', 1), ('humillada', 1), ('duchando', 3), ('sino', 5), ('limpiaré', 1), ('animarle', 1), ('impediré', 1), ('agencia', 2), ('turismo', 1), ('sentiría', 1), ('defraudar', 2), ('tónica', 1), ('colgante', 1), ('tocaré', 2), ('intercederé', 1), ('reconsideraré', 1), ('reformularé', 1), ('embarcaré', 1), ('obligaciones', 1), ('investigador', 1), ('amamantando', 1), ('claustrofóbica', 1), ('claustrofóbico', 1), ('reconsiderarlo', 1), ('hong', 2), ('kong', 2), ('rejas', 1), ('arrestarte', 1), ('crea', 3), ('achispado', 1), ('atasco', 2), ('quejará', 1), ('conmovido', 1), ('traduciendo', 1), ('estricta', 2), ('corregí', 1), ('labores', 2), ('cortarle', 1), ('tuba', 1), ('viajado', 2), ('islandia', 2), ('volcanes', 1), ('retar', 2), ('alegraré', 1), ('damos', 2), ('lograremos', 1), ('1917', 1), ('envío', 1), ('manómetro', 1), ('contrae', 1), ('sumamente', 4), ('filmada', 1), ('tenerte', 1), ('acabar', 5), ('asa', 1), ('pequeñísimo', 2), ('angosto', 2), ('insular', 1), ('cantarte', 1), ('cante', 2), ('repose', 1), ('háznoslo', 1), ('brindemos', 1), ('terminémoslo', 1), ('burbuja', 1), ('relámpagos', 1), ('precede', 1), ('impactó', 1), ('polleras', 1), ('bota', 1), ('rebota', 1), ('marconi', 1), ('alice', 4), ('hijastra', 1), ('diseñadora', 2), ('trabajadora', 2), ('permitió', 1), ('protegió', 1), ('protegía', 1), ('extendido', 1), ('habérselo', 1), ('sepa', 11), ('varoniles', 1), ('verse', 1), ('masculinos', 1), ('oxidando', 1), ('aproxima', 2), ('noviembre', 3), ('cuñado', 2), ('madero', 1), ('convertirme', 2), ('malasia', 1), ('canoso', 1), ('natal', 3), ('laburo', 1), ('filo', 1), ('oriundos', 1), ('obsequió', 1), ('viviendas', 1), ('caverna', 1), ('gritos', 2), ('percató', 2), ('ausencia', 2), ('nube', 5), ('persuadía', 1), ('micrófonos', 1), ('abusar', 3), ('86', 1), ('orgánica', 2), ('caldera', 2), ('taiwan', 2), ('perfectas', 1), ('pierce', 1), ('electo', 1), ('1852', 1), ('hamburguesa', 1), ('devolverme', 1), ('regrese', 4), ('catálogo', 2), ('lapicero', 1), ('medidas', 3), ('inmediatas', 1), ('coloque', 2), ('zamora', 1), ('recita', 1), ('alfabeto', 1), ('gritad', 1), ('asesinó', 3), ('casara', 3), ('entrara', 1), ('dedicó', 2), ('muriese', 1), ('canas', 1), ('pañuelos', 2), ('atarse', 2), ('soprano', 1), ('reclinó', 2), ('llegara', 4), ('persuadió', 2), ('citó', 1), ('keats', 1), ('inquietud', 1), ('siguiera', 1), ('intentara', 1), ('cuidados', 1), ('fregando', 1), ('chicago', 6), ('fastidiosa', 1), ('remover', 1), ('eliminar', 1), ('suciedad', 1), ('civiles', 1), ('interrupción', 1), ('viaja', 4), ('espérale', 2), ('espérele', 1), ('espérenle', 1), ('esperadle', 1), ('desesperación', 1), ('estantería', 6), ('respire', 1), ('aclarármelo', 1), ('hospitalidad', 1), ('digiere', 2), ('amargado', 1), ('mata', 1), ('discapacitada', 1), ('arrollar', 1), ('ordinaria', 1), ('agradará', 1), ('británicos', 3), ('arquero', 1), ('acaloró', 1), ('ascendió', 1), ('batía', 1), ('ala', 1), ('construcción', 2), ('atravesó', 5), ('expira', 1), ('bailarines', 1), ('agotados', 2), ('bailarinas', 1), ('agotadas', 1), ('olisqueó', 1), ('desaguadero', 1), ('águila', 2), ('efectos', 2), ('reversibles', 1), ('pintada', 3), ('vuelos', 2), ('cancelados', 1), ('resbaloso', 1), ('animaron', 1), ('densa', 2), ('atrajo', 1), ('emoción', 2), ('capas', 1), ('reían', 2), ('aterrizó', 1), ('narita', 1), ('lesión', 1), ('ganancias', 1), ('proyector', 2), ('exige', 2), ('informes', 3), ('confusos', 2), ('antojan', 1), ('prometedores', 1), ('revisada', 1), ('afiladas', 1), ('buque', 1), ('aceptación', 1), ('acogida', 2), ('inicio', 2), ('aclarará', 1), ('derretirse', 1), ('disponían', 1), ('artillería', 1), ('brillaban', 1), ('tumbó', 2), ('hoyos', 1), ('cabal', 1), ('grieta', 1), ('cortaron', 1), ('avances', 1), ('inquietante', 1), ('brisa', 1), ('nevera', 3), ('sencillas', 1), ('sirven', 4), ('idénticas', 1), ('felicitaron', 1), ('estatura', 1), ('tildaron', 2), ('masacre', 2), ('scalawags', 1), ('tocaron', 1), ('apuraron', 1), ('presidenta', 1), ('cazaron', 1), ('producir', 1), ('constante', 1), ('podrían', 5), ('rehusaron', 1), ('reclutados', 1), ('tennessee', 1), ('proveyeron', 1), ('suministraron', 1), ('miraban', 1), ('riegan', 1), ('frutales', 1), ('montaron', 1), ('comportaban', 1), ('nacieron', 2), ('elegidos', 1), ('conservadores', 1), ('irán', 2), ('contarán', 2), ('querrán', 1), ('castigarlo', 2), ('académicos', 1), ('cansadas', 2), ('ciencias', 2), ('típicos', 1), ('jovenzuelos', 1), ('pondrán', 1), ('desorientador', 1), ('desajustado', 1), ('tesis', 1), ('coleccionista', 1), ('herradura', 1), ('sumergible', 1), ('colmillo', 1), ('elefante', 3), ('insoluble', 1), ('pescó', 2), ('advertencia', 2), ('curarlo', 1), ('cuarentas', 1), ('furor', 1), ('piezas', 1), ('ignorada', 1), ('calefacción', 3), ('repetirse', 2), ('venenosa', 1), ('requirió', 1), ('raya', 1), ('chancho', 1), ('70000', 1), ('potable', 1), ('tolerará', 1), ('tolerar', 1), ('griego', 3), ('significados', 2), ('yogur', 1), ('miles', 3), ('hogares', 1), ('irreemplazable', 1), ('amanecí', 1), ('goce', 1), ('accidentalmente', 2), ('compartieron', 1), ('solicitó', 1), ('moderno', 3), ('pesados', 1), ('carretilla', 2), ('elevadora', 2), ('registró', 1), ('trepó', 3), ('convencer', 1), ('importara', 1), ('obligado', 2), ('averiada', 2), ('descompuesta', 1), ('goteaba', 1), ('instintos', 1), ('señales', 3), ('custodia', 1), ('apuñalaron', 2), ('calambre', 1), ('sanguínea', 1), ('comprometido', 2), ('protegerse', 1), ('estrecho', 3), ('presencia', 1), ('exnovio', 1), ('costumbres', 1), ('diaria', 1), ('rutinario', 1), ('técnico', 1), ('basurero', 2), ('comunicador', 1), ('patológico', 1), ('retirado', 2), ('relojería', 1), ('obcecado', 1), ('testarudo', 1), ('decorando', 1), ('acongojado', 1), ('copiloto', 1), ('inflando', 1), ('javascript', 1), ('tirando', 1), ('recibiendo', 1), ('regando', 3), ('infringiendo', 1), ('sobrepasando', 1), ('asfixiarme', 1), ('visitarnos', 5), ('sami', 1), ('mosquitera', 1), ('sentara', 1), ('ensayó', 1), ('reinició', 1), ('apenado', 2), ('divirtiéndose', 1), ('afónico', 1), ('barril', 1), ('cerrojos', 1), ('anabólicos', 1), ('aguardó', 2), ('animar', 2), ('meditarlo', 2), ('empapó', 1), ('profusamente', 1), ('amenazado', 1), ('malhumorado', 2), ('garage', 1), ('gatitos', 1), ('composición', 1), ('mecanografía', 1), ('reanuda', 1), ('explicarle', 1), ('vegetarianos', 4), ('viena', 1), ('grados', 3), ('disculpamos', 2), ('demora', 2), ('vengáis', 1), ('queramos', 1), ('lavavajillas', 2), ('lavatrastes', 1), ('trancar', 1), ('sobrantes', 1), ('inesperadas', 1), ('jabonera', 1), ('camas', 2), ('cabezas', 2), ('precavidos', 1), ('nivelar', 1), ('leña', 3), ('pintamos', 1), ('convencimos', 1), ('llevaremos', 2), ('almorzaremos', 1), ('arreglárnoslas', 1), ('bajaremos', 2), ('conscientes', 2), ('volvemos', 1), ('cometiendo', 2), ('acabando', 1), ('únicas', 1), ('bajas', 1), ('resolvimos', 1), ('invento', 1), ('rechinar', 1), ('carajo', 1), ('alboroto', 1), ('materna', 7), ('hacían', 3), ('pensarán', 1), ('mensual', 5), ('inició', 2), ('empezaste', 1), ('sueles', 4), ('fresas', 2), ('aparcaste', 1), ('aparcasteis', 1), ('aparcó', 1), ('aparcaron', 1), ('boletería', 1), ('venías', 2), ('conviene', 1), ('directorio', 2), ('organizó', 1), ('cuadros', 2), ('navegar', 6), ('prismáticos', 1), ('casasteis', 1), ('casaste', 1), ('odiáis', 1), ('rayas', 1), ('pones', 1), ('probás', 1), ('cojea', 1), ('solicitas', 1), ('quitas', 1), ('escucharte', 1), ('ayudáis', 2), ('lobos', 2), ('deambulan', 1), ('puños', 1), ('quisieras', 2), ('pasarías', 1), ('sanan', 1), ('joyas', 2), ('adivinarlo', 4), ('donante', 1), ('derrotar', 1), ('agradecernos', 3), ('pararse', 1), ('potencial', 1), ('harry', 1), ('potter', 1), ('completar', 1), ('fibra', 1), ('regalas', 1), ('contáis', 1), ('deshacerte', 1), ('deshaceros', 1), ('girado', 1), ('arrestados', 1), ('seréis', 2), ('conseguirás', 1), ('haríais', 1), ('créeme', 1), ('tiendes', 1), ('talentosos', 1), ('talentosas', 1), ('enorgulleces', 1), ('élite', 1), ('derramado', 1), ('crías', 3), ('alegaciones', 1), ('sanos', 2), ('echarán', 1), ('ilógica', 1), ('asustaron', 1), ('perforó', 1), ('estableció', 1), ('puerto', 3), ('haiku', 1), ('curar', 2), ('tercio', 1), ('tercia', 1), ('vasto', 1), ('extiende', 1), ('cucharadita', 1), ('pimiento', 1), ('mortales', 1), ('disfrutarón', 1), ('teléfonos', 1), ('trompa', 1), ('importuna', 1), ('aparentemente', 3), ('hábito', 3), ('cuestionando', 1), ('ligar', 1), ('agradaba', 2), ('barack', 1), ('pekín', 2), ('fluía', 1), ('retirados', 1), ('impacto', 3), ('prepararos', 1), ('pelearse', 1), ('decirme', 7), ('admite', 3), ('rebaja', 1), ('describir', 1), ('bajarle', 1), ('limitar', 1), ('decidirte', 1), ('masticá', 1), ('bacalao', 1), ('emergente', 1), ('colón', 1), ('compara', 2), ('computadores', 4), ('dibujarme', 1), ('cocodrilos', 1), ('afilados', 2), ('damasco', 1), ('siria', 1), ('valen', 1), ('posteriormente', 1), ('determinación', 2), ('plantaste', 1), ('cerraste', 1), ('precauciones', 2), ('digamos', 1), ('universal', 3), ('salón', 2), ('playstation', 1), ('profesional', 3), ('étnico', 1), ('mitos', 1), ('indonesia', 1), ('renacentista', 1), ('alojarte', 1), ('alojaros', 1), ('preferís', 1), ('lamentas', 2), ('sobran', 1), ('cabrá', 1), ('viajas', 2), ('demostración', 1), ('retrate', 1), ('complique', 1), ('expongas', 1), ('escribirnos', 2), ('afírmate', 1), ('enfríe', 1), ('distraigan', 1), ('preguntártelo', 2), ('tergiverses', 1), ('económicos', 1), ('ahorran', 1), ('eisenhower', 2), ('teclee', 1), ('amistosos', 1), ('discúlpame', 1), ('expertos', 2), ('familiaridad', 1), ('15', 1), ('filiberto', 1), ('hablá', 1), ('cuerpos', 2), ('occidental', 3), ('déselo', 1), ('dénselo', 1), ('tizas', 1), ('avanza', 1), ('cuadras', 1), ('atraco', 1), ('1636', 1), ('hágales', 1), ('horneado', 1), ('donado', 1), ('podado', 1), ('notición', 1), ('dominó', 2), ('leyera', 2), ('ceremonias', 1), ('enfurecido', 1), ('guardaba', 1), ('rencor', 3), ('influencias', 1), ('asegura', 3), ('bellos', 1), ('admirarla', 1), ('atrevió', 1), ('desveló', 1), ('suspendió', 1), ('villa', 4), ('formidable', 1), ('matemática', 1), ('rana', 3), ('artesanía', 1), ('contrincante', 1), ('noqueó', 1), ('desprotegida', 1), ('millonario', 5), ('abrupta', 2), ('rol', 2), ('aparentaba', 1), ('referencia', 1), ('rasgó', 1), ('reinó', 1), ('reino', 3), ('afeita', 1), ('guió', 2), ('cáscara', 2), ('iowa', 2), ('ciñe', 2), ('sufría', 1), ('reumatismo', 1), ('contara', 1), ('dejaría', 5), ('cobardía', 1), ('apuntaba', 1), ('expulsado', 1), ('ignoraba', 1), ('dudaba', 1), ('escribirá', 1), ('daría', 3), ('pensador', 1), ('unir', 1), ('disciplinado', 1), ('rabia', 4), ('rulos', 2), ('resumen', 2), ('acreedores', 3), ('posaron', 1), ('anegados', 1), ('complicó', 1), ('actuación', 4), ('basa', 1), ('footing', 1), ('recupero', 1), ('producido', 1), ('introdujiste', 1), ('conocerla', 3), ('explicas', 1), ('relajas', 2), ('bochorno', 2), ('bochornoso', 2), ('válida', 1), ('guitarras', 3), ('eiffel', 1), ('construidas', 1), ('pirámides', 1), ('crueldad', 1), ('perseverancia', 1), ('negligente', 1), ('admití', 1), ('ciento', 1), ('corrijo', 1), ('asumo', 4), ('supuse', 4), ('presumía', 1), ('formo', 1), ('kárate', 1), ('chomba', 3), ('controlarme', 1), ('gif', 1), ('imaginar', 2), ('fingir', 1), ('poker', 3), ('arrogancia', 1), ('satisfacer', 2), ('importas', 2), ('contener', 7), ('bocado', 2), ('aguantarme', 1), ('sierra', 3), ('metales', 1), ('inscribirme', 1), ('adoptada', 1), ('invitada', 1), ('significaba', 1), ('planeé', 1), ('usarla', 1), ('acudir', 2), ('innecesarios', 1), ('hayan', 1), ('rinda', 1), ('envenenado', 1), ('alisté', 1), ('aéreas', 1), ('millón', 3), ('afeité', 1), ('mostrarle', 1), ('ducho', 1), ('regalito', 1), ('quinientas', 1), ('perdoné', 1), ('cortarlo', 1), ('culparme', 2), ('admitir', 1), ('desempacar', 1), ('enferme', 2), ('aceptes', 1), ('pretendo', 2), ('junté', 1), ('frutilla', 1), ('fresa', 1), ('midvale', 1), ('drive', 1), ('423', 1), ('tumbarme', 1), ('faltar', 1), ('compensar', 1), ('renovar', 1), ('reescribir', 1), ('pila', 1), ('librería', 5), ('estacioné', 1), ('lealtad', 1), ('natación', 3), ('productos', 3), ('lácteos', 2), ('duché', 1), ('agradecí', 2), ('recordarías', 3), ('aparecería', 1), ('arrojé', 1), ('volviera', 1), ('funcionaría', 1), ('flechazo', 1), ('reproductor', 1), ('minidisc', 1), ('trombón', 2), ('mandarle', 1), ('prestéis', 1), ('preste', 1), ('presten', 1), ('sobrecogido', 2), ('1980', 1), ('entrevistaron', 1), ('alpes', 1), ('tuviese', 1), ('rígido', 1), ('lastime', 2), ('persuadirte', 1), ('ocultado', 1), ('ignoraran', 1), ('abrirme', 1), ('proponer', 1), ('brindis', 1), ('cumpliré', 1), ('sustituiré', 1), ('licenciado', 2), ('veterinaria', 1), ('suspendo', 1), ('cogiendo', 1), ('necesitarte', 1), ('intriga', 2), ('muevo', 1), ('charlatán', 1), ('parlanchín', 2), ('charlatana', 1), ('parlanchina', 1), ('habladora', 1), ('enorgullezco', 1), ('campus', 1), ('decepcionarte', 1), ('pensándomelo', 1), ('holgazaneando', 1), ('engordé', 1), ('destrabar', 1), ('muchísimos', 1), ('conciertos', 2), ('tramado', 1), ('dinamarca', 1), ('averígualo', 1), ('imagínate', 1), ('investigue', 1), ('méxico', 10), ('viga', 1), ('sólida', 1), ('hueca', 1), ('automático', 2), ('visitarle', 2), ('traducción', 1), ('conmoción', 1), ('especie', 2), ('extinción', 1), ('acuchilló', 2), ('significativo', 1), ('agrícola', 1), ('dolían', 2), ('disfrazada', 1), ('asumir', 1), ('organismo', 1), ('unicelular', 1), ('almas', 1), ('apremiante', 1), ('tifones', 2), ('enfrentes', 1), ('jamaica', 1), ('colonia', 2), ('inglesa', 1), ('quietas', 1), ('universidades', 1), ('caligrafía', 1), ('lenin', 1), ('rebelaran', 1), ('atravesemos', 1), ('variar', 1), ('reunámonos', 1), ('finjamos', 3), ('creamos', 1), ('pretendamos', 1), ('perdamos', 1), ('desperdiciemos', 1), ('ninjas', 1), ('pongamos', 2), ('baúl', 1), ('esclavos', 1), ('plutón', 1), ('afloje', 1), ('venda', 1), ('afloja', 1), ('cómodos', 1), ('presentables', 1), ('arreglaos', 1), ('culparon', 1), ('permanecen', 2), ('injustas', 1), ('mármol', 2), ('nieta', 1), ('cuñada', 1), ('bollywood', 1), ('decorar', 1), ('tartas', 1), ('minifalda', 2), ('crece', 3), ('penado', 1), ('oxidado', 1), ('patinador', 1), ('levantarlo', 1), ('payaso', 2), ('granjera', 1), ('encogieron', 1), ('meñique', 1), ('hinchado', 1), ('severamente', 3), ('recepcionista', 1), ('incompleto', 1), ('confundáis', 1), ('valerosos', 1), ('ogai', 1), ('lastimada', 1), ('texanos', 1), ('mantenía', 1), ('anfitrión', 1), ('pingüinos', 2), ('peculiares', 1), ('gentes', 1), ('centenares', 1), ('peleaba', 1), ('perry', 1), ('uraga', 1), ('1853', 1), ('obligues', 1), ('sírveme', 1), ('absténganse', 1), ('enjuáguese', 1), ('mande', 1), ('cose', 1), ('botones', 3), ('sabiduría', 1), ('formado', 1), ('pus', 1), ('canasta', 5), ('frazadas', 1), ('registro', 1), ('recuerde', 1), ('previstos', 1), ('climas', 1), ('cálidos', 2), ('fértil', 1), ('construida', 2), ('llegáis', 1), ('sazonar', 1), ('reinician', 1), ('delegados', 4), ('discreparon', 1), ('psiquiatra', 2), ('decantó', 1), ('mecanógrafa', 1), ('palacio', 3), ('valiosos', 1), ('impecable', 3), ('aspira', 1), ('sosteniendo', 1), ('entusiasmada', 1), ('asombro', 1), ('reverencia', 2), ('comerciante', 1), ('muros', 1), ('muelle', 1), ('agitando', 1), ('quitarse', 3), ('divorciarse', 1), ('choca', 1), ('arreglándose', 1), ('polola', 1), ('juntarse', 2), ('hermosas', 4), ('pilchas', 3), ('julio', 4), ('esperarlo', 1), ('enseñe', 2), ('dividido', 1), ('decidirlo', 2), ('consúltelo', 1), ('rebana', 1), ('delgadito', 2), ('habituados', 1), ('restricciones', 2), ('envenenar', 1), ('terminaba', 1), ('revolvé', 1), ('revuelve', 1), ('chinchar', 1), ('vacilar', 1), ('parezca', 1), ('llevate', 1), ('basan', 1), ('técnicamente', 1), ('destruidas', 1), ('incendiaron', 1), ('traerme', 3), ('colaboración', 2), ('complicar', 1), ('pirado', 1), ('sintiese', 1), ('divertirá', 1), ('activo', 2), ('activa', 1), ('certeza', 2), ('educaron', 2), ('atacamos', 1), ('descansaron', 1), ('sáhara', 1), ('ácido', 1), ('corroyó', 1), ('dotación', 1), ('bondadosa', 1), ('fondo', 7), ('ensució', 1), ('balanceado', 1), ('acantilado', 4), ('envuelta', 1), ('mueca', 1), ('alargan', 2), ('detectives', 1), ('persiguó', 1), ('justifica', 2), ('medios', 3), ('agotadora', 1), ('miseria', 1), ('guardabarros', 1), ('abollado', 1), ('festival', 2), ('salmón', 1), ('inundaciones', 1), ('cosecha', 2), ('soplando', 1), ('burbujas', 1), ('mercancías', 1), ('resquebrajó', 1), ('inhabilitada', 1), ('mordido', 3), ('preciosas', 1), ('escandalizó', 1), ('mio', 2), ('torcido', 1), ('víveres', 1), ('encarecido', 1), ('liberados', 1), ('conflicto', 1), ('amueblada', 2), ('limpiada', 1), ('plena', 2), ('floración', 1), ('sobrecogedora', 2), ('secretario', 1), ('cesado', 1), ('barrió', 1), ('estadio', 2), ('estadísticas', 1), ('alarmantes', 1), ('bandas', 1), ('horizontales', 1), ('intensamente', 1), ('raza', 1), ('aniquiladas', 1), ('comunican', 1), ('escayola', 1), ('oficialmente', 1), ('rendimiento', 1), ('escapado', 1), ('escarcha', 1), ('explicaciones', 1), ('oportunidades', 1), ('asistirnos', 1), ('concluyeron', 1), ('resistencia', 1), ('defendieron', 1), ('escuchaban', 1), ('exploraron', 1), ('antártida', 1), ('huyeron', 1), ('graduaron', 1), ('moliendo', 1), ('llegásemos', 1), ('alquilada', 1), ('bulla', 1), ('pintaron', 2), ('reemplazaron', 1), ('nadaron', 1), ('molestaron', 2), ('vestiduras', 1), ('solían', 1), ('modificar', 1), ('infraganti', 1), ('parados', 1), ('dirán', 2), ('divierten', 1), ('incómoda', 3), ('extinguirse', 1), ('estorba', 1), ('tradición', 2), ('turca', 1), ('enfadase', 1), ('calentará', 1), ('excepciones', 2), ('avergonzaría', 1), ('incorrectas', 1), ('textuales', 1), ('precisas', 1), ('aprecian', 1), ('fundido', 1), ('bombillas', 1), ('conocerse', 1), ('tonificante', 1), ('pisa', 1), ('apreció', 4), ('cabecear', 1), ('escogió', 3), ('tratara', 1), ('gateó', 1), ('rastras', 2), ('desesperadamente', 1), ('perseguía', 1), ('sobredosis', 1), ('favores', 1), ('velludos', 1), ('pomelo', 1), ('desconfía', 1), ('herirnos', 1), ('chupito', 1), ('sucediera', 3), ('tierno', 1), ('orfanato', 1), ('añadir', 1), ('licenciatura', 1), ('trastorno', 1), ('aprendizaje', 1), ('vívida', 1), ('imaginario', 1), ('ojeras', 1), ('arterial', 1), ('consiga', 1), ('suegro', 1), ('empedernido', 1), ('and', 1), ('roll', 1), ('sagaz', 1), ('dotado', 1), ('adjunto', 2), ('capitalista', 1), ('mácula', 1), ('tirón', 1), ('inversiones', 2), ('revisando', 1), ('pegajosa', 1), ('bachillerato', 1), ('programación', 1), ('encendiendo', 1), ('todaviá', 1), ('ortopédico', 1), ('despecho', 1), ('olfato', 2), ('hornea', 1), ('riquísimas', 1), ('tramar', 1), ('enfrentarse', 2), ('pareciera', 1), ('chequea', 1), ('alquila', 2), ('cabalgó', 1), ('rusa', 1), ('eléctricas', 1), ('felicitado', 1), ('gastar', 2), ('cojera', 1), ('instó', 2), ('encaminó', 1), ('guardara', 1), ('confrontar', 1), ('bañarse', 1), ('apabullante', 1), ('magistral', 1), ('bordado', 1), ('intercambio', 1), ('trompeta', 2), ('ahogarse', 1), ('túnel', 1), ('juguetona', 1), ('recompensados', 1), ('engominado', 2), ('bondad', 1), ('paracaídas', 1), ('eliminada', 1), ('regresemos', 1), ('despiérteme', 1), ('avívate', 1), ('postpuesto', 1), ('percance', 1), ('gloria', 1), ('tocarnos', 1), ('subsistir', 1), ('descubierto', 2), ('patinando', 1), ('programada', 1), ('prevista', 1), ('prescindir', 1), ('aligerar', 1), ('prepararnos', 1), ('escondimos', 1), ('disfrutes', 2), ('apresuramos', 1), ('sepamos', 2), ('deseábamos', 1), ('método', 3), ('pruebaerror', 2), ('mediante', 1), ('peligros', 2), ('esforzarnos', 1), ('recibimos', 3), ('arrendamos', 1), ('romántica', 1), ('habernos', 3), ('posibles', 1), ('solemos', 1), ('habitualmente', 3), ('hablábamos', 1), ('forzados', 3), ('revisarlo', 1), ('otorgaremos', 1), ('ocuparemos', 1), ('conversaremos', 1), ('enseñaremos', 2), ('luchando', 4), ('avanzando', 2), ('enormemente', 2), ('comunistas', 1), ('sobrio', 1), ('aconsejar', 2), ('intentáis', 2), ('intentan', 1), ('cualidades', 1), ('aconsejás', 1), ('dedica', 1), ('decirnos', 1), ('capital', 9), ('realizás', 1), ('cenas', 2), ('pronóstico', 1), ('deshacerse', 1), ('crujido', 1), ('onda', 1), ('eslogan', 1), ('mudaste', 1), ('berlín', 1), ('confabular', 1), ('aparcado', 1), ('solicito', 1), ('turquía', 2), ('objetos', 1), ('navegador', 1), ('cartelera', 1), ('soñabas', 1), ('portas', 1), ('opones', 1), ('confesaron', 1), ('acusados', 1), ('permitiste', 1), ('arrancarte', 1), ('esquivando', 1), ('aguantas', 1), ('gruñón', 1), ('resultará', 1), ('olímpicos', 1), ('acompañarías', 1), ('intercambiemos', 1), ('ufff', 1), ('mayúsculas', 1), ('retirarte', 1), ('llamarnos', 1), ('quedártelo', 1), ('aferrarte', 1), ('ocultarte', 1), ('mezclar', 1), ('moviste', 1), ('delanteras', 1), ('aseguro', 3), ('juzgarlo', 1), ('preocupé', 1), ('ocupaste', 1), ('recordás', 1), ('devolvieran', 1), ('olvidarás', 1), ('problemática', 1), ('fallecido', 1), ('permitida', 1), ('cumpliendo', 1), ('dedicado', 1), ('enfadarme', 2), ('—hablas', 1), ('—dijo', 1), ('mexicano', 1), ('quemados', 1), ('ladrará', 1), ('tortuga', 1), ('helicóptero', 2), ('círculos', 1), ('asentimiento', 2), ('gesto', 2), ('cabeceo', 1), ('signo', 1), ('erupción', 1), ('rodaba', 1), ('comienzos', 1), ('aaron', 1), ('burr', 1), ('éxitos', 1), ('ambición', 2), ('asesinar', 1), ('audio', 1), ('chinos', 1), ('goza', 1), ('juntarte', 1), ('recogerás', 2), ('humedo', 1), ('mendigar', 1), ('maestras', 1), ('profesoras', 1), ('sospechosos', 1), ('cepillaos', 1), ('devolverte', 1), ('ayudas', 3), ('casita', 1), ('límpiale', 1), ('climático', 1), ('patraña', 1), ('cobras', 1), ('enviarme', 2), ('saldo', 1), ('animando', 1), ('citas', 2), ('estresantes', 1), ('davis', 1), ('novillos', 2), ('pensabas', 1), ('1955', 1), ('dividan', 1), ('cuidan', 1), ('anudar', 4), ('obras', 3), ('soléis', 1), ('cumplidor', 1), ('avergüences', 2), ('excedas', 1), ('máxima', 1), ('insultes', 1), ('privacidad', 1), ('muralla', 2), ('apoyéis', 1), ('apoye', 1), ('apoyen', 1), ('muestre', 1), ('enseñes', 1), ('finjas', 1), ('compartas', 1), ('digestión', 1), ('santa', 1), ('europeos', 2), ('enviados', 1), ('apresuraron', 1), ('quejaron', 1), ('amados', 1), ('conforme', 2), ('concrete', 1), ('hambruna', 1), ('francamente', 1), ('alemanes', 2), ('guías', 1), ('cartero', 2), ('remesa', 1), ('desenterraste', 1), ('desenterraron', 1), ('desayunado', 8), ('reprobado', 1), ('montado', 1), ('nadado', 1), ('averiguado', 1), ('recetas', 1), ('bronces', 1), ('refrenar', 1), ('recolectó', 1), ('operarse', 1), ('lecciones', 1), ('hiciese', 2), ('instruí', 1), ('cumplía', 1), ('estándares', 1), ('300000', 1), ('expresó', 1), ('tentación', 7), ('impulso', 2), ('licenció', 1), ('descaro', 1), ('osadía', 1), ('renuncia', 1), ('considerables', 1), ('constitución', 1), ('superioridad', 1), ('unido', 1), ('orientación', 2), ('facciones', 1), ('percha', 1), ('profesión', 2), ('presunto', 1), ('experimentado', 1), ('especialista', 1), ('postular', 2), ('llevarse', 3), ('reposando', 1), ('laureles', 1), ('pionero', 3), ('aceptaba', 1), ('pintalabios', 1), ('palmada', 4), ('regalado', 1), ('contárnoslo', 1), ('recomendación', 1), ('soborno', 2), ('tachó', 1), ('campamento', 3), ('armada', 2), ('cruzadas', 1), ('fundado', 1), ('estudiaba', 1), ('nadara', 1), ('nadase', 1), ('fijarse', 1), ('hirieron', 2), ('corbatín', 1), ('pajarita', 1), ('casará', 2), ('alcanzará', 1), ('recolectando', 1), ('haití', 1), ('helena', 1), ('ajará', 1), ('escocia', 1), ('favorable', 1), ('finalizó', 1), ('palpitaba', 1), ('partirnos', 1), ('fracasando', 1), ('hitler', 2), ('1933', 1), ('acabaste', 1), ('accedo', 1), ('propaga', 1), ('aguantará', 1), ('debitaron', 1), ('gastas', 1), ('gastan', 1), ('gastáis', 2), ('creado', 1), ('viajarás', 1), ('descansara', 1), ('revolver', 2), ('aquéllas', 1), ('puntuación', 3), ('puntaje', 1), ('familiarizada', 1), ('tokyo', 1), ('traicionarte', 1), ('tecnología', 2), ('taller', 1), ('empezara', 1), ('evité', 1), ('encarezco', 1), ('encarecidamente', 1), ('dijera', 3), ('mate', 1), ('ruidosos', 1), ('mirarla', 2), ('mandarín', 1), ('wifi', 2), ('picazón', 1), ('recordé', 1), ('pasase', 1), ('odiaras', 1), ('tiendo', 3), ('farfullear', 1), ('testarudas', 1), ('tercas', 1), ('cabezadura', 1), ('broncear', 1), ('divorciar', 2), ('arriesgar', 1), ('toparme', 1), ('támesis', 1), ('pistas', 2), ('dejadas', 2), ('venado', 2), ('contemplé', 1), ('cosita', 1), ('ocuparme', 2), ('copias', 1), ('punzante', 1), ('bocha', 1), ('aseo', 1), ('averiguar', 3), ('desperfectos', 2), ('enseñaros', 1), ('esforzado', 1), ('periquitos', 1), ('reencontrarme', 1), ('sepan', 2), ('informé', 2), ('llegada', 2), ('decidirme', 1), ('firmes', 1), ('humillar', 2), ('callara', 1), ('abrocharme', 1), ('besaría', 1), ('lidiando', 1), ('silvestres', 1), ('escucharlos', 1), ('flotar', 1), ('querré', 1), ('salvarla', 2), ('cursiva', 1), ('desván', 1), ('documentales', 1), ('transmití', 1), ('destrozando', 1), ('interpretado', 1), ('sonrío', 1), ('irresponsable', 1), ('arruinan', 1), ('helar', 1), ('bailarina', 1), ('divorciará', 1), ('recordaría', 1), ('hicieses', 1), ('volverme', 3), ('balanceada', 1), ('pintes', 1), ('ingresar', 1), ('adondequiera', 2), ('envejecer', 2), ('contratos', 1), ('traigas', 3), ('consigas', 1), ('viera', 1), ('liquidar', 1), ('saldar', 1), ('vigilado', 3), ('ofrecieras', 1), ('indignó', 1), ('distraerla', 1), ('kyuushuu', 1), ('levantaré', 1), ('pudiéramos', 1), ('nacido', 2), ('presentaré', 2), ('embutidos', 1), ('bautizaría', 1), ('guardaron', 1), ('perderme', 1), ('especular', 1), ('retorcerle', 1), ('rellenar', 2), ('entregaré', 1), ('prescripción', 1), ('procuraré', 1), ('pierda', 2), ('asombra', 1), ('aguardar', 1), ('ocupándome', 1), ('nene', 1), ('apropiado', 2), ('tentado', 2), ('lograrás', 2), ('triunfaréis', 1), ('lograréis', 1), ('quejas', 1), ('rían', 2), ('madrugar', 1), ('suicidarme', 1), ('aspectos', 1), ('morirás', 2), ('entendés', 1), ('preguntá', 1), ('inoue', 1), ('ordenadores', 1), ('forestal', 1), ('grueso', 2), ('apto', 2), ('intervención', 1), ('divina', 1), ('desconsoladora', 1), ('debate', 2), ('pesetas', 1), ('cliché', 1), ('democrático', 1), ('james', 1), ('madison', 1), ('aborreció', 1), ('apúntelo', 1), ('enciendas', 1), ('discutámoslo', 1), ('religión', 1), ('devolviera', 1), ('parecida', 2), ('románticas', 1), ('esmalte', 1), ('alisó', 1), ('guirnalda', 2), ('atareada', 1), ('suspendido', 2), ('caminan', 1), ('plancton', 1), ('polillas', 2), ('atraídas', 1), ('aso', 1), ('volcán', 1), ('ahogarme', 1), ('disco', 2), ('numismática', 1), ('filatelia', 1), ('ahorros', 3), ('acabarán', 2), ('confundas', 2), ('nixon', 1), ('california', 2), ('viejitos', 1), ('cuchillos', 1), ('originalmente', 1), ('ocuparon', 1), ('hierbas', 5), ('apoderando', 1), ('proviciones', 1), ('invicto', 1), ('puntos', 2), ('pandas', 1), ('parlamento', 1), ('madrid', 1), ('picaso', 1), ('crucéis', 1), ('cruce', 3), ('crucen', 1), ('pedírselo', 1), ('obedezca', 3), ('noventa', 1), ('94', 1), ('muéstranos', 1), ('estira', 2), ('cuídese', 1), ('indíqueme', 1), ('sobornos', 1), ('portugal', 1), ('estables', 1), ('seguirán', 1), ('elizabeth', 1), ('1603', 1), ('deprimen', 1), ('repórtelo', 1), ('emergencias', 2), ('comuníquelo', 1), ('ruleta', 1), ('romperlas', 1), ('ponemos', 1), ('acompañó', 2), ('disfrazó', 2), ('adolescencia', 1), ('mostrado', 2), ('valentía', 1), ('autodidacta', 1), ('truenos', 1), ('imitándolo', 1), ('imitarlo', 2), ('especialmente', 4), ('deprime', 1), ('sugirió', 1), ('probara', 1), ('tribunales', 1), ('derramar', 2), ('tel', 1), ('aviv', 1), ('absorbió', 1), ('admitida', 1), ('reconocida', 2), ('smith', 2), ('sembrado', 1), ('desarrollado', 1), ('brillan', 2), ('firmamento', 1), ('indirectas', 1), ('liderazgo', 1), ('deslizaron', 1), ('rechoncho', 1), ('representa', 2), ('mínima', 1), ('creencias', 1), ('escrita', 3), ('cambiaría', 1), ('alarmarse', 1), ('escalaron', 1), ('tratados', 1), ('debían', 1), ('matados', 1), ('pote', 1), ('redondo', 2), ('desarmó', 1), ('encerado', 1), ('reluciente', 1), ('ladrillo', 1), ('vertical', 1), ('huellas', 1), ('forzosa', 1), ('examinó', 1), ('bruscamente', 1), ('olfateando', 1), ('automáticamente', 2), ('duque', 2), ('madruga', 1), ('embistió', 1), ('irrefutable', 1), ('irrebatible', 1), ('probador', 1), ('despegado', 1), ('frieguen', 1), ('fugitivo', 1), ('quebrarlo', 1), ('esperándolo', 1), ('firmada', 1), ('relámpago', 1), ('alumbró', 1), ('válvula', 1), ('900', 2), ('am', 1), ('inscripción', 2), ('juzgando', 1), ('anuncio', 1), ('impreso', 1), ('demolieron', 2), ('demolida', 1), ('dehesa', 1), ('probaron', 1), ('despegar', 1), ('petroleo', 1), ('irresuelto', 1), ('resolverse', 1), ('sobresalientes', 1), ('espectaculares', 1), ('igualado', 1), ('paralelo', 1), ('invisibles', 1), ('gaviotas', 1), ('transición', 1), ('casos', 1), ('relacionados', 1), ('grosor', 1), ('amueblado', 2), ('participantes', 1), ('calvicie', 1), ('disculparse', 1), ('signos', 1), ('infección', 1), ('abrigan', 1), ('fabricados', 2), ('irrelevantes', 1), ('afortunadas', 1), ('cabros', 1), ('evadir', 2), ('cepos', 1), ('exigieron', 1), ('calabazas', 1), ('geometría', 1), ('camping', 1), ('veranos', 3), ('enseñaron', 1), ('maldecir', 1), ('parecidos', 1), ('sufrido', 1), ('rescataron', 1), ('declararon', 1), ('objeciones', 1), ('visitaban', 1), ('echados', 1), ('mantendrán', 1), ('tendrían', 1), ('debatirán', 1), ('abuso', 2), ('profesionales', 1), ('ladrones', 2), ('saquearon', 1), ('feas', 1), ('sillón', 4), ('terciopelo', 1), ('cargado', 1), ('requetecargado', 1), ('albergar', 1), ('domina', 1), ('baños', 2), ('1870', 1), ('colchón', 1), ('fundamentalmente', 1), ('mercadería', 1), ('acondicionado', 1), ('basada', 2), ('rodica', 1), ('famosas', 1), ('andado', 1), ('apuntaron', 1), ('abrazarse', 1), ('famosos', 1), ('hablara', 2), ('asignó', 2), ('puñado', 1), ('alegó', 1), ('concentró', 2), ('consideraba', 2), ('controlarse', 1), ('stop', 1), ('trabajase', 1), ('controversias', 1), ('retratos', 1), ('dentífrica', 1), ('dentífrico', 1), ('archivar', 4), ('trébol', 3), ('extraordinarias', 1), ('comporta', 2), ('concorde', 1), ('aguda', 1), ('divagar', 1), ('telepáticas', 1), ('programador', 1), ('juvenil', 1), ('liberal', 1), ('perceptivo', 1), ('eficaz', 1), ('establecido', 1), ('consolidado', 1), ('pecador', 1), ('impenitente', 1), ('inconsecuente', 1), ('manitas', 1), ('retirando', 2), ('superar', 1), ('pertenencias', 2), ('habitual', 3), ('contrariado', 1), ('apreciaba', 1), ('cosió', 2), ('disfrutarás', 1), ('pusieran', 1), ('dentadura', 1), ('postiza', 1), ('intimidar', 1), ('devorado', 1), ('apoyado', 1), ('gruesos', 1), ('90', 1), ('borrachera', 1), ('impartirá', 1), ('alcohólico', 1), ('observación', 1), ('pelada', 1), ('engordan', 1), ('invaluable', 1), ('buren', 1), ('deteneros', 2), ('disfrutamos', 1), ('considerar', 2), ('destruir', 1), ('ventilar', 1), ('airear', 1), ('amarnos', 1), ('consideramos', 1), ('quitamos', 1), ('momia', 1), ('lejanía', 1), ('capturar', 1), ('organizarnos', 1), ('reanudar', 1), ('meditación', 1), ('paseamos', 1), ('permaneceremos', 3), ('sudamérica', 1), ('íbamos', 4), ('mirábamos', 1), ('nacimos', 1), ('devolvámonos', 1), ('aceptaremos', 3), ('vanidosos', 1), ('llantas', 1), ('repuesto', 1), ('salvos', 1), ('realizamos', 1), ('mostrarnos', 1), ('significan', 1), ('regalar', 1), ('placa', 1), ('terminas', 1), ('cenan', 1), ('bañas', 1), ('escala', 2), ('ingrediente', 1), ('materia', 1), ('asamblea', 1), ('nietos', 2), ('mantel', 1), ('colectivos', 1), ('eligirías', 1), ('palomas', 3), ('blancas', 1), ('demandado', 1), ('presentaron', 1), ('cuidará', 3), ('llevárselo', 1), ('complicadas', 1), ('comprarlos', 1), ('verdura', 1), ('duermes', 2), ('secuestraría', 1), ('cenarías', 1), ('acompañarme', 2), ('venderás', 1), ('disculparía', 1), ('mudara', 1), ('refrescarte', 1), ('importaria', 1), ('elevada', 1), ('acostumbrarse', 1), ('presentarse', 1), ('cómico', 1), ('presionar', 1), ('acuerdan', 1), ('cortarte', 2), ('caracoles', 2), ('crudos', 1), ('paisaje', 2), ('peones', 1), ('criticas', 1), ('fidedigno', 1), ('eficiente', 2), ('aparentas', 1), ('joderme', 1), ('condujeron', 1), ('«no', 1), ('dormir»', 1), ('«yo', 1), ('tampoco»', 1), ('ofensiva', 1), ('sargento', 1), ('atropellado', 3), ('rodea', 1), ('uniciclo', 1), ('inventé', 1), ('cucharadas', 1), ('sume', 1), ('columna', 1), ('cifras', 1), ('enfocad', 1), ('reluce', 1), ('distraerme', 1), ('deberás', 1), ('asista', 1), ('pídale', 1), ('gatean', 1), ('allanaron', 1), ('traerle', 1), ('pinchazo', 1), ('imputaciones', 1), ('compleja', 1), ('malcriar', 1), ('acercas', 1), ('repetirme', 2), ('trozos', 3), ('describí', 1), ('indios', 1), ('inventaron', 2), ('cigarros', 1), ('aceptaste', 1), ('cumpliste', 1), ('jugaste', 2), ('caminaste', 1), ('sandías', 2), ('comenzará', 2), ('extranjera', 1), ('literatura', 1), ('viajero', 1), ('pensaron', 1), ('ocupan', 1), ('mentales', 1), ('respiras', 1), ('profundices', 1), ('imaginarios', 1), ('cuotas', 1), ('recaudadas', 1), ('elogiaban', 1), ('heroísmo', 1), ('abróchese', 1), ('gordas', 1), ('secuestrar', 1), ('sobreviven', 2), ('levantate', 1), ('jirafas', 1), ('maduran', 1), ('reflexionar', 1), ('hábitos', 2), ('ausentes', 2), ('pásatelo', 1), ('alimentado', 1), ('canguro', 2), ('1990', 1), ('pedirnos', 3), ('quejaba', 1), ('admirablemente', 1), ('rescatarla', 1), ('castigaran', 1), ('setenta', 1), ('sarcasmo', 1), ('exploró', 2), ('selva', 1), ('amazónica', 1), ('romperse', 1), ('perdía', 1), ('contrajo', 1), ('bulto', 1), ('adaptado', 1), ('inferioridad', 2), ('comprárselo', 1), ('yen', 1), ('mecanografiando', 1), ('opone', 1), ('acosar', 1), ('hormiguero', 1), ('nocturno', 1), ('cometía', 1), ('funcionara', 1), ('superó', 1), ('restableció', 2), ('fielmente', 1), ('estrechó', 1), ('fumó', 1), ('candidato', 1), ('espionaje', 1), ('admitieron', 1), ('automovilístico', 3), ('olvidará', 1), ('heredará', 1), ('trono', 1), ('responderá', 1), ('atraen', 1), ('asiáticas', 1), ('esperándole', 1), ('favorecía', 1), ('llorado', 1), ('convertirse', 3), ('graves', 3), ('invadió', 1), ('osáis', 1), ('entrasteis', 1), ('supisteis', 1), ('resolviste', 2), ('pretendéis', 1), ('casadas', 1), ('trabajás', 1), ('pasajeros', 1), ('huracanes', 2), ('violentas', 2), ('tormentas', 1), ('acompañé', 1), ('cerrase', 1), ('cerrara', 1), ('desayunaste', 1), ('batallas', 1), ('dijeras', 2), ('atrapé', 3), ('tranquilizarme', 1), ('captar', 1), ('descontento', 1), ('ningunas', 1), ('gimnasia', 1), ('oreja', 1), ('agradecértelo', 2), ('videocasetera', 1), ('controlada', 1), ('malcriados', 1), ('causar', 1), ('suspender', 1), ('reprobar', 2), ('examenes', 1), ('escucharos', 1), ('sorprenda', 1), ('borré', 1), ('volé', 2), ('náuseas', 1), ('predicador', 1), ('39', 1), ('ahorrado', 1), ('tribunal', 1), ('venderlas', 1), ('tornillos', 1), ('diana', 1), ('interrumpido', 1), ('olvidarte', 1), ('vara', 1), ('griega', 1), ('desaproveché', 1), ('cuadrar', 1), ('terminaría', 1), ('planté', 1), ('lamentar', 1), ('recomendé', 1), ('habéroslo', 1), ('propongo', 1), ('anteriormente', 1), ('entenderá', 2), ('decentes', 1), ('necesitaremos', 1), ('alucinando', 1), ('oiría', 1), ('desconectados', 1), ('cuidé', 1), ('ejecutiva', 1), ('frustración', 1), ('google', 1), ('zambullirme', 1), ('comiences', 1), ('embotellamiento', 1), ('hubiese', 3), ('egipto', 1), ('toleraré', 1), ('anoté', 1), ('directora', 1), ('creeré', 1), ('informaré', 1), ('demostrarte', 1), ('reconsideres', 1), ('reconsideréis', 1), ('reconsidere', 1), ('reconsideren', 1), ('celebro', 1), ('considerando', 1), ('enero', 2), ('ofrecieron', 1), ('eludir', 1), ('cuestionables', 1), ('quedaría', 1), ('dejase', 2), ('lograrlo', 1), ('alicia', 2), ('adversa', 1), ('tarro', 1), ('desventajas', 1), ('impresionó', 1), ('privilegio', 1), ('típica', 1), ('gótica', 1), ('señalar', 1), ('incumbe', 1), ('prendimos', 1), ('fogata', 3), ('convenzan', 1), ('plegarias', 1), ('caótica', 1), ('hundirá', 1), ('industrial', 2), ('industrializado', 1), ('johnson', 1), ('defendió', 1), ('kabuki', 1), ('pégate', 1), ('kuwait', 1), ('severos', 1), ('inusualmente', 1), ('comunícame', 1), ('averigües', 1), ('libera', 1), ('demos', 3), ('averigüemos', 1), ('paseíto', 1), ('retomemos', 1), ('ocultémonos', 1), ('hacernos', 1), ('sincronicemos', 1), ('girar', 1), ('luxemburgo', 1), ('madeira', 1), ('sujetador', 2), ('respetada', 1), ('emparedados', 2), ('moño', 2), ('recogía', 1), ('secuestrada', 1), ('piratas', 1), ('vial', 1), ('cumplan', 1), ('regalaron', 1), ('raíz', 1), ('cesta', 3), ('camaradas', 1), ('envejecido', 1), ('calificaciones', 1), ('lavarlo', 1), ('negociaciones', 2), ('duraron', 1), ('olvidéis', 1), ('detiene', 1), ('comentó', 1), ('vitamina', 2), ('oslo', 1), ('coincidencias', 1), ('pelá', 1), ('viajaba', 1), ('alimente', 1), ('acláreme', 1), ('zapping', 1), ('canales', 1), ('sáquenme', 1), ('atice', 1), ('estante', 4), ('duplicarse', 1), ('necesaria', 1), ('seicho', 1), ('matumoto', 1), ('1992', 1), ('ahorrara', 1), ('presume', 1), ('jaguares', 1), ('cana', 1), ('suspiro', 1), ('harajuku', 1), ('otaru', 1), ('sonrosadas', 2), ('bailado', 4), ('comerse', 2), ('meditó', 1), ('sorda', 1), ('muda', 1), ('peluquería', 1), ('elaborando', 1), ('fugaces', 1), ('meteoritos', 1), ('comunicarnos', 1), ('fumadores', 1), ('estrictamente', 2), ('gobernaba', 2), ('cuba', 1), ('pegue', 1), ('tantas', 1), ('calurosos', 1), ('músculos', 1), ('llévales', 1), ('cotidiana', 1), ('contadme', 4), ('cuéntenme', 2), ('mina', 1), ('rincón', 1), ('fama', 2), ('maniático', 1), ('chiqueado', 1), ('furgoneta', 1), ('fundo', 1), ('franceses', 1), ('almendros', 1), ('floridos', 1), ('recuperar', 2), ('peluqueros', 1), ('gays', 1), ('cargarla', 1), ('caballería', 1), ('corcho', 1), ('champán', 1), ('palos', 1), ('1173', 1), ('teñida', 1), ('expirará', 1), ('sustancial', 1), ('ladró', 2), ('requetebién', 1), ('progresaba', 1), ('porvenir', 1), ('huerta', 1), ('marchitó', 1), ('oprimió', 2), ('pegada', 1), ('demanda', 1), ('400', 1), ('defiende', 1), ('costas', 1), ('naufragaron', 1), ('expiró', 1), ('posibilidades', 1), ('infinitas', 1), ('arrastró', 2), ('retrovisor', 1), ('35', 1), ('satélite', 1), ('órbita', 1), ('sirvientes', 1), ('rocas', 2), ('encalló', 1), ('finlandia', 1), ('cortocircuito', 1), ('fundió', 1), ('fusible', 1), ('gemía', 1), ('plana', 1), ('interpretaron', 1), ('brillará', 1), ('repetidamente', 1), ('mellizos', 1), ('durado', 1), ('llegaba', 2), ('inundó', 2), ('apta', 3), ('beberse', 1), ('aparentes', 1), ('combinan', 2), ('amistosas', 1), ('sacarles', 1), ('corruptos', 1), ('ajustan', 1), ('patria', 1), ('confirmaron', 1), ('unanimidad', 1), ('universitarios', 1), ('parecieron', 1), ('aceptaban', 1), ('enfrentaron', 1), ('valerosamente', 1), ('forzaron', 1), ('momotarou', 2), ('caminos', 1), ('veneraban', 1), ('escribieron', 1), ('debatiendo', 1), ('aumentos', 1), ('sonriéndose', 1), ('aprieta', 1), ('1610', 1), ('controvertido', 1), ('válido', 2), ('producto', 3), ('diseñado', 1), ('pocilga', 1), ('comerla', 1), ('previsible', 1), ('embriaga', 1), ('contrastan', 1), ('pasados', 1), ('primaveras', 1), ('añadió', 1), ('derrama', 1), ('charlamos', 1), ('crecieron', 1), ('unieron', 1), ('comprara', 1), ('rebanada', 1), ('oscureciese', 1), ('decidirse', 1), ('practicó', 1), ('madrugada', 1), ('existo', 1), ('irlandés', 1), ('crucigrama', 2), ('mesera', 1), ('fortaleza', 1), ('nerviosamente', 1), ('interesantes', 1), ('folletos', 1), ('dinámica', 1), ('freído', 1), ('mojen', 1), ('guardería', 1), ('excepcionalmente', 1), ('apagando', 2), ('indisciplinado', 1), ('mudará', 1), ('multimillonario', 1), ('malnutrido', 1), ('arrancando', 2), ('hierbajos', 2), ('yoyo', 1), ('repitiendo', 1), ('ahuyentando', 1), ('cuervos', 1), ('indicado', 1), ('aportando', 1), ('ajustados', 1), ('frenéticamente', 1), ('espaguetis', 1), ('transfusión', 1), ('decorado', 1), ('negoció', 1), ('interesó', 2), ('tateti', 1), ('punk', 1), ('tris', 1), ('poquitico', 1), ('entreabierta', 1), ('colgador', 1), ('bronceadora', 1), ('escribiría', 1), ('besándose', 1), ('ballesta', 1), ('escabulló', 1), ('trasera', 1), ('cargara', 1), ('revólver', 2), ('esclava', 1), ('acera', 2), ('ame', 1), ('gravedad', 1), ('borde', 1), ('concentrarse', 2), ('diversiones', 1), ('cansará', 1), ('apetecerá', 1), ('amputar', 1), ('dumbo', 1), ('desconsolados', 1), ('deshechos', 1), ('deberé', 1), ('alunizará', 1), ('ausentaron', 1), ('ceniza', 1), ('volcánica', 1), ('cubrió', 1), ('despiertame', 1), ('mírale', 1), ('desesperábamos', 1), ('ponernos', 1), ('altibajos', 1), ('apreciados', 1), ('12000', 1), ('cabos', 1), ('sueltos', 2), ('cruzamos', 1), ('separen', 1), ('apoyara', 1), ('publicamos', 1), ('amarrado', 1), ('amordazado', 2), ('simulacro', 1), ('aplazar', 1), ('reunir', 1), ('rezamos', 1), ('debimos', 1), ('guardamos', 1), ('granero', 2), ('turnamos', 1), ('visitamos', 1), ('bajamos', 1), ('llevábamos', 1), ('inundados', 1), ('pararemos', 1), ('gastando', 1), ('tenerlos', 1), ('galés', 1), ('extraordinaria', 2), ('convencerte', 1), ('merecer', 1), ('crias', 1), ('cultivas', 1), ('formularios', 1), ('instrumento', 1), ('asignatura', 2), ('concluyó', 1), ('paseas', 1), ('embarque', 1), ('recojo', 1), ('especialización', 1), ('sinfonía', 1), ('telefónico', 5), ('domicilio', 1), ('vecindario', 4), ('háblale', 1), ('plantaron', 1), ('darán', 1), ('recogerá', 1), ('instrumentos', 2), ('tocan', 1), ('enterró', 1), ('lingotes', 1), ('compositor', 2), ('darás', 1), ('cancelamos', 1), ('cierras', 1), ('ausentaste', 1), ('faltaste', 1), ('robaría', 1), ('miran', 1), ('iréis', 1), ('cerrarías', 1), ('super', 1), ('bowl', 1), ('boba', 1), ('1914', 1), ('pidiéramos', 1), ('apagarías', 1), ('destrozas', 1), ('coincidimos', 1), ('despertaras', 1), ('menester', 1), ('estrechar', 1), ('desorientada', 1), ('recibirlo', 1), ('prometerme', 1), ('tomaras', 1), ('atracones', 1), ('defensa', 1), ('alejarte', 1), ('quitarte', 1), ('reirte', 1), ('prejuzgar', 1), ('fumabas', 1), ('solías', 1), ('cerrés', 1), ('preferible', 1), ('comieses', 1), ('cegado', 1), ('mola', 5), ('estropear', 1), ('mocha', 1), ('desistir', 1), ('difiere', 1), ('censura', 1), ('irrazonables', 1), ('flechas', 3), ('impedida', 1), ('siglo', 1), ('flotó', 1), ('absolvió', 1), ('geografía', 1), ('molécula', 1), ('formada', 1), ('átomos', 1), ('actinio', 1), ('vaporiza', 1), ('3198ºc', 1), ('aprobamos', 1), ('movidas', 1), ('retiradas', 1), ('horda', 1), ('enfurecida', 1), ('disminuirá', 1), ('solicitudes', 1), ('vencen', 1), ('actualización', 1), ('actualizaciones', 1), ('budismo', 1), ('olvidando', 1), ('picaduras', 1), ('dolorosas', 1), ('picadura', 1), ('dolorosa', 1), ('beethoven', 2), ('trascurrió', 1), ('apareciera', 1), ('agradecieron', 1), ('bratwurst', 1), ('salchicha', 1), ('portuguesa', 1), ('deletrear', 1), ('adivinas', 1), ('mantienen', 1), ('imitan', 1), ('vegetal', 1), ('cultivo', 1), ('cobertura', 1), ('acompáñanos', 1), ('compare', 1), ('complejas', 1), ('llevarme', 1), ('grullas', 1), ('devuelto', 1), ('asombraron', 1), ('dominaban', 1), ('ártico', 2), ('prevés', 1), ('prevéis', 1), ('prevé', 1), ('prevén', 1), ('mayonesa', 1), ('asocial', 1), ('peores', 1), ('caigas', 1), ('suenes', 1), ('arrojeis', 1), ('internes', 1), ('jungla', 8), ('internéis', 1), ('interne', 1), ('halar', 1), ('indagues', 1), ('menosprecies', 1), ('escabullas', 1), ('gastes', 2), ('quedéis', 1), ('conductores', 1), ('edison', 1), ('germánica', 1), ('concordaron', 2), ('marchaba', 1), ('dispénseme', 1), ('exponga', 1), ('resolverá', 1), ('torcer', 1), ('termínalo', 1), ('delicada', 1), ('alcanzado', 2), ('veredicto', 2), ('cañón', 1), ('colorado', 1), ('acumuló', 1), ('lear', 1), ('hiciéramos', 1), ('recámara', 1), ('médicas', 1), ('comportaba', 1), ('obró', 1), ('inaudita', 1), ('copió', 1), ('concentraba', 1), ('meterse', 1), ('literato', 1), ('consagra', 1), ('maratón', 1), ('huella', 1), ('desprendido', 1), ('mensualmente', 1), ('hartarse', 1), ('precipitadamente', 1), ('escrúpulos', 1), ('lidiar', 1), ('reclamos', 1), ('presentado', 1), ('galán', 1), ('volará', 1), ('farmacéutico', 1), ('puntualidad', 1), ('sida', 1), ('maquetas', 1), ('aviones', 2), ('anonimato', 1), ('fantasía', 1), ('asignaturas', 1), ('prefirió', 1), ('robada', 1), ('arriesgó', 1), ('llamaría', 1), ('mariposa', 2), ('interiores', 1), ('pasea', 1), ('femenina', 1), ('fracasaría', 1), ('acompañado', 1), ('otorgó', 1), ('28', 2), ('1888', 2), ('crio', 1), ('denunciado', 1), ('asociación', 1), ('ilícita', 1), ('exiliado', 1), ('frutería', 1), ('notar', 1), ('libretos', 2), ('programas', 1), ('febrero', 1), ('ficción', 1), ('popularidad', 1), ('gratitud', 1), ('hideyo', 1), ('noguchi', 1), ('vehículo', 1), ('arreglaron', 1), ('retorcía', 1), ('adelgazó', 1), ('sienes', 1), ('recogerla', 1), ('digna', 1), ('leerse', 1), ('próximos', 1), ('profundas', 1), ('acertada', 1), ('predicciones', 2), ('bellas', 1), ('petulante', 1), ('repentina', 1), ('llegasteis', 1), ('interpretas', 1), ('pronuncias', 1), ('lleváis', 1), ('mountain', 1), ('bike', 1), ('adicional', 1), ('convengo', 1), ('barbacoa', 1), ('financieras', 1), ('polaca', 1), ('perezosa', 1), ('abriera', 2), ('tocase', 1), ('consulté', 1), ('fotográfica', 1), ('inquieta', 1), ('acordaste', 1), ('espinaca', 1), ('librar', 1), ('sacarla', 1), ('burlarme', 2), ('costearme', 1), ('ardiente', 1), ('prestarte', 1), ('cené', 1), ('ocurriese', 1), ('bebiera', 1), ('malabarear', 1), ('facha', 1), ('preocupan', 1), ('atenerme', 1), ('ponerlos', 1), ('meterlas', 1), ('dijese', 1), ('líos', 1), ('perderlo', 1), ('trabajéis', 1), ('trabaje', 1), ('trabajen', 1), ('veracidad', 1), ('alenté', 1), ('presiento', 1), ('obligué', 3), ('devolví', 1), ('útiles', 2), ('aburrí', 1), ('superé', 1), ('muela', 1), ('crear', 1), ('patee', 2), ('falte', 1), ('practicado', 1), ('olvidarme', 1), ('impliques', 1), ('desearte', 1), ('aceptaras', 1), ('conocieras', 1), ('comprobar', 1), ('sucesivo', 1), ('ganadora', 1), ('abandonarías', 1), ('condicionada', 1), ('repetirá', 1), ('guardas', 1), ('mantienes', 1), ('evadiendo', 1), ('aah', 1), ('reído', 1), ('saltado', 1), ('fina', 2), ('pinturas', 1), ('tecno', 1), ('mandaste', 1), ('apañé', 1), ('desayunos', 1), ('estímulo', 1), ('asentí', 1), ('observaban', 1), ('caldero', 1), ('vertí', 1), ('autores', 1), ('cocidos', 1), ('encantas', 1), ('exactas', 1), ('rigor', 1), ('resbalé', 1), ('mismísima', 1), ('dejarles', 1), ('mantengas', 1), ('margen', 1), ('dondequiera', 1), ('exageración', 1), ('alcanzaremos', 1), ('exagerando', 2), ('entendería', 1), ('rendiría', 1), ('entrené', 1), ('ceno', 1), ('racimo', 1), ('despertaron', 1), ('aparecí', 1), ('percatado', 1), ('aguardara', 1), ('terminarlo', 1), ('sentaré', 1), ('fueran', 1), ('lujosamente', 1), ('escribía', 1), ('compacto', 1), ('leyeras', 1), ('preferiero', 1), ('herviré', 1), ('minuciosamente', 1), ('extrañarte', 1), ('revisar', 1), ('vigilaré', 1), ('semejante', 1), ('acostumbrando', 1), ('enfilar', 1), ('siestecita', 1), ('ilegalización', 3), ('hieren', 1), ('desesperarme', 1), ('benjamín', 1), ('cumplo', 1), ('animado', 1), ('trabajaría', 1), ('diligentemente', 1), ('tardaremos', 1), ('muerdes', 1), ('mordisco', 1), ('invitas', 1), ('confesamos', 1), ('bigamia', 1), ('ridge', 1), ('fracasara', 1), ('construirlo', 1), ('construirse', 1), ('tormentosa', 1), ('desdichado', 1), ('heladísimo', 1), ('comierais', 1), ('indigente', 1), ('comercio', 1), ('kuala', 1), ('lumpur', 1), ('kiev', 1), ('ucrania', 1), ('aprendámonos', 1), ('dejémoslo', 1), ('planeemos', 1), ('pospongámoslo', 1), ('washington', 1), ('mirate', 1), ('cegó', 1), ('luis', 1), ('bonfa', 1), ('disponga', 1), ('orbitan', 1), ('guapas', 1), ('defendiendo', 1), ('trillizos', 1), ('fenomenal', 1), ('bronceado', 1), ('besarla', 2), ('reembolsen', 1), ('niegan', 1), ('alemana', 1), ('limitó', 1), ('tragar', 1), ('adoptar', 1), ('nagoya', 1), ('trabajaron', 1), ('atrases', 1), ('impresos', 1), ('vendedores', 1), ('groseros', 1), ('valioso', 2), ('andarse', 1), ('delatado', 1), ('candado', 1), ('contestaste', 1), ('países', 1), ('0', 1), ('intensiva', 1), ('global', 1), ('pale', 1), ('ale', 1), ('graduación', 1), ('dispense', 1), ('exigen', 1), ('maltratar', 1), ('fichero', 1), ('camine', 1), ('obedezcan', 1), ('trocito', 1), ('sírvame', 1), ('prepárame', 1), ('batido', 1), ('sentíos', 1), ('señale', 1), ('pélame', 1), ('salúdale', 1), ('polares', 1), ('contaminación', 1), ('creciente', 1), ('previa', 1), ('cumplirlas', 1), ('pública', 1), ('brandy', 1), ('tenaza', 1), ('rebeldes', 1), ('prepararon', 1), ('preséntate', 1), ('requieras', 1), ('seattle', 1), ('mandadme', 2), ('mándenme', 1), ('fuente', 1), ('penas', 1), ('perdiera', 1), ('tomara', 1), ('minachan', 1), ('rescatarlo', 1), ('ginza', 1), ('amplia', 1), ('ansiosa', 1), ('tipeando', 1), ('capacitada', 2), ('religiosa', 1), ('estimuló', 1), ('laburar', 1), ('extenso', 1), ('picaporte', 1), ('hechizada', 1), ('aferraba', 1), ('reportará', 1), ('directamente', 1), ('correré', 1), ('llamándome', 1), ('golpean', 1), ('triunfarás', 1), ('golondrinas', 2), ('cielos', 1), ('suecia', 2), ('échate', 1), ('ocúpate', 1), ('afectaba', 1), ('aterra', 1), ('valiosa', 1), ('cuya', 1), ('almirante', 1), ('dormirse', 1), ('chupando', 2), ('inflada', 1), ('ascendía', 1), ('cuatrocientos', 1), ('publicó', 1), ('1689', 1), ('sándalo', 1), ('cofre', 1), ('lavaron', 1), ('humeaban', 1), ('dóciles', 1), ('sobresaltó', 1), ('chasquido', 1), ('originó', 1), ('abatido', 1), ('cazadores', 1), ('levántese', 1), ('buzos', 1), ('orbita', 1), ('irreversibles', 1), ('exhibición', 1), ('detonación', 1), ('estremeció', 1), ('reunida', 1), ('localizaron', 1), ('ubicaron', 1), ('hueco', 1), ('chisme', 1), ('doméstico', 1), ('aguó', 1), ('anchura', 2), ('colgaba', 1), ('ambigüedades', 1), ('destinada', 1), ('cifra', 1), ('lugareños', 1), ('hospitalarios', 1), ('nativos', 1), ('descontentos', 1), ('petrolífero', 1), ('contaminó', 1), ('bahía', 1), ('resguardado', 1), ('entraba', 1), ('empellones', 1), ('cobró', 2), ('aterrizará', 1), ('dispersaron', 1), ('interrogarme', 1), ('prensa', 1), ('confirmó', 1), ('comprensión', 1), ('atascadas', 1), ('parará', 1), ('atracará', 1), ('tragando', 1), ('zapatillas', 1), ('marcando', 1), ('permanentemente', 1), ('amainado', 1), ('gradualmente', 1), ('narración', 1), ('conclusión', 1), ('respondieron', 1), ('horizonte', 1), ('colapsar', 1), ('erigía', 1), ('agujas', 1), ('continuará', 1), ('relatos', 1), ('coinciden', 1), ('visitante', 2), ('sopla', 1), ('despegará', 1), ('realizará', 1), ('celebrará', 1), ('urbano', 1), ('variedades', 1), ('parques', 1), ('barrios', 1), ('bajos', 1), ('amazonas', 1), ('patio', 1), ('raso', 1), ('antiguamente', 1), ('desviación', 1), ('monstruo', 1), ('carrete', 1), ('salero', 2), ('traducirlo', 1), ('complicados', 1), ('blusas', 1), ('cubos', 1), ('derretirán', 1), ('calmarán', 1), ('venenosas', 1), ('reglamento', 1), ('pileta', 1), ('colisionaron', 1), ('arrebataron', 1), ('soportado', 1), ('resistieron', 1), ('serie', 1), ('1989', 1), ('depredadores', 1), ('mataban', 2), ('inverosímil', 1), ('pelearían', 1), ('norteamérica', 1), ('colombia', 1), ('conversaron', 1), ('boicotearán', 1), ('fundarán', 1), ('preguntaban', 1), ('polera', 1), ('tomos', 1), ('tenue', 1), ('intersección', 1), ('dominé', 1), ('principales', 1), ('beneficiará', 1), ('agrava', 1), ('peculiar', 2), ('roble', 1), ('baterías', 1), ('parciales', 1), ('quinientos', 1), ('arrancado', 1), ('decimosexto', 1), ('alarmas', 1), ('fué', 1), ('reza', 1), ('locamente', 2), ('dardos', 1), ('arriesgaron', 1), ('cortara', 1), ('dejara', 1), ('bajase', 1), ('almejas', 1), ('panqueques', 1), ('trípode', 1), ('reacondicionado', 1), ('renovado', 1), ('remanufacturado', 1), ('restaurado', 1), ('acarreando', 1), ('trayendo', 1), ('pitando', 1), ('cooperó', 1), ('especializarse', 1), ('terremoto', 1), ('afiló', 1), ('chivato', 1), ('cebolla', 1), ('comprometerse', 1), ('tirar', 1), ('matrimonios', 1), ('fallidos', 1), ('comete', 1), ('realizado', 1), ('atletismo', 1), ('sesos', 1), ('psicológicos', 1), ('gritándole', 2), ('vestirse', 1), ('motociclista', 1), ('sofisticado', 1), ('mezclando', 1), ('recobrando', 1), ('evasivas', 1), ('baterista', 1), ('asustarse', 1), ('influenciable', 1), ('escultor', 1), ('concentrándose', 1), ('acomodarse', 1), ('besaba', 1), ('contará', 1), ('acampar', 1), ('encerró', 1), ('cambiara', 1), ('altiro', 1), ('armónica', 1), ('pedaleó', 1), ('conducción', 1), ('burlarse', 1), ('salpicó', 1), ('borda', 1), ('echara', 1), ('transporte', 1), ('cocinara', 1), ('trabajara', 1), ('copiarme', 1), ('lustrarse', 1), ('traslade', 1), ('mude', 1), ('parecerse', 1), ('shampoo', 1)])\n"
     ]
    }
   ],
   "source": [
    "print(spa_tokenizer.word_counts)"
   ]
  },
  {
   "cell_type": "markdown",
   "metadata": {},
   "source": [
    "Given below is a function to prepare the sequences. It will also perform sequence padding to a maximum sentence length as mentioned above. "
   ]
  },
  {
   "cell_type": "code",
   "execution_count": 26,
   "metadata": {},
   "outputs": [],
   "source": [
    "# encode and pad sequences\n",
    "def encode_sequences(tokenizer, length, lines):\n",
    "    # integer encode sequences\n",
    "    seq = tokenizer.texts_to_sequences(lines)\n",
    "    # pad sequences with 0 values\n",
    "    seq = pad_sequences(seq, maxlen=length, padding='post')\n",
    "    print(seq)\n",
    "    print(len(seq))\n",
    "    return seq"
   ]
  },
  {
   "cell_type": "markdown",
   "metadata": {},
   "source": [
    "### Model Building"
   ]
  },
  {
   "cell_type": "markdown",
   "metadata": {},
   "source": [
    "We will now split the data into train and test set for model training and evaluation, respectively."
   ]
  },
  {
   "cell_type": "code",
   "execution_count": 27,
   "metadata": {},
   "outputs": [],
   "source": [
    "from sklearn.model_selection import train_test_split\n",
    "train, test = train_test_split(spa_eng, test_size=0.2, random_state = 12)"
   ]
  },
  {
   "cell_type": "markdown",
   "metadata": {},
   "source": [
    "It's time to encode the sentences. We will encode Spanish sentences as the input sequences and English sentences as the target sequences. It will be done for both train and test datasets."
   ]
  },
  {
   "cell_type": "code",
   "execution_count": 28,
   "metadata": {},
   "outputs": [
    {
     "name": "stdout",
     "output_type": "stream",
     "text": [
      "[[  76    9  225 ...  322    0    0]\n",
      " [7384   24  139 ...    0    0    0]\n",
      " [   1   13  180 ...    0    0    0]\n",
      " ...\n",
      " [  54   23  267 ...    0    0    0]\n",
      " [4183  390    0 ...    0    0    0]\n",
      " [  10 4269    8 ...    0    0    0]]\n",
      "56000\n",
      "[[  7  50   5 ... 376   0   0]\n",
      " [856   9  45 ...   0   0   0]\n",
      " [  3 378 890 ...   0   0   0]\n",
      " ...\n",
      " [ 48   6 827 ...   0   0   0]\n",
      " [ 46   2  70 ...   0   0   0]\n",
      " [  2 404  13 ...   0   0   0]]\n",
      "56000\n"
     ]
    }
   ],
   "source": [
    "# prepare training data\n",
    "trainX = encode_sequences(spa_tokenizer, spa_length, train[:, 1])\n",
    "trainY = encode_sequences(eng_tokenizer, eng_length, train[:, 0])"
   ]
  },
  {
   "cell_type": "code",
   "execution_count": 29,
   "metadata": {},
   "outputs": [
    {
     "name": "stdout",
     "output_type": "stream",
     "text": [
      "(56000, 9)\n",
      "(56000, 9)\n"
     ]
    }
   ],
   "source": [
    "print(trainX.shape)\n",
    "print(trainY.shape)"
   ]
  },
  {
   "cell_type": "code",
   "execution_count": 30,
   "metadata": {},
   "outputs": [
    {
     "name": "stdout",
     "output_type": "stream",
     "text": [
      "[[   45    48     4 ...     0     0     0]\n",
      " [   16    18    47 ...    82     0     0]\n",
      " [    1    13  1224 ...     0     0     0]\n",
      " ...\n",
      " [   10   231   627 ...     0     0     0]\n",
      " [  655     1    52 ... 16234     3   544]\n",
      " [   19    48   321 ...     0     0     0]]\n",
      "14000\n",
      "[[ 12 134   7 ...   0   0   0]\n",
      " [ 59  14   3 ...   0   0   0]\n",
      " [  3 242 157 ...   0   0   0]\n",
      " ...\n",
      " [  1 264   1 ...   0   0   0]\n",
      " [283   3  77 ...   0   0   0]\n",
      " [ 13 134   7 ...   0   0   0]]\n",
      "14000\n"
     ]
    }
   ],
   "source": [
    "# prepare validation data\n",
    "testX = encode_sequences(spa_tokenizer, spa_length, test[:, 1])\n",
    "testY = encode_sequences(eng_tokenizer, eng_length, test[:, 0])"
   ]
  },
  {
   "cell_type": "code",
   "execution_count": 31,
   "metadata": {},
   "outputs": [
    {
     "name": "stdout",
     "output_type": "stream",
     "text": [
      "(14000, 9)\n",
      "(14000, 9)\n"
     ]
    }
   ],
   "source": [
    "print(testX.shape)\n",
    "print(testY.shape)"
   ]
  },
  {
   "cell_type": "markdown",
   "metadata": {},
   "source": [
    "Now comes the exciting part! Let us define our Seq2Seq model architecture. We are using an Embedding layer and an LSTM layer as our encoder and another LSTM layer followed by a Dense layer as the decoder.  "
   ]
  },
  {
   "cell_type": "code",
   "execution_count": 32,
   "metadata": {},
   "outputs": [],
   "source": [
    "# build NMT model\n",
    "def build_model(in_vocab, out_vocab, in_timesteps, out_timesteps, units):\n",
    "    model = Sequential()\n",
    "    model.add(Embedding(in_vocab, units, input_length=in_timesteps, mask_zero=True)) #False -> RNN\n",
    "    model.add(LSTM(units))\n",
    "    model.add(RepeatVector(out_timesteps))    \n",
    "    model.add(LSTM(units, return_sequences=True))\n",
    "    model.add(Dense(out_vocab, activation='softmax'))\n",
    "    return model"
   ]
  },
  {
   "cell_type": "markdown",
   "metadata": {},
   "source": [
    "Details about the RepeatVector :  https://campus.datacamp.com/courses/machine-translation-in-python/implementing-an-encoder-decoder-model-with-keras?ex=6"
   ]
  },
  {
   "cell_type": "markdown",
   "metadata": {},
   "source": [
    "We are using RMSprop optimizer in this model as it is usually a good choice for recurrent neural networks."
   ]
  },
  {
   "cell_type": "code",
   "execution_count": 33,
   "metadata": {},
   "outputs": [
    {
     "name": "stdout",
     "output_type": "stream",
     "text": [
      "16782\n",
      "8644\n",
      "9\n",
      "9\n"
     ]
    }
   ],
   "source": [
    "print(spa_vocab_size)\n",
    "print(eng_vocab_size)\n",
    "print(spa_length)\n",
    "print(eng_length)"
   ]
  },
  {
   "cell_type": "code",
   "execution_count": 34,
   "metadata": {},
   "outputs": [],
   "source": [
    "model = build_model(spa_vocab_size, eng_vocab_size, spa_length, eng_length, 512)\n",
    "rms = optimizers.RMSprop(lr=0.001)\n",
    "model.compile(optimizer=rms, loss='sparse_categorical_crossentropy')"
   ]
  },
  {
   "cell_type": "markdown",
   "metadata": {},
   "source": [
    "Please note that we have used __'sparse_categorical_crossentropy'__ as the loss function because it allows us to use the target sequence as it is instead of one hot encoded format. One hot encoding the target sequences with such a huge vocabulary might consume our system's entire memory."
   ]
  },
  {
   "cell_type": "markdown",
   "metadata": {},
   "source": [
    "It seems we are all set to start training our model. We will train it for 30 epochs and with a batch size of 512. You may change and play these hyperparameters. We will also be using __ModelCheckpoint()__ to save the best model with lowest validation loss. I personally prefer this method over early stopping."
   ]
  },
  {
   "cell_type": "markdown",
   "metadata": {},
   "source": [
    "Voy a ejecutarlo cambiando el callback por `EarlyStopping` porque no tengo espacio en disco disponible en mi ordenador."
   ]
  },
  {
   "cell_type": "code",
   "execution_count": 35,
   "metadata": {
    "scrolled": false
   },
   "outputs": [
    {
     "name": "stderr",
     "output_type": "stream",
     "text": [
      "/opt/anaconda3/lib/python3.7/site-packages/tensorflow_core/python/framework/indexed_slices.py:433: UserWarning: Converting sparse IndexedSlices to a dense Tensor of unknown shape. This may consume a large amount of memory.\n",
      "  \"Converting sparse IndexedSlices to a dense Tensor of unknown shape. \"\n"
     ]
    },
    {
     "name": "stdout",
     "output_type": "stream",
     "text": [
      "Train on 44800 samples, validate on 11200 samples\n",
      "Epoch 1/30\n",
      "44800/44800 [==============================] - 3238s 72ms/step - loss: 3.7490 - val_loss: 3.3003\n",
      "Epoch 2/30\n",
      "44800/44800 [==============================] - 416s 9ms/step - loss: 3.1846 - val_loss: 3.1187\n",
      "Epoch 3/30\n",
      "44800/44800 [==============================] - 367s 8ms/step - loss: 3.0069 - val_loss: 3.0080\n",
      "Epoch 4/30\n",
      "44800/44800 [==============================] - 372s 8ms/step - loss: 2.8657 - val_loss: 2.8684\n",
      "Epoch 5/30\n",
      "44800/44800 [==============================] - 405s 9ms/step - loss: 2.7094 - val_loss: 2.7402\n",
      "Epoch 6/30\n",
      "44800/44800 [==============================] - 374s 8ms/step - loss: 2.5557 - val_loss: 2.6183\n",
      "Epoch 7/30\n",
      "44800/44800 [==============================] - 385s 9ms/step - loss: 2.4149 - val_loss: 2.5126\n",
      "Epoch 8/30\n",
      "44800/44800 [==============================] - 365s 8ms/step - loss: 2.2776 - val_loss: 2.4216\n",
      "Epoch 9/30\n",
      "44800/44800 [==============================] - 2626s 59ms/step - loss: 2.1474 - val_loss: 2.3210\n",
      "Epoch 10/30\n",
      "44800/44800 [==============================] - 1307s 29ms/step - loss: 2.0208 - val_loss: 2.2875\n",
      "Epoch 11/30\n",
      "44800/44800 [==============================] - 1450s 32ms/step - loss: 1.9018 - val_loss: 2.1678\n",
      "Epoch 12/30\n",
      "44800/44800 [==============================] - 493s 11ms/step - loss: 1.7868 - val_loss: 2.1013\n",
      "Epoch 13/30\n",
      "44800/44800 [==============================] - 465s 10ms/step - loss: 1.6759 - val_loss: 2.0299\n",
      "Epoch 14/30\n",
      "44800/44800 [==============================] - 441s 10ms/step - loss: 1.5703 - val_loss: 1.9725\n",
      "Epoch 15/30\n",
      "44800/44800 [==============================] - 449s 10ms/step - loss: 1.4702 - val_loss: 1.9180\n",
      "Epoch 16/30\n",
      "44800/44800 [==============================] - 440s 10ms/step - loss: 1.3782 - val_loss: 1.8770\n",
      "Epoch 17/30\n",
      "44800/44800 [==============================] - 482s 11ms/step - loss: 1.2887 - val_loss: 1.8678\n",
      "Epoch 18/30\n",
      "44800/44800 [==============================] - 433s 10ms/step - loss: 1.2076 - val_loss: 1.8333\n",
      "Epoch 19/30\n",
      "44800/44800 [==============================] - 449s 10ms/step - loss: 1.1272 - val_loss: 1.7849\n",
      "Epoch 20/30\n",
      "44800/44800 [==============================] - 441s 10ms/step - loss: 1.0525 - val_loss: 1.7762\n",
      "Epoch 21/30\n",
      "44800/44800 [==============================] - 398s 9ms/step - loss: 0.9829 - val_loss: 1.7637\n",
      "Epoch 22/30\n",
      "44800/44800 [==============================] - 391s 9ms/step - loss: 0.9148 - val_loss: 1.7278\n",
      "Epoch 23/30\n",
      "44800/44800 [==============================] - 483s 11ms/step - loss: 0.8531 - val_loss: 1.7181\n",
      "Epoch 24/30\n",
      "44800/44800 [==============================] - 427s 10ms/step - loss: 0.7925 - val_loss: 1.7292\n",
      "Epoch 25/30\n",
      "44800/44800 [==============================] - 439s 10ms/step - loss: 0.7345 - val_loss: 1.7162\n",
      "Epoch 26/30\n",
      "44800/44800 [==============================] - 417s 9ms/step - loss: 0.6799 - val_loss: 1.6906\n",
      "Epoch 27/30\n",
      "44800/44800 [==============================] - 394s 9ms/step - loss: 0.6302 - val_loss: 1.6906\n",
      "Epoch 28/30\n",
      "44800/44800 [==============================] - 430s 10ms/step - loss: 0.5812 - val_loss: 1.7049\n",
      "Epoch 00028: early stopping\n"
     ]
    }
   ],
   "source": [
    "filename = 'model.h1.24_jan_19'\n",
    "#checkpoint = ModelCheckpoint(filename, monitor='val_loss', verbose=1, save_best_only=True, mode='min')\n",
    "# 'No space left on device' --> CheckPoint Early Stopping\n",
    "checkpoint = EarlyStopping(monitor='val_loss', patience=2, verbose=1, mode='min') #verbose 1 -> Para que pinte los cambios\n",
    "\n",
    "history = model.fit(trainX, trainY.reshape(trainY.shape[0], trainY.shape[1], 1), \n",
    "          epochs=30, batch_size=512, \n",
    "          validation_split = 0.2,\n",
    "          callbacks=[checkpoint], verbose=1)"
   ]
  },
  {
   "cell_type": "markdown",
   "metadata": {},
   "source": [
    "Let's compare the training loss and the validation loss."
   ]
  },
  {
   "cell_type": "code",
   "execution_count": 36,
   "metadata": {},
   "outputs": [
    {
     "data": {
      "image/png": "[encoded data removed]",
      "text/plain": [
       "<Figure size 432x288 with 1 Axes>"
      ]
     },
     "metadata": {
      "needs_background": "light"
     },
     "output_type": "display_data"
    }
   ],
   "source": [
    "plt.plot(history.history['loss'])\n",
    "plt.plot(history.history['val_loss'])\n",
    "plt.legend(['train','validation'])\n",
    "plt.show()"
   ]
  },
  {
   "cell_type": "markdown",
   "metadata": {},
   "source": [
    "### Make Predictions"
   ]
  },
  {
   "cell_type": "markdown",
   "metadata": {},
   "source": [
    "Let's load the saved model to make predictions."
   ]
  },
  {
   "cell_type": "code",
   "execution_count": 37,
   "metadata": {},
   "outputs": [],
   "source": [
    "#model = load_model('model.h1.24_jan_19')\n",
    "preds = model.predict_classes(testX.reshape((testX.shape[0],testX.shape[1])))"
   ]
  },
  {
   "cell_type": "code",
   "execution_count": 38,
   "metadata": {},
   "outputs": [],
   "source": [
    "def get_word(n, tokenizer):\n",
    "    for word, index in tokenizer.word_index.items():\n",
    "        if index == n:\n",
    "            return word\n",
    "    return None"
   ]
  },
  {
   "cell_type": "code",
   "execution_count": 39,
   "metadata": {},
   "outputs": [],
   "source": [
    "# convert predictions into text (English)\n",
    "preds_text = []\n",
    "for i in preds:\n",
    "    temp = []\n",
    "    for j in range(len(i)):\n",
    "        t = get_word(i[j], eng_tokenizer)\n",
    "        if j > 0:\n",
    "            if (t == get_word(i[j-1], eng_tokenizer)) or (t == None):\n",
    "                temp.append('')\n",
    "            else:\n",
    "                temp.append(t)\n",
    "             \n",
    "        else:\n",
    "            if(t == None):\n",
    "                temp.append('')\n",
    "            else:\n",
    "                temp.append(t)            \n",
    "        \n",
    "    preds_text.append(' '.join(temp))"
   ]
  },
  {
   "cell_type": "code",
   "execution_count": 40,
   "metadata": {},
   "outputs": [],
   "source": [
    "pred_df = pd.DataFrame({'actual' : test[:,0], 'predicted' : preds_text})\n",
    "pd.set_option('display.max_colwidth', 200)"
   ]
  },
  {
   "cell_type": "code",
   "execution_count": 41,
   "metadata": {},
   "outputs": [
    {
     "data": {
      "text/html": [
       "<div>\n",
       "<style scoped>\n",
       "    .dataframe tbody tr th:only-of-type {\n",
       "        vertical-align: middle;\n",
       "    }\n",
       "\n",
       "    .dataframe tbody tr th {\n",
       "        vertical-align: top;\n",
       "    }\n",
       "\n",
       "    .dataframe thead th {\n",
       "        text-align: right;\n",
       "    }\n",
       "</style>\n",
       "<table border=\"1\" class=\"dataframe\">\n",
       "  <thead>\n",
       "    <tr style=\"text-align: right;\">\n",
       "      <th></th>\n",
       "      <th>actual</th>\n",
       "      <th>predicted</th>\n",
       "    </tr>\n",
       "  </thead>\n",
       "  <tbody>\n",
       "    <tr>\n",
       "      <th>0</th>\n",
       "      <td>this house is famous</td>\n",
       "      <td>this house is famous</td>\n",
       "    </tr>\n",
       "    <tr>\n",
       "      <th>1</th>\n",
       "      <td>why was tom fired</td>\n",
       "      <td>why did tom get toms</td>\n",
       "    </tr>\n",
       "    <tr>\n",
       "      <th>2</th>\n",
       "      <td>tom took off his shoes</td>\n",
       "      <td>tom took off shoes</td>\n",
       "    </tr>\n",
       "    <tr>\n",
       "      <th>3</th>\n",
       "      <td>do you have guests for dinner</td>\n",
       "      <td>do you have any</td>\n",
       "    </tr>\n",
       "    <tr>\n",
       "      <th>4</th>\n",
       "      <td>history tends to repeat itself</td>\n",
       "      <td>the story made to</td>\n",
       "    </tr>\n",
       "    <tr>\n",
       "      <th>5</th>\n",
       "      <td>tom usually keeps appointments</td>\n",
       "      <td>tom felt 300 his word</td>\n",
       "    </tr>\n",
       "    <tr>\n",
       "      <th>6</th>\n",
       "      <td>dont beat around the bush</td>\n",
       "      <td>dont beat around the bush</td>\n",
       "    </tr>\n",
       "    <tr>\n",
       "      <th>7</th>\n",
       "      <td>stop being nosey</td>\n",
       "      <td>stop be to</td>\n",
       "    </tr>\n",
       "    <tr>\n",
       "      <th>8</th>\n",
       "      <td>i seem to have lost my purse</td>\n",
       "      <td>i was me to my</td>\n",
       "    </tr>\n",
       "    <tr>\n",
       "      <th>9</th>\n",
       "      <td>he isnt perfect</td>\n",
       "      <td>its not perfect</td>\n",
       "    </tr>\n",
       "    <tr>\n",
       "      <th>10</th>\n",
       "      <td>im going to sleep here</td>\n",
       "      <td>im going to</td>\n",
       "    </tr>\n",
       "    <tr>\n",
       "      <th>11</th>\n",
       "      <td>the tall man left in a hurry</td>\n",
       "      <td>the boy was very of</td>\n",
       "    </tr>\n",
       "    <tr>\n",
       "      <th>12</th>\n",
       "      <td>they were lucky</td>\n",
       "      <td>they were excited</td>\n",
       "    </tr>\n",
       "    <tr>\n",
       "      <th>13</th>\n",
       "      <td>who broke this</td>\n",
       "      <td>who broke it</td>\n",
       "    </tr>\n",
       "    <tr>\n",
       "      <th>14</th>\n",
       "      <td>hes so cute</td>\n",
       "      <td>hes is great cool</td>\n",
       "    </tr>\n",
       "  </tbody>\n",
       "</table>\n",
       "</div>"
      ],
      "text/plain": [
       "                            actual                      predicted\n",
       "0             this house is famous      this house is famous     \n",
       "1                why was tom fired       why did tom get toms    \n",
       "2           tom took off his shoes        tom took off shoes     \n",
       "3    do you have guests for dinner           do you have any     \n",
       "4   history tends to repeat itself         the story made to     \n",
       "5   tom usually keeps appointments      tom felt 300 his word    \n",
       "6        dont beat around the bush  dont beat around the bush    \n",
       "7                 stop being nosey               stop be to      \n",
       "8     i seem to have lost my purse             i was me to my    \n",
       "9                  he isnt perfect          its not perfect      \n",
       "10          im going to sleep here              im going to      \n",
       "11    the tall man left in a hurry        the boy was very of    \n",
       "12                 they were lucky        they were excited      \n",
       "13                  who broke this             who broke it      \n",
       "14                     hes so cute         hes is great cool     "
      ]
     },
     "execution_count": 41,
     "metadata": {},
     "output_type": "execute_result"
    }
   ],
   "source": [
    "pred_df.head(15)"
   ]
  },
  {
   "cell_type": "code",
   "execution_count": 42,
   "metadata": {},
   "outputs": [
    {
     "data": {
      "text/html": [
       "<div>\n",
       "<style scoped>\n",
       "    .dataframe tbody tr th:only-of-type {\n",
       "        vertical-align: middle;\n",
       "    }\n",
       "\n",
       "    .dataframe tbody tr th {\n",
       "        vertical-align: top;\n",
       "    }\n",
       "\n",
       "    .dataframe thead th {\n",
       "        text-align: right;\n",
       "    }\n",
       "</style>\n",
       "<table border=\"1\" class=\"dataframe\">\n",
       "  <thead>\n",
       "    <tr style=\"text-align: right;\">\n",
       "      <th></th>\n",
       "      <th>actual</th>\n",
       "      <th>predicted</th>\n",
       "    </tr>\n",
       "  </thead>\n",
       "  <tbody>\n",
       "    <tr>\n",
       "      <th>13985</th>\n",
       "      <td>its a simple job</td>\n",
       "      <td>its a  job</td>\n",
       "    </tr>\n",
       "    <tr>\n",
       "      <th>13986</th>\n",
       "      <td>her hair is wet with sweat</td>\n",
       "      <td>my son is in  tears</td>\n",
       "    </tr>\n",
       "    <tr>\n",
       "      <th>13987</th>\n",
       "      <td>i cant understand</td>\n",
       "      <td>i cant understand</td>\n",
       "    </tr>\n",
       "    <tr>\n",
       "      <th>13988</th>\n",
       "      <td>i agree with him so do i</td>\n",
       "      <td>i agree  him but all</td>\n",
       "    </tr>\n",
       "    <tr>\n",
       "      <th>13989</th>\n",
       "      <td>the painter died young</td>\n",
       "      <td>her man was died young</td>\n",
       "    </tr>\n",
       "    <tr>\n",
       "      <th>13990</th>\n",
       "      <td>warn tom</td>\n",
       "      <td>leave tom</td>\n",
       "    </tr>\n",
       "    <tr>\n",
       "      <th>13991</th>\n",
       "      <td>everybody was looking for tom</td>\n",
       "      <td>everybody was looking tom</td>\n",
       "    </tr>\n",
       "    <tr>\n",
       "      <th>13992</th>\n",
       "      <td>i love that movie</td>\n",
       "      <td>i like this movie</td>\n",
       "    </tr>\n",
       "    <tr>\n",
       "      <th>13993</th>\n",
       "      <td>tom put up his umbrella</td>\n",
       "      <td>tom opened his jacket</td>\n",
       "    </tr>\n",
       "    <tr>\n",
       "      <th>13994</th>\n",
       "      <td>they live nearby</td>\n",
       "      <td>they live in</td>\n",
       "    </tr>\n",
       "    <tr>\n",
       "      <th>13995</th>\n",
       "      <td>tom backed up his data</td>\n",
       "      <td>tom made a wrong for</td>\n",
       "    </tr>\n",
       "    <tr>\n",
       "      <th>13996</th>\n",
       "      <td>i have gained weight</td>\n",
       "      <td>ive gained weight</td>\n",
       "    </tr>\n",
       "    <tr>\n",
       "      <th>13997</th>\n",
       "      <td>i wish i earned more money</td>\n",
       "      <td>id like to more  money</td>\n",
       "    </tr>\n",
       "    <tr>\n",
       "      <th>13998</th>\n",
       "      <td>both tom and mary thanked john</td>\n",
       "      <td>tom and mary and john</td>\n",
       "    </tr>\n",
       "    <tr>\n",
       "      <th>13999</th>\n",
       "      <td>my house is on a hill</td>\n",
       "      <td>my house is on a</td>\n",
       "    </tr>\n",
       "  </tbody>\n",
       "</table>\n",
       "</div>"
      ],
      "text/plain": [
       "                               actual                       predicted\n",
       "13985                its a simple job                 its a  job     \n",
       "13986      her hair is wet with sweat          my son is in  tears   \n",
       "13987               i cant understand         i cant understand      \n",
       "13988        i agree with him so do i         i agree  him but all   \n",
       "13989          the painter died young      her man was died young    \n",
       "13990                        warn tom                leave tom       \n",
       "13991   everybody was looking for tom  everybody was looking tom     \n",
       "13992               i love that movie          i like this movie     \n",
       "13993         tom put up his umbrella      tom opened his jacket     \n",
       "13994                they live nearby              they live in      \n",
       "13995          tom backed up his data        tom made a wrong for    \n",
       "13996            i have gained weight         ive gained weight      \n",
       "13997      i wish i earned more money       id like to more  money   \n",
       "13998  both tom and mary thanked john       tom and mary and john    \n",
       "13999           my house is on a hill            my house is on a    "
      ]
     },
     "execution_count": 42,
     "metadata": {},
     "output_type": "execute_result"
    }
   ],
   "source": [
    "pred_df.tail(15)"
   ]
  },
  {
   "cell_type": "code",
   "execution_count": 43,
   "metadata": {},
   "outputs": [
    {
     "data": {
      "text/html": [
       "<div>\n",
       "<style scoped>\n",
       "    .dataframe tbody tr th:only-of-type {\n",
       "        vertical-align: middle;\n",
       "    }\n",
       "\n",
       "    .dataframe tbody tr th {\n",
       "        vertical-align: top;\n",
       "    }\n",
       "\n",
       "    .dataframe thead th {\n",
       "        text-align: right;\n",
       "    }\n",
       "</style>\n",
       "<table border=\"1\" class=\"dataframe\">\n",
       "  <thead>\n",
       "    <tr style=\"text-align: right;\">\n",
       "      <th></th>\n",
       "      <th>actual</th>\n",
       "      <th>predicted</th>\n",
       "    </tr>\n",
       "  </thead>\n",
       "  <tbody>\n",
       "    <tr>\n",
       "      <th>13985</th>\n",
       "      <td>its a simple job</td>\n",
       "      <td>its a  job</td>\n",
       "    </tr>\n",
       "    <tr>\n",
       "      <th>13986</th>\n",
       "      <td>her hair is wet with sweat</td>\n",
       "      <td>my son is in  tears</td>\n",
       "    </tr>\n",
       "    <tr>\n",
       "      <th>13987</th>\n",
       "      <td>i cant understand</td>\n",
       "      <td>i cant understand</td>\n",
       "    </tr>\n",
       "    <tr>\n",
       "      <th>13988</th>\n",
       "      <td>i agree with him so do i</td>\n",
       "      <td>i agree  him but all</td>\n",
       "    </tr>\n",
       "    <tr>\n",
       "      <th>13989</th>\n",
       "      <td>the painter died young</td>\n",
       "      <td>her man was died young</td>\n",
       "    </tr>\n",
       "    <tr>\n",
       "      <th>13990</th>\n",
       "      <td>warn tom</td>\n",
       "      <td>leave tom</td>\n",
       "    </tr>\n",
       "    <tr>\n",
       "      <th>13991</th>\n",
       "      <td>everybody was looking for tom</td>\n",
       "      <td>everybody was looking tom</td>\n",
       "    </tr>\n",
       "    <tr>\n",
       "      <th>13992</th>\n",
       "      <td>i love that movie</td>\n",
       "      <td>i like this movie</td>\n",
       "    </tr>\n",
       "    <tr>\n",
       "      <th>13993</th>\n",
       "      <td>tom put up his umbrella</td>\n",
       "      <td>tom opened his jacket</td>\n",
       "    </tr>\n",
       "    <tr>\n",
       "      <th>13994</th>\n",
       "      <td>they live nearby</td>\n",
       "      <td>they live in</td>\n",
       "    </tr>\n",
       "    <tr>\n",
       "      <th>13995</th>\n",
       "      <td>tom backed up his data</td>\n",
       "      <td>tom made a wrong for</td>\n",
       "    </tr>\n",
       "    <tr>\n",
       "      <th>13996</th>\n",
       "      <td>i have gained weight</td>\n",
       "      <td>ive gained weight</td>\n",
       "    </tr>\n",
       "    <tr>\n",
       "      <th>13997</th>\n",
       "      <td>i wish i earned more money</td>\n",
       "      <td>id like to more  money</td>\n",
       "    </tr>\n",
       "    <tr>\n",
       "      <th>13998</th>\n",
       "      <td>both tom and mary thanked john</td>\n",
       "      <td>tom and mary and john</td>\n",
       "    </tr>\n",
       "    <tr>\n",
       "      <th>13999</th>\n",
       "      <td>my house is on a hill</td>\n",
       "      <td>my house is on a</td>\n",
       "    </tr>\n",
       "  </tbody>\n",
       "</table>\n",
       "</div>"
      ],
      "text/plain": [
       "                               actual                       predicted\n",
       "13985                its a simple job                 its a  job     \n",
       "13986      her hair is wet with sweat          my son is in  tears   \n",
       "13987               i cant understand         i cant understand      \n",
       "13988        i agree with him so do i         i agree  him but all   \n",
       "13989          the painter died young      her man was died young    \n",
       "13990                        warn tom                leave tom       \n",
       "13991   everybody was looking for tom  everybody was looking tom     \n",
       "13992               i love that movie          i like this movie     \n",
       "13993         tom put up his umbrella      tom opened his jacket     \n",
       "13994                they live nearby              they live in      \n",
       "13995          tom backed up his data        tom made a wrong for    \n",
       "13996            i have gained weight         ive gained weight      \n",
       "13997      i wish i earned more money       id like to more  money   \n",
       "13998  both tom and mary thanked john       tom and mary and john    \n",
       "13999           my house is on a hill            my house is on a    "
      ]
     },
     "execution_count": 43,
     "metadata": {},
     "output_type": "execute_result"
    }
   ],
   "source": [
    "pred_df.tail(15)"
   ]
  },
  {
   "cell_type": "code",
   "execution_count": 44,
   "metadata": {},
   "outputs": [
    {
     "data": {
      "text/html": [
       "<div>\n",
       "<style scoped>\n",
       "    .dataframe tbody tr th:only-of-type {\n",
       "        vertical-align: middle;\n",
       "    }\n",
       "\n",
       "    .dataframe tbody tr th {\n",
       "        vertical-align: top;\n",
       "    }\n",
       "\n",
       "    .dataframe thead th {\n",
       "        text-align: right;\n",
       "    }\n",
       "</style>\n",
       "<table border=\"1\" class=\"dataframe\">\n",
       "  <thead>\n",
       "    <tr style=\"text-align: right;\">\n",
       "      <th></th>\n",
       "      <th>actual</th>\n",
       "      <th>predicted</th>\n",
       "    </tr>\n",
       "  </thead>\n",
       "  <tbody>\n",
       "    <tr>\n",
       "      <th>880</th>\n",
       "      <td>the sun is setting</td>\n",
       "      <td>the rose is over</td>\n",
       "    </tr>\n",
       "    <tr>\n",
       "      <th>9294</th>\n",
       "      <td>tom pulled the trigger</td>\n",
       "      <td>tom opened the</td>\n",
       "    </tr>\n",
       "    <tr>\n",
       "      <th>7200</th>\n",
       "      <td>you are very elegant</td>\n",
       "      <td>youre very skeptical</td>\n",
       "    </tr>\n",
       "    <tr>\n",
       "      <th>4971</th>\n",
       "      <td>im attaching three files</td>\n",
       "      <td>i am under three</td>\n",
       "    </tr>\n",
       "    <tr>\n",
       "      <th>9784</th>\n",
       "      <td>please put the books in order</td>\n",
       "      <td>put the book for  please</td>\n",
       "    </tr>\n",
       "    <tr>\n",
       "      <th>13847</th>\n",
       "      <td>tom often screens his calls</td>\n",
       "      <td>tom often taken to his parents</td>\n",
       "    </tr>\n",
       "    <tr>\n",
       "      <th>8138</th>\n",
       "      <td>she married him</td>\n",
       "      <td>she married  him</td>\n",
       "    </tr>\n",
       "    <tr>\n",
       "      <th>4261</th>\n",
       "      <td>i have a great life</td>\n",
       "      <td>i have a very good</td>\n",
       "    </tr>\n",
       "    <tr>\n",
       "      <th>11241</th>\n",
       "      <td>can tom help us</td>\n",
       "      <td>tom can help us</td>\n",
       "    </tr>\n",
       "    <tr>\n",
       "      <th>12580</th>\n",
       "      <td>theyre cold</td>\n",
       "      <td>theyre cold</td>\n",
       "    </tr>\n",
       "    <tr>\n",
       "      <th>551</th>\n",
       "      <td>you lead the way</td>\n",
       "      <td>you on the way</td>\n",
       "    </tr>\n",
       "    <tr>\n",
       "      <th>10508</th>\n",
       "      <td>im not serious</td>\n",
       "      <td>im not be</td>\n",
       "    </tr>\n",
       "    <tr>\n",
       "      <th>702</th>\n",
       "      <td>few people think so</td>\n",
       "      <td>people   it</td>\n",
       "    </tr>\n",
       "    <tr>\n",
       "      <th>4409</th>\n",
       "      <td>thats pseudoscience</td>\n",
       "      <td>thats that</td>\n",
       "    </tr>\n",
       "    <tr>\n",
       "      <th>13451</th>\n",
       "      <td>he was all attention</td>\n",
       "      <td>he was too much to</td>\n",
       "    </tr>\n",
       "  </tbody>\n",
       "</table>\n",
       "</div>"
      ],
      "text/plain": [
       "                              actual                          predicted\n",
       "880               the sun is setting              the rose is over     \n",
       "9294          tom pulled the trigger               tom opened the      \n",
       "7200            you are very elegant         youre very skeptical      \n",
       "4971        im attaching three files              i am under three     \n",
       "9784   please put the books in order        put the book for  please   \n",
       "13847    tom often screens his calls  tom often taken to his parents   \n",
       "8138                 she married him              she married  him     \n",
       "4261             i have a great life             i have a very good    \n",
       "11241                can tom help us               tom can help us     \n",
       "12580                    theyre cold                 theyre cold       \n",
       "551                 you lead the way                you on the way     \n",
       "10508                 im not serious                    im not be      \n",
       "702              few people think so                   people   it     \n",
       "4409             thats pseudoscience                  thats that       \n",
       "13451           he was all attention             he was too much to    "
      ]
     },
     "execution_count": 44,
     "metadata": {},
     "output_type": "execute_result"
    }
   ],
   "source": [
    "pred_df.sample(15)"
   ]
  },
  {
   "cell_type": "markdown",
   "metadata": {},
   "source": [
    "* Train new model"
   ]
  },
  {
   "cell_type": "code",
   "execution_count": 45,
   "metadata": {},
   "outputs": [],
   "source": [
    "model2 = build_model(spa_vocab_size, eng_vocab_size, spa_length, eng_length, 256)\n",
    "rms = optimizers.RMSprop(lr=0.001)\n",
    "model2.compile(optimizer=rms, loss='sparse_categorical_crossentropy')"
   ]
  },
  {
   "cell_type": "markdown",
   "metadata": {},
   "source": [
    "Please note that we have used __'sparse_categorical_crossentropy'__ as the loss function because it allows us to use the target sequence as it is instead of one hot encoded format. One hot encoding the target sequences with such a huge vocabulary might consume our system's entire memory."
   ]
  },
  {
   "cell_type": "markdown",
   "metadata": {},
   "source": [
    "It seems we are all set to start training our model. We will train it for 30 epochs and with a batch size of 512. You may change and play these hyperparameters. We will also be using __ModelCheckpoint()__ to save the best model with lowest validation loss. I personally prefer this method over early stopping."
   ]
  },
  {
   "cell_type": "markdown",
   "metadata": {},
   "source": [
    "Voy a ejecutarlo cambiando el callback por `EarlyStopping` porque no tengo espacio en disco disponible en mi ordenador."
   ]
  },
  {
   "cell_type": "markdown",
   "metadata": {},
   "source": [
    " ### Ejecutando otros modelos con diferente tamaño de batch size:\n",
    "  #### BS = 1024"
   ]
  },
  {
   "cell_type": "code",
   "execution_count": 46,
   "metadata": {
    "scrolled": false
   },
   "outputs": [
    {
     "name": "stderr",
     "output_type": "stream",
     "text": [
      "/opt/anaconda3/lib/python3.7/site-packages/tensorflow_core/python/framework/indexed_slices.py:433: UserWarning: Converting sparse IndexedSlices to a dense Tensor of unknown shape. This may consume a large amount of memory.\n",
      "  \"Converting sparse IndexedSlices to a dense Tensor of unknown shape. \"\n"
     ]
    },
    {
     "name": "stdout",
     "output_type": "stream",
     "text": [
      "Train on 44800 samples, validate on 11200 samples\n",
      "Epoch 1/30\n",
      "44800/44800 [==============================] - 226s 5ms/step - loss: 3.6988 - val_loss: 3.2783\n",
      "Epoch 2/30\n",
      "44800/44800 [==============================] - 782s 17ms/step - loss: 3.1767 - val_loss: 3.1075\n",
      "Epoch 3/30\n",
      "44800/44800 [==============================] - 1055s 24ms/step - loss: 3.0049 - val_loss: 3.0015\n",
      "Epoch 4/30\n",
      "44800/44800 [==============================] - 209s 5ms/step - loss: 2.8552 - val_loss: 2.8477\n",
      "Epoch 5/30\n",
      "44800/44800 [==============================] - 210s 5ms/step - loss: 2.6777 - val_loss: 2.6886\n",
      "Epoch 6/30\n",
      "44800/44800 [==============================] - 209s 5ms/step - loss: 2.5245 - val_loss: 2.5828\n",
      "Epoch 7/30\n",
      "44800/44800 [==============================] - 210s 5ms/step - loss: 2.3947 - val_loss: 2.4737\n",
      "Epoch 8/30\n",
      "44800/44800 [==============================] - 209s 5ms/step - loss: 2.2719 - val_loss: 2.3787\n",
      "Epoch 9/30\n",
      "44800/44800 [==============================] - 218s 5ms/step - loss: 2.1598 - val_loss: 2.3036\n",
      "Epoch 10/30\n",
      "44800/44800 [==============================] - 210s 5ms/step - loss: 2.0537 - val_loss: 2.2353\n",
      "Epoch 11/30\n",
      "44800/44800 [==============================] - 209s 5ms/step - loss: 1.9511 - val_loss: 2.1678\n",
      "Epoch 12/30\n",
      "44800/44800 [==============================] - 2400s 54ms/step - loss: 1.8575 - val_loss: 2.1052\n",
      "Epoch 13/30\n",
      "44800/44800 [==============================] - 588s 13ms/step - loss: 1.7672 - val_loss: 2.0667\n",
      "Epoch 14/30\n",
      "44800/44800 [==============================] - 1011s 23ms/step - loss: 1.6831 - val_loss: 2.0364\n",
      "Epoch 15/30\n",
      "44800/44800 [==============================] - 409s 9ms/step - loss: 1.6036 - val_loss: 1.9702\n",
      "Epoch 16/30\n",
      "44800/44800 [==============================] - 257s 6ms/step - loss: 1.5290 - val_loss: 1.9298\n",
      "Epoch 17/30\n",
      "44800/44800 [==============================] - 250s 6ms/step - loss: 1.4583 - val_loss: 1.9130\n",
      "Epoch 18/30\n",
      "44800/44800 [==============================] - 246s 5ms/step - loss: 1.3889 - val_loss: 1.8896\n",
      "Epoch 19/30\n",
      "44800/44800 [==============================] - 246s 5ms/step - loss: 1.3249 - val_loss: 1.8721\n",
      "Epoch 20/30\n",
      "44800/44800 [==============================] - 246s 5ms/step - loss: 1.2657 - val_loss: 1.8328\n",
      "Epoch 21/30\n",
      "44800/44800 [==============================] - 246s 5ms/step - loss: 1.2075 - val_loss: 1.8129\n",
      "Epoch 22/30\n",
      "44800/44800 [==============================] - 238s 5ms/step - loss: 1.1533 - val_loss: 1.8054\n",
      "Epoch 23/30\n",
      "44800/44800 [==============================] - 1913s 43ms/step - loss: 1.1018 - val_loss: 1.8038\n",
      "Epoch 24/30\n",
      "44800/44800 [==============================] - 278s 6ms/step - loss: 1.0519 - val_loss: 1.7879\n",
      "Epoch 25/30\n",
      "44800/44800 [==============================] - 269s 6ms/step - loss: 1.0050 - val_loss: 1.7901\n",
      "Epoch 26/30\n",
      "44800/44800 [==============================] - 282s 6ms/step - loss: 0.9585 - val_loss: 1.7821\n",
      "Epoch 27/30\n",
      "44800/44800 [==============================] - 285s 6ms/step - loss: 0.9140 - val_loss: 1.7766\n",
      "Epoch 28/30\n",
      "44800/44800 [==============================] - 289s 6ms/step - loss: 0.8713 - val_loss: 1.7920\n",
      "Epoch 29/30\n",
      "44800/44800 [==============================] - 290s 6ms/step - loss: 0.8324 - val_loss: 1.7880\n",
      "Epoch 00029: early stopping\n"
     ]
    }
   ],
   "source": [
    "filename = 'model.h1.24_jan_19'\n",
    "#checkpoint = ModelCheckpoint(filename, monitor='val_loss', verbose=1, save_best_only=True, mode='min')\n",
    "# 'No space left on device' --> callback: Early Stopping\n",
    "checkpoint = EarlyStopping(monitor='val_loss', patience=2, verbose=1, mode='min') #verbose 1 -> Para que pinte los cambios\n",
    "\n",
    "history2 = model2.fit(trainX, trainY.reshape(trainY.shape[0], trainY.shape[1], 1), \n",
    "          epochs=30, batch_size=256, #Duplico el batch size y hago más pequeño el learning rate\n",
    "          validation_split = 0.2,\n",
    "          callbacks=[checkpoint], verbose=1)"
   ]
  },
  {
   "cell_type": "markdown",
   "metadata": {},
   "source": [
    "Let's compare the training loss and the validation loss."
   ]
  },
  {
   "cell_type": "code",
   "execution_count": 48,
   "metadata": {},
   "outputs": [
    {
     "data": {
      "image/png": "[encoded data removed]",
      "text/plain": [
       "<Figure size 432x288 with 1 Axes>"
      ]
     },
     "metadata": {
      "needs_background": "light"
     },
     "output_type": "display_data"
    }
   ],
   "source": [
    "plt.plot(history2.history['loss'])\n",
    "plt.plot(history2.history['val_loss'])\n",
    "plt.legend(['train','validation'])\n",
    "plt.show()"
   ]
  },
  {
   "cell_type": "markdown",
   "metadata": {},
   "source": [
    "Haciendo más pequeño el learning rate se evita el sobreentrenamiento, la curva de entrenamiento y validación es muy similar, pero la pérdida (loss) es mucho mayor, es decir, habrá mayor error en las predicciones. Para comprobarlo voy a hacer predicciones nuevas usando este nuevo modelo:"
   ]
  },
  {
   "cell_type": "markdown",
   "metadata": {},
   "source": [
    "### Make Predictions"
   ]
  },
  {
   "cell_type": "markdown",
   "metadata": {},
   "source": [
    "Let's load the saved model to make predictions."
   ]
  },
  {
   "cell_type": "code",
   "execution_count": 49,
   "metadata": {},
   "outputs": [],
   "source": [
    "#model = load_model('model.h1.24_jan_19')\n",
    "preds = model2.predict_classes(testX.reshape((testX.shape[0],testX.shape[1])))"
   ]
  },
  {
   "cell_type": "code",
   "execution_count": 50,
   "metadata": {},
   "outputs": [],
   "source": [
    "# convert predictions into text (English)\n",
    "preds_text = []\n",
    "for i in preds:\n",
    "    temp = []\n",
    "    for j in range(len(i)):\n",
    "        t = get_word(i[j], eng_tokenizer)\n",
    "        if j > 0:\n",
    "            if (t == get_word(i[j-1], eng_tokenizer)) or (t == None):\n",
    "                temp.append('')\n",
    "            else:\n",
    "                temp.append(t)\n",
    "             \n",
    "        else:\n",
    "            if(t == None):\n",
    "                temp.append('')\n",
    "            else:\n",
    "                temp.append(t)            \n",
    "        \n",
    "    preds_text.append(' '.join(temp))"
   ]
  },
  {
   "cell_type": "code",
   "execution_count": 51,
   "metadata": {},
   "outputs": [],
   "source": [
    "pred_df = pd.DataFrame({'actual' : test[:,0], 'predicted' : preds_text})"
   ]
  },
  {
   "cell_type": "code",
   "execution_count": 52,
   "metadata": {},
   "outputs": [],
   "source": [
    "pd.set_option('display.max_colwidth', 200)"
   ]
  },
  {
   "cell_type": "code",
   "execution_count": 53,
   "metadata": {},
   "outputs": [
    {
     "data": {
      "text/html": [
       "<div>\n",
       "<style scoped>\n",
       "    .dataframe tbody tr th:only-of-type {\n",
       "        vertical-align: middle;\n",
       "    }\n",
       "\n",
       "    .dataframe tbody tr th {\n",
       "        vertical-align: top;\n",
       "    }\n",
       "\n",
       "    .dataframe thead th {\n",
       "        text-align: right;\n",
       "    }\n",
       "</style>\n",
       "<table border=\"1\" class=\"dataframe\">\n",
       "  <thead>\n",
       "    <tr style=\"text-align: right;\">\n",
       "      <th></th>\n",
       "      <th>actual</th>\n",
       "      <th>predicted</th>\n",
       "    </tr>\n",
       "  </thead>\n",
       "  <tbody>\n",
       "    <tr>\n",
       "      <th>0</th>\n",
       "      <td>this house is famous</td>\n",
       "      <td>this house is small</td>\n",
       "    </tr>\n",
       "    <tr>\n",
       "      <th>1</th>\n",
       "      <td>why was tom fired</td>\n",
       "      <td>why was tom go home</td>\n",
       "    </tr>\n",
       "    <tr>\n",
       "      <th>2</th>\n",
       "      <td>tom took off his shoes</td>\n",
       "      <td>tom took off his shoes</td>\n",
       "    </tr>\n",
       "    <tr>\n",
       "      <th>3</th>\n",
       "      <td>do you have guests for dinner</td>\n",
       "      <td>you  any</td>\n",
       "    </tr>\n",
       "    <tr>\n",
       "      <th>4</th>\n",
       "      <td>history tends to repeat itself</td>\n",
       "      <td>a story tried to true</td>\n",
       "    </tr>\n",
       "    <tr>\n",
       "      <th>5</th>\n",
       "      <td>tom usually keeps appointments</td>\n",
       "      <td>tom never mary his age</td>\n",
       "    </tr>\n",
       "    <tr>\n",
       "      <th>6</th>\n",
       "      <td>dont beat around the bush</td>\n",
       "      <td>dont beat around the bush</td>\n",
       "    </tr>\n",
       "    <tr>\n",
       "      <th>7</th>\n",
       "      <td>stop being nosey</td>\n",
       "      <td>stop being  quit</td>\n",
       "    </tr>\n",
       "    <tr>\n",
       "      <th>8</th>\n",
       "      <td>i seem to have lost my purse</td>\n",
       "      <td>i seems you had my</td>\n",
       "    </tr>\n",
       "    <tr>\n",
       "      <th>9</th>\n",
       "      <td>he isnt perfect</td>\n",
       "      <td>its not perfect</td>\n",
       "    </tr>\n",
       "    <tr>\n",
       "      <th>10</th>\n",
       "      <td>im going to sleep here</td>\n",
       "      <td>im going to</td>\n",
       "    </tr>\n",
       "    <tr>\n",
       "      <th>11</th>\n",
       "      <td>the tall man left in a hurry</td>\n",
       "      <td>the man was asked a man</td>\n",
       "    </tr>\n",
       "    <tr>\n",
       "      <th>12</th>\n",
       "      <td>they were lucky</td>\n",
       "      <td>they were lucky</td>\n",
       "    </tr>\n",
       "    <tr>\n",
       "      <th>13</th>\n",
       "      <td>who broke this</td>\n",
       "      <td>who broke the</td>\n",
       "    </tr>\n",
       "    <tr>\n",
       "      <th>14</th>\n",
       "      <td>hes so cute</td>\n",
       "      <td>hes so pretty</td>\n",
       "    </tr>\n",
       "  </tbody>\n",
       "</table>\n",
       "</div>"
      ],
      "text/plain": [
       "                            actual                      predicted\n",
       "0             this house is famous       this house is small     \n",
       "1                why was tom fired        why was tom go home    \n",
       "2           tom took off his shoes     tom took off his shoes    \n",
       "3    do you have guests for dinner                 you  any      \n",
       "4   history tends to repeat itself      a story tried to true    \n",
       "5   tom usually keeps appointments     tom never mary his age    \n",
       "6        dont beat around the bush  dont beat around the bush    \n",
       "7                 stop being nosey          stop being  quit     \n",
       "8     i seem to have lost my purse         i seems you had my    \n",
       "9                  he isnt perfect          its not perfect      \n",
       "10          im going to sleep here              im going to      \n",
       "11    the tall man left in a hurry     the man was asked a man   \n",
       "12                 they were lucky          they were lucky      \n",
       "13                  who broke this            who broke the      \n",
       "14                     hes so cute            hes so pretty      "
      ]
     },
     "execution_count": 53,
     "metadata": {},
     "output_type": "execute_result"
    }
   ],
   "source": [
    "pred_df.head(15)"
   ]
  },
  {
   "cell_type": "code",
   "execution_count": 54,
   "metadata": {},
   "outputs": [
    {
     "data": {
      "text/html": [
       "<div>\n",
       "<style scoped>\n",
       "    .dataframe tbody tr th:only-of-type {\n",
       "        vertical-align: middle;\n",
       "    }\n",
       "\n",
       "    .dataframe tbody tr th {\n",
       "        vertical-align: top;\n",
       "    }\n",
       "\n",
       "    .dataframe thead th {\n",
       "        text-align: right;\n",
       "    }\n",
       "</style>\n",
       "<table border=\"1\" class=\"dataframe\">\n",
       "  <thead>\n",
       "    <tr style=\"text-align: right;\">\n",
       "      <th></th>\n",
       "      <th>actual</th>\n",
       "      <th>predicted</th>\n",
       "    </tr>\n",
       "  </thead>\n",
       "  <tbody>\n",
       "    <tr>\n",
       "      <th>13985</th>\n",
       "      <td>its a simple job</td>\n",
       "      <td>its a  job</td>\n",
       "    </tr>\n",
       "    <tr>\n",
       "      <th>13986</th>\n",
       "      <td>her hair is wet with sweat</td>\n",
       "      <td>her hair is studying with</td>\n",
       "    </tr>\n",
       "    <tr>\n",
       "      <th>13987</th>\n",
       "      <td>i cant understand</td>\n",
       "      <td>i cant understand</td>\n",
       "    </tr>\n",
       "    <tr>\n",
       "      <th>13988</th>\n",
       "      <td>i agree with him so do i</td>\n",
       "      <td>i agree  of</td>\n",
       "    </tr>\n",
       "    <tr>\n",
       "      <th>13989</th>\n",
       "      <td>the painter died young</td>\n",
       "      <td>her young died a young</td>\n",
       "    </tr>\n",
       "    <tr>\n",
       "      <th>13990</th>\n",
       "      <td>warn tom</td>\n",
       "      <td>find tom</td>\n",
       "    </tr>\n",
       "    <tr>\n",
       "      <th>13991</th>\n",
       "      <td>everybody was looking for tom</td>\n",
       "      <td>everyone all looking for</td>\n",
       "    </tr>\n",
       "    <tr>\n",
       "      <th>13992</th>\n",
       "      <td>i love that movie</td>\n",
       "      <td>i like that movie</td>\n",
       "    </tr>\n",
       "    <tr>\n",
       "      <th>13993</th>\n",
       "      <td>tom put up his umbrella</td>\n",
       "      <td>tom opened his umbrella</td>\n",
       "    </tr>\n",
       "    <tr>\n",
       "      <th>13994</th>\n",
       "      <td>they live nearby</td>\n",
       "      <td>they live close</td>\n",
       "    </tr>\n",
       "    <tr>\n",
       "      <th>13995</th>\n",
       "      <td>tom backed up his data</td>\n",
       "      <td>tom made a little</td>\n",
       "    </tr>\n",
       "    <tr>\n",
       "      <th>13996</th>\n",
       "      <td>i have gained weight</td>\n",
       "      <td>ive lost weight</td>\n",
       "    </tr>\n",
       "    <tr>\n",
       "      <th>13997</th>\n",
       "      <td>i wish i earned more money</td>\n",
       "      <td>id like to  more</td>\n",
       "    </tr>\n",
       "    <tr>\n",
       "      <th>13998</th>\n",
       "      <td>both tom and mary thanked john</td>\n",
       "      <td>tom and mary and with john</td>\n",
       "    </tr>\n",
       "    <tr>\n",
       "      <th>13999</th>\n",
       "      <td>my house is on a hill</td>\n",
       "      <td>my house is near in the</td>\n",
       "    </tr>\n",
       "  </tbody>\n",
       "</table>\n",
       "</div>"
      ],
      "text/plain": [
       "                               actual                      predicted\n",
       "13985                its a simple job                its a  job     \n",
       "13986      her hair is wet with sweat  her hair is studying with    \n",
       "13987               i cant understand        i cant understand      \n",
       "13988        i agree with him so do i               i agree  of     \n",
       "13989          the painter died young     her young died a young    \n",
       "13990                        warn tom                find tom       \n",
       "13991   everybody was looking for tom  everyone all looking for     \n",
       "13992               i love that movie         i like that movie     \n",
       "13993         tom put up his umbrella   tom opened his umbrella     \n",
       "13994                they live nearby          they live close      \n",
       "13995          tom backed up his data         tom made a little     \n",
       "13996            i have gained weight          ive lost weight      \n",
       "13997      i wish i earned more money           id like to  more    \n",
       "13998  both tom and mary thanked john  tom and mary and with john   \n",
       "13999           my house is on a hill     my house is near in the   "
      ]
     },
     "execution_count": 54,
     "metadata": {},
     "output_type": "execute_result"
    }
   ],
   "source": [
    "pred_df.tail(15)"
   ]
  },
  {
   "cell_type": "code",
   "execution_count": 56,
   "metadata": {
    "scrolled": false
   },
   "outputs": [
    {
     "data": {
      "text/html": [
       "<div>\n",
       "<style scoped>\n",
       "    .dataframe tbody tr th:only-of-type {\n",
       "        vertical-align: middle;\n",
       "    }\n",
       "\n",
       "    .dataframe tbody tr th {\n",
       "        vertical-align: top;\n",
       "    }\n",
       "\n",
       "    .dataframe thead th {\n",
       "        text-align: right;\n",
       "    }\n",
       "</style>\n",
       "<table border=\"1\" class=\"dataframe\">\n",
       "  <thead>\n",
       "    <tr style=\"text-align: right;\">\n",
       "      <th></th>\n",
       "      <th>actual</th>\n",
       "      <th>predicted</th>\n",
       "    </tr>\n",
       "  </thead>\n",
       "  <tbody>\n",
       "    <tr>\n",
       "      <th>1466</th>\n",
       "      <td>im afraid tom will get lost</td>\n",
       "      <td>im afraid tom wont  it</td>\n",
       "    </tr>\n",
       "    <tr>\n",
       "      <th>1405</th>\n",
       "      <td>i dont care about the expense</td>\n",
       "      <td>i not care on</td>\n",
       "    </tr>\n",
       "    <tr>\n",
       "      <th>3987</th>\n",
       "      <td>you just missed it</td>\n",
       "      <td>did you  try for him</td>\n",
       "    </tr>\n",
       "    <tr>\n",
       "      <th>3020</th>\n",
       "      <td>i just moved</td>\n",
       "      <td>i just lost out</td>\n",
       "    </tr>\n",
       "    <tr>\n",
       "      <th>3236</th>\n",
       "      <td>he is a famous baseball player</td>\n",
       "      <td>hes a  of citizen singer</td>\n",
       "    </tr>\n",
       "    <tr>\n",
       "      <th>11673</th>\n",
       "      <td>thats it im outta here</td>\n",
       "      <td>its already</td>\n",
       "    </tr>\n",
       "    <tr>\n",
       "      <th>11327</th>\n",
       "      <td>tom cant be that naive</td>\n",
       "      <td>tom cant be very</td>\n",
       "    </tr>\n",
       "    <tr>\n",
       "      <th>7378</th>\n",
       "      <td>please sit</td>\n",
       "      <td>please sit down</td>\n",
       "    </tr>\n",
       "    <tr>\n",
       "      <th>8727</th>\n",
       "      <td>it sounds easy</td>\n",
       "      <td>it seems easy</td>\n",
       "    </tr>\n",
       "    <tr>\n",
       "      <th>8126</th>\n",
       "      <td>the enemy is weak</td>\n",
       "      <td>the river is dirty</td>\n",
       "    </tr>\n",
       "    <tr>\n",
       "      <th>2119</th>\n",
       "      <td>im always hungry</td>\n",
       "      <td>im am hungry</td>\n",
       "    </tr>\n",
       "    <tr>\n",
       "      <th>8211</th>\n",
       "      <td>lets do our best again today</td>\n",
       "      <td>we better  best</td>\n",
       "    </tr>\n",
       "    <tr>\n",
       "      <th>12772</th>\n",
       "      <td>we want more food</td>\n",
       "      <td>we want more</td>\n",
       "    </tr>\n",
       "    <tr>\n",
       "      <th>7894</th>\n",
       "      <td>she sang pretty well</td>\n",
       "      <td>she sang very</td>\n",
       "    </tr>\n",
       "    <tr>\n",
       "      <th>11295</th>\n",
       "      <td>the lovers kissed</td>\n",
       "      <td>the saw him</td>\n",
       "    </tr>\n",
       "  </tbody>\n",
       "</table>\n",
       "</div>"
      ],
      "text/plain": [
       "                               actual                    predicted\n",
       "1466      im afraid tom will get lost    im afraid tom wont  it   \n",
       "1405    i dont care about the expense           i not care on     \n",
       "3987               you just missed it      did you  try for him   \n",
       "3020                     i just moved         i just lost out     \n",
       "3236   he is a famous baseball player  hes a  of citizen singer   \n",
       "11673          thats it im outta here           its already       \n",
       "11327          tom cant be that naive        tom cant be very     \n",
       "7378                       please sit        please sit down      \n",
       "8727                   it sounds easy          it seems easy      \n",
       "8126                the enemy is weak      the river is dirty     \n",
       "2119                 im always hungry           im am hungry      \n",
       "8211     lets do our best again today         we better  best     \n",
       "12772               we want more food           we want more      \n",
       "7894             she sang pretty well          she sang very      \n",
       "11295               the lovers kissed            the saw him      "
      ]
     },
     "execution_count": 56,
     "metadata": {},
     "output_type": "execute_result"
    }
   ],
   "source": [
    "pred_df.sample(15)"
   ]
  },
  {
   "cell_type": "markdown",
   "metadata": {},
   "source": [
    "* Try with another model"
   ]
  },
  {
   "cell_type": "code",
   "execution_count": 234,
   "metadata": {},
   "outputs": [],
   "source": [
    "model = build_model(spa_vocab_size, eng_vocab_size, spa_length, eng_length, 512)\n",
    "rms = optimizers.RMSprop(lr=0.001)\n",
    "model.compile(optimizer=rms, loss='sparse_categorical_crossentropy')"
   ]
  },
  {
   "cell_type": "code",
   "execution_count": 57,
   "metadata": {
    "scrolled": false
   },
   "outputs": [
    {
     "name": "stdout",
     "output_type": "stream",
     "text": [
      "Train on 44800 samples, validate on 11200 samples\n",
      "Epoch 1/40\n",
      "44800/44800 [==============================] - 433s 10ms/step - loss: 0.5770 - val_loss: 1.7021\n",
      "Epoch 2/40\n",
      "44800/44800 [==============================] - 390s 9ms/step - loss: 0.5491 - val_loss: 1.7092\n",
      "Epoch 3/40\n",
      "44800/44800 [==============================] - 392s 9ms/step - loss: 0.5121 - val_loss: 1.7174\n",
      "Epoch 00003: early stopping\n"
     ]
    }
   ],
   "source": [
    "filename = 'model.h1.24_jan_19'\n",
    "\n",
    "checkpoint = EarlyStopping(monitor='val_loss', patience=2, verbose=1, mode='min') #verbose 1 -> Para que pinte los cambios\n",
    "                                            # Evitar overfitting\n",
    "history = model.fit(trainX, trainY.reshape(trainY.shape[0], trainY.shape[1], 1), \n",
    "          epochs=40, batch_size=256, #Duplico el batch size y hago más pequeño el learning rate\n",
    "          validation_split = 0.2,\n",
    "          callbacks=[checkpoint], verbose=1)"
   ]
  },
  {
   "cell_type": "markdown",
   "metadata": {},
   "source": [
    "Let's compare the training loss and the validation loss."
   ]
  },
  {
   "cell_type": "code",
   "execution_count": 58,
   "metadata": {
    "scrolled": true
   },
   "outputs": [
    {
     "data": {
      "image/png": "[encoded data removed]",
      "text/plain": [
       "<Figure size 432x288 with 1 Axes>"
      ]
     },
     "metadata": {
      "needs_background": "light"
     },
     "output_type": "display_data"
    }
   ],
   "source": [
    "plt.plot(history.history['loss'])\n",
    "plt.plot(history.history['val_loss'])\n",
    "plt.legend(['train','validation'])\n",
    "plt.show()"
   ]
  },
  {
   "cell_type": "code",
   "execution_count": 59,
   "metadata": {},
   "outputs": [],
   "source": [
    "model3 = build_model(spa_vocab_size, eng_vocab_size, spa_length, eng_length, 1024)\n",
    "rms = optimizers.RMSprop(lr=0.001)\n",
    "model3.compile(optimizer=rms, loss='sparse_categorical_crossentropy')"
   ]
  },
  {
   "cell_type": "code",
   "execution_count": 60,
   "metadata": {
    "scrolled": false
   },
   "outputs": [
    {
     "name": "stderr",
     "output_type": "stream",
     "text": [
      "/opt/anaconda3/lib/python3.7/site-packages/tensorflow_core/python/framework/indexed_slices.py:433: UserWarning: Converting sparse IndexedSlices to a dense Tensor of unknown shape. This may consume a large amount of memory.\n",
      "  \"Converting sparse IndexedSlices to a dense Tensor of unknown shape. \"\n"
     ]
    },
    {
     "name": "stdout",
     "output_type": "stream",
     "text": [
      "Train on 44800 samples, validate on 11200 samples\n",
      "Epoch 1/40\n",
      "44800/44800 [==============================] - 781s 17ms/step - loss: 3.9785 - val_loss: 3.5313\n",
      "Epoch 2/40\n",
      "44800/44800 [==============================] - 763s 17ms/step - loss: 3.2356 - val_loss: 3.1655\n",
      "Epoch 3/40\n",
      "44800/44800 [==============================] - 835s 19ms/step - loss: 3.0635 - val_loss: 3.0399\n",
      "Epoch 4/40\n",
      "44800/44800 [==============================] - 3950s 88ms/step - loss: 2.8623 - val_loss: 2.9169\n",
      "Epoch 5/40\n",
      "44800/44800 [==============================] - 741s 17ms/step - loss: 2.6867 - val_loss: 2.7054\n",
      "Epoch 6/40\n",
      "44800/44800 [==============================] - 733s 16ms/step - loss: 2.5146 - val_loss: 2.5924\n",
      "Epoch 7/40\n",
      "44800/44800 [==============================] - 740s 17ms/step - loss: 2.3499 - val_loss: 2.4563\n",
      "Epoch 8/40\n",
      "44800/44800 [==============================] - 727s 16ms/step - loss: 2.1897 - val_loss: 2.3621\n",
      "Epoch 9/40\n",
      "44800/44800 [==============================] - 727s 16ms/step - loss: 2.0386 - val_loss: 2.2465\n",
      "Epoch 10/40\n",
      "44800/44800 [==============================] - 727s 16ms/step - loss: 1.8964 - val_loss: 2.1888\n",
      "Epoch 11/40\n",
      "44800/44800 [==============================] - 720s 16ms/step - loss: 1.7597 - val_loss: 2.0850\n",
      "Epoch 12/40\n",
      "44800/44800 [==============================] - 736s 16ms/step - loss: 1.6278 - val_loss: 2.0111\n",
      "Epoch 13/40\n",
      "44800/44800 [==============================] - 732s 16ms/step - loss: 1.5036 - val_loss: 1.9281\n",
      "Epoch 14/40\n",
      "44800/44800 [==============================] - 2988s 67ms/step - loss: 1.3839 - val_loss: 1.8841\n",
      "Epoch 15/40\n",
      "44800/44800 [==============================] - 28449s 635ms/step - loss: 1.2708 - val_loss: 1.8229\n",
      "Epoch 16/40\n",
      "44800/44800 [==============================] - 10431s 233ms/step - loss: 1.1614 - val_loss: 1.7843\n",
      "Epoch 17/40\n",
      "44800/44800 [==============================] - 719s 16ms/step - loss: 1.0629 - val_loss: 1.7659\n",
      "Epoch 18/40\n",
      "44800/44800 [==============================] - 718s 16ms/step - loss: 0.9685 - val_loss: 1.7260\n",
      "Epoch 19/40\n",
      "44800/44800 [==============================] - 719s 16ms/step - loss: 0.8797 - val_loss: 1.7115\n",
      "Epoch 20/40\n",
      "44800/44800 [==============================] - 722s 16ms/step - loss: 0.7950 - val_loss: 1.6873\n",
      "Epoch 21/40\n",
      "44800/44800 [==============================] - 724s 16ms/step - loss: 0.7173 - val_loss: 1.6556\n",
      "Epoch 22/40\n",
      "44800/44800 [==============================] - 718s 16ms/step - loss: 0.6443 - val_loss: 1.6377\n",
      "Epoch 23/40\n",
      "44800/44800 [==============================] - 740s 17ms/step - loss: 0.5804 - val_loss: 1.6224\n",
      "Epoch 24/40\n",
      "44800/44800 [==============================] - 721s 16ms/step - loss: 0.5157 - val_loss: 1.6278\n",
      "Epoch 25/40\n",
      "44800/44800 [==============================] - 734s 16ms/step - loss: 0.4599 - val_loss: 1.6357\n",
      "Epoch 00025: early stopping\n"
     ]
    }
   ],
   "source": [
    "filename = 'model.h1.24_jan_19'\n",
    "\n",
    "checkpoint = EarlyStopping(monitor='val_loss', patience=2, verbose=1, mode='min') #verbose 1 -> Para que pinte los cambios\n",
    "                                            # Evitar overfitting\n",
    "history = model3.fit(trainX, trainY.reshape(trainY.shape[0], trainY.shape[1], 1), \n",
    "          epochs=40, batch_size=1024, #Duplico el batch size y hago más pequeño el learning rate\n",
    "          validation_split = 0.2,\n",
    "          callbacks=[checkpoint], verbose=1)"
   ]
  },
  {
   "cell_type": "code",
   "execution_count": 75,
   "metadata": {},
   "outputs": [
    {
     "data": {
      "image/png": "[encoded data removed]",
      "text/plain": [
       "<Figure size 432x288 with 1 Axes>"
      ]
     },
     "metadata": {
      "needs_background": "light"
     },
     "output_type": "display_data"
    }
   ],
   "source": [
    "plt.plot(history.history['loss'])\n",
    "plt.plot(history.history['val_loss'])\n",
    "plt.legend(['train','validation'])\n",
    "plt.show()"
   ]
  },
  {
   "cell_type": "markdown",
   "metadata": {},
   "source": [
    "### Make Predictions"
   ]
  },
  {
   "cell_type": "markdown",
   "metadata": {},
   "source": [
    "Let's load the saved model to make predictions."
   ]
  },
  {
   "cell_type": "code",
   "execution_count": 66,
   "metadata": {},
   "outputs": [],
   "source": [
    "#model = load_model('model.h1.24_jan_19')\n",
    "preds = model3.predict_classes(testX.reshape((testX.shape[0],testX.shape[1])))"
   ]
  },
  {
   "cell_type": "code",
   "execution_count": 67,
   "metadata": {},
   "outputs": [],
   "source": [
    "def get_word(n, tokenizer):\n",
    "    for word, index in tokenizer.word_index.items():\n",
    "        if index == n:\n",
    "            return word\n",
    "    return None"
   ]
  },
  {
   "cell_type": "code",
   "execution_count": 68,
   "metadata": {},
   "outputs": [],
   "source": [
    "# convert predictions into text (English)\n",
    "preds_text = []\n",
    "for i in preds:\n",
    "    temp = []\n",
    "    for j in range(len(i)):\n",
    "        t = get_word(i[j], eng_tokenizer)\n",
    "        if j > 0:\n",
    "            if (t == get_word(i[j-1], eng_tokenizer)) or (t == None):\n",
    "                temp.append('')\n",
    "            else:\n",
    "                temp.append(t)\n",
    "             \n",
    "        else:\n",
    "            if(t == None):\n",
    "                temp.append('')\n",
    "            else:\n",
    "                temp.append(t)            \n",
    "        \n",
    "    preds_text.append(' '.join(temp))"
   ]
  },
  {
   "cell_type": "code",
   "execution_count": 69,
   "metadata": {},
   "outputs": [],
   "source": [
    "pred_df = pd.DataFrame({'actual' : test[:,0], 'predicted' : preds_text})"
   ]
  },
  {
   "cell_type": "code",
   "execution_count": 70,
   "metadata": {},
   "outputs": [],
   "source": [
    "pd.set_option('display.max_colwidth', 200)"
   ]
  },
  {
   "cell_type": "code",
   "execution_count": 71,
   "metadata": {},
   "outputs": [
    {
     "data": {
      "text/html": [
       "<div>\n",
       "<style scoped>\n",
       "    .dataframe tbody tr th:only-of-type {\n",
       "        vertical-align: middle;\n",
       "    }\n",
       "\n",
       "    .dataframe tbody tr th {\n",
       "        vertical-align: top;\n",
       "    }\n",
       "\n",
       "    .dataframe thead th {\n",
       "        text-align: right;\n",
       "    }\n",
       "</style>\n",
       "<table border=\"1\" class=\"dataframe\">\n",
       "  <thead>\n",
       "    <tr style=\"text-align: right;\">\n",
       "      <th></th>\n",
       "      <th>actual</th>\n",
       "      <th>predicted</th>\n",
       "    </tr>\n",
       "  </thead>\n",
       "  <tbody>\n",
       "    <tr>\n",
       "      <th>0</th>\n",
       "      <td>this house is famous</td>\n",
       "      <td>this house is quiet</td>\n",
       "    </tr>\n",
       "    <tr>\n",
       "      <th>1</th>\n",
       "      <td>why was tom fired</td>\n",
       "      <td>why did tom do of job</td>\n",
       "    </tr>\n",
       "    <tr>\n",
       "      <th>2</th>\n",
       "      <td>tom took off his shoes</td>\n",
       "      <td>tom put out his shoes</td>\n",
       "    </tr>\n",
       "    <tr>\n",
       "      <th>3</th>\n",
       "      <td>do you have guests for dinner</td>\n",
       "      <td>do you have other</td>\n",
       "    </tr>\n",
       "    <tr>\n",
       "      <th>4</th>\n",
       "      <td>history tends to repeat itself</td>\n",
       "      <td>the story needs to more</td>\n",
       "    </tr>\n",
       "    <tr>\n",
       "      <th>5</th>\n",
       "      <td>tom usually keeps appointments</td>\n",
       "      <td>tom should packed his</td>\n",
       "    </tr>\n",
       "    <tr>\n",
       "      <th>6</th>\n",
       "      <td>dont beat around the bush</td>\n",
       "      <td>dont beat around the bush</td>\n",
       "    </tr>\n",
       "    <tr>\n",
       "      <th>7</th>\n",
       "      <td>stop being nosey</td>\n",
       "      <td>stop to</td>\n",
       "    </tr>\n",
       "    <tr>\n",
       "      <th>8</th>\n",
       "      <td>i seem to have lost my purse</td>\n",
       "      <td>i had to my</td>\n",
       "    </tr>\n",
       "    <tr>\n",
       "      <th>9</th>\n",
       "      <td>he isnt perfect</td>\n",
       "      <td>its not perfect</td>\n",
       "    </tr>\n",
       "    <tr>\n",
       "      <th>10</th>\n",
       "      <td>im going to sleep here</td>\n",
       "      <td>im going to</td>\n",
       "    </tr>\n",
       "    <tr>\n",
       "      <th>11</th>\n",
       "      <td>the tall man left in a hurry</td>\n",
       "      <td>the man died a demolished</td>\n",
       "    </tr>\n",
       "    <tr>\n",
       "      <th>12</th>\n",
       "      <td>they were lucky</td>\n",
       "      <td>they been</td>\n",
       "    </tr>\n",
       "    <tr>\n",
       "      <th>13</th>\n",
       "      <td>who broke this</td>\n",
       "      <td>who broke</td>\n",
       "    </tr>\n",
       "    <tr>\n",
       "      <th>14</th>\n",
       "      <td>hes so cute</td>\n",
       "      <td>hes is too</td>\n",
       "    </tr>\n",
       "  </tbody>\n",
       "</table>\n",
       "</div>"
      ],
      "text/plain": [
       "                            actual                      predicted\n",
       "0             this house is famous       this house is quiet     \n",
       "1                why was tom fired       why did tom do of job   \n",
       "2           tom took off his shoes      tom put out his shoes    \n",
       "3    do you have guests for dinner         do you have other     \n",
       "4   history tends to repeat itself    the story needs to more    \n",
       "5   tom usually keeps appointments     tom should packed his     \n",
       "6        dont beat around the bush  dont beat around the bush    \n",
       "7                 stop being nosey                 stop to       \n",
       "8     i seem to have lost my purse               i had to my     \n",
       "9                  he isnt perfect          its not perfect      \n",
       "10          im going to sleep here              im going to      \n",
       "11    the tall man left in a hurry  the man died a demolished    \n",
       "12                 they were lucky               they been       \n",
       "13                  who broke this               who broke       \n",
       "14                     hes so cute               hes is too      "
      ]
     },
     "execution_count": 71,
     "metadata": {},
     "output_type": "execute_result"
    }
   ],
   "source": [
    "pred_df.head(15)"
   ]
  },
  {
   "cell_type": "code",
   "execution_count": 72,
   "metadata": {},
   "outputs": [
    {
     "data": {
      "text/html": [
       "<div>\n",
       "<style scoped>\n",
       "    .dataframe tbody tr th:only-of-type {\n",
       "        vertical-align: middle;\n",
       "    }\n",
       "\n",
       "    .dataframe tbody tr th {\n",
       "        vertical-align: top;\n",
       "    }\n",
       "\n",
       "    .dataframe thead th {\n",
       "        text-align: right;\n",
       "    }\n",
       "</style>\n",
       "<table border=\"1\" class=\"dataframe\">\n",
       "  <thead>\n",
       "    <tr style=\"text-align: right;\">\n",
       "      <th></th>\n",
       "      <th>actual</th>\n",
       "      <th>predicted</th>\n",
       "    </tr>\n",
       "  </thead>\n",
       "  <tbody>\n",
       "    <tr>\n",
       "      <th>13985</th>\n",
       "      <td>its a simple job</td>\n",
       "      <td>its a job</td>\n",
       "    </tr>\n",
       "    <tr>\n",
       "      <th>13986</th>\n",
       "      <td>her hair is wet with sweat</td>\n",
       "      <td>her hair is full of</td>\n",
       "    </tr>\n",
       "    <tr>\n",
       "      <th>13987</th>\n",
       "      <td>i cant understand</td>\n",
       "      <td>i cant understand it</td>\n",
       "    </tr>\n",
       "    <tr>\n",
       "      <th>13988</th>\n",
       "      <td>i agree with him so do i</td>\n",
       "      <td>i agree with him</td>\n",
       "    </tr>\n",
       "    <tr>\n",
       "      <th>13989</th>\n",
       "      <td>the painter died young</td>\n",
       "      <td>his wife died young</td>\n",
       "    </tr>\n",
       "    <tr>\n",
       "      <th>13990</th>\n",
       "      <td>warn tom</td>\n",
       "      <td>tom</td>\n",
       "    </tr>\n",
       "    <tr>\n",
       "      <th>13991</th>\n",
       "      <td>everybody was looking for tom</td>\n",
       "      <td>everyone but tom</td>\n",
       "    </tr>\n",
       "    <tr>\n",
       "      <th>13992</th>\n",
       "      <td>i love that movie</td>\n",
       "      <td>i like that movie</td>\n",
       "    </tr>\n",
       "    <tr>\n",
       "      <th>13993</th>\n",
       "      <td>tom put up his umbrella</td>\n",
       "      <td>tom opened his offer</td>\n",
       "    </tr>\n",
       "    <tr>\n",
       "      <th>13994</th>\n",
       "      <td>they live nearby</td>\n",
       "      <td>they live peace</td>\n",
       "    </tr>\n",
       "    <tr>\n",
       "      <th>13995</th>\n",
       "      <td>tom backed up his data</td>\n",
       "      <td>tom made a sip for</td>\n",
       "    </tr>\n",
       "    <tr>\n",
       "      <th>13996</th>\n",
       "      <td>i have gained weight</td>\n",
       "      <td>ive gained weight</td>\n",
       "    </tr>\n",
       "    <tr>\n",
       "      <th>13997</th>\n",
       "      <td>i wish i earned more money</td>\n",
       "      <td>id like to  more money</td>\n",
       "    </tr>\n",
       "    <tr>\n",
       "      <th>13998</th>\n",
       "      <td>both tom and mary thanked john</td>\n",
       "      <td>tom and mary both john</td>\n",
       "    </tr>\n",
       "    <tr>\n",
       "      <th>13999</th>\n",
       "      <td>my house is on a hill</td>\n",
       "      <td>my house is in  the</td>\n",
       "    </tr>\n",
       "  </tbody>\n",
       "</table>\n",
       "</div>"
      ],
      "text/plain": [
       "                               actual                   predicted\n",
       "13985                its a simple job             its a job      \n",
       "13986      her hair is wet with sweat     her hair is full of    \n",
       "13987               i cant understand   i cant understand it     \n",
       "13988        i agree with him so do i       i agree with him     \n",
       "13989          the painter died young    his wife died young     \n",
       "13990                        warn tom                 tom        \n",
       "13991   everybody was looking for tom      everyone but tom      \n",
       "13992               i love that movie      i like that movie     \n",
       "13993         tom put up his umbrella   tom opened his offer     \n",
       "13994                they live nearby       they live peace      \n",
       "13995          tom backed up his data      tom made a sip for    \n",
       "13996            i have gained weight     ive gained weight      \n",
       "13997      i wish i earned more money   id like to  more money   \n",
       "13998  both tom and mary thanked john  tom and mary both john    \n",
       "13999           my house is on a hill      my house is in  the   "
      ]
     },
     "execution_count": 72,
     "metadata": {},
     "output_type": "execute_result"
    }
   ],
   "source": [
    "pred_df.tail(15)"
   ]
  },
  {
   "cell_type": "code",
   "execution_count": 73,
   "metadata": {},
   "outputs": [
    {
     "data": {
      "text/html": [
       "<div>\n",
       "<style scoped>\n",
       "    .dataframe tbody tr th:only-of-type {\n",
       "        vertical-align: middle;\n",
       "    }\n",
       "\n",
       "    .dataframe tbody tr th {\n",
       "        vertical-align: top;\n",
       "    }\n",
       "\n",
       "    .dataframe thead th {\n",
       "        text-align: right;\n",
       "    }\n",
       "</style>\n",
       "<table border=\"1\" class=\"dataframe\">\n",
       "  <thead>\n",
       "    <tr style=\"text-align: right;\">\n",
       "      <th></th>\n",
       "      <th>actual</th>\n",
       "      <th>predicted</th>\n",
       "    </tr>\n",
       "  </thead>\n",
       "  <tbody>\n",
       "    <tr>\n",
       "      <th>13985</th>\n",
       "      <td>its a simple job</td>\n",
       "      <td>its a job</td>\n",
       "    </tr>\n",
       "    <tr>\n",
       "      <th>13986</th>\n",
       "      <td>her hair is wet with sweat</td>\n",
       "      <td>her hair is full of</td>\n",
       "    </tr>\n",
       "    <tr>\n",
       "      <th>13987</th>\n",
       "      <td>i cant understand</td>\n",
       "      <td>i cant understand it</td>\n",
       "    </tr>\n",
       "    <tr>\n",
       "      <th>13988</th>\n",
       "      <td>i agree with him so do i</td>\n",
       "      <td>i agree with him</td>\n",
       "    </tr>\n",
       "    <tr>\n",
       "      <th>13989</th>\n",
       "      <td>the painter died young</td>\n",
       "      <td>his wife died young</td>\n",
       "    </tr>\n",
       "    <tr>\n",
       "      <th>13990</th>\n",
       "      <td>warn tom</td>\n",
       "      <td>tom</td>\n",
       "    </tr>\n",
       "    <tr>\n",
       "      <th>13991</th>\n",
       "      <td>everybody was looking for tom</td>\n",
       "      <td>everyone but tom</td>\n",
       "    </tr>\n",
       "    <tr>\n",
       "      <th>13992</th>\n",
       "      <td>i love that movie</td>\n",
       "      <td>i like that movie</td>\n",
       "    </tr>\n",
       "    <tr>\n",
       "      <th>13993</th>\n",
       "      <td>tom put up his umbrella</td>\n",
       "      <td>tom opened his offer</td>\n",
       "    </tr>\n",
       "    <tr>\n",
       "      <th>13994</th>\n",
       "      <td>they live nearby</td>\n",
       "      <td>they live peace</td>\n",
       "    </tr>\n",
       "    <tr>\n",
       "      <th>13995</th>\n",
       "      <td>tom backed up his data</td>\n",
       "      <td>tom made a sip for</td>\n",
       "    </tr>\n",
       "    <tr>\n",
       "      <th>13996</th>\n",
       "      <td>i have gained weight</td>\n",
       "      <td>ive gained weight</td>\n",
       "    </tr>\n",
       "    <tr>\n",
       "      <th>13997</th>\n",
       "      <td>i wish i earned more money</td>\n",
       "      <td>id like to  more money</td>\n",
       "    </tr>\n",
       "    <tr>\n",
       "      <th>13998</th>\n",
       "      <td>both tom and mary thanked john</td>\n",
       "      <td>tom and mary both john</td>\n",
       "    </tr>\n",
       "    <tr>\n",
       "      <th>13999</th>\n",
       "      <td>my house is on a hill</td>\n",
       "      <td>my house is in  the</td>\n",
       "    </tr>\n",
       "  </tbody>\n",
       "</table>\n",
       "</div>"
      ],
      "text/plain": [
       "                               actual                   predicted\n",
       "13985                its a simple job             its a job      \n",
       "13986      her hair is wet with sweat     her hair is full of    \n",
       "13987               i cant understand   i cant understand it     \n",
       "13988        i agree with him so do i       i agree with him     \n",
       "13989          the painter died young    his wife died young     \n",
       "13990                        warn tom                 tom        \n",
       "13991   everybody was looking for tom      everyone but tom      \n",
       "13992               i love that movie      i like that movie     \n",
       "13993         tom put up his umbrella   tom opened his offer     \n",
       "13994                they live nearby       they live peace      \n",
       "13995          tom backed up his data      tom made a sip for    \n",
       "13996            i have gained weight     ive gained weight      \n",
       "13997      i wish i earned more money   id like to  more money   \n",
       "13998  both tom and mary thanked john  tom and mary both john    \n",
       "13999           my house is on a hill      my house is in  the   "
      ]
     },
     "execution_count": 73,
     "metadata": {},
     "output_type": "execute_result"
    }
   ],
   "source": [
    "pred_df.tail(15)"
   ]
  },
  {
   "cell_type": "code",
   "execution_count": 74,
   "metadata": {
    "scrolled": false
   },
   "outputs": [
    {
     "data": {
      "text/html": [
       "<div>\n",
       "<style scoped>\n",
       "    .dataframe tbody tr th:only-of-type {\n",
       "        vertical-align: middle;\n",
       "    }\n",
       "\n",
       "    .dataframe tbody tr th {\n",
       "        vertical-align: top;\n",
       "    }\n",
       "\n",
       "    .dataframe thead th {\n",
       "        text-align: right;\n",
       "    }\n",
       "</style>\n",
       "<table border=\"1\" class=\"dataframe\">\n",
       "  <thead>\n",
       "    <tr style=\"text-align: right;\">\n",
       "      <th></th>\n",
       "      <th>actual</th>\n",
       "      <th>predicted</th>\n",
       "    </tr>\n",
       "  </thead>\n",
       "  <tbody>\n",
       "    <tr>\n",
       "      <th>6375</th>\n",
       "      <td>its my turn now</td>\n",
       "      <td>its  my turn</td>\n",
       "    </tr>\n",
       "    <tr>\n",
       "      <th>4170</th>\n",
       "      <td>i dont feel like doing it</td>\n",
       "      <td>i dont mind nor it do</td>\n",
       "    </tr>\n",
       "    <tr>\n",
       "      <th>11606</th>\n",
       "      <td>im just killing time</td>\n",
       "      <td>im just the  time</td>\n",
       "    </tr>\n",
       "    <tr>\n",
       "      <th>8337</th>\n",
       "      <td>she can speak spanish</td>\n",
       "      <td>can  speak to</td>\n",
       "    </tr>\n",
       "    <tr>\n",
       "      <th>11557</th>\n",
       "      <td>i missed you today</td>\n",
       "      <td>i  you today</td>\n",
       "    </tr>\n",
       "    <tr>\n",
       "      <th>3096</th>\n",
       "      <td>these are toms ski boots</td>\n",
       "      <td>these are toms</td>\n",
       "    </tr>\n",
       "    <tr>\n",
       "      <th>8624</th>\n",
       "      <td>what year were you born</td>\n",
       "      <td>what year were you born</td>\n",
       "    </tr>\n",
       "    <tr>\n",
       "      <th>12121</th>\n",
       "      <td>im a normal girl</td>\n",
       "      <td>im a boy</td>\n",
       "    </tr>\n",
       "    <tr>\n",
       "      <th>7067</th>\n",
       "      <td>lets leave early</td>\n",
       "      <td>lets eat later</td>\n",
       "    </tr>\n",
       "    <tr>\n",
       "      <th>10133</th>\n",
       "      <td>tom was like a father to mary</td>\n",
       "      <td>tom was like  mary</td>\n",
       "    </tr>\n",
       "    <tr>\n",
       "      <th>3023</th>\n",
       "      <td>i showed him whos boss</td>\n",
       "      <td>i showed him who the name</td>\n",
       "    </tr>\n",
       "    <tr>\n",
       "      <th>8709</th>\n",
       "      <td>do you have a cough</td>\n",
       "      <td>do you have a</td>\n",
       "    </tr>\n",
       "    <tr>\n",
       "      <th>13360</th>\n",
       "      <td>you will all die</td>\n",
       "      <td>all</td>\n",
       "    </tr>\n",
       "    <tr>\n",
       "      <th>10566</th>\n",
       "      <td>where are you guys</td>\n",
       "      <td>where are you</td>\n",
       "    </tr>\n",
       "    <tr>\n",
       "      <th>1864</th>\n",
       "      <td>they set out on a picnic</td>\n",
       "      <td>they went into a picnic</td>\n",
       "    </tr>\n",
       "  </tbody>\n",
       "</table>\n",
       "</div>"
      ],
      "text/plain": [
       "                              actual                     predicted\n",
       "6375                 its my turn now             its  my turn     \n",
       "4170       i dont feel like doing it      i dont mind nor it do   \n",
       "11606           im just killing time         im just the  time    \n",
       "8337           she can speak spanish            can  speak to     \n",
       "11557             i missed you today             i  you today     \n",
       "3096        these are toms ski boots          these are toms      \n",
       "8624         what year were you born   what year were you born    \n",
       "12121               im a normal girl                im a boy      \n",
       "7067                lets leave early          lets eat later      \n",
       "10133  tom was like a father to mary        tom was like  mary    \n",
       "3023          i showed him whos boss  i showed him who the name   \n",
       "8709             do you have a cough            do you have a     \n",
       "13360               you will all die                   all        \n",
       "10566             where are you guys           where are you      \n",
       "1864        they set out on a picnic   they went into a picnic    "
      ]
     },
     "execution_count": 74,
     "metadata": {},
     "output_type": "execute_result"
    }
   ],
   "source": [
    "pred_df.sample(15)"
   ]
  },
  {
   "cell_type": "markdown",
   "metadata": {},
   "source": [
    "# Trying another models\n",
    "## Simple RNN model"
   ]
  },
  {
   "cell_type": "markdown",
   "metadata": {},
   "source": [
    "### Read Data"
   ]
  },
  {
   "cell_type": "code",
   "execution_count": 6,
   "metadata": {},
   "outputs": [],
   "source": [
    "data = read_text(\"spa-eng/spa.txt\")\n",
    "spa_eng = to_lines(data)\n",
    "spa_eng = array(spa_eng)"
   ]
  },
  {
   "cell_type": "code",
   "execution_count": 7,
   "metadata": {},
   "outputs": [
    {
     "data": {
      "text/plain": [
       "123770"
      ]
     },
     "execution_count": 7,
     "metadata": {},
     "output_type": "execute_result"
    }
   ],
   "source": [
    "len(spa_eng)"
   ]
  },
  {
   "cell_type": "code",
   "execution_count": 8,
   "metadata": {},
   "outputs": [],
   "source": [
    "spa_eng = spa_eng[:120000,:]"
   ]
  },
  {
   "cell_type": "code",
   "execution_count": 9,
   "metadata": {},
   "outputs": [
    {
     "data": {
      "text/plain": [
       "array(['Fill out this form, please.',\n",
       "       'Rellene este formulario, por favor.',\n",
       "       'CC-BY 2.0 (France) Attribution: tatoeba.org #58537 (CK) & #737938 (Shishir)'],\n",
       "      dtype='<U278')"
      ]
     },
     "execution_count": 9,
     "metadata": {},
     "output_type": "execute_result"
    }
   ],
   "source": [
    "spa_eng[50000]"
   ]
  },
  {
   "cell_type": "markdown",
   "metadata": {},
   "source": [
    "### Text Pre-Processing"
   ]
  },
  {
   "cell_type": "code",
   "execution_count": 10,
   "metadata": {},
   "outputs": [],
   "source": [
    "# Remove punctuation\n",
    "spa_eng[:,0] = [s.translate(str.maketrans('', '', string.punctuation)) for s in spa_eng[:,0]]\n",
    "spa_eng[:,1] = [s.translate(str.maketrans('', '', string.punctuation)) for s in spa_eng[:,1]]"
   ]
  },
  {
   "cell_type": "code",
   "execution_count": 11,
   "metadata": {},
   "outputs": [],
   "source": [
    "spa_eng[:,0] = [re.sub('¡|¿','',s) for s in spa_eng[:,0]]\n",
    "spa_eng[:,1] = [re.sub('¡|¿','',s) for s in spa_eng[:,1]]"
   ]
  },
  {
   "cell_type": "code",
   "execution_count": 12,
   "metadata": {
    "scrolled": true
   },
   "outputs": [],
   "source": [
    "# convert to lowercase\n",
    "for i in range(len(spa_eng)):\n",
    "    spa_eng[i,0] = spa_eng[i,0].lower()\n",
    "    spa_eng[i,1] = spa_eng[i,1].lower()"
   ]
  },
  {
   "cell_type": "code",
   "execution_count": 13,
   "metadata": {},
   "outputs": [],
   "source": [
    "# empty lists\n",
    "spa_l = []\n",
    "eng_l = []\n",
    "\n",
    "# populate the lists with sentence lengths\n",
    "for i in spa_eng[:,1]: # Las frases en español están en la segunda columna\n",
    "    spa_l.append(len(i.split()))\n",
    "\n",
    "for i in spa_eng[:,0]:\n",
    "    eng_l.append(len(i.split()))"
   ]
  },
  {
   "cell_type": "code",
   "execution_count": 14,
   "metadata": {},
   "outputs": [
    {
     "name": "stdout",
     "output_type": "stream",
     "text": [
      "        spa  eng\n",
      "0         1    1\n",
      "1         1    1\n",
      "2         1    1\n",
      "3         1    1\n",
      "4         1    1\n",
      "...     ...  ...\n",
      "119995   10   11\n",
      "119996   12   14\n",
      "119997   11   13\n",
      "119998   15   14\n",
      "119999   11   12\n",
      "\n",
      "[120000 rows x 2 columns]\n",
      "20\n",
      "15\n"
     ]
    }
   ],
   "source": [
    "length_df = pd.DataFrame({'spa':spa_l, 'eng':eng_l})\n",
    "print(length_df)\n",
    "print(max(length_df.spa))\n",
    "print(max(length_df.eng))"
   ]
  },
  {
   "cell_type": "code",
   "execution_count": 15,
   "metadata": {},
   "outputs": [
    {
     "data": {
      "image/png": "[encoded data removed]",
      "text/plain": [
       "<Figure size 432x288 with 2 Axes>"
      ]
     },
     "metadata": {
      "needs_background": "light"
     },
     "output_type": "display_data"
    }
   ],
   "source": [
    "length_df.hist(bins = 30)\n",
    "plt.show()"
   ]
  },
  {
   "cell_type": "code",
   "execution_count": 16,
   "metadata": {},
   "outputs": [],
   "source": [
    "# function to build a tokenizer\n",
    "def tokenization(lines):\n",
    "    tokenizer = Tokenizer()\n",
    "    tokenizer.fit_on_texts(lines)\n",
    "    return tokenizer"
   ]
  },
  {
   "cell_type": "code",
   "execution_count": 19,
   "metadata": {},
   "outputs": [
    {
     "name": "stdout",
     "output_type": "stream",
     "text": [
      "English Vocabulary Size: 12986\n"
     ]
    }
   ],
   "source": [
    "# prepare english tokenizer\n",
    "eng_tokenizer = tokenization(spa_eng[:, 0])\n",
    "eng_vocab_size = len(eng_tokenizer.word_index) + 1\n",
    "\n",
    "eng_length = 4 #Voy a coger las más cortas\n",
    "print('English Vocabulary Size: %d' % eng_vocab_size)"
   ]
  },
  {
   "cell_type": "code",
   "execution_count": 20,
   "metadata": {
    "scrolled": true
   },
   "outputs": [
    {
     "name": "stdout",
     "output_type": "stream",
     "text": [
      "Spanish Vocabulary Size: 25261\n"
     ]
    }
   ],
   "source": [
    "# prepare spanish tokenizer\n",
    "spa_tokenizer = tokenization(spa_eng[:, 1])\n",
    "spa_vocab_size = len(spa_tokenizer.word_index) + 1\n",
    "\n",
    "spa_length = 4 #Quiero más cortas\n",
    "print('Spanish Vocabulary Size: %d' % spa_vocab_size)"
   ]
  },
  {
   "cell_type": "markdown",
   "metadata": {},
   "source": [
    "### Model Building"
   ]
  },
  {
   "cell_type": "code",
   "execution_count": 24,
   "metadata": {},
   "outputs": [],
   "source": [
    "train, test = train_test_split(spa_eng, test_size=0.2, random_state = 12)"
   ]
  },
  {
   "cell_type": "code",
   "execution_count": 27,
   "metadata": {},
   "outputs": [
    {
     "name": "stdout",
     "output_type": "stream",
     "text": [
      "[[  309 10376     9  2534]\n",
      " [ 8705     4    28   281]\n",
      " [ 8706     9    20   448]\n",
      " ...\n",
      " [   11  6148     7   814]\n",
      " [    9     7   162   551]\n",
      " [  174  1744    10   105]]\n",
      "96000\n",
      "[[  84 2724    9 2188]\n",
      " [6687 4183   36  354]\n",
      " [  31  223  479    4]\n",
      " ...\n",
      " [   4  449   17  710]\n",
      " [   9    2  279  568]\n",
      " [   3  616    6  307]]\n",
      "96000\n"
     ]
    }
   ],
   "source": [
    "# prepare training data\n",
    "trainX = encode_sequences(spa_tokenizer, spa_length, train[:, 1])\n",
    "trainY = encode_sequences(eng_tokenizer, eng_length, train[:, 0])"
   ]
  },
  {
   "cell_type": "code",
   "execution_count": 28,
   "metadata": {},
   "outputs": [
    {
     "name": "stdout",
     "output_type": "stream",
     "text": [
      "(96000, 4)\n",
      "(96000, 4)\n"
     ]
    }
   ],
   "source": [
    "print(trainX.shape)\n",
    "print(trainY.shape)"
   ]
  },
  {
   "cell_type": "code",
   "execution_count": 29,
   "metadata": {},
   "outputs": [
    {
     "name": "stdout",
     "output_type": "stream",
     "text": [
      "[[10256    22 24782 24783]\n",
      " [ 1809   252   204   152]\n",
      " [    2  6780    42     0]\n",
      " ...\n",
      " [    6   195     1     5]\n",
      " [   55  7110    20   175]\n",
      " [ 2621     4    28   256]]\n",
      "24000\n",
      "[[   32    63  6817 12719]\n",
      " [ 1290    19   124   325]\n",
      " [   20   715    53     0]\n",
      " ...\n",
      " [  928    29   136    83]\n",
      " [    4   535    26   135]\n",
      " [    3  3831    36   113]]\n",
      "24000\n"
     ]
    }
   ],
   "source": [
    "# prepare validation data\n",
    "testX = encode_sequences(spa_tokenizer, spa_length, test[:, 1])\n",
    "testY = encode_sequences(eng_tokenizer, eng_length, test[:, 0])"
   ]
  },
  {
   "cell_type": "code",
   "execution_count": 30,
   "metadata": {},
   "outputs": [
    {
     "name": "stdout",
     "output_type": "stream",
     "text": [
      "(24000, 4)\n",
      "(24000, 4)\n"
     ]
    }
   ],
   "source": [
    "print(testX.shape)\n",
    "print(testY.shape)"
   ]
  },
  {
   "cell_type": "markdown",
   "metadata": {},
   "source": [
    "Vamos a rellenar estas secuencias con ceros para hacer todas las secuencias de la misma longitud."
   ]
  },
  {
   "cell_type": "code",
   "execution_count": 64,
   "metadata": {},
   "outputs": [],
   "source": [
    "from keras.models import Sequential\n",
    "from keras.layers import Embedding, SimpleRNN\n",
    "from keras.layers import Dense\n",
    "\n",
    "# build NMT model\n",
    "def build_model(in_vocab, out_vocab, in_timesteps, out_timesteps, units):\n",
    "    model = Sequential()\n",
    "    model.add(Embedding(in_vocab, units, input_length=in_timesteps, mask_zero=False)) #False -> RNN\n",
    "    model.add(SimpleRNN(units, return_sequences=True)) # No es bueno para secuencias largas # out/in timesteps\n",
    "    model.add(Dense(out_vocab, activation='softmax'))\n",
    "    return model"
   ]
  },
  {
   "cell_type": "code",
   "execution_count": 65,
   "metadata": {},
   "outputs": [],
   "source": [
    "model4 = build_model(spa_vocab_size, eng_vocab_size, spa_length, eng_length, 512)\n",
    "rms = optimizers.RMSprop(lr=0.001)\n",
    "model4.compile(optimizer=rms, loss='sparse_categorical_crossentropy')"
   ]
  },
  {
   "cell_type": "code",
   "execution_count": 66,
   "metadata": {
    "scrolled": false
   },
   "outputs": [
    {
     "name": "stderr",
     "output_type": "stream",
     "text": [
      "/opt/anaconda3/lib/python3.7/site-packages/tensorflow_core/python/framework/indexed_slices.py:433: UserWarning: Converting sparse IndexedSlices to a dense Tensor of unknown shape. This may consume a large amount of memory.\n",
      "  \"Converting sparse IndexedSlices to a dense Tensor of unknown shape. \"\n"
     ]
    },
    {
     "name": "stdout",
     "output_type": "stream",
     "text": [
      "Train on 76800 samples, validate on 19200 samples\n",
      "Epoch 1/100\n",
      "76800/76800 [==============================] - 276s 4ms/step - loss: 6.2308 - val_loss: 5.4055\n",
      "Epoch 2/100\n",
      "76800/76800 [==============================] - 274s 4ms/step - loss: 4.9554 - val_loss: 4.6801\n",
      "Epoch 3/100\n",
      "76800/76800 [==============================] - 272s 4ms/step - loss: 4.2811 - val_loss: 4.2294\n",
      "Epoch 4/100\n",
      "76800/76800 [==============================] - 275s 4ms/step - loss: 3.8322 - val_loss: 3.9896\n",
      "Epoch 5/100\n",
      "76800/76800 [==============================] - 265s 3ms/step - loss: 3.5203 - val_loss: 3.8269\n",
      "Epoch 6/100\n",
      "76800/76800 [==============================] - 268s 3ms/step - loss: 3.2798 - val_loss: 3.7250\n",
      "Epoch 7/100\n",
      "76800/76800 [==============================] - 268s 3ms/step - loss: 3.0842 - val_loss: 3.6556\n",
      "Epoch 8/100\n",
      "76800/76800 [==============================] - 266s 3ms/step - loss: 2.9187 - val_loss: 3.5993\n",
      "Epoch 9/100\n",
      "76800/76800 [==============================] - 265s 3ms/step - loss: 2.7739 - val_loss: 3.5681\n",
      "Epoch 10/100\n",
      "76800/76800 [==============================] - 5814s 76ms/step - loss: 2.6454 - val_loss: 3.5434\n",
      "Epoch 11/100\n",
      "76800/76800 [==============================] - 5391s 70ms/step - loss: 2.5273 - val_loss: 3.5208\n",
      "Epoch 12/100\n",
      "76800/76800 [==============================] - 7952s 104ms/step - loss: 2.4210 - val_loss: 3.5121\n",
      "Epoch 13/100\n",
      "76800/76800 [==============================] - 4918s 64ms/step - loss: 2.3242 - val_loss: 3.5054\n",
      "Epoch 14/100\n",
      "76800/76800 [==============================] - 4036s 53ms/step - loss: 2.2348 - val_loss: 3.5067\n",
      "Epoch 15/100\n",
      "76800/76800 [==============================] - 4912s 64ms/step - loss: 2.1544 - val_loss: 3.5095\n",
      "Epoch 00015: early stopping\n"
     ]
    }
   ],
   "source": [
    "checkpoint = EarlyStopping(monitor='val_loss', patience=2, verbose=1, mode='min') \n",
    "                                            # Evitar overfitting\n",
    "history4 = model4.fit(trainX, trainY.reshape(trainY.shape[0], trainY.shape[1], 1), \n",
    "          epochs=100, batch_size=512, \n",
    "          validation_split = 0.2,\n",
    "          callbacks=[checkpoint], verbose=1)"
   ]
  },
  {
   "cell_type": "code",
   "execution_count": 67,
   "metadata": {},
   "outputs": [
    {
     "data": {
      "image/png": "[encoded data removed]",
      "text/plain": [
       "<Figure size 432x288 with 1 Axes>"
      ]
     },
     "metadata": {
      "needs_background": "light"
     },
     "output_type": "display_data"
    }
   ],
   "source": [
    "plt.plot(history4.history['loss'])\n",
    "plt.plot(history4.history['val_loss'])\n",
    "plt.legend(['train','validation'])\n",
    "plt.show()"
   ]
  },
  {
   "cell_type": "markdown",
   "metadata": {},
   "source": [
    "### Make Predictions"
   ]
  },
  {
   "cell_type": "markdown",
   "metadata": {},
   "source": [
    "Let's load the saved model to make predictions."
   ]
  },
  {
   "cell_type": "code",
   "execution_count": 68,
   "metadata": {},
   "outputs": [],
   "source": [
    "#model = load_model('model.h1.24_jan_19')\n",
    "preds = model4.predict_classes(testX.reshape((testX.shape[0],testX.shape[1])))"
   ]
  },
  {
   "cell_type": "code",
   "execution_count": 69,
   "metadata": {},
   "outputs": [],
   "source": [
    "# convert predictions into text (English)\n",
    "preds_text = []\n",
    "for i in preds:\n",
    "    temp = []\n",
    "    for j in range(len(i)):\n",
    "        t = get_word(i[j], eng_tokenizer)\n",
    "        if j > 0:\n",
    "            if (t == get_word(i[j-1], eng_tokenizer)) or (t == None):\n",
    "                temp.append('')\n",
    "            else:\n",
    "                temp.append(t)\n",
    "             \n",
    "        else:\n",
    "            if(t == None):\n",
    "                temp.append('')\n",
    "            else:\n",
    "                temp.append(t)            \n",
    "        \n",
    "    preds_text.append(' '.join(temp))"
   ]
  },
  {
   "cell_type": "code",
   "execution_count": 70,
   "metadata": {},
   "outputs": [],
   "source": [
    "pred_df = pd.DataFrame({'actual' : test[:,0], 'predicted' : preds_text})"
   ]
  },
  {
   "cell_type": "code",
   "execution_count": 71,
   "metadata": {},
   "outputs": [],
   "source": [
    "pd.set_option('display.max_colwidth', 200)"
   ]
  },
  {
   "cell_type": "code",
   "execution_count": 72,
   "metadata": {},
   "outputs": [
    {
     "data": {
      "text/html": [
       "<div>\n",
       "<style scoped>\n",
       "    .dataframe tbody tr th:only-of-type {\n",
       "        vertical-align: middle;\n",
       "    }\n",
       "\n",
       "    .dataframe tbody tr th {\n",
       "        vertical-align: top;\n",
       "    }\n",
       "\n",
       "    .dataframe thead th {\n",
       "        text-align: right;\n",
       "    }\n",
       "</style>\n",
       "<table border=\"1\" class=\"dataframe\">\n",
       "  <thead>\n",
       "    <tr style=\"text-align: right;\">\n",
       "      <th></th>\n",
       "      <th>actual</th>\n",
       "      <th>predicted</th>\n",
       "    </tr>\n",
       "  </thead>\n",
       "  <tbody>\n",
       "    <tr>\n",
       "      <th>0</th>\n",
       "      <td>preserves must be stored in a jar with an airtight seal</td>\n",
       "      <td>warn with  yourself</td>\n",
       "    </tr>\n",
       "    <tr>\n",
       "      <th>1</th>\n",
       "      <td>it rained for many days</td>\n",
       "      <td>rained during many days</td>\n",
       "    </tr>\n",
       "    <tr>\n",
       "      <th>2</th>\n",
       "      <td>dont smoke here</td>\n",
       "      <td>dont smoke here</td>\n",
       "    </tr>\n",
       "    <tr>\n",
       "      <th>3</th>\n",
       "      <td>tom asked mary why she was crying</td>\n",
       "      <td>mary for you crying</td>\n",
       "    </tr>\n",
       "    <tr>\n",
       "      <th>4</th>\n",
       "      <td>tom lived on the west coast</td>\n",
       "      <td>in the third west</td>\n",
       "    </tr>\n",
       "    <tr>\n",
       "      <th>5</th>\n",
       "      <td>its amazing</td>\n",
       "      <td>thats a</td>\n",
       "    </tr>\n",
       "    <tr>\n",
       "      <th>6</th>\n",
       "      <td>why dont you wear a dress</td>\n",
       "      <td>dont been a dress</td>\n",
       "    </tr>\n",
       "    <tr>\n",
       "      <th>7</th>\n",
       "      <td>he put his head out of the window</td>\n",
       "      <td>head for the window</td>\n",
       "    </tr>\n",
       "    <tr>\n",
       "      <th>8</th>\n",
       "      <td>i know the feeling</td>\n",
       "      <td>what  he feeling</td>\n",
       "    </tr>\n",
       "    <tr>\n",
       "      <th>9</th>\n",
       "      <td>if you hadnt had my advice you would have failed</td>\n",
       "      <td>my advice  failed</td>\n",
       "    </tr>\n",
       "    <tr>\n",
       "      <th>10</th>\n",
       "      <td>im sorry i have no pencil to write with</td>\n",
       "      <td>a pencil a write</td>\n",
       "    </tr>\n",
       "    <tr>\n",
       "      <th>11</th>\n",
       "      <td>he married a very young girl</td>\n",
       "      <td>a very kind girl</td>\n",
       "    </tr>\n",
       "    <tr>\n",
       "      <th>12</th>\n",
       "      <td>i have no idea what tom ate for breakfast</td>\n",
       "      <td>what  for breakfast</td>\n",
       "    </tr>\n",
       "    <tr>\n",
       "      <th>13</th>\n",
       "      <td>tom is a new student</td>\n",
       "      <td>is a isnt student</td>\n",
       "    </tr>\n",
       "    <tr>\n",
       "      <th>14</th>\n",
       "      <td>tom said he didnt know why mary didnt like john</td>\n",
       "      <td>dont didnt like john</td>\n",
       "    </tr>\n",
       "  </tbody>\n",
       "</table>\n",
       "</div>"
      ],
      "text/plain": [
       "                                                     actual  \\\n",
       "0   preserves must be stored in a jar with an airtight seal   \n",
       "1                                   it rained for many days   \n",
       "2                                           dont smoke here   \n",
       "3                         tom asked mary why she was crying   \n",
       "4                               tom lived on the west coast   \n",
       "5                                               its amazing   \n",
       "6                                 why dont you wear a dress   \n",
       "7                         he put his head out of the window   \n",
       "8                                        i know the feeling   \n",
       "9          if you hadnt had my advice you would have failed   \n",
       "10                  im sorry i have no pencil to write with   \n",
       "11                             he married a very young girl   \n",
       "12                i have no idea what tom ate for breakfast   \n",
       "13                                     tom is a new student   \n",
       "14          tom said he didnt know why mary didnt like john   \n",
       "\n",
       "                  predicted  \n",
       "0       warn with  yourself  \n",
       "1   rained during many days  \n",
       "2          dont smoke here   \n",
       "3       mary for you crying  \n",
       "4         in the third west  \n",
       "5                 thats a    \n",
       "6         dont been a dress  \n",
       "7       head for the window  \n",
       "8          what  he feeling  \n",
       "9         my advice  failed  \n",
       "10         a pencil a write  \n",
       "11         a very kind girl  \n",
       "12      what  for breakfast  \n",
       "13        is a isnt student  \n",
       "14     dont didnt like john  "
      ]
     },
     "execution_count": 72,
     "metadata": {},
     "output_type": "execute_result"
    }
   ],
   "source": [
    "pred_df.head(15)"
   ]
  },
  {
   "cell_type": "code",
   "execution_count": 73,
   "metadata": {},
   "outputs": [
    {
     "data": {
      "text/html": [
       "<div>\n",
       "<style scoped>\n",
       "    .dataframe tbody tr th:only-of-type {\n",
       "        vertical-align: middle;\n",
       "    }\n",
       "\n",
       "    .dataframe tbody tr th {\n",
       "        vertical-align: top;\n",
       "    }\n",
       "\n",
       "    .dataframe thead th {\n",
       "        text-align: right;\n",
       "    }\n",
       "</style>\n",
       "<table border=\"1\" class=\"dataframe\">\n",
       "  <thead>\n",
       "    <tr style=\"text-align: right;\">\n",
       "      <th></th>\n",
       "      <th>actual</th>\n",
       "      <th>predicted</th>\n",
       "    </tr>\n",
       "  </thead>\n",
       "  <tbody>\n",
       "    <tr>\n",
       "      <th>23985</th>\n",
       "      <td>im waiting for my boyfriend</td>\n",
       "      <td>for  my boyfriend</td>\n",
       "    </tr>\n",
       "    <tr>\n",
       "      <th>23986</th>\n",
       "      <td>im sorry i misunderstood you</td>\n",
       "      <td>sorry to you wrong</td>\n",
       "    </tr>\n",
       "    <tr>\n",
       "      <th>23987</th>\n",
       "      <td>im going to show you how its done</td>\n",
       "      <td>how is it done</td>\n",
       "    </tr>\n",
       "    <tr>\n",
       "      <th>23988</th>\n",
       "      <td>i would rather die than disgrace myself</td>\n",
       "      <td>to wear in ridiculous</td>\n",
       "    </tr>\n",
       "    <tr>\n",
       "      <th>23989</th>\n",
       "      <td>i told you to stay put</td>\n",
       "      <td>to you stay up</td>\n",
       "    </tr>\n",
       "    <tr>\n",
       "      <th>23990</th>\n",
       "      <td>ill call them tomorrow when i come back</td>\n",
       "      <td>ill when back tomorrow</td>\n",
       "    </tr>\n",
       "    <tr>\n",
       "      <th>23991</th>\n",
       "      <td>go now</td>\n",
       "      <td>go already</td>\n",
       "    </tr>\n",
       "    <tr>\n",
       "      <th>23992</th>\n",
       "      <td>no news is good news</td>\n",
       "      <td>news  good news</td>\n",
       "    </tr>\n",
       "    <tr>\n",
       "      <th>23993</th>\n",
       "      <td>how was the weather yesterday</td>\n",
       "      <td>was on time yesterday</td>\n",
       "    </tr>\n",
       "    <tr>\n",
       "      <th>23994</th>\n",
       "      <td>i hope to hear from you soon</td>\n",
       "      <td>heard her from yourself</td>\n",
       "    </tr>\n",
       "    <tr>\n",
       "      <th>23995</th>\n",
       "      <td>my study is upstairs</td>\n",
       "      <td>in the second floor</td>\n",
       "    </tr>\n",
       "    <tr>\n",
       "      <th>23996</th>\n",
       "      <td>tom seems really scared about what might happen</td>\n",
       "      <td>to can may happen</td>\n",
       "    </tr>\n",
       "    <tr>\n",
       "      <th>23997</th>\n",
       "      <td>dont count on toms help</td>\n",
       "      <td>the help marys help</td>\n",
       "    </tr>\n",
       "    <tr>\n",
       "      <th>23998</th>\n",
       "      <td>did you clean your room</td>\n",
       "      <td>has your his room</td>\n",
       "    </tr>\n",
       "    <tr>\n",
       "      <th>23999</th>\n",
       "      <td>its impolite to stare at people</td>\n",
       "      <td>him in the people</td>\n",
       "    </tr>\n",
       "  </tbody>\n",
       "</table>\n",
       "</div>"
      ],
      "text/plain": [
       "                                                actual  \\\n",
       "23985                      im waiting for my boyfriend   \n",
       "23986                     im sorry i misunderstood you   \n",
       "23987                im going to show you how its done   \n",
       "23988          i would rather die than disgrace myself   \n",
       "23989                           i told you to stay put   \n",
       "23990          ill call them tomorrow when i come back   \n",
       "23991                                           go now   \n",
       "23992                             no news is good news   \n",
       "23993                    how was the weather yesterday   \n",
       "23994                     i hope to hear from you soon   \n",
       "23995                             my study is upstairs   \n",
       "23996  tom seems really scared about what might happen   \n",
       "23997                          dont count on toms help   \n",
       "23998                          did you clean your room   \n",
       "23999                  its impolite to stare at people   \n",
       "\n",
       "                     predicted  \n",
       "23985        for  my boyfriend  \n",
       "23986       sorry to you wrong  \n",
       "23987           how is it done  \n",
       "23988    to wear in ridiculous  \n",
       "23989           to you stay up  \n",
       "23990   ill when back tomorrow  \n",
       "23991             go already    \n",
       "23992          news  good news  \n",
       "23993    was on time yesterday  \n",
       "23994  heard her from yourself  \n",
       "23995      in the second floor  \n",
       "23996        to can may happen  \n",
       "23997      the help marys help  \n",
       "23998        has your his room  \n",
       "23999        him in the people  "
      ]
     },
     "execution_count": 73,
     "metadata": {},
     "output_type": "execute_result"
    }
   ],
   "source": [
    "pred_df.tail(15)"
   ]
  },
  {
   "cell_type": "code",
   "execution_count": 74,
   "metadata": {},
   "outputs": [
    {
     "data": {
      "text/html": [
       "<div>\n",
       "<style scoped>\n",
       "    .dataframe tbody tr th:only-of-type {\n",
       "        vertical-align: middle;\n",
       "    }\n",
       "\n",
       "    .dataframe tbody tr th {\n",
       "        vertical-align: top;\n",
       "    }\n",
       "\n",
       "    .dataframe thead th {\n",
       "        text-align: right;\n",
       "    }\n",
       "</style>\n",
       "<table border=\"1\" class=\"dataframe\">\n",
       "  <thead>\n",
       "    <tr style=\"text-align: right;\">\n",
       "      <th></th>\n",
       "      <th>actual</th>\n",
       "      <th>predicted</th>\n",
       "    </tr>\n",
       "  </thead>\n",
       "  <tbody>\n",
       "    <tr>\n",
       "      <th>23985</th>\n",
       "      <td>im waiting for my boyfriend</td>\n",
       "      <td>for  my boyfriend</td>\n",
       "    </tr>\n",
       "    <tr>\n",
       "      <th>23986</th>\n",
       "      <td>im sorry i misunderstood you</td>\n",
       "      <td>sorry to you wrong</td>\n",
       "    </tr>\n",
       "    <tr>\n",
       "      <th>23987</th>\n",
       "      <td>im going to show you how its done</td>\n",
       "      <td>how is it done</td>\n",
       "    </tr>\n",
       "    <tr>\n",
       "      <th>23988</th>\n",
       "      <td>i would rather die than disgrace myself</td>\n",
       "      <td>to wear in ridiculous</td>\n",
       "    </tr>\n",
       "    <tr>\n",
       "      <th>23989</th>\n",
       "      <td>i told you to stay put</td>\n",
       "      <td>to you stay up</td>\n",
       "    </tr>\n",
       "    <tr>\n",
       "      <th>23990</th>\n",
       "      <td>ill call them tomorrow when i come back</td>\n",
       "      <td>ill when back tomorrow</td>\n",
       "    </tr>\n",
       "    <tr>\n",
       "      <th>23991</th>\n",
       "      <td>go now</td>\n",
       "      <td>go already</td>\n",
       "    </tr>\n",
       "    <tr>\n",
       "      <th>23992</th>\n",
       "      <td>no news is good news</td>\n",
       "      <td>news  good news</td>\n",
       "    </tr>\n",
       "    <tr>\n",
       "      <th>23993</th>\n",
       "      <td>how was the weather yesterday</td>\n",
       "      <td>was on time yesterday</td>\n",
       "    </tr>\n",
       "    <tr>\n",
       "      <th>23994</th>\n",
       "      <td>i hope to hear from you soon</td>\n",
       "      <td>heard her from yourself</td>\n",
       "    </tr>\n",
       "    <tr>\n",
       "      <th>23995</th>\n",
       "      <td>my study is upstairs</td>\n",
       "      <td>in the second floor</td>\n",
       "    </tr>\n",
       "    <tr>\n",
       "      <th>23996</th>\n",
       "      <td>tom seems really scared about what might happen</td>\n",
       "      <td>to can may happen</td>\n",
       "    </tr>\n",
       "    <tr>\n",
       "      <th>23997</th>\n",
       "      <td>dont count on toms help</td>\n",
       "      <td>the help marys help</td>\n",
       "    </tr>\n",
       "    <tr>\n",
       "      <th>23998</th>\n",
       "      <td>did you clean your room</td>\n",
       "      <td>has your his room</td>\n",
       "    </tr>\n",
       "    <tr>\n",
       "      <th>23999</th>\n",
       "      <td>its impolite to stare at people</td>\n",
       "      <td>him in the people</td>\n",
       "    </tr>\n",
       "  </tbody>\n",
       "</table>\n",
       "</div>"
      ],
      "text/plain": [
       "                                                actual  \\\n",
       "23985                      im waiting for my boyfriend   \n",
       "23986                     im sorry i misunderstood you   \n",
       "23987                im going to show you how its done   \n",
       "23988          i would rather die than disgrace myself   \n",
       "23989                           i told you to stay put   \n",
       "23990          ill call them tomorrow when i come back   \n",
       "23991                                           go now   \n",
       "23992                             no news is good news   \n",
       "23993                    how was the weather yesterday   \n",
       "23994                     i hope to hear from you soon   \n",
       "23995                             my study is upstairs   \n",
       "23996  tom seems really scared about what might happen   \n",
       "23997                          dont count on toms help   \n",
       "23998                          did you clean your room   \n",
       "23999                  its impolite to stare at people   \n",
       "\n",
       "                     predicted  \n",
       "23985        for  my boyfriend  \n",
       "23986       sorry to you wrong  \n",
       "23987           how is it done  \n",
       "23988    to wear in ridiculous  \n",
       "23989           to you stay up  \n",
       "23990   ill when back tomorrow  \n",
       "23991             go already    \n",
       "23992          news  good news  \n",
       "23993    was on time yesterday  \n",
       "23994  heard her from yourself  \n",
       "23995      in the second floor  \n",
       "23996        to can may happen  \n",
       "23997      the help marys help  \n",
       "23998        has your his room  \n",
       "23999        him in the people  "
      ]
     },
     "execution_count": 74,
     "metadata": {},
     "output_type": "execute_result"
    }
   ],
   "source": [
    "pred_df.tail(15)"
   ]
  },
  {
   "cell_type": "code",
   "execution_count": 75,
   "metadata": {
    "scrolled": false
   },
   "outputs": [
    {
     "data": {
      "text/html": [
       "<div>\n",
       "<style scoped>\n",
       "    .dataframe tbody tr th:only-of-type {\n",
       "        vertical-align: middle;\n",
       "    }\n",
       "\n",
       "    .dataframe tbody tr th {\n",
       "        vertical-align: top;\n",
       "    }\n",
       "\n",
       "    .dataframe thead th {\n",
       "        text-align: right;\n",
       "    }\n",
       "</style>\n",
       "<table border=\"1\" class=\"dataframe\">\n",
       "  <thead>\n",
       "    <tr style=\"text-align: right;\">\n",
       "      <th></th>\n",
       "      <th>actual</th>\n",
       "      <th>predicted</th>\n",
       "    </tr>\n",
       "  </thead>\n",
       "  <tbody>\n",
       "    <tr>\n",
       "      <th>10859</th>\n",
       "      <td>can you give us a minute</td>\n",
       "      <td>you  a minute</td>\n",
       "    </tr>\n",
       "    <tr>\n",
       "      <th>14144</th>\n",
       "      <td>the best way to predict the future is to invent it</td>\n",
       "      <td>the future is complex</td>\n",
       "    </tr>\n",
       "    <tr>\n",
       "      <th>22745</th>\n",
       "      <td>thanks for pointing out the obvious</td>\n",
       "      <td>what  is thinks</td>\n",
       "    </tr>\n",
       "    <tr>\n",
       "      <th>23396</th>\n",
       "      <td>i didnt know she was married</td>\n",
       "      <td>to she was married</td>\n",
       "    </tr>\n",
       "    <tr>\n",
       "      <th>21070</th>\n",
       "      <td>i ran into a parking meter last week</td>\n",
       "      <td>i the last week</td>\n",
       "    </tr>\n",
       "    <tr>\n",
       "      <th>16403</th>\n",
       "      <td>why would tom kill mary</td>\n",
       "      <td>tom  mary</td>\n",
       "    </tr>\n",
       "    <tr>\n",
       "      <th>20501</th>\n",
       "      <td>we were caught in a shower on the way to school</td>\n",
       "      <td>going to  school</td>\n",
       "    </tr>\n",
       "    <tr>\n",
       "      <th>5745</th>\n",
       "      <td>can you help look after the kids</td>\n",
       "      <td>care of the children</td>\n",
       "    </tr>\n",
       "    <tr>\n",
       "      <th>2352</th>\n",
       "      <td>that was unforgivable</td>\n",
       "      <td>thats was plain</td>\n",
       "    </tr>\n",
       "    <tr>\n",
       "      <th>5834</th>\n",
       "      <td>the sun was about to come up</td>\n",
       "      <td>to about to leave</td>\n",
       "    </tr>\n",
       "    <tr>\n",
       "      <th>1188</th>\n",
       "      <td>ive had my eye on you for a while</td>\n",
       "      <td>i thought of you</td>\n",
       "    </tr>\n",
       "    <tr>\n",
       "      <th>11813</th>\n",
       "      <td>thatll change</td>\n",
       "      <td>change</td>\n",
       "    </tr>\n",
       "    <tr>\n",
       "      <th>10744</th>\n",
       "      <td>lets get married</td>\n",
       "      <td>get married</td>\n",
       "    </tr>\n",
       "    <tr>\n",
       "      <th>1692</th>\n",
       "      <td>german shepherds are good at sniffing out drugs</td>\n",
       "      <td>good for  drugs</td>\n",
       "    </tr>\n",
       "    <tr>\n",
       "      <th>23089</th>\n",
       "      <td>my house is close to the supermarket</td>\n",
       "      <td>is near the supermarket</td>\n",
       "    </tr>\n",
       "  </tbody>\n",
       "</table>\n",
       "</div>"
      ],
      "text/plain": [
       "                                                   actual  \\\n",
       "10859                            can you give us a minute   \n",
       "14144  the best way to predict the future is to invent it   \n",
       "22745                 thanks for pointing out the obvious   \n",
       "23396                        i didnt know she was married   \n",
       "21070                i ran into a parking meter last week   \n",
       "16403                             why would tom kill mary   \n",
       "20501     we were caught in a shower on the way to school   \n",
       "5745                     can you help look after the kids   \n",
       "2352                                that was unforgivable   \n",
       "5834                         the sun was about to come up   \n",
       "1188                    ive had my eye on you for a while   \n",
       "11813                                       thatll change   \n",
       "10744                                    lets get married   \n",
       "1692      german shepherds are good at sniffing out drugs   \n",
       "23089                my house is close to the supermarket   \n",
       "\n",
       "                     predicted  \n",
       "10859            you  a minute  \n",
       "14144    the future is complex  \n",
       "22745          what  is thinks  \n",
       "23396       to she was married  \n",
       "21070          i the last week  \n",
       "16403               tom  mary   \n",
       "20501         going to  school  \n",
       "5745      care of the children  \n",
       "2352          thats was plain   \n",
       "5834         to about to leave  \n",
       "1188          i thought of you  \n",
       "11813                change     \n",
       "10744            get married    \n",
       "1692           good for  drugs  \n",
       "23089  is near the supermarket  "
      ]
     },
     "execution_count": 75,
     "metadata": {},
     "output_type": "execute_result"
    }
   ],
   "source": [
    "pred_df.sample(15)"
   ]
  },
  {
   "cell_type": "markdown",
   "metadata": {},
   "source": [
    "* Voy a usar el mismo set de datos con GRU y en simpleRNN, vemos que las predicciones con RNN aciertan en algunas palabras pero por lo general, no traduce del todo bien."
   ]
  },
  {
   "cell_type": "markdown",
   "metadata": {},
   "source": [
    "# GRU MODEL"
   ]
  },
  {
   "cell_type": "markdown",
   "metadata": {},
   "source": [
    "The encoder creates a matrix representation of the sentence. The decoder takes this matrix as input and predicts the translation as output."
   ]
  },
  {
   "cell_type": "code",
   "execution_count": 47,
   "metadata": {},
   "outputs": [],
   "source": [
    "def build_model(in_vocab, out_vocab, in_timesteps, out_timesteps, units):   \n",
    "    model = Sequential()\n",
    "    model.add(Embedding(in_vocab, units, input_length=in_timesteps, mask_zero=False))\n",
    "    model.add(Bidirectional(GRU(256,return_sequences=False)))\n",
    "    model.add(RepeatVector(out_timesteps))\n",
    "    model.add(Bidirectional(GRU(256,return_sequences=True)))\n",
    "    model.add(TimeDistributed(Dense(out_vocab,activation='softmax')))\n",
    "    return model"
   ]
  },
  {
   "cell_type": "code",
   "execution_count": 48,
   "metadata": {},
   "outputs": [],
   "source": [
    "model = build_model(spa_vocab_size, eng_vocab_size, spa_length, eng_length, 512)\n",
    "adam = optimizers.Adam(lr=0.001)#0.0005\n",
    "model.compile(optimizer=adam, loss='sparse_categorical_crossentropy')"
   ]
  },
  {
   "cell_type": "code",
   "execution_count": 51,
   "metadata": {},
   "outputs": [
    {
     "data": {
      "text/plain": [
       "(96000, 4)"
      ]
     },
     "execution_count": 51,
     "metadata": {},
     "output_type": "execute_result"
    }
   ],
   "source": [
    "trainX.shape #Usamos el trainX de size = 4"
   ]
  },
  {
   "cell_type": "code",
   "execution_count": 52,
   "metadata": {
    "scrolled": false
   },
   "outputs": [
    {
     "name": "stdout",
     "output_type": "stream",
     "text": [
      "Train on 76800 samples, validate on 19200 samples\n",
      "Epoch 1/100\n",
      "76800/76800 [==============================] - 309s 4ms/step - loss: 6.5008 - val_loss: 5.8596\n",
      "Epoch 2/100\n",
      "76800/76800 [==============================] - 305s 4ms/step - loss: 5.4231 - val_loss: 5.0619\n",
      "Epoch 3/100\n",
      "76800/76800 [==============================] - 307s 4ms/step - loss: 4.5363 - val_loss: 4.3331\n",
      "Epoch 4/100\n",
      "76800/76800 [==============================] - 316s 4ms/step - loss: 3.7387 - val_loss: 3.8453\n",
      "Epoch 5/100\n",
      "76800/76800 [==============================] - 318s 4ms/step - loss: 3.1029 - val_loss: 3.5414\n",
      "Epoch 6/100\n",
      "76800/76800 [==============================] - 312s 4ms/step - loss: 2.6156 - val_loss: 3.3550\n",
      "Epoch 7/100\n",
      "76800/76800 [==============================] - 323s 4ms/step - loss: 2.2299 - val_loss: 3.2299\n",
      "Epoch 8/100\n",
      "76800/76800 [==============================] - 312s 4ms/step - loss: 1.9214 - val_loss: 3.1723\n",
      "Epoch 9/100\n",
      "76800/76800 [==============================] - 320s 4ms/step - loss: 1.6714 - val_loss: 3.1389\n",
      "Epoch 10/100\n",
      "76800/76800 [==============================] - 369s 5ms/step - loss: 1.4671 - val_loss: 3.1228\n",
      "Epoch 11/100\n",
      "76800/76800 [==============================] - 312s 4ms/step - loss: 1.2955 - val_loss: 3.1236\n",
      "Epoch 12/100\n",
      "76800/76800 [==============================] - 313s 4ms/step - loss: 1.1497 - val_loss: 3.1440\n",
      "Epoch 00012: early stopping\n"
     ]
    }
   ],
   "source": [
    "checkpoint = EarlyStopping(monitor='val_loss', patience=2, verbose=1, mode='min') \n",
    "                                            # Evitar overfitting\n",
    "history = model.fit(trainX, trainY.reshape(trainY.shape[0], trainY.shape[1], 1), \n",
    "          epochs=100, batch_size=512, \n",
    "          validation_split = 0.2,\n",
    "          callbacks=[checkpoint], verbose=1)"
   ]
  },
  {
   "cell_type": "code",
   "execution_count": 53,
   "metadata": {},
   "outputs": [],
   "source": [
    "#model = load_model('model.h1.24_jan_19')\n",
    "preds = model.predict_classes(testX.reshape((testX.shape[0],testX.shape[1])))"
   ]
  },
  {
   "cell_type": "code",
   "execution_count": 54,
   "metadata": {},
   "outputs": [],
   "source": [
    "# convert predictions into text (English)\n",
    "preds_text = []\n",
    "for i in preds:\n",
    "    temp = []\n",
    "    for j in range(len(i)):\n",
    "        t = get_word(i[j], eng_tokenizer)\n",
    "        if j > 0:\n",
    "            if (t == get_word(i[j-1], eng_tokenizer)) or (t == None):\n",
    "                temp.append('')\n",
    "            else:\n",
    "                temp.append(t)\n",
    "             \n",
    "        else:\n",
    "            if(t == None):\n",
    "                temp.append('')\n",
    "            else:\n",
    "                temp.append(t)            \n",
    "        \n",
    "    preds_text.append(' '.join(temp))"
   ]
  },
  {
   "cell_type": "code",
   "execution_count": 55,
   "metadata": {},
   "outputs": [],
   "source": [
    "pred_df = pd.DataFrame({'actual' : test[:,0], 'predicted' : preds_text})"
   ]
  },
  {
   "cell_type": "code",
   "execution_count": 56,
   "metadata": {},
   "outputs": [],
   "source": [
    "pd.set_option('display.max_colwidth', 200)"
   ]
  },
  {
   "cell_type": "code",
   "execution_count": 57,
   "metadata": {},
   "outputs": [
    {
     "data": {
      "text/html": [
       "<div>\n",
       "<style scoped>\n",
       "    .dataframe tbody tr th:only-of-type {\n",
       "        vertical-align: middle;\n",
       "    }\n",
       "\n",
       "    .dataframe tbody tr th {\n",
       "        vertical-align: top;\n",
       "    }\n",
       "\n",
       "    .dataframe thead th {\n",
       "        text-align: right;\n",
       "    }\n",
       "</style>\n",
       "<table border=\"1\" class=\"dataframe\">\n",
       "  <thead>\n",
       "    <tr style=\"text-align: right;\">\n",
       "      <th></th>\n",
       "      <th>actual</th>\n",
       "      <th>predicted</th>\n",
       "    </tr>\n",
       "  </thead>\n",
       "  <tbody>\n",
       "    <tr>\n",
       "      <th>0</th>\n",
       "      <td>preserves must be stored in a jar with an airtight seal</td>\n",
       "      <td>bag with custom carefully</td>\n",
       "    </tr>\n",
       "    <tr>\n",
       "      <th>1</th>\n",
       "      <td>it rained for many days</td>\n",
       "      <td>rained for many days</td>\n",
       "    </tr>\n",
       "    <tr>\n",
       "      <th>2</th>\n",
       "      <td>dont smoke here</td>\n",
       "      <td>dont cant smoke here</td>\n",
       "    </tr>\n",
       "    <tr>\n",
       "      <th>3</th>\n",
       "      <td>tom asked mary why she was crying</td>\n",
       "      <td>why he was crying</td>\n",
       "    </tr>\n",
       "    <tr>\n",
       "      <th>4</th>\n",
       "      <td>tom lived on the west coast</td>\n",
       "      <td>at the west coast</td>\n",
       "    </tr>\n",
       "    <tr>\n",
       "      <th>5</th>\n",
       "      <td>its amazing</td>\n",
       "      <td>thats incredible</td>\n",
       "    </tr>\n",
       "    <tr>\n",
       "      <th>6</th>\n",
       "      <td>why dont you wear a dress</td>\n",
       "      <td>not in a pen</td>\n",
       "    </tr>\n",
       "    <tr>\n",
       "      <th>7</th>\n",
       "      <td>he put his head out of the window</td>\n",
       "      <td>out of the window</td>\n",
       "    </tr>\n",
       "    <tr>\n",
       "      <th>8</th>\n",
       "      <td>i know the feeling</td>\n",
       "      <td>about what hes feel</td>\n",
       "    </tr>\n",
       "    <tr>\n",
       "      <th>9</th>\n",
       "      <td>if you hadnt had my advice you would have failed</td>\n",
       "      <td>my you missing lie</td>\n",
       "    </tr>\n",
       "    <tr>\n",
       "      <th>10</th>\n",
       "      <td>im sorry i have no pencil to write with</td>\n",
       "      <td>a picasso writing write</td>\n",
       "    </tr>\n",
       "    <tr>\n",
       "      <th>11</th>\n",
       "      <td>he married a very young girl</td>\n",
       "      <td>a very young girl</td>\n",
       "    </tr>\n",
       "    <tr>\n",
       "      <th>12</th>\n",
       "      <td>i have no idea what tom ate for breakfast</td>\n",
       "      <td>tom ate for breakfast</td>\n",
       "    </tr>\n",
       "    <tr>\n",
       "      <th>13</th>\n",
       "      <td>tom is a new student</td>\n",
       "      <td>is a big problem</td>\n",
       "    </tr>\n",
       "    <tr>\n",
       "      <th>14</th>\n",
       "      <td>tom said he didnt know why mary didnt like john</td>\n",
       "      <td>he didnt like john</td>\n",
       "    </tr>\n",
       "  </tbody>\n",
       "</table>\n",
       "</div>"
      ],
      "text/plain": [
       "                                                     actual  \\\n",
       "0   preserves must be stored in a jar with an airtight seal   \n",
       "1                                   it rained for many days   \n",
       "2                                           dont smoke here   \n",
       "3                         tom asked mary why she was crying   \n",
       "4                               tom lived on the west coast   \n",
       "5                                               its amazing   \n",
       "6                                 why dont you wear a dress   \n",
       "7                         he put his head out of the window   \n",
       "8                                        i know the feeling   \n",
       "9          if you hadnt had my advice you would have failed   \n",
       "10                  im sorry i have no pencil to write with   \n",
       "11                             he married a very young girl   \n",
       "12                i have no idea what tom ate for breakfast   \n",
       "13                                     tom is a new student   \n",
       "14          tom said he didnt know why mary didnt like john   \n",
       "\n",
       "                    predicted  \n",
       "0   bag with custom carefully  \n",
       "1        rained for many days  \n",
       "2        dont cant smoke here  \n",
       "3           why he was crying  \n",
       "4           at the west coast  \n",
       "5          thats incredible    \n",
       "6                not in a pen  \n",
       "7           out of the window  \n",
       "8         about what hes feel  \n",
       "9          my you missing lie  \n",
       "10    a picasso writing write  \n",
       "11          a very young girl  \n",
       "12      tom ate for breakfast  \n",
       "13           is a big problem  \n",
       "14         he didnt like john  "
      ]
     },
     "execution_count": 57,
     "metadata": {},
     "output_type": "execute_result"
    }
   ],
   "source": [
    "pred_df.head(15)"
   ]
  },
  {
   "cell_type": "code",
   "execution_count": 58,
   "metadata": {},
   "outputs": [
    {
     "data": {
      "text/html": [
       "<div>\n",
       "<style scoped>\n",
       "    .dataframe tbody tr th:only-of-type {\n",
       "        vertical-align: middle;\n",
       "    }\n",
       "\n",
       "    .dataframe tbody tr th {\n",
       "        vertical-align: top;\n",
       "    }\n",
       "\n",
       "    .dataframe thead th {\n",
       "        text-align: right;\n",
       "    }\n",
       "</style>\n",
       "<table border=\"1\" class=\"dataframe\">\n",
       "  <thead>\n",
       "    <tr style=\"text-align: right;\">\n",
       "      <th></th>\n",
       "      <th>actual</th>\n",
       "      <th>predicted</th>\n",
       "    </tr>\n",
       "  </thead>\n",
       "  <tbody>\n",
       "    <tr>\n",
       "      <th>23985</th>\n",
       "      <td>im waiting for my boyfriend</td>\n",
       "      <td>looking for my boyfriend</td>\n",
       "    </tr>\n",
       "    <tr>\n",
       "      <th>23986</th>\n",
       "      <td>im sorry i misunderstood you</td>\n",
       "      <td>sorry  understand</td>\n",
       "    </tr>\n",
       "    <tr>\n",
       "      <th>23987</th>\n",
       "      <td>im going to show you how its done</td>\n",
       "      <td>how to do it</td>\n",
       "    </tr>\n",
       "    <tr>\n",
       "      <th>23988</th>\n",
       "      <td>i would rather die than disgrace myself</td>\n",
       "      <td>to get look seriously</td>\n",
       "    </tr>\n",
       "    <tr>\n",
       "      <th>23989</th>\n",
       "      <td>i told you to stay put</td>\n",
       "      <td>you keep  quiet</td>\n",
       "    </tr>\n",
       "    <tr>\n",
       "      <th>23990</th>\n",
       "      <td>ill call them tomorrow when i come back</td>\n",
       "      <td>when to up tomorrow</td>\n",
       "    </tr>\n",
       "    <tr>\n",
       "      <th>23991</th>\n",
       "      <td>go now</td>\n",
       "      <td>go it</td>\n",
       "    </tr>\n",
       "    <tr>\n",
       "      <th>23992</th>\n",
       "      <td>no news is good news</td>\n",
       "      <td>news the  news</td>\n",
       "    </tr>\n",
       "    <tr>\n",
       "      <th>23993</th>\n",
       "      <td>how was the weather yesterday</td>\n",
       "      <td>was the time yesterday</td>\n",
       "    </tr>\n",
       "    <tr>\n",
       "      <th>23994</th>\n",
       "      <td>i hope to hear from you soon</td>\n",
       "      <td>to her you soon</td>\n",
       "    </tr>\n",
       "    <tr>\n",
       "      <th>23995</th>\n",
       "      <td>my study is upstairs</td>\n",
       "      <td>on the second floor</td>\n",
       "    </tr>\n",
       "    <tr>\n",
       "      <th>23996</th>\n",
       "      <td>tom seems really scared about what might happen</td>\n",
       "      <td>that what can happen</td>\n",
       "    </tr>\n",
       "    <tr>\n",
       "      <th>23997</th>\n",
       "      <td>dont count on toms help</td>\n",
       "      <td>dont without toms help</td>\n",
       "    </tr>\n",
       "    <tr>\n",
       "      <th>23998</th>\n",
       "      <td>did you clean your room</td>\n",
       "      <td>is his room clean</td>\n",
       "    </tr>\n",
       "    <tr>\n",
       "      <th>23999</th>\n",
       "      <td>its impolite to stare at people</td>\n",
       "      <td>life to the people</td>\n",
       "    </tr>\n",
       "  </tbody>\n",
       "</table>\n",
       "</div>"
      ],
      "text/plain": [
       "                                                actual  \\\n",
       "23985                      im waiting for my boyfriend   \n",
       "23986                     im sorry i misunderstood you   \n",
       "23987                im going to show you how its done   \n",
       "23988          i would rather die than disgrace myself   \n",
       "23989                           i told you to stay put   \n",
       "23990          ill call them tomorrow when i come back   \n",
       "23991                                           go now   \n",
       "23992                             no news is good news   \n",
       "23993                    how was the weather yesterday   \n",
       "23994                     i hope to hear from you soon   \n",
       "23995                             my study is upstairs   \n",
       "23996  tom seems really scared about what might happen   \n",
       "23997                          dont count on toms help   \n",
       "23998                          did you clean your room   \n",
       "23999                  its impolite to stare at people   \n",
       "\n",
       "                      predicted  \n",
       "23985  looking for my boyfriend  \n",
       "23986        sorry  understand   \n",
       "23987              how to do it  \n",
       "23988     to get look seriously  \n",
       "23989           you keep  quiet  \n",
       "23990       when to up tomorrow  \n",
       "23991                   go it    \n",
       "23992            news the  news  \n",
       "23993    was the time yesterday  \n",
       "23994           to her you soon  \n",
       "23995       on the second floor  \n",
       "23996      that what can happen  \n",
       "23997    dont without toms help  \n",
       "23998         is his room clean  \n",
       "23999        life to the people  "
      ]
     },
     "execution_count": 58,
     "metadata": {},
     "output_type": "execute_result"
    }
   ],
   "source": [
    "pred_df.tail(15)"
   ]
  },
  {
   "cell_type": "code",
   "execution_count": 59,
   "metadata": {},
   "outputs": [
    {
     "data": {
      "text/html": [
       "<div>\n",
       "<style scoped>\n",
       "    .dataframe tbody tr th:only-of-type {\n",
       "        vertical-align: middle;\n",
       "    }\n",
       "\n",
       "    .dataframe tbody tr th {\n",
       "        vertical-align: top;\n",
       "    }\n",
       "\n",
       "    .dataframe thead th {\n",
       "        text-align: right;\n",
       "    }\n",
       "</style>\n",
       "<table border=\"1\" class=\"dataframe\">\n",
       "  <thead>\n",
       "    <tr style=\"text-align: right;\">\n",
       "      <th></th>\n",
       "      <th>actual</th>\n",
       "      <th>predicted</th>\n",
       "    </tr>\n",
       "  </thead>\n",
       "  <tbody>\n",
       "    <tr>\n",
       "      <th>23985</th>\n",
       "      <td>im waiting for my boyfriend</td>\n",
       "      <td>looking for my boyfriend</td>\n",
       "    </tr>\n",
       "    <tr>\n",
       "      <th>23986</th>\n",
       "      <td>im sorry i misunderstood you</td>\n",
       "      <td>sorry  understand</td>\n",
       "    </tr>\n",
       "    <tr>\n",
       "      <th>23987</th>\n",
       "      <td>im going to show you how its done</td>\n",
       "      <td>how to do it</td>\n",
       "    </tr>\n",
       "    <tr>\n",
       "      <th>23988</th>\n",
       "      <td>i would rather die than disgrace myself</td>\n",
       "      <td>to get look seriously</td>\n",
       "    </tr>\n",
       "    <tr>\n",
       "      <th>23989</th>\n",
       "      <td>i told you to stay put</td>\n",
       "      <td>you keep  quiet</td>\n",
       "    </tr>\n",
       "    <tr>\n",
       "      <th>23990</th>\n",
       "      <td>ill call them tomorrow when i come back</td>\n",
       "      <td>when to up tomorrow</td>\n",
       "    </tr>\n",
       "    <tr>\n",
       "      <th>23991</th>\n",
       "      <td>go now</td>\n",
       "      <td>go it</td>\n",
       "    </tr>\n",
       "    <tr>\n",
       "      <th>23992</th>\n",
       "      <td>no news is good news</td>\n",
       "      <td>news the  news</td>\n",
       "    </tr>\n",
       "    <tr>\n",
       "      <th>23993</th>\n",
       "      <td>how was the weather yesterday</td>\n",
       "      <td>was the time yesterday</td>\n",
       "    </tr>\n",
       "    <tr>\n",
       "      <th>23994</th>\n",
       "      <td>i hope to hear from you soon</td>\n",
       "      <td>to her you soon</td>\n",
       "    </tr>\n",
       "    <tr>\n",
       "      <th>23995</th>\n",
       "      <td>my study is upstairs</td>\n",
       "      <td>on the second floor</td>\n",
       "    </tr>\n",
       "    <tr>\n",
       "      <th>23996</th>\n",
       "      <td>tom seems really scared about what might happen</td>\n",
       "      <td>that what can happen</td>\n",
       "    </tr>\n",
       "    <tr>\n",
       "      <th>23997</th>\n",
       "      <td>dont count on toms help</td>\n",
       "      <td>dont without toms help</td>\n",
       "    </tr>\n",
       "    <tr>\n",
       "      <th>23998</th>\n",
       "      <td>did you clean your room</td>\n",
       "      <td>is his room clean</td>\n",
       "    </tr>\n",
       "    <tr>\n",
       "      <th>23999</th>\n",
       "      <td>its impolite to stare at people</td>\n",
       "      <td>life to the people</td>\n",
       "    </tr>\n",
       "  </tbody>\n",
       "</table>\n",
       "</div>"
      ],
      "text/plain": [
       "                                                actual  \\\n",
       "23985                      im waiting for my boyfriend   \n",
       "23986                     im sorry i misunderstood you   \n",
       "23987                im going to show you how its done   \n",
       "23988          i would rather die than disgrace myself   \n",
       "23989                           i told you to stay put   \n",
       "23990          ill call them tomorrow when i come back   \n",
       "23991                                           go now   \n",
       "23992                             no news is good news   \n",
       "23993                    how was the weather yesterday   \n",
       "23994                     i hope to hear from you soon   \n",
       "23995                             my study is upstairs   \n",
       "23996  tom seems really scared about what might happen   \n",
       "23997                          dont count on toms help   \n",
       "23998                          did you clean your room   \n",
       "23999                  its impolite to stare at people   \n",
       "\n",
       "                      predicted  \n",
       "23985  looking for my boyfriend  \n",
       "23986        sorry  understand   \n",
       "23987              how to do it  \n",
       "23988     to get look seriously  \n",
       "23989           you keep  quiet  \n",
       "23990       when to up tomorrow  \n",
       "23991                   go it    \n",
       "23992            news the  news  \n",
       "23993    was the time yesterday  \n",
       "23994           to her you soon  \n",
       "23995       on the second floor  \n",
       "23996      that what can happen  \n",
       "23997    dont without toms help  \n",
       "23998         is his room clean  \n",
       "23999        life to the people  "
      ]
     },
     "execution_count": 59,
     "metadata": {},
     "output_type": "execute_result"
    }
   ],
   "source": [
    "pred_df.tail(15)"
   ]
  },
  {
   "cell_type": "code",
   "execution_count": 60,
   "metadata": {
    "scrolled": true
   },
   "outputs": [
    {
     "data": {
      "text/html": [
       "<div>\n",
       "<style scoped>\n",
       "    .dataframe tbody tr th:only-of-type {\n",
       "        vertical-align: middle;\n",
       "    }\n",
       "\n",
       "    .dataframe tbody tr th {\n",
       "        vertical-align: top;\n",
       "    }\n",
       "\n",
       "    .dataframe thead th {\n",
       "        text-align: right;\n",
       "    }\n",
       "</style>\n",
       "<table border=\"1\" class=\"dataframe\">\n",
       "  <thead>\n",
       "    <tr style=\"text-align: right;\">\n",
       "      <th></th>\n",
       "      <th>actual</th>\n",
       "      <th>predicted</th>\n",
       "    </tr>\n",
       "  </thead>\n",
       "  <tbody>\n",
       "    <tr>\n",
       "      <th>2690</th>\n",
       "      <td>be careful about what you eat</td>\n",
       "      <td>about anything he eats</td>\n",
       "    </tr>\n",
       "    <tr>\n",
       "      <th>16439</th>\n",
       "      <td>this type of mobile phone sells well</td>\n",
       "      <td>your phone sells well</td>\n",
       "    </tr>\n",
       "    <tr>\n",
       "      <th>1465</th>\n",
       "      <td>we pay our bills at the end of the month</td>\n",
       "      <td>end of the month</td>\n",
       "    </tr>\n",
       "    <tr>\n",
       "      <th>286</th>\n",
       "      <td>i tried to be impartial</td>\n",
       "      <td>trying to  jealous</td>\n",
       "    </tr>\n",
       "    <tr>\n",
       "      <th>9998</th>\n",
       "      <td>when do you want to start</td>\n",
       "      <td>you want to start</td>\n",
       "    </tr>\n",
       "    <tr>\n",
       "      <th>19591</th>\n",
       "      <td>tom was a great neighbor</td>\n",
       "      <td>a very good neighbor</td>\n",
       "    </tr>\n",
       "    <tr>\n",
       "      <th>20939</th>\n",
       "      <td>i assumed that it was free</td>\n",
       "      <td>assumed it was free</td>\n",
       "    </tr>\n",
       "    <tr>\n",
       "      <th>6784</th>\n",
       "      <td>the plates are dirty</td>\n",
       "      <td>these are  dirty</td>\n",
       "    </tr>\n",
       "    <tr>\n",
       "      <th>23162</th>\n",
       "      <td>i am familiar with your name</td>\n",
       "      <td>your familiar to me</td>\n",
       "    </tr>\n",
       "    <tr>\n",
       "      <th>4955</th>\n",
       "      <td>theres hardly any hope that hell win the election</td>\n",
       "      <td>to win the election</td>\n",
       "    </tr>\n",
       "    <tr>\n",
       "      <th>3425</th>\n",
       "      <td>the park is located in the center of the city</td>\n",
       "      <td>center of the town</td>\n",
       "    </tr>\n",
       "    <tr>\n",
       "      <th>4605</th>\n",
       "      <td>ive never noticed that</td>\n",
       "      <td>ive never  worried</td>\n",
       "    </tr>\n",
       "    <tr>\n",
       "      <th>23625</th>\n",
       "      <td>his girlfriend is japanese</td>\n",
       "      <td>his friend is japanese</td>\n",
       "    </tr>\n",
       "    <tr>\n",
       "      <th>13860</th>\n",
       "      <td>i remember tom</td>\n",
       "      <td>i remember trust tom</td>\n",
       "    </tr>\n",
       "    <tr>\n",
       "      <th>20505</th>\n",
       "      <td>tom wont have to go through what mary went through</td>\n",
       "      <td>he to  paid</td>\n",
       "    </tr>\n",
       "  </tbody>\n",
       "</table>\n",
       "</div>"
      ],
      "text/plain": [
       "                                                   actual  \\\n",
       "2690                        be careful about what you eat   \n",
       "16439                this type of mobile phone sells well   \n",
       "1465             we pay our bills at the end of the month   \n",
       "286                               i tried to be impartial   \n",
       "9998                            when do you want to start   \n",
       "19591                            tom was a great neighbor   \n",
       "20939                          i assumed that it was free   \n",
       "6784                                 the plates are dirty   \n",
       "23162                        i am familiar with your name   \n",
       "4955    theres hardly any hope that hell win the election   \n",
       "3425        the park is located in the center of the city   \n",
       "4605                               ive never noticed that   \n",
       "23625                          his girlfriend is japanese   \n",
       "13860                                      i remember tom   \n",
       "20505  tom wont have to go through what mary went through   \n",
       "\n",
       "                    predicted  \n",
       "2690   about anything he eats  \n",
       "16439   your phone sells well  \n",
       "1465         end of the month  \n",
       "286        trying to  jealous  \n",
       "9998        you want to start  \n",
       "19591    a very good neighbor  \n",
       "20939     assumed it was free  \n",
       "6784         these are  dirty  \n",
       "23162     your familiar to me  \n",
       "4955      to win the election  \n",
       "3425       center of the town  \n",
       "4605       ive never  worried  \n",
       "23625  his friend is japanese  \n",
       "13860    i remember trust tom  \n",
       "20505             he to  paid  "
      ]
     },
     "execution_count": 60,
     "metadata": {},
     "output_type": "execute_result"
    }
   ],
   "source": [
    "pred_df.sample(15)"
   ]
  },
  {
   "cell_type": "markdown",
   "metadata": {},
   "source": [
    "Podemos ver que las predicciones no son muy malas, pero tiende a predecir mejor las frases cortas, además, por como se ha entrenado (con los datos de entrada con size = 4), tiende a predecir las frases largas con frases mucho más cortas."
   ]
  }
 ],
 "metadata": {
  "kernelspec": {
   "display_name": "Python 3",
   "language": "python",
   "name": "python3"
  },
  "language_info": {
   "codemirror_mode": {
    "name": "ipython",
    "version": 3
   },
   "file_extension": ".py",
   "mimetype": "text/x-python",
   "name": "python",
   "nbconvert_exporter": "python",
   "pygments_lexer": "ipython3",
   "version": "3.7.6"
  }
 },
 "nbformat": 4,
 "nbformat_minor": 2
}
